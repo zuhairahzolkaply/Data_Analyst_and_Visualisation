{
  "nbformat": 4,
  "nbformat_minor": 0,
  "metadata": {
    "colab": {
      "provenance": [],
      "authorship_tag": "ABX9TyMm/B25jR3DJLD3NbTCmyqc",
      "include_colab_link": true
    },
    "kernelspec": {
      "name": "python3",
      "display_name": "Python 3"
    },
    "language_info": {
      "name": "python"
    }
  },
  "cells": [
    {
      "cell_type": "markdown",
      "metadata": {
        "id": "view-in-github",
        "colab_type": "text"
      },
      "source": [
        "<a href=\"https://colab.research.google.com/github/zuhairahzolkaply/Data_Analyst_and_Visualisation/blob/main/Google_App_Data_VIsualisation.ipynb\" target=\"_parent\"><img src=\"https://colab.research.google.com/assets/colab-badge.svg\" alt=\"Open In Colab\"/></a>"
      ]
    },
    {
      "cell_type": "markdown",
      "metadata": {
        "dc": {
          "key": "4"
        },
        "run_control": {
          "frozen": true
        },
        "tags": [
          "context"
        ],
        "id": "-Sxae4jbdiT2"
      },
      "source": [
        "# Introduction\n",
        "\n",
        "a comprehensive analysis of the Android app market by comparing thousands of apps in the Google Play store."
      ]
    },
    {
      "cell_type": "markdown",
      "metadata": {
        "id": "BBKBNy4UdiT4"
      },
      "source": [
        "# Import Statements"
      ]
    },
    {
      "cell_type": "code",
      "metadata": {
        "id": "_5mfFH4_diT4"
      },
      "source": [
        "import pandas as pd\n",
        "import plotly.express as px\n"
      ],
      "execution_count": 1,
      "outputs": []
    },
    {
      "cell_type": "markdown",
      "metadata": {
        "id": "KegC9nPDdiT7"
      },
      "source": [
        "# Notebook Presentation"
      ]
    },
    {
      "cell_type": "code",
      "metadata": {
        "id": "WPL7rhJndiT7"
      },
      "source": [
        "# numeric output in decimal format e.g., 2.15\n",
        "pd.options.display.float_format = '{:,.2f}'.format"
      ],
      "execution_count": 2,
      "outputs": []
    },
    {
      "cell_type": "markdown",
      "metadata": {
        "id": "Uc9LOZu9diT-"
      },
      "source": [
        "# Read the Dataset"
      ]
    },
    {
      "cell_type": "code",
      "metadata": {
        "id": "zU0Zisv_diT-"
      },
      "source": [
        "df_apps = pd.read_csv('apps.csv')"
      ],
      "execution_count": 3,
      "outputs": []
    },
    {
      "cell_type": "markdown",
      "metadata": {
        "id": "iKvSUwQldiUA"
      },
      "source": [
        "# Data Cleaning"
      ]
    },
    {
      "cell_type": "code",
      "metadata": {
        "id": "Ah3Vo4UEdiUB",
        "colab": {
          "base_uri": "https://localhost:8080/"
        },
        "outputId": "82cb0730-403d-405d-cff1-30b6b185c897"
      },
      "source": [
        "df_apps.shape"
      ],
      "execution_count": 4,
      "outputs": [
        {
          "output_type": "execute_result",
          "data": {
            "text/plain": [
              "(10841, 12)"
            ]
          },
          "metadata": {},
          "execution_count": 4
        }
      ]
    },
    {
      "cell_type": "code",
      "metadata": {
        "id": "kCGLlUHizma-"
      },
      "source": [
        "df_apps.head()"
      ],
      "execution_count": null,
      "outputs": []
    },
    {
      "cell_type": "code",
      "metadata": {
        "id": "3GejxCNuzttr"
      },
      "source": [
        "df_apps.sample(5)"
      ],
      "execution_count": null,
      "outputs": []
    },
    {
      "cell_type": "markdown",
      "metadata": {
        "id": "Hh81sMcvdiUI"
      },
      "source": [
        "### Drop Unused Columns\n",
        "\n"
      ]
    },
    {
      "cell_type": "code",
      "metadata": {
        "id": "j7bXqi6zuTEJ"
      },
      "source": [
        "#Remove columns  `Last_Updated` and `Android_Version`\n",
        "df_apps.drop(['Last_Updated', 'Android_Ver'], axis=1, inplace=True)\n",
        "df_apps.head()"
      ],
      "execution_count": null,
      "outputs": []
    },
    {
      "cell_type": "markdown",
      "metadata": {
        "id": "YQGe1DIKdiUM"
      },
      "source": [
        "### Remove NaN values in Ratings\n"
      ]
    },
    {
      "cell_type": "code",
      "metadata": {
        "id": "iPNNiMsTdiUM"
      },
      "source": [
        "##NaN value in the Ratings columns.\n",
        "nan_rows = df_apps[df_apps.Rating.isna()]\n",
        "print(nan_rows.shape)\n",
        "nan_rows.head()"
      ],
      "execution_count": null,
      "outputs": []
    },
    {
      "cell_type": "code",
      "metadata": {
        "id": "5nuCqRzXdiUO",
        "colab": {
          "base_uri": "https://localhost:8080/"
        },
        "outputId": "4868caf8-32cc-43dd-c909-dd03703627b8"
      },
      "source": [
        "#DataFrame called `df_apps_clean` that does not include NaN row\n",
        "df_apps_clean = df_apps.dropna()\n",
        "df_apps_clean.shape"
      ],
      "execution_count": 10,
      "outputs": [
        {
          "output_type": "execute_result",
          "data": {
            "text/plain": [
              "(9367, 10)"
            ]
          },
          "metadata": {},
          "execution_count": 10
        }
      ]
    },
    {
      "cell_type": "markdown",
      "metadata": {
        "id": "pD26SWlxdiUV"
      },
      "source": [
        "##Remove Duplicates\n"
      ]
    },
    {
      "cell_type": "code",
      "metadata": {
        "id": "V7dAU2n3diUW",
        "colab": {
          "base_uri": "https://localhost:8080/",
          "height": 70
        },
        "outputId": "2800d439-d87e-4e81-b6b3-568d5b9008a0"
      },
      "source": [
        "\n",
        "duplicated_rows = df_apps_clean[df_apps_clean.duplicated()]\n",
        "print(duplicated_rows.shape)\n",
        "duplicated_rows.head()"
      ],
      "execution_count": 17,
      "outputs": [
        {
          "output_type": "stream",
          "name": "stdout",
          "text": [
            "(0, 10)\n"
          ]
        },
        {
          "output_type": "execute_result",
          "data": {
            "text/plain": [
              "Empty DataFrame\n",
              "Columns: [App, Category, Rating, Reviews, Size_MBs, Installs, Type, Price, Content_Rating, Genres]\n",
              "Index: []"
            ],
            "text/html": [
              "\n",
              "  <div id=\"df-276002a4-cbb4-4096-9c61-459e2346c1c8\" class=\"colab-df-container\">\n",
              "    <div>\n",
              "<style scoped>\n",
              "    .dataframe tbody tr th:only-of-type {\n",
              "        vertical-align: middle;\n",
              "    }\n",
              "\n",
              "    .dataframe tbody tr th {\n",
              "        vertical-align: top;\n",
              "    }\n",
              "\n",
              "    .dataframe thead th {\n",
              "        text-align: right;\n",
              "    }\n",
              "</style>\n",
              "<table border=\"1\" class=\"dataframe\">\n",
              "  <thead>\n",
              "    <tr style=\"text-align: right;\">\n",
              "      <th></th>\n",
              "      <th>App</th>\n",
              "      <th>Category</th>\n",
              "      <th>Rating</th>\n",
              "      <th>Reviews</th>\n",
              "      <th>Size_MBs</th>\n",
              "      <th>Installs</th>\n",
              "      <th>Type</th>\n",
              "      <th>Price</th>\n",
              "      <th>Content_Rating</th>\n",
              "      <th>Genres</th>\n",
              "    </tr>\n",
              "  </thead>\n",
              "  <tbody>\n",
              "  </tbody>\n",
              "</table>\n",
              "</div>\n",
              "    <div class=\"colab-df-buttons\">\n",
              "\n",
              "  <div class=\"colab-df-container\">\n",
              "    <button class=\"colab-df-convert\" onclick=\"convertToInteractive('df-276002a4-cbb4-4096-9c61-459e2346c1c8')\"\n",
              "            title=\"Convert this dataframe to an interactive table.\"\n",
              "            style=\"display:none;\">\n",
              "\n",
              "  <svg xmlns=\"http://www.w3.org/2000/svg\" height=\"24px\" viewBox=\"0 -960 960 960\">\n",
              "    <path d=\"M120-120v-720h720v720H120Zm60-500h600v-160H180v160Zm220 220h160v-160H400v160Zm0 220h160v-160H400v160ZM180-400h160v-160H180v160Zm440 0h160v-160H620v160ZM180-180h160v-160H180v160Zm440 0h160v-160H620v160Z\"/>\n",
              "  </svg>\n",
              "    </button>\n",
              "\n",
              "  <style>\n",
              "    .colab-df-container {\n",
              "      display:flex;\n",
              "      gap: 12px;\n",
              "    }\n",
              "\n",
              "    .colab-df-convert {\n",
              "      background-color: #E8F0FE;\n",
              "      border: none;\n",
              "      border-radius: 50%;\n",
              "      cursor: pointer;\n",
              "      display: none;\n",
              "      fill: #1967D2;\n",
              "      height: 32px;\n",
              "      padding: 0 0 0 0;\n",
              "      width: 32px;\n",
              "    }\n",
              "\n",
              "    .colab-df-convert:hover {\n",
              "      background-color: #E2EBFA;\n",
              "      box-shadow: 0px 1px 2px rgba(60, 64, 67, 0.3), 0px 1px 3px 1px rgba(60, 64, 67, 0.15);\n",
              "      fill: #174EA6;\n",
              "    }\n",
              "\n",
              "    .colab-df-buttons div {\n",
              "      margin-bottom: 4px;\n",
              "    }\n",
              "\n",
              "    [theme=dark] .colab-df-convert {\n",
              "      background-color: #3B4455;\n",
              "      fill: #D2E3FC;\n",
              "    }\n",
              "\n",
              "    [theme=dark] .colab-df-convert:hover {\n",
              "      background-color: #434B5C;\n",
              "      box-shadow: 0px 1px 3px 1px rgba(0, 0, 0, 0.15);\n",
              "      filter: drop-shadow(0px 1px 2px rgba(0, 0, 0, 0.3));\n",
              "      fill: #FFFFFF;\n",
              "    }\n",
              "  </style>\n",
              "\n",
              "    <script>\n",
              "      const buttonEl =\n",
              "        document.querySelector('#df-276002a4-cbb4-4096-9c61-459e2346c1c8 button.colab-df-convert');\n",
              "      buttonEl.style.display =\n",
              "        google.colab.kernel.accessAllowed ? 'block' : 'none';\n",
              "\n",
              "      async function convertToInteractive(key) {\n",
              "        const element = document.querySelector('#df-276002a4-cbb4-4096-9c61-459e2346c1c8');\n",
              "        const dataTable =\n",
              "          await google.colab.kernel.invokeFunction('convertToInteractive',\n",
              "                                                    [key], {});\n",
              "        if (!dataTable) return;\n",
              "\n",
              "        const docLinkHtml = 'Like what you see? Visit the ' +\n",
              "          '<a target=\"_blank\" href=https://colab.research.google.com/notebooks/data_table.ipynb>data table notebook</a>'\n",
              "          + ' to learn more about interactive tables.';\n",
              "        element.innerHTML = '';\n",
              "        dataTable['output_type'] = 'display_data';\n",
              "        await google.colab.output.renderOutput(dataTable, element);\n",
              "        const docLink = document.createElement('div');\n",
              "        docLink.innerHTML = docLinkHtml;\n",
              "        element.appendChild(docLink);\n",
              "      }\n",
              "    </script>\n",
              "  </div>\n",
              "\n",
              "\n",
              "    </div>\n",
              "  </div>\n"
            ]
          },
          "metadata": {},
          "execution_count": 17
        }
      ]
    },
    {
      "cell_type": "code",
      "metadata": {
        "id": "u4dD8XbjdiUY",
        "colab": {
          "base_uri": "https://localhost:8080/",
          "height": 143
        },
        "outputId": "3ebe2ee8-1200-43c8-c3b4-fda19fe4dc1f"
      },
      "source": [
        "#entries in \"Instagram\" app\n",
        "df_apps_clean[df_apps_clean.App == 'Instagram']"
      ],
      "execution_count": 16,
      "outputs": [
        {
          "output_type": "execute_result",
          "data": {
            "text/plain": [
              "             App Category  Rating   Reviews  Size_MBs       Installs  Type  \\\n",
              "10806  Instagram   SOCIAL    4.50  66577313      5.30  1,000,000,000  Free   \n",
              "10808  Instagram   SOCIAL    4.50  66577446      5.30  1,000,000,000  Free   \n",
              "10810  Instagram   SOCIAL    4.50  66509917      5.30  1,000,000,000  Free   \n",
              "\n",
              "      Price Content_Rating  Genres  \n",
              "10806     0           Teen  Social  \n",
              "10808     0           Teen  Social  \n",
              "10810     0           Teen  Social  "
            ],
            "text/html": [
              "\n",
              "  <div id=\"df-31be1058-d9dc-45ae-b32d-fc9feac0df98\" class=\"colab-df-container\">\n",
              "    <div>\n",
              "<style scoped>\n",
              "    .dataframe tbody tr th:only-of-type {\n",
              "        vertical-align: middle;\n",
              "    }\n",
              "\n",
              "    .dataframe tbody tr th {\n",
              "        vertical-align: top;\n",
              "    }\n",
              "\n",
              "    .dataframe thead th {\n",
              "        text-align: right;\n",
              "    }\n",
              "</style>\n",
              "<table border=\"1\" class=\"dataframe\">\n",
              "  <thead>\n",
              "    <tr style=\"text-align: right;\">\n",
              "      <th></th>\n",
              "      <th>App</th>\n",
              "      <th>Category</th>\n",
              "      <th>Rating</th>\n",
              "      <th>Reviews</th>\n",
              "      <th>Size_MBs</th>\n",
              "      <th>Installs</th>\n",
              "      <th>Type</th>\n",
              "      <th>Price</th>\n",
              "      <th>Content_Rating</th>\n",
              "      <th>Genres</th>\n",
              "    </tr>\n",
              "  </thead>\n",
              "  <tbody>\n",
              "    <tr>\n",
              "      <th>10806</th>\n",
              "      <td>Instagram</td>\n",
              "      <td>SOCIAL</td>\n",
              "      <td>4.50</td>\n",
              "      <td>66577313</td>\n",
              "      <td>5.30</td>\n",
              "      <td>1,000,000,000</td>\n",
              "      <td>Free</td>\n",
              "      <td>0</td>\n",
              "      <td>Teen</td>\n",
              "      <td>Social</td>\n",
              "    </tr>\n",
              "    <tr>\n",
              "      <th>10808</th>\n",
              "      <td>Instagram</td>\n",
              "      <td>SOCIAL</td>\n",
              "      <td>4.50</td>\n",
              "      <td>66577446</td>\n",
              "      <td>5.30</td>\n",
              "      <td>1,000,000,000</td>\n",
              "      <td>Free</td>\n",
              "      <td>0</td>\n",
              "      <td>Teen</td>\n",
              "      <td>Social</td>\n",
              "    </tr>\n",
              "    <tr>\n",
              "      <th>10810</th>\n",
              "      <td>Instagram</td>\n",
              "      <td>SOCIAL</td>\n",
              "      <td>4.50</td>\n",
              "      <td>66509917</td>\n",
              "      <td>5.30</td>\n",
              "      <td>1,000,000,000</td>\n",
              "      <td>Free</td>\n",
              "      <td>0</td>\n",
              "      <td>Teen</td>\n",
              "      <td>Social</td>\n",
              "    </tr>\n",
              "  </tbody>\n",
              "</table>\n",
              "</div>\n",
              "    <div class=\"colab-df-buttons\">\n",
              "\n",
              "  <div class=\"colab-df-container\">\n",
              "    <button class=\"colab-df-convert\" onclick=\"convertToInteractive('df-31be1058-d9dc-45ae-b32d-fc9feac0df98')\"\n",
              "            title=\"Convert this dataframe to an interactive table.\"\n",
              "            style=\"display:none;\">\n",
              "\n",
              "  <svg xmlns=\"http://www.w3.org/2000/svg\" height=\"24px\" viewBox=\"0 -960 960 960\">\n",
              "    <path d=\"M120-120v-720h720v720H120Zm60-500h600v-160H180v160Zm220 220h160v-160H400v160Zm0 220h160v-160H400v160ZM180-400h160v-160H180v160Zm440 0h160v-160H620v160ZM180-180h160v-160H180v160Zm440 0h160v-160H620v160Z\"/>\n",
              "  </svg>\n",
              "    </button>\n",
              "\n",
              "  <style>\n",
              "    .colab-df-container {\n",
              "      display:flex;\n",
              "      gap: 12px;\n",
              "    }\n",
              "\n",
              "    .colab-df-convert {\n",
              "      background-color: #E8F0FE;\n",
              "      border: none;\n",
              "      border-radius: 50%;\n",
              "      cursor: pointer;\n",
              "      display: none;\n",
              "      fill: #1967D2;\n",
              "      height: 32px;\n",
              "      padding: 0 0 0 0;\n",
              "      width: 32px;\n",
              "    }\n",
              "\n",
              "    .colab-df-convert:hover {\n",
              "      background-color: #E2EBFA;\n",
              "      box-shadow: 0px 1px 2px rgba(60, 64, 67, 0.3), 0px 1px 3px 1px rgba(60, 64, 67, 0.15);\n",
              "      fill: #174EA6;\n",
              "    }\n",
              "\n",
              "    .colab-df-buttons div {\n",
              "      margin-bottom: 4px;\n",
              "    }\n",
              "\n",
              "    [theme=dark] .colab-df-convert {\n",
              "      background-color: #3B4455;\n",
              "      fill: #D2E3FC;\n",
              "    }\n",
              "\n",
              "    [theme=dark] .colab-df-convert:hover {\n",
              "      background-color: #434B5C;\n",
              "      box-shadow: 0px 1px 3px 1px rgba(0, 0, 0, 0.15);\n",
              "      filter: drop-shadow(0px 1px 2px rgba(0, 0, 0, 0.3));\n",
              "      fill: #FFFFFF;\n",
              "    }\n",
              "  </style>\n",
              "\n",
              "    <script>\n",
              "      const buttonEl =\n",
              "        document.querySelector('#df-31be1058-d9dc-45ae-b32d-fc9feac0df98 button.colab-df-convert');\n",
              "      buttonEl.style.display =\n",
              "        google.colab.kernel.accessAllowed ? 'block' : 'none';\n",
              "\n",
              "      async function convertToInteractive(key) {\n",
              "        const element = document.querySelector('#df-31be1058-d9dc-45ae-b32d-fc9feac0df98');\n",
              "        const dataTable =\n",
              "          await google.colab.kernel.invokeFunction('convertToInteractive',\n",
              "                                                    [key], {});\n",
              "        if (!dataTable) return;\n",
              "\n",
              "        const docLinkHtml = 'Like what you see? Visit the ' +\n",
              "          '<a target=\"_blank\" href=https://colab.research.google.com/notebooks/data_table.ipynb>data table notebook</a>'\n",
              "          + ' to learn more about interactive tables.';\n",
              "        element.innerHTML = '';\n",
              "        dataTable['output_type'] = 'display_data';\n",
              "        await google.colab.output.renderOutput(dataTable, element);\n",
              "        const docLink = document.createElement('div');\n",
              "        docLink.innerHTML = docLinkHtml;\n",
              "        element.appendChild(docLink);\n",
              "      }\n",
              "    </script>\n",
              "  </div>\n",
              "\n",
              "\n",
              "<div id=\"df-5be6f376-e871-45cd-9dc3-ca72d24f3780\">\n",
              "  <button class=\"colab-df-quickchart\" onclick=\"quickchart('df-5be6f376-e871-45cd-9dc3-ca72d24f3780')\"\n",
              "            title=\"Suggest charts\"\n",
              "            style=\"display:none;\">\n",
              "\n",
              "<svg xmlns=\"http://www.w3.org/2000/svg\" height=\"24px\"viewBox=\"0 0 24 24\"\n",
              "     width=\"24px\">\n",
              "    <g>\n",
              "        <path d=\"M19 3H5c-1.1 0-2 .9-2 2v14c0 1.1.9 2 2 2h14c1.1 0 2-.9 2-2V5c0-1.1-.9-2-2-2zM9 17H7v-7h2v7zm4 0h-2V7h2v10zm4 0h-2v-4h2v4z\"/>\n",
              "    </g>\n",
              "</svg>\n",
              "  </button>\n",
              "\n",
              "<style>\n",
              "  .colab-df-quickchart {\n",
              "      --bg-color: #E8F0FE;\n",
              "      --fill-color: #1967D2;\n",
              "      --hover-bg-color: #E2EBFA;\n",
              "      --hover-fill-color: #174EA6;\n",
              "      --disabled-fill-color: #AAA;\n",
              "      --disabled-bg-color: #DDD;\n",
              "  }\n",
              "\n",
              "  [theme=dark] .colab-df-quickchart {\n",
              "      --bg-color: #3B4455;\n",
              "      --fill-color: #D2E3FC;\n",
              "      --hover-bg-color: #434B5C;\n",
              "      --hover-fill-color: #FFFFFF;\n",
              "      --disabled-bg-color: #3B4455;\n",
              "      --disabled-fill-color: #666;\n",
              "  }\n",
              "\n",
              "  .colab-df-quickchart {\n",
              "    background-color: var(--bg-color);\n",
              "    border: none;\n",
              "    border-radius: 50%;\n",
              "    cursor: pointer;\n",
              "    display: none;\n",
              "    fill: var(--fill-color);\n",
              "    height: 32px;\n",
              "    padding: 0;\n",
              "    width: 32px;\n",
              "  }\n",
              "\n",
              "  .colab-df-quickchart:hover {\n",
              "    background-color: var(--hover-bg-color);\n",
              "    box-shadow: 0 1px 2px rgba(60, 64, 67, 0.3), 0 1px 3px 1px rgba(60, 64, 67, 0.15);\n",
              "    fill: var(--button-hover-fill-color);\n",
              "  }\n",
              "\n",
              "  .colab-df-quickchart-complete:disabled,\n",
              "  .colab-df-quickchart-complete:disabled:hover {\n",
              "    background-color: var(--disabled-bg-color);\n",
              "    fill: var(--disabled-fill-color);\n",
              "    box-shadow: none;\n",
              "  }\n",
              "\n",
              "  .colab-df-spinner {\n",
              "    border: 2px solid var(--fill-color);\n",
              "    border-color: transparent;\n",
              "    border-bottom-color: var(--fill-color);\n",
              "    animation:\n",
              "      spin 1s steps(1) infinite;\n",
              "  }\n",
              "\n",
              "  @keyframes spin {\n",
              "    0% {\n",
              "      border-color: transparent;\n",
              "      border-bottom-color: var(--fill-color);\n",
              "      border-left-color: var(--fill-color);\n",
              "    }\n",
              "    20% {\n",
              "      border-color: transparent;\n",
              "      border-left-color: var(--fill-color);\n",
              "      border-top-color: var(--fill-color);\n",
              "    }\n",
              "    30% {\n",
              "      border-color: transparent;\n",
              "      border-left-color: var(--fill-color);\n",
              "      border-top-color: var(--fill-color);\n",
              "      border-right-color: var(--fill-color);\n",
              "    }\n",
              "    40% {\n",
              "      border-color: transparent;\n",
              "      border-right-color: var(--fill-color);\n",
              "      border-top-color: var(--fill-color);\n",
              "    }\n",
              "    60% {\n",
              "      border-color: transparent;\n",
              "      border-right-color: var(--fill-color);\n",
              "    }\n",
              "    80% {\n",
              "      border-color: transparent;\n",
              "      border-right-color: var(--fill-color);\n",
              "      border-bottom-color: var(--fill-color);\n",
              "    }\n",
              "    90% {\n",
              "      border-color: transparent;\n",
              "      border-bottom-color: var(--fill-color);\n",
              "    }\n",
              "  }\n",
              "</style>\n",
              "\n",
              "  <script>\n",
              "    async function quickchart(key) {\n",
              "      const quickchartButtonEl =\n",
              "        document.querySelector('#' + key + ' button');\n",
              "      quickchartButtonEl.disabled = true;  // To prevent multiple clicks.\n",
              "      quickchartButtonEl.classList.add('colab-df-spinner');\n",
              "      try {\n",
              "        const charts = await google.colab.kernel.invokeFunction(\n",
              "            'suggestCharts', [key], {});\n",
              "      } catch (error) {\n",
              "        console.error('Error during call to suggestCharts:', error);\n",
              "      }\n",
              "      quickchartButtonEl.classList.remove('colab-df-spinner');\n",
              "      quickchartButtonEl.classList.add('colab-df-quickchart-complete');\n",
              "    }\n",
              "    (() => {\n",
              "      let quickchartButtonEl =\n",
              "        document.querySelector('#df-5be6f376-e871-45cd-9dc3-ca72d24f3780 button');\n",
              "      quickchartButtonEl.style.display =\n",
              "        google.colab.kernel.accessAllowed ? 'block' : 'none';\n",
              "    })();\n",
              "  </script>\n",
              "</div>\n",
              "\n",
              "    </div>\n",
              "  </div>\n"
            ]
          },
          "metadata": {},
          "execution_count": 16
        }
      ]
    },
    {
      "cell_type": "code",
      "metadata": {
        "id": "tyu3StmidiUa"
      },
      "source": [
        "df_apps_clean = df_apps_clean.drop_duplicates() ## remove any duplicates from `df_apps_clean`."
      ],
      "execution_count": 15,
      "outputs": []
    },
    {
      "cell_type": "code",
      "metadata": {
        "id": "0fO5V-mjdiUc",
        "colab": {
          "base_uri": "https://localhost:8080/",
          "height": 143
        },
        "outputId": "c043a099-55a8-4d48-b982-e66d71100567"
      },
      "source": [
        "df_apps_clean[df_apps_clean.App == 'Instagram']"
      ],
      "execution_count": 18,
      "outputs": [
        {
          "output_type": "execute_result",
          "data": {
            "text/plain": [
              "             App Category  Rating   Reviews  Size_MBs       Installs  Type  \\\n",
              "10806  Instagram   SOCIAL    4.50  66577313      5.30  1,000,000,000  Free   \n",
              "10808  Instagram   SOCIAL    4.50  66577446      5.30  1,000,000,000  Free   \n",
              "10810  Instagram   SOCIAL    4.50  66509917      5.30  1,000,000,000  Free   \n",
              "\n",
              "      Price Content_Rating  Genres  \n",
              "10806     0           Teen  Social  \n",
              "10808     0           Teen  Social  \n",
              "10810     0           Teen  Social  "
            ],
            "text/html": [
              "\n",
              "  <div id=\"df-dc283afd-6167-46e7-bfd6-ddeadedb2aeb\" class=\"colab-df-container\">\n",
              "    <div>\n",
              "<style scoped>\n",
              "    .dataframe tbody tr th:only-of-type {\n",
              "        vertical-align: middle;\n",
              "    }\n",
              "\n",
              "    .dataframe tbody tr th {\n",
              "        vertical-align: top;\n",
              "    }\n",
              "\n",
              "    .dataframe thead th {\n",
              "        text-align: right;\n",
              "    }\n",
              "</style>\n",
              "<table border=\"1\" class=\"dataframe\">\n",
              "  <thead>\n",
              "    <tr style=\"text-align: right;\">\n",
              "      <th></th>\n",
              "      <th>App</th>\n",
              "      <th>Category</th>\n",
              "      <th>Rating</th>\n",
              "      <th>Reviews</th>\n",
              "      <th>Size_MBs</th>\n",
              "      <th>Installs</th>\n",
              "      <th>Type</th>\n",
              "      <th>Price</th>\n",
              "      <th>Content_Rating</th>\n",
              "      <th>Genres</th>\n",
              "    </tr>\n",
              "  </thead>\n",
              "  <tbody>\n",
              "    <tr>\n",
              "      <th>10806</th>\n",
              "      <td>Instagram</td>\n",
              "      <td>SOCIAL</td>\n",
              "      <td>4.50</td>\n",
              "      <td>66577313</td>\n",
              "      <td>5.30</td>\n",
              "      <td>1,000,000,000</td>\n",
              "      <td>Free</td>\n",
              "      <td>0</td>\n",
              "      <td>Teen</td>\n",
              "      <td>Social</td>\n",
              "    </tr>\n",
              "    <tr>\n",
              "      <th>10808</th>\n",
              "      <td>Instagram</td>\n",
              "      <td>SOCIAL</td>\n",
              "      <td>4.50</td>\n",
              "      <td>66577446</td>\n",
              "      <td>5.30</td>\n",
              "      <td>1,000,000,000</td>\n",
              "      <td>Free</td>\n",
              "      <td>0</td>\n",
              "      <td>Teen</td>\n",
              "      <td>Social</td>\n",
              "    </tr>\n",
              "    <tr>\n",
              "      <th>10810</th>\n",
              "      <td>Instagram</td>\n",
              "      <td>SOCIAL</td>\n",
              "      <td>4.50</td>\n",
              "      <td>66509917</td>\n",
              "      <td>5.30</td>\n",
              "      <td>1,000,000,000</td>\n",
              "      <td>Free</td>\n",
              "      <td>0</td>\n",
              "      <td>Teen</td>\n",
              "      <td>Social</td>\n",
              "    </tr>\n",
              "  </tbody>\n",
              "</table>\n",
              "</div>\n",
              "    <div class=\"colab-df-buttons\">\n",
              "\n",
              "  <div class=\"colab-df-container\">\n",
              "    <button class=\"colab-df-convert\" onclick=\"convertToInteractive('df-dc283afd-6167-46e7-bfd6-ddeadedb2aeb')\"\n",
              "            title=\"Convert this dataframe to an interactive table.\"\n",
              "            style=\"display:none;\">\n",
              "\n",
              "  <svg xmlns=\"http://www.w3.org/2000/svg\" height=\"24px\" viewBox=\"0 -960 960 960\">\n",
              "    <path d=\"M120-120v-720h720v720H120Zm60-500h600v-160H180v160Zm220 220h160v-160H400v160Zm0 220h160v-160H400v160ZM180-400h160v-160H180v160Zm440 0h160v-160H620v160ZM180-180h160v-160H180v160Zm440 0h160v-160H620v160Z\"/>\n",
              "  </svg>\n",
              "    </button>\n",
              "\n",
              "  <style>\n",
              "    .colab-df-container {\n",
              "      display:flex;\n",
              "      gap: 12px;\n",
              "    }\n",
              "\n",
              "    .colab-df-convert {\n",
              "      background-color: #E8F0FE;\n",
              "      border: none;\n",
              "      border-radius: 50%;\n",
              "      cursor: pointer;\n",
              "      display: none;\n",
              "      fill: #1967D2;\n",
              "      height: 32px;\n",
              "      padding: 0 0 0 0;\n",
              "      width: 32px;\n",
              "    }\n",
              "\n",
              "    .colab-df-convert:hover {\n",
              "      background-color: #E2EBFA;\n",
              "      box-shadow: 0px 1px 2px rgba(60, 64, 67, 0.3), 0px 1px 3px 1px rgba(60, 64, 67, 0.15);\n",
              "      fill: #174EA6;\n",
              "    }\n",
              "\n",
              "    .colab-df-buttons div {\n",
              "      margin-bottom: 4px;\n",
              "    }\n",
              "\n",
              "    [theme=dark] .colab-df-convert {\n",
              "      background-color: #3B4455;\n",
              "      fill: #D2E3FC;\n",
              "    }\n",
              "\n",
              "    [theme=dark] .colab-df-convert:hover {\n",
              "      background-color: #434B5C;\n",
              "      box-shadow: 0px 1px 3px 1px rgba(0, 0, 0, 0.15);\n",
              "      filter: drop-shadow(0px 1px 2px rgba(0, 0, 0, 0.3));\n",
              "      fill: #FFFFFF;\n",
              "    }\n",
              "  </style>\n",
              "\n",
              "    <script>\n",
              "      const buttonEl =\n",
              "        document.querySelector('#df-dc283afd-6167-46e7-bfd6-ddeadedb2aeb button.colab-df-convert');\n",
              "      buttonEl.style.display =\n",
              "        google.colab.kernel.accessAllowed ? 'block' : 'none';\n",
              "\n",
              "      async function convertToInteractive(key) {\n",
              "        const element = document.querySelector('#df-dc283afd-6167-46e7-bfd6-ddeadedb2aeb');\n",
              "        const dataTable =\n",
              "          await google.colab.kernel.invokeFunction('convertToInteractive',\n",
              "                                                    [key], {});\n",
              "        if (!dataTable) return;\n",
              "\n",
              "        const docLinkHtml = 'Like what you see? Visit the ' +\n",
              "          '<a target=\"_blank\" href=https://colab.research.google.com/notebooks/data_table.ipynb>data table notebook</a>'\n",
              "          + ' to learn more about interactive tables.';\n",
              "        element.innerHTML = '';\n",
              "        dataTable['output_type'] = 'display_data';\n",
              "        await google.colab.output.renderOutput(dataTable, element);\n",
              "        const docLink = document.createElement('div');\n",
              "        docLink.innerHTML = docLinkHtml;\n",
              "        element.appendChild(docLink);\n",
              "      }\n",
              "    </script>\n",
              "  </div>\n",
              "\n",
              "\n",
              "<div id=\"df-a19270df-ba3f-4805-baf4-406a3766c1c6\">\n",
              "  <button class=\"colab-df-quickchart\" onclick=\"quickchart('df-a19270df-ba3f-4805-baf4-406a3766c1c6')\"\n",
              "            title=\"Suggest charts\"\n",
              "            style=\"display:none;\">\n",
              "\n",
              "<svg xmlns=\"http://www.w3.org/2000/svg\" height=\"24px\"viewBox=\"0 0 24 24\"\n",
              "     width=\"24px\">\n",
              "    <g>\n",
              "        <path d=\"M19 3H5c-1.1 0-2 .9-2 2v14c0 1.1.9 2 2 2h14c1.1 0 2-.9 2-2V5c0-1.1-.9-2-2-2zM9 17H7v-7h2v7zm4 0h-2V7h2v10zm4 0h-2v-4h2v4z\"/>\n",
              "    </g>\n",
              "</svg>\n",
              "  </button>\n",
              "\n",
              "<style>\n",
              "  .colab-df-quickchart {\n",
              "      --bg-color: #E8F0FE;\n",
              "      --fill-color: #1967D2;\n",
              "      --hover-bg-color: #E2EBFA;\n",
              "      --hover-fill-color: #174EA6;\n",
              "      --disabled-fill-color: #AAA;\n",
              "      --disabled-bg-color: #DDD;\n",
              "  }\n",
              "\n",
              "  [theme=dark] .colab-df-quickchart {\n",
              "      --bg-color: #3B4455;\n",
              "      --fill-color: #D2E3FC;\n",
              "      --hover-bg-color: #434B5C;\n",
              "      --hover-fill-color: #FFFFFF;\n",
              "      --disabled-bg-color: #3B4455;\n",
              "      --disabled-fill-color: #666;\n",
              "  }\n",
              "\n",
              "  .colab-df-quickchart {\n",
              "    background-color: var(--bg-color);\n",
              "    border: none;\n",
              "    border-radius: 50%;\n",
              "    cursor: pointer;\n",
              "    display: none;\n",
              "    fill: var(--fill-color);\n",
              "    height: 32px;\n",
              "    padding: 0;\n",
              "    width: 32px;\n",
              "  }\n",
              "\n",
              "  .colab-df-quickchart:hover {\n",
              "    background-color: var(--hover-bg-color);\n",
              "    box-shadow: 0 1px 2px rgba(60, 64, 67, 0.3), 0 1px 3px 1px rgba(60, 64, 67, 0.15);\n",
              "    fill: var(--button-hover-fill-color);\n",
              "  }\n",
              "\n",
              "  .colab-df-quickchart-complete:disabled,\n",
              "  .colab-df-quickchart-complete:disabled:hover {\n",
              "    background-color: var(--disabled-bg-color);\n",
              "    fill: var(--disabled-fill-color);\n",
              "    box-shadow: none;\n",
              "  }\n",
              "\n",
              "  .colab-df-spinner {\n",
              "    border: 2px solid var(--fill-color);\n",
              "    border-color: transparent;\n",
              "    border-bottom-color: var(--fill-color);\n",
              "    animation:\n",
              "      spin 1s steps(1) infinite;\n",
              "  }\n",
              "\n",
              "  @keyframes spin {\n",
              "    0% {\n",
              "      border-color: transparent;\n",
              "      border-bottom-color: var(--fill-color);\n",
              "      border-left-color: var(--fill-color);\n",
              "    }\n",
              "    20% {\n",
              "      border-color: transparent;\n",
              "      border-left-color: var(--fill-color);\n",
              "      border-top-color: var(--fill-color);\n",
              "    }\n",
              "    30% {\n",
              "      border-color: transparent;\n",
              "      border-left-color: var(--fill-color);\n",
              "      border-top-color: var(--fill-color);\n",
              "      border-right-color: var(--fill-color);\n",
              "    }\n",
              "    40% {\n",
              "      border-color: transparent;\n",
              "      border-right-color: var(--fill-color);\n",
              "      border-top-color: var(--fill-color);\n",
              "    }\n",
              "    60% {\n",
              "      border-color: transparent;\n",
              "      border-right-color: var(--fill-color);\n",
              "    }\n",
              "    80% {\n",
              "      border-color: transparent;\n",
              "      border-right-color: var(--fill-color);\n",
              "      border-bottom-color: var(--fill-color);\n",
              "    }\n",
              "    90% {\n",
              "      border-color: transparent;\n",
              "      border-bottom-color: var(--fill-color);\n",
              "    }\n",
              "  }\n",
              "</style>\n",
              "\n",
              "  <script>\n",
              "    async function quickchart(key) {\n",
              "      const quickchartButtonEl =\n",
              "        document.querySelector('#' + key + ' button');\n",
              "      quickchartButtonEl.disabled = true;  // To prevent multiple clicks.\n",
              "      quickchartButtonEl.classList.add('colab-df-spinner');\n",
              "      try {\n",
              "        const charts = await google.colab.kernel.invokeFunction(\n",
              "            'suggestCharts', [key], {});\n",
              "      } catch (error) {\n",
              "        console.error('Error during call to suggestCharts:', error);\n",
              "      }\n",
              "      quickchartButtonEl.classList.remove('colab-df-spinner');\n",
              "      quickchartButtonEl.classList.add('colab-df-quickchart-complete');\n",
              "    }\n",
              "    (() => {\n",
              "      let quickchartButtonEl =\n",
              "        document.querySelector('#df-a19270df-ba3f-4805-baf4-406a3766c1c6 button');\n",
              "      quickchartButtonEl.style.display =\n",
              "        google.colab.kernel.accessAllowed ? 'block' : 'none';\n",
              "    })();\n",
              "  </script>\n",
              "</div>\n",
              "\n",
              "    </div>\n",
              "  </div>\n"
            ]
          },
          "metadata": {},
          "execution_count": 18
        }
      ]
    },
    {
      "cell_type": "code",
      "metadata": {
        "id": "jBGc5TNxdiUe",
        "colab": {
          "base_uri": "https://localhost:8080/",
          "height": 81
        },
        "outputId": "dcc7486c-045a-45e5-9543-edc552e74372"
      },
      "source": [
        "# need to specify the subset for indentifying duplicates\n",
        "df_apps_clean = df_apps_clean.drop_duplicates(subset=['App', 'Type', 'Price'])\n",
        "df_apps_clean[df_apps_clean.App == 'Instagram']"
      ],
      "execution_count": 19,
      "outputs": [
        {
          "output_type": "execute_result",
          "data": {
            "text/plain": [
              "             App Category  Rating   Reviews  Size_MBs       Installs  Type  \\\n",
              "10806  Instagram   SOCIAL    4.50  66577313      5.30  1,000,000,000  Free   \n",
              "\n",
              "      Price Content_Rating  Genres  \n",
              "10806     0           Teen  Social  "
            ],
            "text/html": [
              "\n",
              "  <div id=\"df-fef58db0-a216-4f8a-93f9-c146d4bf9ca5\" class=\"colab-df-container\">\n",
              "    <div>\n",
              "<style scoped>\n",
              "    .dataframe tbody tr th:only-of-type {\n",
              "        vertical-align: middle;\n",
              "    }\n",
              "\n",
              "    .dataframe tbody tr th {\n",
              "        vertical-align: top;\n",
              "    }\n",
              "\n",
              "    .dataframe thead th {\n",
              "        text-align: right;\n",
              "    }\n",
              "</style>\n",
              "<table border=\"1\" class=\"dataframe\">\n",
              "  <thead>\n",
              "    <tr style=\"text-align: right;\">\n",
              "      <th></th>\n",
              "      <th>App</th>\n",
              "      <th>Category</th>\n",
              "      <th>Rating</th>\n",
              "      <th>Reviews</th>\n",
              "      <th>Size_MBs</th>\n",
              "      <th>Installs</th>\n",
              "      <th>Type</th>\n",
              "      <th>Price</th>\n",
              "      <th>Content_Rating</th>\n",
              "      <th>Genres</th>\n",
              "    </tr>\n",
              "  </thead>\n",
              "  <tbody>\n",
              "    <tr>\n",
              "      <th>10806</th>\n",
              "      <td>Instagram</td>\n",
              "      <td>SOCIAL</td>\n",
              "      <td>4.50</td>\n",
              "      <td>66577313</td>\n",
              "      <td>5.30</td>\n",
              "      <td>1,000,000,000</td>\n",
              "      <td>Free</td>\n",
              "      <td>0</td>\n",
              "      <td>Teen</td>\n",
              "      <td>Social</td>\n",
              "    </tr>\n",
              "  </tbody>\n",
              "</table>\n",
              "</div>\n",
              "    <div class=\"colab-df-buttons\">\n",
              "\n",
              "  <div class=\"colab-df-container\">\n",
              "    <button class=\"colab-df-convert\" onclick=\"convertToInteractive('df-fef58db0-a216-4f8a-93f9-c146d4bf9ca5')\"\n",
              "            title=\"Convert this dataframe to an interactive table.\"\n",
              "            style=\"display:none;\">\n",
              "\n",
              "  <svg xmlns=\"http://www.w3.org/2000/svg\" height=\"24px\" viewBox=\"0 -960 960 960\">\n",
              "    <path d=\"M120-120v-720h720v720H120Zm60-500h600v-160H180v160Zm220 220h160v-160H400v160Zm0 220h160v-160H400v160ZM180-400h160v-160H180v160Zm440 0h160v-160H620v160ZM180-180h160v-160H180v160Zm440 0h160v-160H620v160Z\"/>\n",
              "  </svg>\n",
              "    </button>\n",
              "\n",
              "  <style>\n",
              "    .colab-df-container {\n",
              "      display:flex;\n",
              "      gap: 12px;\n",
              "    }\n",
              "\n",
              "    .colab-df-convert {\n",
              "      background-color: #E8F0FE;\n",
              "      border: none;\n",
              "      border-radius: 50%;\n",
              "      cursor: pointer;\n",
              "      display: none;\n",
              "      fill: #1967D2;\n",
              "      height: 32px;\n",
              "      padding: 0 0 0 0;\n",
              "      width: 32px;\n",
              "    }\n",
              "\n",
              "    .colab-df-convert:hover {\n",
              "      background-color: #E2EBFA;\n",
              "      box-shadow: 0px 1px 2px rgba(60, 64, 67, 0.3), 0px 1px 3px 1px rgba(60, 64, 67, 0.15);\n",
              "      fill: #174EA6;\n",
              "    }\n",
              "\n",
              "    .colab-df-buttons div {\n",
              "      margin-bottom: 4px;\n",
              "    }\n",
              "\n",
              "    [theme=dark] .colab-df-convert {\n",
              "      background-color: #3B4455;\n",
              "      fill: #D2E3FC;\n",
              "    }\n",
              "\n",
              "    [theme=dark] .colab-df-convert:hover {\n",
              "      background-color: #434B5C;\n",
              "      box-shadow: 0px 1px 3px 1px rgba(0, 0, 0, 0.15);\n",
              "      filter: drop-shadow(0px 1px 2px rgba(0, 0, 0, 0.3));\n",
              "      fill: #FFFFFF;\n",
              "    }\n",
              "  </style>\n",
              "\n",
              "    <script>\n",
              "      const buttonEl =\n",
              "        document.querySelector('#df-fef58db0-a216-4f8a-93f9-c146d4bf9ca5 button.colab-df-convert');\n",
              "      buttonEl.style.display =\n",
              "        google.colab.kernel.accessAllowed ? 'block' : 'none';\n",
              "\n",
              "      async function convertToInteractive(key) {\n",
              "        const element = document.querySelector('#df-fef58db0-a216-4f8a-93f9-c146d4bf9ca5');\n",
              "        const dataTable =\n",
              "          await google.colab.kernel.invokeFunction('convertToInteractive',\n",
              "                                                    [key], {});\n",
              "        if (!dataTable) return;\n",
              "\n",
              "        const docLinkHtml = 'Like what you see? Visit the ' +\n",
              "          '<a target=\"_blank\" href=https://colab.research.google.com/notebooks/data_table.ipynb>data table notebook</a>'\n",
              "          + ' to learn more about interactive tables.';\n",
              "        element.innerHTML = '';\n",
              "        dataTable['output_type'] = 'display_data';\n",
              "        await google.colab.output.renderOutput(dataTable, element);\n",
              "        const docLink = document.createElement('div');\n",
              "        docLink.innerHTML = docLinkHtml;\n",
              "        element.appendChild(docLink);\n",
              "      }\n",
              "    </script>\n",
              "  </div>\n",
              "\n",
              "\n",
              "    </div>\n",
              "  </div>\n"
            ]
          },
          "metadata": {},
          "execution_count": 19
        }
      ]
    },
    {
      "cell_type": "code",
      "metadata": {
        "id": "m1OSsCzXdiUf",
        "colab": {
          "base_uri": "https://localhost:8080/"
        },
        "outputId": "d8f9b636-b2dd-4752-c64b-5c6de1872ae4"
      },
      "source": [
        "df_apps_clean.shape"
      ],
      "execution_count": 20,
      "outputs": [
        {
          "output_type": "execute_result",
          "data": {
            "text/plain": [
              "(8199, 10)"
            ]
          },
          "metadata": {},
          "execution_count": 20
        }
      ]
    },
    {
      "cell_type": "markdown",
      "metadata": {
        "id": "GJrM69CfdiUh"
      },
      "source": [
        "#Highest Rated Apps\n"
      ]
    },
    {
      "cell_type": "code",
      "metadata": {
        "id": "Im_YQenwdiUh"
      },
      "source": [
        "#highest rated app.\n",
        "#use the .sort_values() function.\n",
        "df_apps_clean.sort_values('Rating', ascending=False).head()"
      ],
      "execution_count": null,
      "outputs": []
    },
    {
      "cell_type": "markdown",
      "source": [
        " 5-star ratings are typically found on apps with minimal reviews and a low installation count, indicating that these ratings are likely given by friends and family of the app creators.\n",
        "\n",
        "\n",
        "Relying solely on ratings to assess the quality of an app could lead us to encounter issue on this matter.\n"
      ],
      "metadata": {
        "id": "k-5uMjXPflVi"
      }
    },
    {
      "cell_type": "markdown",
      "metadata": {
        "id": "28o1Tro4diUi"
      },
      "source": [
        "#5 Largest Apps in terms of Size (MBs)\n",
        "\n"
      ]
    },
    {
      "cell_type": "code",
      "metadata": {
        "id": "86bttdamdiUj"
      },
      "source": [
        "#size in megabytes (MB) of the largest Android apps in the Google Play Store.\n",
        "df_apps_clean.sort_values('Size_MBs', ascending=False).head()"
      ],
      "execution_count": null,
      "outputs": []
    },
    {
      "cell_type": "markdown",
      "source": [
        "there is a noticeable restriction on the size of an app, capped at 100 MB. A brief online search would confirm that this restriction is set by the Google Play Store. It's intriguing to observe that several apps precisely reach this limit.\n",
        "\n"
      ],
      "metadata": {
        "id": "JPfff73Qf5KS"
      }
    },
    {
      "cell_type": "markdown",
      "metadata": {
        "id": "C3gTckh7diUk"
      },
      "source": [
        "# 5 App with Most Reviews\n",
        "\n"
      ]
    },
    {
      "cell_type": "code",
      "metadata": {
        "id": "L_EKlS3xdiUk"
      },
      "source": [
        "df_apps_clean.sort_values('Reviews', ascending=False).head(50)"
      ],
      "execution_count": null,
      "outputs": []
    },
    {
      "cell_type": "markdown",
      "source": [
        "Popular apps on the Android App Store, featuring familiar names like Facebook, WhatsApp, and Instagram. Interestingly, it's worth noting that among the top 50 most reviewed apps, not a single one is a paid app!"
      ],
      "metadata": {
        "id": "4udVM5wdg0z4"
      }
    },
    {
      "cell_type": "markdown",
      "metadata": {
        "id": "BFoRqpezjebe"
      },
      "source": [
        "# Donut Charts - Visualise Categorical Data: Content Ratings"
      ]
    },
    {
      "cell_type": "code",
      "metadata": {
        "id": "HTmxa0uWdiUm",
        "colab": {
          "base_uri": "https://localhost:8080/"
        },
        "outputId": "86bd6f8b-04a1-4c27-a9b2-bce0b94736fa"
      },
      "source": [
        "#count the number of occurrences of each rating with .value_counts()\n",
        "ratings = df_apps_clean.Content_Rating.value_counts()\n",
        "ratings"
      ],
      "execution_count": 24,
      "outputs": [
        {
          "output_type": "execute_result",
          "data": {
            "text/plain": [
              "Everyone           6621\n",
              "Teen                912\n",
              "Mature 17+          357\n",
              "Everyone 10+        305\n",
              "Adults only 18+       3\n",
              "Unrated               1\n",
              "Name: Content_Rating, dtype: int64"
            ]
          },
          "metadata": {},
          "execution_count": 24
        }
      ]
    },
    {
      "cell_type": "code",
      "metadata": {
        "id": "AwioMKxaeeOp",
        "colab": {
          "base_uri": "https://localhost:8080/",
          "height": 631
        },
        "outputId": "94025490-a3a2-43dc-e1f5-03d87cec2935"
      },
      "source": [
        "fig = px.pie(labels=ratings.index,\n",
        "             values=ratings.values,\n",
        "             title=\"Content Rating\",\n",
        "             names=ratings.index,\n",
        "             #add a value for the hole argument\n",
        "             hole=0.6,\n",
        ")\n",
        "fig.update_traces(textposition='outside', textfont_size=15, textinfo='percent+label') #graphical marks, to change how the text is displayed.\n",
        "\n",
        "fig.show()"
      ],
      "execution_count": 26,
      "outputs": [
        {
          "output_type": "stream",
          "name": "stderr",
          "text": [
            "/usr/local/lib/python3.10/dist-packages/plotly/express/_core.py:137: FutureWarning:\n",
            "\n",
            "Support for multi-dimensional indexing (e.g. `obj[:, None]`) is deprecated and will be removed in a future version.  Convert to a numpy array before indexing instead.\n",
            "\n"
          ]
        },
        {
          "output_type": "display_data",
          "data": {
            "text/html": [
              "<html>\n",
              "<head><meta charset=\"utf-8\" /></head>\n",
              "<body>\n",
              "    <div>            <script src=\"https://cdnjs.cloudflare.com/ajax/libs/mathjax/2.7.5/MathJax.js?config=TeX-AMS-MML_SVG\"></script><script type=\"text/javascript\">if (window.MathJax && window.MathJax.Hub && window.MathJax.Hub.Config) {window.MathJax.Hub.Config({SVG: {font: \"STIX-Web\"}});}</script>                <script type=\"text/javascript\">window.PlotlyConfig = {MathJaxConfig: 'local'};</script>\n",
              "        <script charset=\"utf-8\" src=\"https://cdn.plot.ly/plotly-2.24.1.min.js\"></script>                <div id=\"a5fa744a-e796-4600-a09d-3497c674b74c\" class=\"plotly-graph-div\" style=\"height:525px; width:100%;\"></div>            <script type=\"text/javascript\">                                    window.PLOTLYENV=window.PLOTLYENV || {};                                    if (document.getElementById(\"a5fa744a-e796-4600-a09d-3497c674b74c\")) {                    Plotly.newPlot(                        \"a5fa744a-e796-4600-a09d-3497c674b74c\",                        [{\"domain\":{\"x\":[0.0,1.0],\"y\":[0.0,1.0]},\"hole\":0.6,\"hovertemplate\":\"label=%{label}\\u003cbr\\u003evalue=%{value}\\u003cextra\\u003e\\u003c\\u002fextra\\u003e\",\"labels\":[\"Everyone\",\"Teen\",\"Mature 17+\",\"Everyone 10+\",\"Adults only 18+\",\"Unrated\"],\"legendgroup\":\"\",\"name\":\"\",\"showlegend\":true,\"values\":[6621,912,357,305,3,1],\"type\":\"pie\",\"textfont\":{\"size\":15},\"textinfo\":\"percent+label\",\"textposition\":\"outside\"}],                        {\"template\":{\"data\":{\"histogram2dcontour\":[{\"type\":\"histogram2dcontour\",\"colorbar\":{\"outlinewidth\":0,\"ticks\":\"\"},\"colorscale\":[[0.0,\"#0d0887\"],[0.1111111111111111,\"#46039f\"],[0.2222222222222222,\"#7201a8\"],[0.3333333333333333,\"#9c179e\"],[0.4444444444444444,\"#bd3786\"],[0.5555555555555556,\"#d8576b\"],[0.6666666666666666,\"#ed7953\"],[0.7777777777777778,\"#fb9f3a\"],[0.8888888888888888,\"#fdca26\"],[1.0,\"#f0f921\"]]}],\"choropleth\":[{\"type\":\"choropleth\",\"colorbar\":{\"outlinewidth\":0,\"ticks\":\"\"}}],\"histogram2d\":[{\"type\":\"histogram2d\",\"colorbar\":{\"outlinewidth\":0,\"ticks\":\"\"},\"colorscale\":[[0.0,\"#0d0887\"],[0.1111111111111111,\"#46039f\"],[0.2222222222222222,\"#7201a8\"],[0.3333333333333333,\"#9c179e\"],[0.4444444444444444,\"#bd3786\"],[0.5555555555555556,\"#d8576b\"],[0.6666666666666666,\"#ed7953\"],[0.7777777777777778,\"#fb9f3a\"],[0.8888888888888888,\"#fdca26\"],[1.0,\"#f0f921\"]]}],\"heatmap\":[{\"type\":\"heatmap\",\"colorbar\":{\"outlinewidth\":0,\"ticks\":\"\"},\"colorscale\":[[0.0,\"#0d0887\"],[0.1111111111111111,\"#46039f\"],[0.2222222222222222,\"#7201a8\"],[0.3333333333333333,\"#9c179e\"],[0.4444444444444444,\"#bd3786\"],[0.5555555555555556,\"#d8576b\"],[0.6666666666666666,\"#ed7953\"],[0.7777777777777778,\"#fb9f3a\"],[0.8888888888888888,\"#fdca26\"],[1.0,\"#f0f921\"]]}],\"heatmapgl\":[{\"type\":\"heatmapgl\",\"colorbar\":{\"outlinewidth\":0,\"ticks\":\"\"},\"colorscale\":[[0.0,\"#0d0887\"],[0.1111111111111111,\"#46039f\"],[0.2222222222222222,\"#7201a8\"],[0.3333333333333333,\"#9c179e\"],[0.4444444444444444,\"#bd3786\"],[0.5555555555555556,\"#d8576b\"],[0.6666666666666666,\"#ed7953\"],[0.7777777777777778,\"#fb9f3a\"],[0.8888888888888888,\"#fdca26\"],[1.0,\"#f0f921\"]]}],\"contourcarpet\":[{\"type\":\"contourcarpet\",\"colorbar\":{\"outlinewidth\":0,\"ticks\":\"\"}}],\"contour\":[{\"type\":\"contour\",\"colorbar\":{\"outlinewidth\":0,\"ticks\":\"\"},\"colorscale\":[[0.0,\"#0d0887\"],[0.1111111111111111,\"#46039f\"],[0.2222222222222222,\"#7201a8\"],[0.3333333333333333,\"#9c179e\"],[0.4444444444444444,\"#bd3786\"],[0.5555555555555556,\"#d8576b\"],[0.6666666666666666,\"#ed7953\"],[0.7777777777777778,\"#fb9f3a\"],[0.8888888888888888,\"#fdca26\"],[1.0,\"#f0f921\"]]}],\"surface\":[{\"type\":\"surface\",\"colorbar\":{\"outlinewidth\":0,\"ticks\":\"\"},\"colorscale\":[[0.0,\"#0d0887\"],[0.1111111111111111,\"#46039f\"],[0.2222222222222222,\"#7201a8\"],[0.3333333333333333,\"#9c179e\"],[0.4444444444444444,\"#bd3786\"],[0.5555555555555556,\"#d8576b\"],[0.6666666666666666,\"#ed7953\"],[0.7777777777777778,\"#fb9f3a\"],[0.8888888888888888,\"#fdca26\"],[1.0,\"#f0f921\"]]}],\"mesh3d\":[{\"type\":\"mesh3d\",\"colorbar\":{\"outlinewidth\":0,\"ticks\":\"\"}}],\"scatter\":[{\"fillpattern\":{\"fillmode\":\"overlay\",\"size\":10,\"solidity\":0.2},\"type\":\"scatter\"}],\"parcoords\":[{\"type\":\"parcoords\",\"line\":{\"colorbar\":{\"outlinewidth\":0,\"ticks\":\"\"}}}],\"scatterpolargl\":[{\"type\":\"scatterpolargl\",\"marker\":{\"colorbar\":{\"outlinewidth\":0,\"ticks\":\"\"}}}],\"bar\":[{\"error_x\":{\"color\":\"#2a3f5f\"},\"error_y\":{\"color\":\"#2a3f5f\"},\"marker\":{\"line\":{\"color\":\"#E5ECF6\",\"width\":0.5},\"pattern\":{\"fillmode\":\"overlay\",\"size\":10,\"solidity\":0.2}},\"type\":\"bar\"}],\"scattergeo\":[{\"type\":\"scattergeo\",\"marker\":{\"colorbar\":{\"outlinewidth\":0,\"ticks\":\"\"}}}],\"scatterpolar\":[{\"type\":\"scatterpolar\",\"marker\":{\"colorbar\":{\"outlinewidth\":0,\"ticks\":\"\"}}}],\"histogram\":[{\"marker\":{\"pattern\":{\"fillmode\":\"overlay\",\"size\":10,\"solidity\":0.2}},\"type\":\"histogram\"}],\"scattergl\":[{\"type\":\"scattergl\",\"marker\":{\"colorbar\":{\"outlinewidth\":0,\"ticks\":\"\"}}}],\"scatter3d\":[{\"type\":\"scatter3d\",\"line\":{\"colorbar\":{\"outlinewidth\":0,\"ticks\":\"\"}},\"marker\":{\"colorbar\":{\"outlinewidth\":0,\"ticks\":\"\"}}}],\"scattermapbox\":[{\"type\":\"scattermapbox\",\"marker\":{\"colorbar\":{\"outlinewidth\":0,\"ticks\":\"\"}}}],\"scatterternary\":[{\"type\":\"scatterternary\",\"marker\":{\"colorbar\":{\"outlinewidth\":0,\"ticks\":\"\"}}}],\"scattercarpet\":[{\"type\":\"scattercarpet\",\"marker\":{\"colorbar\":{\"outlinewidth\":0,\"ticks\":\"\"}}}],\"carpet\":[{\"aaxis\":{\"endlinecolor\":\"#2a3f5f\",\"gridcolor\":\"white\",\"linecolor\":\"white\",\"minorgridcolor\":\"white\",\"startlinecolor\":\"#2a3f5f\"},\"baxis\":{\"endlinecolor\":\"#2a3f5f\",\"gridcolor\":\"white\",\"linecolor\":\"white\",\"minorgridcolor\":\"white\",\"startlinecolor\":\"#2a3f5f\"},\"type\":\"carpet\"}],\"table\":[{\"cells\":{\"fill\":{\"color\":\"#EBF0F8\"},\"line\":{\"color\":\"white\"}},\"header\":{\"fill\":{\"color\":\"#C8D4E3\"},\"line\":{\"color\":\"white\"}},\"type\":\"table\"}],\"barpolar\":[{\"marker\":{\"line\":{\"color\":\"#E5ECF6\",\"width\":0.5},\"pattern\":{\"fillmode\":\"overlay\",\"size\":10,\"solidity\":0.2}},\"type\":\"barpolar\"}],\"pie\":[{\"automargin\":true,\"type\":\"pie\"}]},\"layout\":{\"autotypenumbers\":\"strict\",\"colorway\":[\"#636efa\",\"#EF553B\",\"#00cc96\",\"#ab63fa\",\"#FFA15A\",\"#19d3f3\",\"#FF6692\",\"#B6E880\",\"#FF97FF\",\"#FECB52\"],\"font\":{\"color\":\"#2a3f5f\"},\"hovermode\":\"closest\",\"hoverlabel\":{\"align\":\"left\"},\"paper_bgcolor\":\"white\",\"plot_bgcolor\":\"#E5ECF6\",\"polar\":{\"bgcolor\":\"#E5ECF6\",\"angularaxis\":{\"gridcolor\":\"white\",\"linecolor\":\"white\",\"ticks\":\"\"},\"radialaxis\":{\"gridcolor\":\"white\",\"linecolor\":\"white\",\"ticks\":\"\"}},\"ternary\":{\"bgcolor\":\"#E5ECF6\",\"aaxis\":{\"gridcolor\":\"white\",\"linecolor\":\"white\",\"ticks\":\"\"},\"baxis\":{\"gridcolor\":\"white\",\"linecolor\":\"white\",\"ticks\":\"\"},\"caxis\":{\"gridcolor\":\"white\",\"linecolor\":\"white\",\"ticks\":\"\"}},\"coloraxis\":{\"colorbar\":{\"outlinewidth\":0,\"ticks\":\"\"}},\"colorscale\":{\"sequential\":[[0.0,\"#0d0887\"],[0.1111111111111111,\"#46039f\"],[0.2222222222222222,\"#7201a8\"],[0.3333333333333333,\"#9c179e\"],[0.4444444444444444,\"#bd3786\"],[0.5555555555555556,\"#d8576b\"],[0.6666666666666666,\"#ed7953\"],[0.7777777777777778,\"#fb9f3a\"],[0.8888888888888888,\"#fdca26\"],[1.0,\"#f0f921\"]],\"sequentialminus\":[[0.0,\"#0d0887\"],[0.1111111111111111,\"#46039f\"],[0.2222222222222222,\"#7201a8\"],[0.3333333333333333,\"#9c179e\"],[0.4444444444444444,\"#bd3786\"],[0.5555555555555556,\"#d8576b\"],[0.6666666666666666,\"#ed7953\"],[0.7777777777777778,\"#fb9f3a\"],[0.8888888888888888,\"#fdca26\"],[1.0,\"#f0f921\"]],\"diverging\":[[0,\"#8e0152\"],[0.1,\"#c51b7d\"],[0.2,\"#de77ae\"],[0.3,\"#f1b6da\"],[0.4,\"#fde0ef\"],[0.5,\"#f7f7f7\"],[0.6,\"#e6f5d0\"],[0.7,\"#b8e186\"],[0.8,\"#7fbc41\"],[0.9,\"#4d9221\"],[1,\"#276419\"]]},\"xaxis\":{\"gridcolor\":\"white\",\"linecolor\":\"white\",\"ticks\":\"\",\"title\":{\"standoff\":15},\"zerolinecolor\":\"white\",\"automargin\":true,\"zerolinewidth\":2},\"yaxis\":{\"gridcolor\":\"white\",\"linecolor\":\"white\",\"ticks\":\"\",\"title\":{\"standoff\":15},\"zerolinecolor\":\"white\",\"automargin\":true,\"zerolinewidth\":2},\"scene\":{\"xaxis\":{\"backgroundcolor\":\"#E5ECF6\",\"gridcolor\":\"white\",\"linecolor\":\"white\",\"showbackground\":true,\"ticks\":\"\",\"zerolinecolor\":\"white\",\"gridwidth\":2},\"yaxis\":{\"backgroundcolor\":\"#E5ECF6\",\"gridcolor\":\"white\",\"linecolor\":\"white\",\"showbackground\":true,\"ticks\":\"\",\"zerolinecolor\":\"white\",\"gridwidth\":2},\"zaxis\":{\"backgroundcolor\":\"#E5ECF6\",\"gridcolor\":\"white\",\"linecolor\":\"white\",\"showbackground\":true,\"ticks\":\"\",\"zerolinecolor\":\"white\",\"gridwidth\":2}},\"shapedefaults\":{\"line\":{\"color\":\"#2a3f5f\"}},\"annotationdefaults\":{\"arrowcolor\":\"#2a3f5f\",\"arrowhead\":0,\"arrowwidth\":1},\"geo\":{\"bgcolor\":\"white\",\"landcolor\":\"#E5ECF6\",\"subunitcolor\":\"white\",\"showland\":true,\"showlakes\":true,\"lakecolor\":\"white\"},\"title\":{\"x\":0.05},\"mapbox\":{\"style\":\"light\"}}},\"legend\":{\"tracegroupgap\":0},\"title\":{\"text\":\"Content Rating\"}},                        {\"responsive\": true}                    ).then(function(){\n",
              "                            \n",
              "var gd = document.getElementById('a5fa744a-e796-4600-a09d-3497c674b74c');\n",
              "var x = new MutationObserver(function (mutations, observer) {{\n",
              "        var display = window.getComputedStyle(gd).display;\n",
              "        if (!display || display === 'none') {{\n",
              "            console.log([gd, 'removed!']);\n",
              "            Plotly.purge(gd);\n",
              "            observer.disconnect();\n",
              "        }}\n",
              "}});\n",
              "\n",
              "// Listen for the removal of the full notebook cells\n",
              "var notebookContainer = gd.closest('#notebook-container');\n",
              "if (notebookContainer) {{\n",
              "    x.observe(notebookContainer, {childList: true});\n",
              "}}\n",
              "\n",
              "// Listen for the clearing of the current output cell\n",
              "var outputEl = gd.closest('.output');\n",
              "if (outputEl) {{\n",
              "    x.observe(outputEl, {childList: true});\n",
              "}}\n",
              "\n",
              "                        })                };                            </script>        </div>\n",
              "</body>\n",
              "</html>"
            ]
          },
          "metadata": {}
        }
      ]
    },
    {
      "cell_type": "code",
      "source": [],
      "metadata": {
        "id": "DCpb68kxjt4C"
      },
      "execution_count": null,
      "outputs": []
    },
    {
      "cell_type": "markdown",
      "metadata": {
        "id": "RoPpW37xdiUm"
      },
      "source": [
        "# Numeric Type Conversion:  Number of Installs\n",
        "\n"
      ]
    },
    {
      "cell_type": "code",
      "metadata": {
        "id": "aJIAZ-Uosski",
        "colab": {
          "base_uri": "https://localhost:8080/"
        },
        "outputId": "46618428-7ba3-49ec-a9c5-53be3f47b2bb"
      },
      "source": [
        "#apps with over 1 billion\n",
        "df_apps_clean.Installs.describe()"
      ],
      "execution_count": 27,
      "outputs": [
        {
          "output_type": "execute_result",
          "data": {
            "text/plain": [
              "count          8199\n",
              "unique           19\n",
              "top       1,000,000\n",
              "freq           1417\n",
              "Name: Installs, dtype: object"
            ]
          },
          "metadata": {},
          "execution_count": 27
        }
      ]
    },
    {
      "cell_type": "code",
      "metadata": {
        "id": "_tOgYTjhdiUp",
        "colab": {
          "base_uri": "https://localhost:8080/"
        },
        "outputId": "99102983-fe12-4ae1-b2f4-68ac2fb57826"
      },
      "source": [
        "df_apps_clean.info()"
      ],
      "execution_count": 28,
      "outputs": [
        {
          "output_type": "stream",
          "name": "stdout",
          "text": [
            "<class 'pandas.core.frame.DataFrame'>\n",
            "Int64Index: 8199 entries, 21 to 10835\n",
            "Data columns (total 10 columns):\n",
            " #   Column          Non-Null Count  Dtype  \n",
            "---  ------          --------------  -----  \n",
            " 0   App             8199 non-null   object \n",
            " 1   Category        8199 non-null   object \n",
            " 2   Rating          8199 non-null   float64\n",
            " 3   Reviews         8199 non-null   int64  \n",
            " 4   Size_MBs        8199 non-null   float64\n",
            " 5   Installs        8199 non-null   object \n",
            " 6   Type            8199 non-null   object \n",
            " 7   Price           8199 non-null   object \n",
            " 8   Content_Rating  8199 non-null   object \n",
            " 9   Genres          8199 non-null   object \n",
            "dtypes: float64(2), int64(1), object(7)\n",
            "memory usage: 704.6+ KB\n"
          ]
        }
      ]
    },
    {
      "cell_type": "markdown",
      "source": [
        "non-numeric data type; object"
      ],
      "metadata": {
        "id": "OiJmcXxakepi"
      }
    },
    {
      "cell_type": "code",
      "metadata": {
        "id": "KDgwv2YUtSjz"
      },
      "source": [
        "#because of the comma (,) character\n",
        "df_apps_clean[['App', 'Installs']].groupby('Installs').count() #count the number of entries per level of installations"
      ],
      "execution_count": null,
      "outputs": []
    },
    {
      "cell_type": "code",
      "metadata": {
        "id": "ck-13mFBuROB"
      },
      "source": [
        "df_apps_clean.Installs = df_apps_clean.Installs.astype(str).str.replace(',', \"\") #remove the comma (,) character. replace the , with an empty string\n",
        "\n",
        "df_apps_clean.Installs = pd.to_numeric(df_apps_clean.Installs) #convert data to a number using .to_numeric().\n",
        "\n",
        "df_apps_clean[['App', 'Installs']].groupby('Installs').count()"
      ],
      "execution_count": null,
      "outputs": []
    },
    {
      "cell_type": "markdown",
      "metadata": {
        "id": "7T4sfNpFdiUv"
      },
      "source": [
        "#Filter out the Junk\n",
        "\n"
      ]
    },
    {
      "cell_type": "code",
      "metadata": {
        "id": "6htJHLS8diUw"
      },
      "source": [
        "#filter out the dollar sign\n",
        "df_apps_clean.Price = df_apps_clean.Price.astype(str).str.replace('$', \"\")\n",
        "df_apps_clean.Price = pd.to_numeric(df_apps_clean.Price)\n",
        "\n",
        "df_apps_clean.sort_values('Price', ascending=False).head(20)"
      ],
      "execution_count": null,
      "outputs": []
    },
    {
      "cell_type": "markdown",
      "metadata": {
        "id": "Rgposh-CdiU4"
      },
      "source": [
        "### The most expensive apps sub $250"
      ]
    },
    {
      "cell_type": "code",
      "metadata": {
        "id": "P2_hCXNodiUy"
      },
      "source": [
        "df_apps_clean = df_apps_clean[df_apps_clean['Price'] < 250] #remove 15 I am Rich Apps in the Google Play Store\n",
        "df_apps_clean.sort_values('Price', ascending=False).head(5)"
      ],
      "execution_count": null,
      "outputs": []
    },
    {
      "cell_type": "markdown",
      "metadata": {
        "id": "VGu85CLb4OOH"
      },
      "source": [
        "### Highest Grossing Paid Apps (ballpark estimate)"
      ]
    },
    {
      "cell_type": "code",
      "metadata": {
        "id": "JZkGy1CI4TS-"
      },
      "source": [
        "df_apps_clean['Revenue_Estimate'] = df_apps_clean.Installs.mul(df_apps_clean.Price) # multiply the values in the price and the installs column.\n",
        "df_apps_clean.sort_values('Revenue_Estimate', ascending=False)[:10]"
      ],
      "execution_count": null,
      "outputs": []
    },
    {
      "cell_type": "markdown",
      "metadata": {
        "dc": {
          "key": "18"
        },
        "run_control": {
          "frozen": true
        },
        "tags": [
          "context"
        ],
        "id": "lvpM2MyTdiU6"
      },
      "source": [
        "# Plotly Bar Charts & Scatter Plots: Analysing App Categories"
      ]
    },
    {
      "cell_type": "code",
      "metadata": {
        "id": "ITYCjRM4diU6",
        "colab": {
          "base_uri": "https://localhost:8080/"
        },
        "outputId": "17c1ba8d-02a7-4126-bf13-10a09f994ffa"
      },
      "source": [
        "# Number of different categories\n",
        "df_apps_clean.Category.nunique()"
      ],
      "execution_count": 34,
      "outputs": [
        {
          "output_type": "execute_result",
          "data": {
            "text/plain": [
              "33"
            ]
          },
          "metadata": {},
          "execution_count": 34
        }
      ]
    },
    {
      "cell_type": "code",
      "metadata": {
        "id": "WR7QVRCjdiU8",
        "colab": {
          "base_uri": "https://localhost:8080/"
        },
        "outputId": "9c5f7a2d-645c-410e-8924-220a81a7f483"
      },
      "source": [
        "# Number of apps per category\n",
        "top10_category = df_apps_clean.Category.value_counts()[:10] #use  .value_counts()\n",
        "top10_category"
      ],
      "execution_count": 35,
      "outputs": [
        {
          "output_type": "execute_result",
          "data": {
            "text/plain": [
              "FAMILY             1606\n",
              "GAME                910\n",
              "TOOLS               719\n",
              "PRODUCTIVITY        301\n",
              "PERSONALIZATION     298\n",
              "LIFESTYLE           297\n",
              "FINANCE             296\n",
              "MEDICAL             292\n",
              "PHOTOGRAPHY         263\n",
              "BUSINESS            262\n",
              "Name: Category, dtype: int64"
            ]
          },
          "metadata": {},
          "execution_count": 35
        }
      ]
    },
    {
      "cell_type": "markdown",
      "metadata": {
        "id": "0tTurR7qdiU9"
      },
      "source": [
        "### Vertical Bar Chart - Highest Competition (Number of Apps)"
      ]
    },
    {
      "cell_type": "code",
      "metadata": {
        "id": "ylJyynozdiU9",
        "colab": {
          "base_uri": "https://localhost:8080/",
          "height": 542
        },
        "outputId": "72786ac0-b609-4b3a-df73-14e1fe18e59f"
      },
      "source": [
        "bar = px.bar(\n",
        "        x = top10_category.index, # index = category name\n",
        "        y = top10_category.values)\n",
        "\n",
        "bar.show()"
      ],
      "execution_count": null,
      "outputs": [
        {
          "output_type": "display_data",
          "data": {
            "text/html": [
              "<html>\n",
              "<head><meta charset=\"utf-8\" /></head>\n",
              "<body>\n",
              "    <div>\n",
              "            <script src=\"https://cdnjs.cloudflare.com/ajax/libs/mathjax/2.7.5/MathJax.js?config=TeX-AMS-MML_SVG\"></script><script type=\"text/javascript\">if (window.MathJax) {MathJax.Hub.Config({SVG: {font: \"STIX-Web\"}});}</script>\n",
              "                <script type=\"text/javascript\">window.PlotlyConfig = {MathJaxConfig: 'local'};</script>\n",
              "        <script src=\"https://cdn.plot.ly/plotly-latest.min.js\"></script>    \n",
              "            <div id=\"dcea8be3-7c52-4603-970e-7ead90936b63\" class=\"plotly-graph-div\" style=\"height:525px; width:100%;\"></div>\n",
              "            <script type=\"text/javascript\">\n",
              "                \n",
              "                    window.PLOTLYENV=window.PLOTLYENV || {};\n",
              "                    \n",
              "                if (document.getElementById(\"dcea8be3-7c52-4603-970e-7ead90936b63\")) {\n",
              "                    Plotly.newPlot(\n",
              "                        'dcea8be3-7c52-4603-970e-7ead90936b63',\n",
              "                        [{\"alignmentgroup\": \"True\", \"hoverlabel\": {\"namelength\": 0}, \"hovertemplate\": \"x=%{x}<br>y=%{y}\", \"legendgroup\": \"\", \"marker\": {\"color\": \"#636efa\"}, \"name\": \"\", \"offsetgroup\": \"\", \"orientation\": \"v\", \"showlegend\": false, \"textposition\": \"auto\", \"type\": \"bar\", \"x\": [\"FAMILY\", \"GAME\", \"TOOLS\", \"PRODUCTIVITY\", \"PERSONALIZATION\", \"LIFESTYLE\", \"FINANCE\", \"MEDICAL\", \"PHOTOGRAPHY\", \"BUSINESS\"], \"xaxis\": \"x\", \"y\": [1606, 910, 719, 301, 298, 297, 296, 292, 263, 262], \"yaxis\": \"y\"}],\n",
              "                        {\"barmode\": \"relative\", \"legend\": {\"tracegroupgap\": 0}, \"margin\": {\"t\": 60}, \"template\": {\"data\": {\"bar\": [{\"error_x\": {\"color\": \"#2a3f5f\"}, \"error_y\": {\"color\": \"#2a3f5f\"}, \"marker\": {\"line\": {\"color\": \"#E5ECF6\", \"width\": 0.5}}, \"type\": \"bar\"}], \"barpolar\": [{\"marker\": {\"line\": {\"color\": \"#E5ECF6\", \"width\": 0.5}}, \"type\": \"barpolar\"}], \"carpet\": [{\"aaxis\": {\"endlinecolor\": \"#2a3f5f\", \"gridcolor\": \"white\", \"linecolor\": \"white\", \"minorgridcolor\": \"white\", \"startlinecolor\": \"#2a3f5f\"}, \"baxis\": {\"endlinecolor\": \"#2a3f5f\", \"gridcolor\": \"white\", \"linecolor\": \"white\", \"minorgridcolor\": \"white\", \"startlinecolor\": \"#2a3f5f\"}, \"type\": \"carpet\"}], \"choropleth\": [{\"colorbar\": {\"outlinewidth\": 0, \"ticks\": \"\"}, \"type\": \"choropleth\"}], \"contour\": [{\"colorbar\": {\"outlinewidth\": 0, \"ticks\": \"\"}, \"colorscale\": [[0.0, \"#0d0887\"], [0.1111111111111111, \"#46039f\"], [0.2222222222222222, \"#7201a8\"], [0.3333333333333333, \"#9c179e\"], [0.4444444444444444, \"#bd3786\"], [0.5555555555555556, \"#d8576b\"], [0.6666666666666666, \"#ed7953\"], [0.7777777777777778, \"#fb9f3a\"], [0.8888888888888888, \"#fdca26\"], [1.0, \"#f0f921\"]], \"type\": \"contour\"}], \"contourcarpet\": [{\"colorbar\": {\"outlinewidth\": 0, \"ticks\": \"\"}, \"type\": \"contourcarpet\"}], \"heatmap\": [{\"colorbar\": {\"outlinewidth\": 0, \"ticks\": \"\"}, \"colorscale\": [[0.0, \"#0d0887\"], [0.1111111111111111, \"#46039f\"], [0.2222222222222222, \"#7201a8\"], [0.3333333333333333, \"#9c179e\"], [0.4444444444444444, \"#bd3786\"], [0.5555555555555556, \"#d8576b\"], [0.6666666666666666, \"#ed7953\"], [0.7777777777777778, \"#fb9f3a\"], [0.8888888888888888, \"#fdca26\"], [1.0, \"#f0f921\"]], \"type\": \"heatmap\"}], \"heatmapgl\": [{\"colorbar\": {\"outlinewidth\": 0, \"ticks\": \"\"}, \"colorscale\": [[0.0, \"#0d0887\"], [0.1111111111111111, \"#46039f\"], [0.2222222222222222, \"#7201a8\"], [0.3333333333333333, \"#9c179e\"], [0.4444444444444444, \"#bd3786\"], [0.5555555555555556, \"#d8576b\"], [0.6666666666666666, \"#ed7953\"], [0.7777777777777778, \"#fb9f3a\"], [0.8888888888888888, \"#fdca26\"], [1.0, \"#f0f921\"]], \"type\": \"heatmapgl\"}], \"histogram\": [{\"marker\": {\"colorbar\": {\"outlinewidth\": 0, \"ticks\": \"\"}}, \"type\": \"histogram\"}], \"histogram2d\": [{\"colorbar\": {\"outlinewidth\": 0, \"ticks\": \"\"}, \"colorscale\": [[0.0, \"#0d0887\"], [0.1111111111111111, \"#46039f\"], [0.2222222222222222, \"#7201a8\"], [0.3333333333333333, \"#9c179e\"], [0.4444444444444444, \"#bd3786\"], [0.5555555555555556, \"#d8576b\"], [0.6666666666666666, \"#ed7953\"], [0.7777777777777778, \"#fb9f3a\"], [0.8888888888888888, \"#fdca26\"], [1.0, \"#f0f921\"]], \"type\": \"histogram2d\"}], \"histogram2dcontour\": [{\"colorbar\": {\"outlinewidth\": 0, \"ticks\": \"\"}, \"colorscale\": [[0.0, \"#0d0887\"], [0.1111111111111111, \"#46039f\"], [0.2222222222222222, \"#7201a8\"], [0.3333333333333333, \"#9c179e\"], [0.4444444444444444, \"#bd3786\"], [0.5555555555555556, \"#d8576b\"], [0.6666666666666666, \"#ed7953\"], [0.7777777777777778, \"#fb9f3a\"], [0.8888888888888888, \"#fdca26\"], [1.0, \"#f0f921\"]], \"type\": \"histogram2dcontour\"}], \"mesh3d\": [{\"colorbar\": {\"outlinewidth\": 0, \"ticks\": \"\"}, \"type\": \"mesh3d\"}], \"parcoords\": [{\"line\": {\"colorbar\": {\"outlinewidth\": 0, \"ticks\": \"\"}}, \"type\": \"parcoords\"}], \"pie\": [{\"automargin\": true, \"type\": \"pie\"}], \"scatter\": [{\"marker\": {\"colorbar\": {\"outlinewidth\": 0, \"ticks\": \"\"}}, \"type\": \"scatter\"}], \"scatter3d\": [{\"line\": {\"colorbar\": {\"outlinewidth\": 0, \"ticks\": \"\"}}, \"marker\": {\"colorbar\": {\"outlinewidth\": 0, \"ticks\": \"\"}}, \"type\": \"scatter3d\"}], \"scattercarpet\": [{\"marker\": {\"colorbar\": {\"outlinewidth\": 0, \"ticks\": \"\"}}, \"type\": \"scattercarpet\"}], \"scattergeo\": [{\"marker\": {\"colorbar\": {\"outlinewidth\": 0, \"ticks\": \"\"}}, \"type\": \"scattergeo\"}], \"scattergl\": [{\"marker\": {\"colorbar\": {\"outlinewidth\": 0, \"ticks\": \"\"}}, \"type\": \"scattergl\"}], \"scattermapbox\": [{\"marker\": {\"colorbar\": {\"outlinewidth\": 0, \"ticks\": \"\"}}, \"type\": \"scattermapbox\"}], \"scatterpolar\": [{\"marker\": {\"colorbar\": {\"outlinewidth\": 0, \"ticks\": \"\"}}, \"type\": \"scatterpolar\"}], \"scatterpolargl\": [{\"marker\": {\"colorbar\": {\"outlinewidth\": 0, \"ticks\": \"\"}}, \"type\": \"scatterpolargl\"}], \"scatterternary\": [{\"marker\": {\"colorbar\": {\"outlinewidth\": 0, \"ticks\": \"\"}}, \"type\": \"scatterternary\"}], \"surface\": [{\"colorbar\": {\"outlinewidth\": 0, \"ticks\": \"\"}, \"colorscale\": [[0.0, \"#0d0887\"], [0.1111111111111111, \"#46039f\"], [0.2222222222222222, \"#7201a8\"], [0.3333333333333333, \"#9c179e\"], [0.4444444444444444, \"#bd3786\"], [0.5555555555555556, \"#d8576b\"], [0.6666666666666666, \"#ed7953\"], [0.7777777777777778, \"#fb9f3a\"], [0.8888888888888888, \"#fdca26\"], [1.0, \"#f0f921\"]], \"type\": \"surface\"}], \"table\": [{\"cells\": {\"fill\": {\"color\": \"#EBF0F8\"}, \"line\": {\"color\": \"white\"}}, \"header\": {\"fill\": {\"color\": \"#C8D4E3\"}, \"line\": {\"color\": \"white\"}}, \"type\": \"table\"}]}, \"layout\": {\"annotationdefaults\": {\"arrowcolor\": \"#2a3f5f\", \"arrowhead\": 0, \"arrowwidth\": 1}, \"coloraxis\": {\"colorbar\": {\"outlinewidth\": 0, \"ticks\": \"\"}}, \"colorscale\": {\"diverging\": [[0, \"#8e0152\"], [0.1, \"#c51b7d\"], [0.2, \"#de77ae\"], [0.3, \"#f1b6da\"], [0.4, \"#fde0ef\"], [0.5, \"#f7f7f7\"], [0.6, \"#e6f5d0\"], [0.7, \"#b8e186\"], [0.8, \"#7fbc41\"], [0.9, \"#4d9221\"], [1, \"#276419\"]], \"sequential\": [[0.0, \"#0d0887\"], [0.1111111111111111, \"#46039f\"], [0.2222222222222222, \"#7201a8\"], [0.3333333333333333, \"#9c179e\"], [0.4444444444444444, \"#bd3786\"], [0.5555555555555556, \"#d8576b\"], [0.6666666666666666, \"#ed7953\"], [0.7777777777777778, \"#fb9f3a\"], [0.8888888888888888, \"#fdca26\"], [1.0, \"#f0f921\"]], \"sequentialminus\": [[0.0, \"#0d0887\"], [0.1111111111111111, \"#46039f\"], [0.2222222222222222, \"#7201a8\"], [0.3333333333333333, \"#9c179e\"], [0.4444444444444444, \"#bd3786\"], [0.5555555555555556, \"#d8576b\"], [0.6666666666666666, \"#ed7953\"], [0.7777777777777778, \"#fb9f3a\"], [0.8888888888888888, \"#fdca26\"], [1.0, \"#f0f921\"]]}, \"colorway\": [\"#636efa\", \"#EF553B\", \"#00cc96\", \"#ab63fa\", \"#FFA15A\", \"#19d3f3\", \"#FF6692\", \"#B6E880\", \"#FF97FF\", \"#FECB52\"], \"font\": {\"color\": \"#2a3f5f\"}, \"geo\": {\"bgcolor\": \"white\", \"lakecolor\": \"white\", \"landcolor\": \"#E5ECF6\", \"showlakes\": true, \"showland\": true, \"subunitcolor\": \"white\"}, \"hoverlabel\": {\"align\": \"left\"}, \"hovermode\": \"closest\", \"mapbox\": {\"style\": \"light\"}, \"paper_bgcolor\": \"white\", \"plot_bgcolor\": \"#E5ECF6\", \"polar\": {\"angularaxis\": {\"gridcolor\": \"white\", \"linecolor\": \"white\", \"ticks\": \"\"}, \"bgcolor\": \"#E5ECF6\", \"radialaxis\": {\"gridcolor\": \"white\", \"linecolor\": \"white\", \"ticks\": \"\"}}, \"scene\": {\"xaxis\": {\"backgroundcolor\": \"#E5ECF6\", \"gridcolor\": \"white\", \"gridwidth\": 2, \"linecolor\": \"white\", \"showbackground\": true, \"ticks\": \"\", \"zerolinecolor\": \"white\"}, \"yaxis\": {\"backgroundcolor\": \"#E5ECF6\", \"gridcolor\": \"white\", \"gridwidth\": 2, \"linecolor\": \"white\", \"showbackground\": true, \"ticks\": \"\", \"zerolinecolor\": \"white\"}, \"zaxis\": {\"backgroundcolor\": \"#E5ECF6\", \"gridcolor\": \"white\", \"gridwidth\": 2, \"linecolor\": \"white\", \"showbackground\": true, \"ticks\": \"\", \"zerolinecolor\": \"white\"}}, \"shapedefaults\": {\"line\": {\"color\": \"#2a3f5f\"}}, \"ternary\": {\"aaxis\": {\"gridcolor\": \"white\", \"linecolor\": \"white\", \"ticks\": \"\"}, \"baxis\": {\"gridcolor\": \"white\", \"linecolor\": \"white\", \"ticks\": \"\"}, \"bgcolor\": \"#E5ECF6\", \"caxis\": {\"gridcolor\": \"white\", \"linecolor\": \"white\", \"ticks\": \"\"}}, \"title\": {\"x\": 0.05}, \"xaxis\": {\"automargin\": true, \"gridcolor\": \"white\", \"linecolor\": \"white\", \"ticks\": \"\", \"title\": {\"standoff\": 15}, \"zerolinecolor\": \"white\", \"zerolinewidth\": 2}, \"yaxis\": {\"automargin\": true, \"gridcolor\": \"white\", \"linecolor\": \"white\", \"ticks\": \"\", \"title\": {\"standoff\": 15}, \"zerolinecolor\": \"white\", \"zerolinewidth\": 2}}}, \"xaxis\": {\"anchor\": \"y\", \"domain\": [0.0, 1.0], \"title\": {\"text\": \"x\"}}, \"yaxis\": {\"anchor\": \"x\", \"domain\": [0.0, 1.0], \"title\": {\"text\": \"y\"}}},\n",
              "                        {\"responsive\": true}\n",
              "                    ).then(function(){\n",
              "                            \n",
              "var gd = document.getElementById('dcea8be3-7c52-4603-970e-7ead90936b63');\n",
              "var x = new MutationObserver(function (mutations, observer) {{\n",
              "        var display = window.getComputedStyle(gd).display;\n",
              "        if (!display || display === 'none') {{\n",
              "            console.log([gd, 'removed!']);\n",
              "            Plotly.purge(gd);\n",
              "            observer.disconnect();\n",
              "        }}\n",
              "}});\n",
              "\n",
              "// Listen for the removal of the full notebook cells\n",
              "var notebookContainer = gd.closest('#notebook-container');\n",
              "if (notebookContainer) {{\n",
              "    x.observe(notebookContainer, {childList: true});\n",
              "}}\n",
              "\n",
              "// Listen for the clearing of the current output cell\n",
              "var outputEl = gd.closest('.output');\n",
              "if (outputEl) {{\n",
              "    x.observe(outputEl, {childList: true});\n",
              "}}\n",
              "\n",
              "                        })\n",
              "                };\n",
              "                \n",
              "            </script>\n",
              "        </div>\n",
              "</body>\n",
              "</html>"
            ]
          },
          "metadata": {
            "tags": []
          }
        }
      ]
    },
    {
      "cell_type": "markdown",
      "metadata": {
        "id": "57mowetLdiU_"
      },
      "source": [
        "### Horizontal Bar Chart - Most Popular Categories (Highest Downloads)"
      ]
    },
    {
      "cell_type": "code",
      "metadata": {
        "id": "7rWlQnqMdiVA"
      },
      "source": [
        "# Group apps by category and then sum the number of installations\n",
        "category_installs = df_apps_clean.groupby('Category').agg({'Installs': pd.Series.sum})\n",
        "category_installs.sort_values('Installs', ascending=True, inplace=True)"
      ],
      "execution_count": 38,
      "outputs": []
    },
    {
      "cell_type": "code",
      "metadata": {
        "id": "Abt1FkKt8utg",
        "colab": {
          "base_uri": "https://localhost:8080/",
          "height": 542
        },
        "outputId": "36af57da-46ad-4c72-e040-b8204107f545"
      },
      "source": [
        "h_bar = px.bar(\n",
        "        x = category_installs.Installs,\n",
        "        y = category_installs.index,\n",
        "        orientation='h',\n",
        "        title='Category Popularity')\n",
        "\n",
        "h_bar.update_layout(xaxis_title='Number of Downloads', yaxis_title='Category')\n",
        "h_bar.show()"
      ],
      "execution_count": 39,
      "outputs": [
        {
          "output_type": "display_data",
          "data": {
            "text/html": [
              "<html>\n",
              "<head><meta charset=\"utf-8\" /></head>\n",
              "<body>\n",
              "    <div>            <script src=\"https://cdnjs.cloudflare.com/ajax/libs/mathjax/2.7.5/MathJax.js?config=TeX-AMS-MML_SVG\"></script><script type=\"text/javascript\">if (window.MathJax && window.MathJax.Hub && window.MathJax.Hub.Config) {window.MathJax.Hub.Config({SVG: {font: \"STIX-Web\"}});}</script>                <script type=\"text/javascript\">window.PlotlyConfig = {MathJaxConfig: 'local'};</script>\n",
              "        <script charset=\"utf-8\" src=\"https://cdn.plot.ly/plotly-2.24.1.min.js\"></script>                <div id=\"8e2893b3-a7a7-42bf-ba03-a3b0b5e1d131\" class=\"plotly-graph-div\" style=\"height:525px; width:100%;\"></div>            <script type=\"text/javascript\">                                    window.PLOTLYENV=window.PLOTLYENV || {};                                    if (document.getElementById(\"8e2893b3-a7a7-42bf-ba03-a3b0b5e1d131\")) {                    Plotly.newPlot(                        \"8e2893b3-a7a7-42bf-ba03-a3b0b5e1d131\",                        [{\"alignmentgroup\":\"True\",\"hovertemplate\":\"x=%{x}\\u003cbr\\u003ey=%{y}\\u003cextra\\u003e\\u003c\\u002fextra\\u003e\",\"legendgroup\":\"\",\"marker\":{\"color\":\"#636efa\",\"pattern\":{\"shape\":\"\"}},\"name\":\"\",\"offsetgroup\":\"\",\"orientation\":\"h\",\"showlegend\":false,\"textposition\":\"auto\",\"x\":[15949410,26916200,31116110,39162676,44931100,52083000,53129800,97082000,114233100,140912410,211677750,352852000,361096500,455249400,503267560,503611120,692018120,1096431465,1134006220,1400331540,1532352930,1665791655,2113660000,2369110650,2894859300,3916897200,4437554490,4649143130,5487841475,5788070180,8099724500,11039241530,13858762717],\"xaxis\":\"x\",\"y\":[\"EVENTS\",\"BEAUTY\",\"PARENTING\",\"MEDICAL\",\"COMICS\",\"LIBRARIES_AND_DEMO\",\"AUTO_AND_VEHICLES\",\"HOUSE_AND_HOME\",\"ART_AND_DESIGN\",\"DATING\",\"FOOD_AND_DRINK\",\"EDUCATION\",\"WEATHER\",\"FINANCE\",\"MAPS_AND_NAVIGATION\",\"LIFESTYLE\",\"BUSINESS\",\"SPORTS\",\"HEALTH_AND_FITNESS\",\"SHOPPING\",\"PERSONALIZATION\",\"BOOKS_AND_REFERENCE\",\"ENTERTAINMENT\",\"NEWS_AND_MAGAZINES\",\"TRAVEL_AND_LOCAL\",\"VIDEO_PLAYERS\",\"FAMILY\",\"PHOTOGRAPHY\",\"SOCIAL\",\"PRODUCTIVITY\",\"TOOLS\",\"COMMUNICATION\",\"GAME\"],\"yaxis\":\"y\",\"type\":\"bar\"}],                        {\"template\":{\"data\":{\"histogram2dcontour\":[{\"type\":\"histogram2dcontour\",\"colorbar\":{\"outlinewidth\":0,\"ticks\":\"\"},\"colorscale\":[[0.0,\"#0d0887\"],[0.1111111111111111,\"#46039f\"],[0.2222222222222222,\"#7201a8\"],[0.3333333333333333,\"#9c179e\"],[0.4444444444444444,\"#bd3786\"],[0.5555555555555556,\"#d8576b\"],[0.6666666666666666,\"#ed7953\"],[0.7777777777777778,\"#fb9f3a\"],[0.8888888888888888,\"#fdca26\"],[1.0,\"#f0f921\"]]}],\"choropleth\":[{\"type\":\"choropleth\",\"colorbar\":{\"outlinewidth\":0,\"ticks\":\"\"}}],\"histogram2d\":[{\"type\":\"histogram2d\",\"colorbar\":{\"outlinewidth\":0,\"ticks\":\"\"},\"colorscale\":[[0.0,\"#0d0887\"],[0.1111111111111111,\"#46039f\"],[0.2222222222222222,\"#7201a8\"],[0.3333333333333333,\"#9c179e\"],[0.4444444444444444,\"#bd3786\"],[0.5555555555555556,\"#d8576b\"],[0.6666666666666666,\"#ed7953\"],[0.7777777777777778,\"#fb9f3a\"],[0.8888888888888888,\"#fdca26\"],[1.0,\"#f0f921\"]]}],\"heatmap\":[{\"type\":\"heatmap\",\"colorbar\":{\"outlinewidth\":0,\"ticks\":\"\"},\"colorscale\":[[0.0,\"#0d0887\"],[0.1111111111111111,\"#46039f\"],[0.2222222222222222,\"#7201a8\"],[0.3333333333333333,\"#9c179e\"],[0.4444444444444444,\"#bd3786\"],[0.5555555555555556,\"#d8576b\"],[0.6666666666666666,\"#ed7953\"],[0.7777777777777778,\"#fb9f3a\"],[0.8888888888888888,\"#fdca26\"],[1.0,\"#f0f921\"]]}],\"heatmapgl\":[{\"type\":\"heatmapgl\",\"colorbar\":{\"outlinewidth\":0,\"ticks\":\"\"},\"colorscale\":[[0.0,\"#0d0887\"],[0.1111111111111111,\"#46039f\"],[0.2222222222222222,\"#7201a8\"],[0.3333333333333333,\"#9c179e\"],[0.4444444444444444,\"#bd3786\"],[0.5555555555555556,\"#d8576b\"],[0.6666666666666666,\"#ed7953\"],[0.7777777777777778,\"#fb9f3a\"],[0.8888888888888888,\"#fdca26\"],[1.0,\"#f0f921\"]]}],\"contourcarpet\":[{\"type\":\"contourcarpet\",\"colorbar\":{\"outlinewidth\":0,\"ticks\":\"\"}}],\"contour\":[{\"type\":\"contour\",\"colorbar\":{\"outlinewidth\":0,\"ticks\":\"\"},\"colorscale\":[[0.0,\"#0d0887\"],[0.1111111111111111,\"#46039f\"],[0.2222222222222222,\"#7201a8\"],[0.3333333333333333,\"#9c179e\"],[0.4444444444444444,\"#bd3786\"],[0.5555555555555556,\"#d8576b\"],[0.6666666666666666,\"#ed7953\"],[0.7777777777777778,\"#fb9f3a\"],[0.8888888888888888,\"#fdca26\"],[1.0,\"#f0f921\"]]}],\"surface\":[{\"type\":\"surface\",\"colorbar\":{\"outlinewidth\":0,\"ticks\":\"\"},\"colorscale\":[[0.0,\"#0d0887\"],[0.1111111111111111,\"#46039f\"],[0.2222222222222222,\"#7201a8\"],[0.3333333333333333,\"#9c179e\"],[0.4444444444444444,\"#bd3786\"],[0.5555555555555556,\"#d8576b\"],[0.6666666666666666,\"#ed7953\"],[0.7777777777777778,\"#fb9f3a\"],[0.8888888888888888,\"#fdca26\"],[1.0,\"#f0f921\"]]}],\"mesh3d\":[{\"type\":\"mesh3d\",\"colorbar\":{\"outlinewidth\":0,\"ticks\":\"\"}}],\"scatter\":[{\"fillpattern\":{\"fillmode\":\"overlay\",\"size\":10,\"solidity\":0.2},\"type\":\"scatter\"}],\"parcoords\":[{\"type\":\"parcoords\",\"line\":{\"colorbar\":{\"outlinewidth\":0,\"ticks\":\"\"}}}],\"scatterpolargl\":[{\"type\":\"scatterpolargl\",\"marker\":{\"colorbar\":{\"outlinewidth\":0,\"ticks\":\"\"}}}],\"bar\":[{\"error_x\":{\"color\":\"#2a3f5f\"},\"error_y\":{\"color\":\"#2a3f5f\"},\"marker\":{\"line\":{\"color\":\"#E5ECF6\",\"width\":0.5},\"pattern\":{\"fillmode\":\"overlay\",\"size\":10,\"solidity\":0.2}},\"type\":\"bar\"}],\"scattergeo\":[{\"type\":\"scattergeo\",\"marker\":{\"colorbar\":{\"outlinewidth\":0,\"ticks\":\"\"}}}],\"scatterpolar\":[{\"type\":\"scatterpolar\",\"marker\":{\"colorbar\":{\"outlinewidth\":0,\"ticks\":\"\"}}}],\"histogram\":[{\"marker\":{\"pattern\":{\"fillmode\":\"overlay\",\"size\":10,\"solidity\":0.2}},\"type\":\"histogram\"}],\"scattergl\":[{\"type\":\"scattergl\",\"marker\":{\"colorbar\":{\"outlinewidth\":0,\"ticks\":\"\"}}}],\"scatter3d\":[{\"type\":\"scatter3d\",\"line\":{\"colorbar\":{\"outlinewidth\":0,\"ticks\":\"\"}},\"marker\":{\"colorbar\":{\"outlinewidth\":0,\"ticks\":\"\"}}}],\"scattermapbox\":[{\"type\":\"scattermapbox\",\"marker\":{\"colorbar\":{\"outlinewidth\":0,\"ticks\":\"\"}}}],\"scatterternary\":[{\"type\":\"scatterternary\",\"marker\":{\"colorbar\":{\"outlinewidth\":0,\"ticks\":\"\"}}}],\"scattercarpet\":[{\"type\":\"scattercarpet\",\"marker\":{\"colorbar\":{\"outlinewidth\":0,\"ticks\":\"\"}}}],\"carpet\":[{\"aaxis\":{\"endlinecolor\":\"#2a3f5f\",\"gridcolor\":\"white\",\"linecolor\":\"white\",\"minorgridcolor\":\"white\",\"startlinecolor\":\"#2a3f5f\"},\"baxis\":{\"endlinecolor\":\"#2a3f5f\",\"gridcolor\":\"white\",\"linecolor\":\"white\",\"minorgridcolor\":\"white\",\"startlinecolor\":\"#2a3f5f\"},\"type\":\"carpet\"}],\"table\":[{\"cells\":{\"fill\":{\"color\":\"#EBF0F8\"},\"line\":{\"color\":\"white\"}},\"header\":{\"fill\":{\"color\":\"#C8D4E3\"},\"line\":{\"color\":\"white\"}},\"type\":\"table\"}],\"barpolar\":[{\"marker\":{\"line\":{\"color\":\"#E5ECF6\",\"width\":0.5},\"pattern\":{\"fillmode\":\"overlay\",\"size\":10,\"solidity\":0.2}},\"type\":\"barpolar\"}],\"pie\":[{\"automargin\":true,\"type\":\"pie\"}]},\"layout\":{\"autotypenumbers\":\"strict\",\"colorway\":[\"#636efa\",\"#EF553B\",\"#00cc96\",\"#ab63fa\",\"#FFA15A\",\"#19d3f3\",\"#FF6692\",\"#B6E880\",\"#FF97FF\",\"#FECB52\"],\"font\":{\"color\":\"#2a3f5f\"},\"hovermode\":\"closest\",\"hoverlabel\":{\"align\":\"left\"},\"paper_bgcolor\":\"white\",\"plot_bgcolor\":\"#E5ECF6\",\"polar\":{\"bgcolor\":\"#E5ECF6\",\"angularaxis\":{\"gridcolor\":\"white\",\"linecolor\":\"white\",\"ticks\":\"\"},\"radialaxis\":{\"gridcolor\":\"white\",\"linecolor\":\"white\",\"ticks\":\"\"}},\"ternary\":{\"bgcolor\":\"#E5ECF6\",\"aaxis\":{\"gridcolor\":\"white\",\"linecolor\":\"white\",\"ticks\":\"\"},\"baxis\":{\"gridcolor\":\"white\",\"linecolor\":\"white\",\"ticks\":\"\"},\"caxis\":{\"gridcolor\":\"white\",\"linecolor\":\"white\",\"ticks\":\"\"}},\"coloraxis\":{\"colorbar\":{\"outlinewidth\":0,\"ticks\":\"\"}},\"colorscale\":{\"sequential\":[[0.0,\"#0d0887\"],[0.1111111111111111,\"#46039f\"],[0.2222222222222222,\"#7201a8\"],[0.3333333333333333,\"#9c179e\"],[0.4444444444444444,\"#bd3786\"],[0.5555555555555556,\"#d8576b\"],[0.6666666666666666,\"#ed7953\"],[0.7777777777777778,\"#fb9f3a\"],[0.8888888888888888,\"#fdca26\"],[1.0,\"#f0f921\"]],\"sequentialminus\":[[0.0,\"#0d0887\"],[0.1111111111111111,\"#46039f\"],[0.2222222222222222,\"#7201a8\"],[0.3333333333333333,\"#9c179e\"],[0.4444444444444444,\"#bd3786\"],[0.5555555555555556,\"#d8576b\"],[0.6666666666666666,\"#ed7953\"],[0.7777777777777778,\"#fb9f3a\"],[0.8888888888888888,\"#fdca26\"],[1.0,\"#f0f921\"]],\"diverging\":[[0,\"#8e0152\"],[0.1,\"#c51b7d\"],[0.2,\"#de77ae\"],[0.3,\"#f1b6da\"],[0.4,\"#fde0ef\"],[0.5,\"#f7f7f7\"],[0.6,\"#e6f5d0\"],[0.7,\"#b8e186\"],[0.8,\"#7fbc41\"],[0.9,\"#4d9221\"],[1,\"#276419\"]]},\"xaxis\":{\"gridcolor\":\"white\",\"linecolor\":\"white\",\"ticks\":\"\",\"title\":{\"standoff\":15},\"zerolinecolor\":\"white\",\"automargin\":true,\"zerolinewidth\":2},\"yaxis\":{\"gridcolor\":\"white\",\"linecolor\":\"white\",\"ticks\":\"\",\"title\":{\"standoff\":15},\"zerolinecolor\":\"white\",\"automargin\":true,\"zerolinewidth\":2},\"scene\":{\"xaxis\":{\"backgroundcolor\":\"#E5ECF6\",\"gridcolor\":\"white\",\"linecolor\":\"white\",\"showbackground\":true,\"ticks\":\"\",\"zerolinecolor\":\"white\",\"gridwidth\":2},\"yaxis\":{\"backgroundcolor\":\"#E5ECF6\",\"gridcolor\":\"white\",\"linecolor\":\"white\",\"showbackground\":true,\"ticks\":\"\",\"zerolinecolor\":\"white\",\"gridwidth\":2},\"zaxis\":{\"backgroundcolor\":\"#E5ECF6\",\"gridcolor\":\"white\",\"linecolor\":\"white\",\"showbackground\":true,\"ticks\":\"\",\"zerolinecolor\":\"white\",\"gridwidth\":2}},\"shapedefaults\":{\"line\":{\"color\":\"#2a3f5f\"}},\"annotationdefaults\":{\"arrowcolor\":\"#2a3f5f\",\"arrowhead\":0,\"arrowwidth\":1},\"geo\":{\"bgcolor\":\"white\",\"landcolor\":\"#E5ECF6\",\"subunitcolor\":\"white\",\"showland\":true,\"showlakes\":true,\"lakecolor\":\"white\"},\"title\":{\"x\":0.05},\"mapbox\":{\"style\":\"light\"}}},\"xaxis\":{\"anchor\":\"y\",\"domain\":[0.0,1.0],\"title\":{\"text\":\"Number of Downloads\"}},\"yaxis\":{\"anchor\":\"x\",\"domain\":[0.0,1.0],\"title\":{\"text\":\"Category\"}},\"legend\":{\"tracegroupgap\":0},\"title\":{\"text\":\"Category Popularity\"},\"barmode\":\"relative\"},                        {\"responsive\": true}                    ).then(function(){\n",
              "                            \n",
              "var gd = document.getElementById('8e2893b3-a7a7-42bf-ba03-a3b0b5e1d131');\n",
              "var x = new MutationObserver(function (mutations, observer) {{\n",
              "        var display = window.getComputedStyle(gd).display;\n",
              "        if (!display || display === 'none') {{\n",
              "            console.log([gd, 'removed!']);\n",
              "            Plotly.purge(gd);\n",
              "            observer.disconnect();\n",
              "        }}\n",
              "}});\n",
              "\n",
              "// Listen for the removal of the full notebook cells\n",
              "var notebookContainer = gd.closest('#notebook-container');\n",
              "if (notebookContainer) {{\n",
              "    x.observe(notebookContainer, {childList: true});\n",
              "}}\n",
              "\n",
              "// Listen for the clearing of the current output cell\n",
              "var outputEl = gd.closest('.output');\n",
              "if (outputEl) {{\n",
              "    x.observe(outputEl, {childList: true});\n",
              "}}\n",
              "\n",
              "                        })                };                            </script>        </div>\n",
              "</body>\n",
              "</html>"
            ]
          },
          "metadata": {}
        }
      ]
    },
    {
      "cell_type": "markdown",
      "metadata": {
        "id": "Uxk24qMk8vrz"
      },
      "source": [
        "### Category Concentration - Downloads vs. Competition\n",
        "\n"
      ]
    },
    {
      "cell_type": "code",
      "metadata": {
        "id": "nBQpRX9KZriy"
      },
      "source": [
        "# DataFrame that has the number of apps in one column and the number of installs in another.\n",
        "# Count the number of apps in each category\n",
        "cat_number = df_apps_clean.groupby('Category').agg({'App': pd.Series.count})\n",
        "cat_merged_df = pd.merge(cat_number, category_installs, on='Category', how=\"inner\") #use .merge() and combine the two DataFrames.\n",
        "print(f'The dimensions of the DataFrame are: {cat_merged_df.shape}')\n",
        "cat_merged_df.sort_values('Installs', ascending=False)"
      ],
      "execution_count": null,
      "outputs": []
    },
    {
      "cell_type": "code",
      "metadata": {
        "id": "FTZ98Jii8vMa"
      },
      "source": [
        "scatter = px.scatter(cat_merged_df, # data\n",
        "                     x='App', # column name\n",
        "                     y='Installs',\n",
        "                     title='Category Concentration',\n",
        "                     size='App',\n",
        "                     hover_name=cat_merged_df.index,\n",
        "                     color='Installs'\n",
        ")\n",
        "\n",
        "scatter.update_layout(xaxis_title=\"Number of Apps (Lower=More Concentrated)\",\n",
        "                      yaxis_title=\"Installs\",\n",
        "                      yaxis=dict(type='log'))\n",
        "\n",
        "scatter.show()"
      ],
      "execution_count": null,
      "outputs": []
    },
    {
      "cell_type": "markdown",
      "source": [
        "the categories like Family, Tools, and Game have many different apps sharing a high number of downloads. But for the categories like video players and entertainment, all the downloads are concentrated in very few apps"
      ],
      "metadata": {
        "id": "01IDy8t7wLKt"
      }
    },
    {
      "cell_type": "markdown",
      "metadata": {
        "id": "dmXDF75WdiVC"
      },
      "source": [
        "# Extracting Nested Data from a Column\n",
        "\n"
      ]
    },
    {
      "cell_type": "code",
      "metadata": {
        "id": "aQC-vAc8diVC",
        "colab": {
          "base_uri": "https://localhost:8080/"
        },
        "outputId": "4b11bcba-256b-4fd0-a17c-c695e3965b41"
      },
      "source": [
        "# Number of Genres?\n",
        "len(df_apps_clean.Genres.unique())"
      ],
      "execution_count": 42,
      "outputs": [
        {
          "output_type": "execute_result",
          "data": {
            "text/plain": [
              "114"
            ]
          },
          "metadata": {},
          "execution_count": 42
        }
      ]
    },
    {
      "cell_type": "markdown",
      "source": [
        "not accurate"
      ],
      "metadata": {
        "id": "dspn7Dtuw18U"
      }
    },
    {
      "cell_type": "code",
      "metadata": {
        "id": "mLAngGRvdiVE",
        "colab": {
          "base_uri": "https://localhost:8080/"
        },
        "outputId": "7fe2986f-c99a-4a7f-a90f-4a417867b4ed"
      },
      "source": [
        "#nested data\n",
        "#using .value_counts() and looking at the values that just have a single entry.\n",
        "df_apps_clean.Genres.value_counts().sort_values(ascending=True)[:5]"
      ],
      "execution_count": null,
      "outputs": [
        {
          "output_type": "execute_result",
          "data": {
            "text/plain": [
              "Music & Audio;Music & Video    1\n",
              "Racing;Pretend Play            1\n",
              "Communication;Creativity       1\n",
              "Parenting;Brain Games          1\n",
              "Adventure;Brain Games          1\n",
              "Name: Genres, dtype: int64"
            ]
          },
          "metadata": {
            "tags": []
          },
          "execution_count": 38
        }
      ]
    },
    {
      "cell_type": "markdown",
      "source": [
        "semi-colon (;) separates the genre names."
      ],
      "metadata": {
        "id": "ixVYAXc2wtnM"
      }
    },
    {
      "cell_type": "code",
      "metadata": {
        "id": "A_kJsd_ksaM4",
        "colab": {
          "base_uri": "https://localhost:8080/"
        },
        "outputId": "3843e705-b02f-4e38-e6f9-ae6172056a2a"
      },
      "source": [
        "#to separate the genre names to get a clear picture\n",
        "# Split the strings on the semi-colon and then .stack them.\n",
        "stack = df_apps_clean.Genres.str.split(';', expand=True).stack()\n",
        "print(f'We now have a single column with shape: {stack.shape}') #add them all into a single column with .stack()\n",
        "num_genres = stack.value_counts()\n",
        "print(f'Number of genres: {len(num_genres)}')"
      ],
      "execution_count": 43,
      "outputs": [
        {
          "output_type": "stream",
          "name": "stdout",
          "text": [
            "We now have a single column with shape: (8564,)\n",
            "Number of genres: 53\n"
          ]
        }
      ]
    },
    {
      "cell_type": "markdown",
      "metadata": {
        "id": "F3zaKvfydiVI"
      },
      "source": [
        "#  Plotly Charts - Competition in Genres"
      ]
    },
    {
      "cell_type": "code",
      "metadata": {
        "id": "hxMt1vVMdiVI",
        "colab": {
          "base_uri": "https://localhost:8080/",
          "height": 542
        },
        "outputId": "6bb42a63-8a14-446a-ed9f-39b8f7ff1494"
      },
      "source": [
        "bar = px.bar(\n",
        "        x = num_genres.index[:15], # index = category name\n",
        "        y = num_genres.values[:15], # count\n",
        "        title='Top Genres',\n",
        "        hover_name=num_genres.index[:15],\n",
        "        color=num_genres.values[:15],\n",
        "        color_continuous_scale='Agsunset'\n",
        ")\n",
        "\n",
        "bar.update_layout(xaxis_title='Genre',\n",
        "                  yaxis_title='Number of Apps',\n",
        "                  coloraxis_showscale=False)\n",
        "\n",
        "bar.show()"
      ],
      "execution_count": 44,
      "outputs": [
        {
          "output_type": "display_data",
          "data": {
            "text/html": [
              "<html>\n",
              "<head><meta charset=\"utf-8\" /></head>\n",
              "<body>\n",
              "    <div>            <script src=\"https://cdnjs.cloudflare.com/ajax/libs/mathjax/2.7.5/MathJax.js?config=TeX-AMS-MML_SVG\"></script><script type=\"text/javascript\">if (window.MathJax && window.MathJax.Hub && window.MathJax.Hub.Config) {window.MathJax.Hub.Config({SVG: {font: \"STIX-Web\"}});}</script>                <script type=\"text/javascript\">window.PlotlyConfig = {MathJaxConfig: 'local'};</script>\n",
              "        <script charset=\"utf-8\" src=\"https://cdn.plot.ly/plotly-2.24.1.min.js\"></script>                <div id=\"a17147c2-b718-47cc-848c-1ffac67cb5b3\" class=\"plotly-graph-div\" style=\"height:525px; width:100%;\"></div>            <script type=\"text/javascript\">                                    window.PLOTLYENV=window.PLOTLYENV || {};                                    if (document.getElementById(\"a17147c2-b718-47cc-848c-1ffac67cb5b3\")) {                    Plotly.newPlot(                        \"a17147c2-b718-47cc-848c-1ffac67cb5b3\",                        [{\"alignmentgroup\":\"True\",\"hovertemplate\":\"\\u003cb\\u003e%{hovertext}\\u003c\\u002fb\\u003e\\u003cbr\\u003e\\u003cbr\\u003ex=%{x}\\u003cbr\\u003ey=%{y}\\u003cbr\\u003ecolor=%{marker.color}\\u003cextra\\u003e\\u003c\\u002fextra\\u003e\",\"hovertext\":[\"Tools\",\"Education\",\"Entertainment\",\"Action\",\"Productivity\",\"Personalization\",\"Lifestyle\",\"Finance\",\"Medical\",\"Sports\",\"Photography\",\"Business\",\"Communication\",\"Health & Fitness\",\"Casual\"],\"legendgroup\":\"\",\"marker\":{\"color\":[719,587,498,304,301,298,298,296,292,270,263,262,258,245,216],\"coloraxis\":\"coloraxis\",\"pattern\":{\"shape\":\"\"}},\"name\":\"\",\"offsetgroup\":\"\",\"orientation\":\"v\",\"showlegend\":false,\"textposition\":\"auto\",\"x\":[\"Tools\",\"Education\",\"Entertainment\",\"Action\",\"Productivity\",\"Personalization\",\"Lifestyle\",\"Finance\",\"Medical\",\"Sports\",\"Photography\",\"Business\",\"Communication\",\"Health & Fitness\",\"Casual\"],\"xaxis\":\"x\",\"y\":[719,587,498,304,301,298,298,296,292,270,263,262,258,245,216],\"yaxis\":\"y\",\"type\":\"bar\"}],                        {\"template\":{\"data\":{\"histogram2dcontour\":[{\"type\":\"histogram2dcontour\",\"colorbar\":{\"outlinewidth\":0,\"ticks\":\"\"},\"colorscale\":[[0.0,\"#0d0887\"],[0.1111111111111111,\"#46039f\"],[0.2222222222222222,\"#7201a8\"],[0.3333333333333333,\"#9c179e\"],[0.4444444444444444,\"#bd3786\"],[0.5555555555555556,\"#d8576b\"],[0.6666666666666666,\"#ed7953\"],[0.7777777777777778,\"#fb9f3a\"],[0.8888888888888888,\"#fdca26\"],[1.0,\"#f0f921\"]]}],\"choropleth\":[{\"type\":\"choropleth\",\"colorbar\":{\"outlinewidth\":0,\"ticks\":\"\"}}],\"histogram2d\":[{\"type\":\"histogram2d\",\"colorbar\":{\"outlinewidth\":0,\"ticks\":\"\"},\"colorscale\":[[0.0,\"#0d0887\"],[0.1111111111111111,\"#46039f\"],[0.2222222222222222,\"#7201a8\"],[0.3333333333333333,\"#9c179e\"],[0.4444444444444444,\"#bd3786\"],[0.5555555555555556,\"#d8576b\"],[0.6666666666666666,\"#ed7953\"],[0.7777777777777778,\"#fb9f3a\"],[0.8888888888888888,\"#fdca26\"],[1.0,\"#f0f921\"]]}],\"heatmap\":[{\"type\":\"heatmap\",\"colorbar\":{\"outlinewidth\":0,\"ticks\":\"\"},\"colorscale\":[[0.0,\"#0d0887\"],[0.1111111111111111,\"#46039f\"],[0.2222222222222222,\"#7201a8\"],[0.3333333333333333,\"#9c179e\"],[0.4444444444444444,\"#bd3786\"],[0.5555555555555556,\"#d8576b\"],[0.6666666666666666,\"#ed7953\"],[0.7777777777777778,\"#fb9f3a\"],[0.8888888888888888,\"#fdca26\"],[1.0,\"#f0f921\"]]}],\"heatmapgl\":[{\"type\":\"heatmapgl\",\"colorbar\":{\"outlinewidth\":0,\"ticks\":\"\"},\"colorscale\":[[0.0,\"#0d0887\"],[0.1111111111111111,\"#46039f\"],[0.2222222222222222,\"#7201a8\"],[0.3333333333333333,\"#9c179e\"],[0.4444444444444444,\"#bd3786\"],[0.5555555555555556,\"#d8576b\"],[0.6666666666666666,\"#ed7953\"],[0.7777777777777778,\"#fb9f3a\"],[0.8888888888888888,\"#fdca26\"],[1.0,\"#f0f921\"]]}],\"contourcarpet\":[{\"type\":\"contourcarpet\",\"colorbar\":{\"outlinewidth\":0,\"ticks\":\"\"}}],\"contour\":[{\"type\":\"contour\",\"colorbar\":{\"outlinewidth\":0,\"ticks\":\"\"},\"colorscale\":[[0.0,\"#0d0887\"],[0.1111111111111111,\"#46039f\"],[0.2222222222222222,\"#7201a8\"],[0.3333333333333333,\"#9c179e\"],[0.4444444444444444,\"#bd3786\"],[0.5555555555555556,\"#d8576b\"],[0.6666666666666666,\"#ed7953\"],[0.7777777777777778,\"#fb9f3a\"],[0.8888888888888888,\"#fdca26\"],[1.0,\"#f0f921\"]]}],\"surface\":[{\"type\":\"surface\",\"colorbar\":{\"outlinewidth\":0,\"ticks\":\"\"},\"colorscale\":[[0.0,\"#0d0887\"],[0.1111111111111111,\"#46039f\"],[0.2222222222222222,\"#7201a8\"],[0.3333333333333333,\"#9c179e\"],[0.4444444444444444,\"#bd3786\"],[0.5555555555555556,\"#d8576b\"],[0.6666666666666666,\"#ed7953\"],[0.7777777777777778,\"#fb9f3a\"],[0.8888888888888888,\"#fdca26\"],[1.0,\"#f0f921\"]]}],\"mesh3d\":[{\"type\":\"mesh3d\",\"colorbar\":{\"outlinewidth\":0,\"ticks\":\"\"}}],\"scatter\":[{\"fillpattern\":{\"fillmode\":\"overlay\",\"size\":10,\"solidity\":0.2},\"type\":\"scatter\"}],\"parcoords\":[{\"type\":\"parcoords\",\"line\":{\"colorbar\":{\"outlinewidth\":0,\"ticks\":\"\"}}}],\"scatterpolargl\":[{\"type\":\"scatterpolargl\",\"marker\":{\"colorbar\":{\"outlinewidth\":0,\"ticks\":\"\"}}}],\"bar\":[{\"error_x\":{\"color\":\"#2a3f5f\"},\"error_y\":{\"color\":\"#2a3f5f\"},\"marker\":{\"line\":{\"color\":\"#E5ECF6\",\"width\":0.5},\"pattern\":{\"fillmode\":\"overlay\",\"size\":10,\"solidity\":0.2}},\"type\":\"bar\"}],\"scattergeo\":[{\"type\":\"scattergeo\",\"marker\":{\"colorbar\":{\"outlinewidth\":0,\"ticks\":\"\"}}}],\"scatterpolar\":[{\"type\":\"scatterpolar\",\"marker\":{\"colorbar\":{\"outlinewidth\":0,\"ticks\":\"\"}}}],\"histogram\":[{\"marker\":{\"pattern\":{\"fillmode\":\"overlay\",\"size\":10,\"solidity\":0.2}},\"type\":\"histogram\"}],\"scattergl\":[{\"type\":\"scattergl\",\"marker\":{\"colorbar\":{\"outlinewidth\":0,\"ticks\":\"\"}}}],\"scatter3d\":[{\"type\":\"scatter3d\",\"line\":{\"colorbar\":{\"outlinewidth\":0,\"ticks\":\"\"}},\"marker\":{\"colorbar\":{\"outlinewidth\":0,\"ticks\":\"\"}}}],\"scattermapbox\":[{\"type\":\"scattermapbox\",\"marker\":{\"colorbar\":{\"outlinewidth\":0,\"ticks\":\"\"}}}],\"scatterternary\":[{\"type\":\"scatterternary\",\"marker\":{\"colorbar\":{\"outlinewidth\":0,\"ticks\":\"\"}}}],\"scattercarpet\":[{\"type\":\"scattercarpet\",\"marker\":{\"colorbar\":{\"outlinewidth\":0,\"ticks\":\"\"}}}],\"carpet\":[{\"aaxis\":{\"endlinecolor\":\"#2a3f5f\",\"gridcolor\":\"white\",\"linecolor\":\"white\",\"minorgridcolor\":\"white\",\"startlinecolor\":\"#2a3f5f\"},\"baxis\":{\"endlinecolor\":\"#2a3f5f\",\"gridcolor\":\"white\",\"linecolor\":\"white\",\"minorgridcolor\":\"white\",\"startlinecolor\":\"#2a3f5f\"},\"type\":\"carpet\"}],\"table\":[{\"cells\":{\"fill\":{\"color\":\"#EBF0F8\"},\"line\":{\"color\":\"white\"}},\"header\":{\"fill\":{\"color\":\"#C8D4E3\"},\"line\":{\"color\":\"white\"}},\"type\":\"table\"}],\"barpolar\":[{\"marker\":{\"line\":{\"color\":\"#E5ECF6\",\"width\":0.5},\"pattern\":{\"fillmode\":\"overlay\",\"size\":10,\"solidity\":0.2}},\"type\":\"barpolar\"}],\"pie\":[{\"automargin\":true,\"type\":\"pie\"}]},\"layout\":{\"autotypenumbers\":\"strict\",\"colorway\":[\"#636efa\",\"#EF553B\",\"#00cc96\",\"#ab63fa\",\"#FFA15A\",\"#19d3f3\",\"#FF6692\",\"#B6E880\",\"#FF97FF\",\"#FECB52\"],\"font\":{\"color\":\"#2a3f5f\"},\"hovermode\":\"closest\",\"hoverlabel\":{\"align\":\"left\"},\"paper_bgcolor\":\"white\",\"plot_bgcolor\":\"#E5ECF6\",\"polar\":{\"bgcolor\":\"#E5ECF6\",\"angularaxis\":{\"gridcolor\":\"white\",\"linecolor\":\"white\",\"ticks\":\"\"},\"radialaxis\":{\"gridcolor\":\"white\",\"linecolor\":\"white\",\"ticks\":\"\"}},\"ternary\":{\"bgcolor\":\"#E5ECF6\",\"aaxis\":{\"gridcolor\":\"white\",\"linecolor\":\"white\",\"ticks\":\"\"},\"baxis\":{\"gridcolor\":\"white\",\"linecolor\":\"white\",\"ticks\":\"\"},\"caxis\":{\"gridcolor\":\"white\",\"linecolor\":\"white\",\"ticks\":\"\"}},\"coloraxis\":{\"colorbar\":{\"outlinewidth\":0,\"ticks\":\"\"}},\"colorscale\":{\"sequential\":[[0.0,\"#0d0887\"],[0.1111111111111111,\"#46039f\"],[0.2222222222222222,\"#7201a8\"],[0.3333333333333333,\"#9c179e\"],[0.4444444444444444,\"#bd3786\"],[0.5555555555555556,\"#d8576b\"],[0.6666666666666666,\"#ed7953\"],[0.7777777777777778,\"#fb9f3a\"],[0.8888888888888888,\"#fdca26\"],[1.0,\"#f0f921\"]],\"sequentialminus\":[[0.0,\"#0d0887\"],[0.1111111111111111,\"#46039f\"],[0.2222222222222222,\"#7201a8\"],[0.3333333333333333,\"#9c179e\"],[0.4444444444444444,\"#bd3786\"],[0.5555555555555556,\"#d8576b\"],[0.6666666666666666,\"#ed7953\"],[0.7777777777777778,\"#fb9f3a\"],[0.8888888888888888,\"#fdca26\"],[1.0,\"#f0f921\"]],\"diverging\":[[0,\"#8e0152\"],[0.1,\"#c51b7d\"],[0.2,\"#de77ae\"],[0.3,\"#f1b6da\"],[0.4,\"#fde0ef\"],[0.5,\"#f7f7f7\"],[0.6,\"#e6f5d0\"],[0.7,\"#b8e186\"],[0.8,\"#7fbc41\"],[0.9,\"#4d9221\"],[1,\"#276419\"]]},\"xaxis\":{\"gridcolor\":\"white\",\"linecolor\":\"white\",\"ticks\":\"\",\"title\":{\"standoff\":15},\"zerolinecolor\":\"white\",\"automargin\":true,\"zerolinewidth\":2},\"yaxis\":{\"gridcolor\":\"white\",\"linecolor\":\"white\",\"ticks\":\"\",\"title\":{\"standoff\":15},\"zerolinecolor\":\"white\",\"automargin\":true,\"zerolinewidth\":2},\"scene\":{\"xaxis\":{\"backgroundcolor\":\"#E5ECF6\",\"gridcolor\":\"white\",\"linecolor\":\"white\",\"showbackground\":true,\"ticks\":\"\",\"zerolinecolor\":\"white\",\"gridwidth\":2},\"yaxis\":{\"backgroundcolor\":\"#E5ECF6\",\"gridcolor\":\"white\",\"linecolor\":\"white\",\"showbackground\":true,\"ticks\":\"\",\"zerolinecolor\":\"white\",\"gridwidth\":2},\"zaxis\":{\"backgroundcolor\":\"#E5ECF6\",\"gridcolor\":\"white\",\"linecolor\":\"white\",\"showbackground\":true,\"ticks\":\"\",\"zerolinecolor\":\"white\",\"gridwidth\":2}},\"shapedefaults\":{\"line\":{\"color\":\"#2a3f5f\"}},\"annotationdefaults\":{\"arrowcolor\":\"#2a3f5f\",\"arrowhead\":0,\"arrowwidth\":1},\"geo\":{\"bgcolor\":\"white\",\"landcolor\":\"#E5ECF6\",\"subunitcolor\":\"white\",\"showland\":true,\"showlakes\":true,\"lakecolor\":\"white\"},\"title\":{\"x\":0.05},\"mapbox\":{\"style\":\"light\"}}},\"xaxis\":{\"anchor\":\"y\",\"domain\":[0.0,1.0],\"title\":{\"text\":\"Genre\"}},\"yaxis\":{\"anchor\":\"x\",\"domain\":[0.0,1.0],\"title\":{\"text\":\"Number of Apps\"}},\"coloraxis\":{\"colorbar\":{\"title\":{\"text\":\"color\"}},\"colorscale\":[[0.0,\"rgb(75, 41, 145)\"],[0.16666666666666666,\"rgb(135, 44, 162)\"],[0.3333333333333333,\"rgb(192, 54, 157)\"],[0.5,\"rgb(234, 79, 136)\"],[0.6666666666666666,\"rgb(250, 120, 118)\"],[0.8333333333333334,\"rgb(246, 169, 122)\"],[1.0,\"rgb(237, 217, 163)\"]],\"showscale\":false},\"legend\":{\"tracegroupgap\":0},\"title\":{\"text\":\"Top Genres\"},\"barmode\":\"relative\"},                        {\"responsive\": true}                    ).then(function(){\n",
              "                            \n",
              "var gd = document.getElementById('a17147c2-b718-47cc-848c-1ffac67cb5b3');\n",
              "var x = new MutationObserver(function (mutations, observer) {{\n",
              "        var display = window.getComputedStyle(gd).display;\n",
              "        if (!display || display === 'none') {{\n",
              "            console.log([gd, 'removed!']);\n",
              "            Plotly.purge(gd);\n",
              "            observer.disconnect();\n",
              "        }}\n",
              "}});\n",
              "\n",
              "// Listen for the removal of the full notebook cells\n",
              "var notebookContainer = gd.closest('#notebook-container');\n",
              "if (notebookContainer) {{\n",
              "    x.observe(notebookContainer, {childList: true});\n",
              "}}\n",
              "\n",
              "// Listen for the clearing of the current output cell\n",
              "var outputEl = gd.closest('.output');\n",
              "if (outputEl) {{\n",
              "    x.observe(outputEl, {childList: true});\n",
              "}}\n",
              "\n",
              "                        })                };                            </script>        </div>\n",
              "</body>\n",
              "</html>"
            ]
          },
          "metadata": {}
        }
      ]
    },
    {
      "cell_type": "markdown",
      "metadata": {
        "id": "BIWG_10PyIzL"
      },
      "source": [
        "# Grouped Bar Charts: Free vs. Paid Apps per Category"
      ]
    },
    {
      "cell_type": "code",
      "metadata": {
        "id": "POYaWPP7yTk7",
        "colab": {
          "base_uri": "https://localhost:8080/"
        },
        "outputId": "bcb2d49a-bf2d-41b6-8dc8-01f24b90d9a2"
      },
      "source": [
        "df_apps_clean.Type.value_counts()"
      ],
      "execution_count": 45,
      "outputs": [
        {
          "output_type": "execute_result",
          "data": {
            "text/plain": [
              "Free    7595\n",
              "Paid     589\n",
              "Name: Type, dtype: int64"
            ]
          },
          "metadata": {},
          "execution_count": 45
        }
      ]
    },
    {
      "cell_type": "code",
      "metadata": {
        "id": "bkYlkonDyTnU",
        "colab": {
          "base_uri": "https://localhost:8080/",
          "height": 424
        },
        "outputId": "255f9dd7-7f60-4cdd-a542-52e1cf8dd423"
      },
      "source": [
        "#group  data first by Category and then by Type.\n",
        "# add up the number of apps per each type.\n",
        "#Using as_index=False, push all the data into columns rather than end up with  Categories as the index.\n",
        "df_free_vs_paid = df_apps_clean.groupby([\"Category\", \"Type\"],\n",
        "                                      as_index=False).agg({'App': pd.Series.count})\n",
        "df_free_vs_paid.sort_values('App')"
      ],
      "execution_count": 46,
      "outputs": [
        {
          "output_type": "execute_result",
          "data": {
            "text/plain": [
              "              Category  Type   App\n",
              "3    AUTO_AND_VEHICLES  Paid     1\n",
              "24      FOOD_AND_DRINK  Paid     2\n",
              "38  NEWS_AND_MAGAZINES  Paid     2\n",
              "40           PARENTING  Paid     2\n",
              "17       ENTERTAINMENT  Paid     2\n",
              "..                 ...   ...   ...\n",
              "31           LIFESTYLE  Free   284\n",
              "21             FINANCE  Free   289\n",
              "53               TOOLS  Free   656\n",
              "25                GAME  Free   834\n",
              "19              FAMILY  Free  1456\n",
              "\n",
              "[61 rows x 3 columns]"
            ],
            "text/html": [
              "\n",
              "  <div id=\"df-0415e1dd-5e64-4751-b9fc-499d778f7914\" class=\"colab-df-container\">\n",
              "    <div>\n",
              "<style scoped>\n",
              "    .dataframe tbody tr th:only-of-type {\n",
              "        vertical-align: middle;\n",
              "    }\n",
              "\n",
              "    .dataframe tbody tr th {\n",
              "        vertical-align: top;\n",
              "    }\n",
              "\n",
              "    .dataframe thead th {\n",
              "        text-align: right;\n",
              "    }\n",
              "</style>\n",
              "<table border=\"1\" class=\"dataframe\">\n",
              "  <thead>\n",
              "    <tr style=\"text-align: right;\">\n",
              "      <th></th>\n",
              "      <th>Category</th>\n",
              "      <th>Type</th>\n",
              "      <th>App</th>\n",
              "    </tr>\n",
              "  </thead>\n",
              "  <tbody>\n",
              "    <tr>\n",
              "      <th>3</th>\n",
              "      <td>AUTO_AND_VEHICLES</td>\n",
              "      <td>Paid</td>\n",
              "      <td>1</td>\n",
              "    </tr>\n",
              "    <tr>\n",
              "      <th>24</th>\n",
              "      <td>FOOD_AND_DRINK</td>\n",
              "      <td>Paid</td>\n",
              "      <td>2</td>\n",
              "    </tr>\n",
              "    <tr>\n",
              "      <th>38</th>\n",
              "      <td>NEWS_AND_MAGAZINES</td>\n",
              "      <td>Paid</td>\n",
              "      <td>2</td>\n",
              "    </tr>\n",
              "    <tr>\n",
              "      <th>40</th>\n",
              "      <td>PARENTING</td>\n",
              "      <td>Paid</td>\n",
              "      <td>2</td>\n",
              "    </tr>\n",
              "    <tr>\n",
              "      <th>17</th>\n",
              "      <td>ENTERTAINMENT</td>\n",
              "      <td>Paid</td>\n",
              "      <td>2</td>\n",
              "    </tr>\n",
              "    <tr>\n",
              "      <th>...</th>\n",
              "      <td>...</td>\n",
              "      <td>...</td>\n",
              "      <td>...</td>\n",
              "    </tr>\n",
              "    <tr>\n",
              "      <th>31</th>\n",
              "      <td>LIFESTYLE</td>\n",
              "      <td>Free</td>\n",
              "      <td>284</td>\n",
              "    </tr>\n",
              "    <tr>\n",
              "      <th>21</th>\n",
              "      <td>FINANCE</td>\n",
              "      <td>Free</td>\n",
              "      <td>289</td>\n",
              "    </tr>\n",
              "    <tr>\n",
              "      <th>53</th>\n",
              "      <td>TOOLS</td>\n",
              "      <td>Free</td>\n",
              "      <td>656</td>\n",
              "    </tr>\n",
              "    <tr>\n",
              "      <th>25</th>\n",
              "      <td>GAME</td>\n",
              "      <td>Free</td>\n",
              "      <td>834</td>\n",
              "    </tr>\n",
              "    <tr>\n",
              "      <th>19</th>\n",
              "      <td>FAMILY</td>\n",
              "      <td>Free</td>\n",
              "      <td>1456</td>\n",
              "    </tr>\n",
              "  </tbody>\n",
              "</table>\n",
              "<p>61 rows × 3 columns</p>\n",
              "</div>\n",
              "    <div class=\"colab-df-buttons\">\n",
              "\n",
              "  <div class=\"colab-df-container\">\n",
              "    <button class=\"colab-df-convert\" onclick=\"convertToInteractive('df-0415e1dd-5e64-4751-b9fc-499d778f7914')\"\n",
              "            title=\"Convert this dataframe to an interactive table.\"\n",
              "            style=\"display:none;\">\n",
              "\n",
              "  <svg xmlns=\"http://www.w3.org/2000/svg\" height=\"24px\" viewBox=\"0 -960 960 960\">\n",
              "    <path d=\"M120-120v-720h720v720H120Zm60-500h600v-160H180v160Zm220 220h160v-160H400v160Zm0 220h160v-160H400v160ZM180-400h160v-160H180v160Zm440 0h160v-160H620v160ZM180-180h160v-160H180v160Zm440 0h160v-160H620v160Z\"/>\n",
              "  </svg>\n",
              "    </button>\n",
              "\n",
              "  <style>\n",
              "    .colab-df-container {\n",
              "      display:flex;\n",
              "      gap: 12px;\n",
              "    }\n",
              "\n",
              "    .colab-df-convert {\n",
              "      background-color: #E8F0FE;\n",
              "      border: none;\n",
              "      border-radius: 50%;\n",
              "      cursor: pointer;\n",
              "      display: none;\n",
              "      fill: #1967D2;\n",
              "      height: 32px;\n",
              "      padding: 0 0 0 0;\n",
              "      width: 32px;\n",
              "    }\n",
              "\n",
              "    .colab-df-convert:hover {\n",
              "      background-color: #E2EBFA;\n",
              "      box-shadow: 0px 1px 2px rgba(60, 64, 67, 0.3), 0px 1px 3px 1px rgba(60, 64, 67, 0.15);\n",
              "      fill: #174EA6;\n",
              "    }\n",
              "\n",
              "    .colab-df-buttons div {\n",
              "      margin-bottom: 4px;\n",
              "    }\n",
              "\n",
              "    [theme=dark] .colab-df-convert {\n",
              "      background-color: #3B4455;\n",
              "      fill: #D2E3FC;\n",
              "    }\n",
              "\n",
              "    [theme=dark] .colab-df-convert:hover {\n",
              "      background-color: #434B5C;\n",
              "      box-shadow: 0px 1px 3px 1px rgba(0, 0, 0, 0.15);\n",
              "      filter: drop-shadow(0px 1px 2px rgba(0, 0, 0, 0.3));\n",
              "      fill: #FFFFFF;\n",
              "    }\n",
              "  </style>\n",
              "\n",
              "    <script>\n",
              "      const buttonEl =\n",
              "        document.querySelector('#df-0415e1dd-5e64-4751-b9fc-499d778f7914 button.colab-df-convert');\n",
              "      buttonEl.style.display =\n",
              "        google.colab.kernel.accessAllowed ? 'block' : 'none';\n",
              "\n",
              "      async function convertToInteractive(key) {\n",
              "        const element = document.querySelector('#df-0415e1dd-5e64-4751-b9fc-499d778f7914');\n",
              "        const dataTable =\n",
              "          await google.colab.kernel.invokeFunction('convertToInteractive',\n",
              "                                                    [key], {});\n",
              "        if (!dataTable) return;\n",
              "\n",
              "        const docLinkHtml = 'Like what you see? Visit the ' +\n",
              "          '<a target=\"_blank\" href=https://colab.research.google.com/notebooks/data_table.ipynb>data table notebook</a>'\n",
              "          + ' to learn more about interactive tables.';\n",
              "        element.innerHTML = '';\n",
              "        dataTable['output_type'] = 'display_data';\n",
              "        await google.colab.output.renderOutput(dataTable, element);\n",
              "        const docLink = document.createElement('div');\n",
              "        docLink.innerHTML = docLinkHtml;\n",
              "        element.appendChild(docLink);\n",
              "      }\n",
              "    </script>\n",
              "  </div>\n",
              "\n",
              "\n",
              "<div id=\"df-12eff905-9d87-4dea-9127-0b964542471b\">\n",
              "  <button class=\"colab-df-quickchart\" onclick=\"quickchart('df-12eff905-9d87-4dea-9127-0b964542471b')\"\n",
              "            title=\"Suggest charts\"\n",
              "            style=\"display:none;\">\n",
              "\n",
              "<svg xmlns=\"http://www.w3.org/2000/svg\" height=\"24px\"viewBox=\"0 0 24 24\"\n",
              "     width=\"24px\">\n",
              "    <g>\n",
              "        <path d=\"M19 3H5c-1.1 0-2 .9-2 2v14c0 1.1.9 2 2 2h14c1.1 0 2-.9 2-2V5c0-1.1-.9-2-2-2zM9 17H7v-7h2v7zm4 0h-2V7h2v10zm4 0h-2v-4h2v4z\"/>\n",
              "    </g>\n",
              "</svg>\n",
              "  </button>\n",
              "\n",
              "<style>\n",
              "  .colab-df-quickchart {\n",
              "      --bg-color: #E8F0FE;\n",
              "      --fill-color: #1967D2;\n",
              "      --hover-bg-color: #E2EBFA;\n",
              "      --hover-fill-color: #174EA6;\n",
              "      --disabled-fill-color: #AAA;\n",
              "      --disabled-bg-color: #DDD;\n",
              "  }\n",
              "\n",
              "  [theme=dark] .colab-df-quickchart {\n",
              "      --bg-color: #3B4455;\n",
              "      --fill-color: #D2E3FC;\n",
              "      --hover-bg-color: #434B5C;\n",
              "      --hover-fill-color: #FFFFFF;\n",
              "      --disabled-bg-color: #3B4455;\n",
              "      --disabled-fill-color: #666;\n",
              "  }\n",
              "\n",
              "  .colab-df-quickchart {\n",
              "    background-color: var(--bg-color);\n",
              "    border: none;\n",
              "    border-radius: 50%;\n",
              "    cursor: pointer;\n",
              "    display: none;\n",
              "    fill: var(--fill-color);\n",
              "    height: 32px;\n",
              "    padding: 0;\n",
              "    width: 32px;\n",
              "  }\n",
              "\n",
              "  .colab-df-quickchart:hover {\n",
              "    background-color: var(--hover-bg-color);\n",
              "    box-shadow: 0 1px 2px rgba(60, 64, 67, 0.3), 0 1px 3px 1px rgba(60, 64, 67, 0.15);\n",
              "    fill: var(--button-hover-fill-color);\n",
              "  }\n",
              "\n",
              "  .colab-df-quickchart-complete:disabled,\n",
              "  .colab-df-quickchart-complete:disabled:hover {\n",
              "    background-color: var(--disabled-bg-color);\n",
              "    fill: var(--disabled-fill-color);\n",
              "    box-shadow: none;\n",
              "  }\n",
              "\n",
              "  .colab-df-spinner {\n",
              "    border: 2px solid var(--fill-color);\n",
              "    border-color: transparent;\n",
              "    border-bottom-color: var(--fill-color);\n",
              "    animation:\n",
              "      spin 1s steps(1) infinite;\n",
              "  }\n",
              "\n",
              "  @keyframes spin {\n",
              "    0% {\n",
              "      border-color: transparent;\n",
              "      border-bottom-color: var(--fill-color);\n",
              "      border-left-color: var(--fill-color);\n",
              "    }\n",
              "    20% {\n",
              "      border-color: transparent;\n",
              "      border-left-color: var(--fill-color);\n",
              "      border-top-color: var(--fill-color);\n",
              "    }\n",
              "    30% {\n",
              "      border-color: transparent;\n",
              "      border-left-color: var(--fill-color);\n",
              "      border-top-color: var(--fill-color);\n",
              "      border-right-color: var(--fill-color);\n",
              "    }\n",
              "    40% {\n",
              "      border-color: transparent;\n",
              "      border-right-color: var(--fill-color);\n",
              "      border-top-color: var(--fill-color);\n",
              "    }\n",
              "    60% {\n",
              "      border-color: transparent;\n",
              "      border-right-color: var(--fill-color);\n",
              "    }\n",
              "    80% {\n",
              "      border-color: transparent;\n",
              "      border-right-color: var(--fill-color);\n",
              "      border-bottom-color: var(--fill-color);\n",
              "    }\n",
              "    90% {\n",
              "      border-color: transparent;\n",
              "      border-bottom-color: var(--fill-color);\n",
              "    }\n",
              "  }\n",
              "</style>\n",
              "\n",
              "  <script>\n",
              "    async function quickchart(key) {\n",
              "      const quickchartButtonEl =\n",
              "        document.querySelector('#' + key + ' button');\n",
              "      quickchartButtonEl.disabled = true;  // To prevent multiple clicks.\n",
              "      quickchartButtonEl.classList.add('colab-df-spinner');\n",
              "      try {\n",
              "        const charts = await google.colab.kernel.invokeFunction(\n",
              "            'suggestCharts', [key], {});\n",
              "      } catch (error) {\n",
              "        console.error('Error during call to suggestCharts:', error);\n",
              "      }\n",
              "      quickchartButtonEl.classList.remove('colab-df-spinner');\n",
              "      quickchartButtonEl.classList.add('colab-df-quickchart-complete');\n",
              "    }\n",
              "    (() => {\n",
              "      let quickchartButtonEl =\n",
              "        document.querySelector('#df-12eff905-9d87-4dea-9127-0b964542471b button');\n",
              "      quickchartButtonEl.style.display =\n",
              "        google.colab.kernel.accessAllowed ? 'block' : 'none';\n",
              "    })();\n",
              "  </script>\n",
              "</div>\n",
              "\n",
              "    </div>\n",
              "  </div>\n"
            ]
          },
          "metadata": {},
          "execution_count": 46
        }
      ]
    },
    {
      "cell_type": "code",
      "metadata": {
        "id": "cOFILc2oyTp-",
        "colab": {
          "base_uri": "https://localhost:8080/",
          "height": 542
        },
        "outputId": "187c5a3c-ab7f-42aa-b986-c3aa671632e7"
      },
      "source": [
        "g_bar = px.bar(df_free_vs_paid,\n",
        "               x='Category',\n",
        "               y='App',\n",
        "               title='Free vs Paid Apps by Category',\n",
        "               color='Type',\n",
        "               barmode='group',)\n",
        "\n",
        "# pass a dictionary to the axis parameter in .update_layout()\n",
        "g_bar.update_layout(xaxis_title='Category',\n",
        "                    yaxis_title='Number of Apps',\n",
        "                    xaxis={'categoryorder':'total descending'},\n",
        "                    yaxis=dict(type='log'),\n",
        "                    )\n",
        "\n",
        "g_bar.show()"
      ],
      "execution_count": 47,
      "outputs": [
        {
          "output_type": "display_data",
          "data": {
            "text/html": [
              "<html>\n",
              "<head><meta charset=\"utf-8\" /></head>\n",
              "<body>\n",
              "    <div>            <script src=\"https://cdnjs.cloudflare.com/ajax/libs/mathjax/2.7.5/MathJax.js?config=TeX-AMS-MML_SVG\"></script><script type=\"text/javascript\">if (window.MathJax && window.MathJax.Hub && window.MathJax.Hub.Config) {window.MathJax.Hub.Config({SVG: {font: \"STIX-Web\"}});}</script>                <script type=\"text/javascript\">window.PlotlyConfig = {MathJaxConfig: 'local'};</script>\n",
              "        <script charset=\"utf-8\" src=\"https://cdn.plot.ly/plotly-2.24.1.min.js\"></script>                <div id=\"ee11f648-f446-45ef-a4d7-40959cd1e826\" class=\"plotly-graph-div\" style=\"height:525px; width:100%;\"></div>            <script type=\"text/javascript\">                                    window.PLOTLYENV=window.PLOTLYENV || {};                                    if (document.getElementById(\"ee11f648-f446-45ef-a4d7-40959cd1e826\")) {                    Plotly.newPlot(                        \"ee11f648-f446-45ef-a4d7-40959cd1e826\",                        [{\"alignmentgroup\":\"True\",\"hovertemplate\":\"Type=Free\\u003cbr\\u003eCategory=%{x}\\u003cbr\\u003eApp=%{y}\\u003cextra\\u003e\\u003c\\u002fextra\\u003e\",\"legendgroup\":\"Free\",\"marker\":{\"color\":\"#636efa\",\"pattern\":{\"shape\":\"\"}},\"name\":\"Free\",\"offsetgroup\":\"Free\",\"orientation\":\"v\",\"showlegend\":true,\"textposition\":\"auto\",\"x\":[\"ART_AND_DESIGN\",\"AUTO_AND_VEHICLES\",\"BEAUTY\",\"BOOKS_AND_REFERENCE\",\"BUSINESS\",\"COMICS\",\"COMMUNICATION\",\"DATING\",\"EDUCATION\",\"ENTERTAINMENT\",\"EVENTS\",\"FAMILY\",\"FINANCE\",\"FOOD_AND_DRINK\",\"GAME\",\"HEALTH_AND_FITNESS\",\"HOUSE_AND_HOME\",\"LIBRARIES_AND_DEMO\",\"LIFESTYLE\",\"MAPS_AND_NAVIGATION\",\"MEDICAL\",\"NEWS_AND_MAGAZINES\",\"PARENTING\",\"PERSONALIZATION\",\"PHOTOGRAPHY\",\"PRODUCTIVITY\",\"SHOPPING\",\"SOCIAL\",\"SPORTS\",\"TOOLS\",\"TRAVEL_AND_LOCAL\",\"VIDEO_PLAYERS\",\"WEATHER\"],\"xaxis\":\"x\",\"y\":[58,72,42,161,253,54,235,131,114,100,45,1456,289,92,834,232,62,64,284,113,229,202,48,233,248,283,178,201,238,656,179,144,65],\"yaxis\":\"y\",\"type\":\"bar\"},{\"alignmentgroup\":\"True\",\"hovertemplate\":\"Type=Paid\\u003cbr\\u003eCategory=%{x}\\u003cbr\\u003eApp=%{y}\\u003cextra\\u003e\\u003c\\u002fextra\\u003e\",\"legendgroup\":\"Paid\",\"marker\":{\"color\":\"#EF553B\",\"pattern\":{\"shape\":\"\"}},\"name\":\"Paid\",\"offsetgroup\":\"Paid\",\"orientation\":\"v\",\"showlegend\":true,\"textposition\":\"auto\",\"x\":[\"ART_AND_DESIGN\",\"AUTO_AND_VEHICLES\",\"BOOKS_AND_REFERENCE\",\"BUSINESS\",\"COMMUNICATION\",\"DATING\",\"EDUCATION\",\"ENTERTAINMENT\",\"FAMILY\",\"FINANCE\",\"FOOD_AND_DRINK\",\"GAME\",\"HEALTH_AND_FITNESS\",\"LIFESTYLE\",\"MAPS_AND_NAVIGATION\",\"MEDICAL\",\"NEWS_AND_MAGAZINES\",\"PARENTING\",\"PERSONALIZATION\",\"PHOTOGRAPHY\",\"PRODUCTIVITY\",\"SHOPPING\",\"SOCIAL\",\"SPORTS\",\"TOOLS\",\"TRAVEL_AND_LOCAL\",\"VIDEO_PLAYERS\",\"WEATHER\"],\"xaxis\":\"x\",\"y\":[3,1,8,9,22,3,4,2,150,7,2,76,11,13,5,63,2,2,65,15,18,2,2,22,63,8,4,7],\"yaxis\":\"y\",\"type\":\"bar\"}],                        {\"template\":{\"data\":{\"histogram2dcontour\":[{\"type\":\"histogram2dcontour\",\"colorbar\":{\"outlinewidth\":0,\"ticks\":\"\"},\"colorscale\":[[0.0,\"#0d0887\"],[0.1111111111111111,\"#46039f\"],[0.2222222222222222,\"#7201a8\"],[0.3333333333333333,\"#9c179e\"],[0.4444444444444444,\"#bd3786\"],[0.5555555555555556,\"#d8576b\"],[0.6666666666666666,\"#ed7953\"],[0.7777777777777778,\"#fb9f3a\"],[0.8888888888888888,\"#fdca26\"],[1.0,\"#f0f921\"]]}],\"choropleth\":[{\"type\":\"choropleth\",\"colorbar\":{\"outlinewidth\":0,\"ticks\":\"\"}}],\"histogram2d\":[{\"type\":\"histogram2d\",\"colorbar\":{\"outlinewidth\":0,\"ticks\":\"\"},\"colorscale\":[[0.0,\"#0d0887\"],[0.1111111111111111,\"#46039f\"],[0.2222222222222222,\"#7201a8\"],[0.3333333333333333,\"#9c179e\"],[0.4444444444444444,\"#bd3786\"],[0.5555555555555556,\"#d8576b\"],[0.6666666666666666,\"#ed7953\"],[0.7777777777777778,\"#fb9f3a\"],[0.8888888888888888,\"#fdca26\"],[1.0,\"#f0f921\"]]}],\"heatmap\":[{\"type\":\"heatmap\",\"colorbar\":{\"outlinewidth\":0,\"ticks\":\"\"},\"colorscale\":[[0.0,\"#0d0887\"],[0.1111111111111111,\"#46039f\"],[0.2222222222222222,\"#7201a8\"],[0.3333333333333333,\"#9c179e\"],[0.4444444444444444,\"#bd3786\"],[0.5555555555555556,\"#d8576b\"],[0.6666666666666666,\"#ed7953\"],[0.7777777777777778,\"#fb9f3a\"],[0.8888888888888888,\"#fdca26\"],[1.0,\"#f0f921\"]]}],\"heatmapgl\":[{\"type\":\"heatmapgl\",\"colorbar\":{\"outlinewidth\":0,\"ticks\":\"\"},\"colorscale\":[[0.0,\"#0d0887\"],[0.1111111111111111,\"#46039f\"],[0.2222222222222222,\"#7201a8\"],[0.3333333333333333,\"#9c179e\"],[0.4444444444444444,\"#bd3786\"],[0.5555555555555556,\"#d8576b\"],[0.6666666666666666,\"#ed7953\"],[0.7777777777777778,\"#fb9f3a\"],[0.8888888888888888,\"#fdca26\"],[1.0,\"#f0f921\"]]}],\"contourcarpet\":[{\"type\":\"contourcarpet\",\"colorbar\":{\"outlinewidth\":0,\"ticks\":\"\"}}],\"contour\":[{\"type\":\"contour\",\"colorbar\":{\"outlinewidth\":0,\"ticks\":\"\"},\"colorscale\":[[0.0,\"#0d0887\"],[0.1111111111111111,\"#46039f\"],[0.2222222222222222,\"#7201a8\"],[0.3333333333333333,\"#9c179e\"],[0.4444444444444444,\"#bd3786\"],[0.5555555555555556,\"#d8576b\"],[0.6666666666666666,\"#ed7953\"],[0.7777777777777778,\"#fb9f3a\"],[0.8888888888888888,\"#fdca26\"],[1.0,\"#f0f921\"]]}],\"surface\":[{\"type\":\"surface\",\"colorbar\":{\"outlinewidth\":0,\"ticks\":\"\"},\"colorscale\":[[0.0,\"#0d0887\"],[0.1111111111111111,\"#46039f\"],[0.2222222222222222,\"#7201a8\"],[0.3333333333333333,\"#9c179e\"],[0.4444444444444444,\"#bd3786\"],[0.5555555555555556,\"#d8576b\"],[0.6666666666666666,\"#ed7953\"],[0.7777777777777778,\"#fb9f3a\"],[0.8888888888888888,\"#fdca26\"],[1.0,\"#f0f921\"]]}],\"mesh3d\":[{\"type\":\"mesh3d\",\"colorbar\":{\"outlinewidth\":0,\"ticks\":\"\"}}],\"scatter\":[{\"fillpattern\":{\"fillmode\":\"overlay\",\"size\":10,\"solidity\":0.2},\"type\":\"scatter\"}],\"parcoords\":[{\"type\":\"parcoords\",\"line\":{\"colorbar\":{\"outlinewidth\":0,\"ticks\":\"\"}}}],\"scatterpolargl\":[{\"type\":\"scatterpolargl\",\"marker\":{\"colorbar\":{\"outlinewidth\":0,\"ticks\":\"\"}}}],\"bar\":[{\"error_x\":{\"color\":\"#2a3f5f\"},\"error_y\":{\"color\":\"#2a3f5f\"},\"marker\":{\"line\":{\"color\":\"#E5ECF6\",\"width\":0.5},\"pattern\":{\"fillmode\":\"overlay\",\"size\":10,\"solidity\":0.2}},\"type\":\"bar\"}],\"scattergeo\":[{\"type\":\"scattergeo\",\"marker\":{\"colorbar\":{\"outlinewidth\":0,\"ticks\":\"\"}}}],\"scatterpolar\":[{\"type\":\"scatterpolar\",\"marker\":{\"colorbar\":{\"outlinewidth\":0,\"ticks\":\"\"}}}],\"histogram\":[{\"marker\":{\"pattern\":{\"fillmode\":\"overlay\",\"size\":10,\"solidity\":0.2}},\"type\":\"histogram\"}],\"scattergl\":[{\"type\":\"scattergl\",\"marker\":{\"colorbar\":{\"outlinewidth\":0,\"ticks\":\"\"}}}],\"scatter3d\":[{\"type\":\"scatter3d\",\"line\":{\"colorbar\":{\"outlinewidth\":0,\"ticks\":\"\"}},\"marker\":{\"colorbar\":{\"outlinewidth\":0,\"ticks\":\"\"}}}],\"scattermapbox\":[{\"type\":\"scattermapbox\",\"marker\":{\"colorbar\":{\"outlinewidth\":0,\"ticks\":\"\"}}}],\"scatterternary\":[{\"type\":\"scatterternary\",\"marker\":{\"colorbar\":{\"outlinewidth\":0,\"ticks\":\"\"}}}],\"scattercarpet\":[{\"type\":\"scattercarpet\",\"marker\":{\"colorbar\":{\"outlinewidth\":0,\"ticks\":\"\"}}}],\"carpet\":[{\"aaxis\":{\"endlinecolor\":\"#2a3f5f\",\"gridcolor\":\"white\",\"linecolor\":\"white\",\"minorgridcolor\":\"white\",\"startlinecolor\":\"#2a3f5f\"},\"baxis\":{\"endlinecolor\":\"#2a3f5f\",\"gridcolor\":\"white\",\"linecolor\":\"white\",\"minorgridcolor\":\"white\",\"startlinecolor\":\"#2a3f5f\"},\"type\":\"carpet\"}],\"table\":[{\"cells\":{\"fill\":{\"color\":\"#EBF0F8\"},\"line\":{\"color\":\"white\"}},\"header\":{\"fill\":{\"color\":\"#C8D4E3\"},\"line\":{\"color\":\"white\"}},\"type\":\"table\"}],\"barpolar\":[{\"marker\":{\"line\":{\"color\":\"#E5ECF6\",\"width\":0.5},\"pattern\":{\"fillmode\":\"overlay\",\"size\":10,\"solidity\":0.2}},\"type\":\"barpolar\"}],\"pie\":[{\"automargin\":true,\"type\":\"pie\"}]},\"layout\":{\"autotypenumbers\":\"strict\",\"colorway\":[\"#636efa\",\"#EF553B\",\"#00cc96\",\"#ab63fa\",\"#FFA15A\",\"#19d3f3\",\"#FF6692\",\"#B6E880\",\"#FF97FF\",\"#FECB52\"],\"font\":{\"color\":\"#2a3f5f\"},\"hovermode\":\"closest\",\"hoverlabel\":{\"align\":\"left\"},\"paper_bgcolor\":\"white\",\"plot_bgcolor\":\"#E5ECF6\",\"polar\":{\"bgcolor\":\"#E5ECF6\",\"angularaxis\":{\"gridcolor\":\"white\",\"linecolor\":\"white\",\"ticks\":\"\"},\"radialaxis\":{\"gridcolor\":\"white\",\"linecolor\":\"white\",\"ticks\":\"\"}},\"ternary\":{\"bgcolor\":\"#E5ECF6\",\"aaxis\":{\"gridcolor\":\"white\",\"linecolor\":\"white\",\"ticks\":\"\"},\"baxis\":{\"gridcolor\":\"white\",\"linecolor\":\"white\",\"ticks\":\"\"},\"caxis\":{\"gridcolor\":\"white\",\"linecolor\":\"white\",\"ticks\":\"\"}},\"coloraxis\":{\"colorbar\":{\"outlinewidth\":0,\"ticks\":\"\"}},\"colorscale\":{\"sequential\":[[0.0,\"#0d0887\"],[0.1111111111111111,\"#46039f\"],[0.2222222222222222,\"#7201a8\"],[0.3333333333333333,\"#9c179e\"],[0.4444444444444444,\"#bd3786\"],[0.5555555555555556,\"#d8576b\"],[0.6666666666666666,\"#ed7953\"],[0.7777777777777778,\"#fb9f3a\"],[0.8888888888888888,\"#fdca26\"],[1.0,\"#f0f921\"]],\"sequentialminus\":[[0.0,\"#0d0887\"],[0.1111111111111111,\"#46039f\"],[0.2222222222222222,\"#7201a8\"],[0.3333333333333333,\"#9c179e\"],[0.4444444444444444,\"#bd3786\"],[0.5555555555555556,\"#d8576b\"],[0.6666666666666666,\"#ed7953\"],[0.7777777777777778,\"#fb9f3a\"],[0.8888888888888888,\"#fdca26\"],[1.0,\"#f0f921\"]],\"diverging\":[[0,\"#8e0152\"],[0.1,\"#c51b7d\"],[0.2,\"#de77ae\"],[0.3,\"#f1b6da\"],[0.4,\"#fde0ef\"],[0.5,\"#f7f7f7\"],[0.6,\"#e6f5d0\"],[0.7,\"#b8e186\"],[0.8,\"#7fbc41\"],[0.9,\"#4d9221\"],[1,\"#276419\"]]},\"xaxis\":{\"gridcolor\":\"white\",\"linecolor\":\"white\",\"ticks\":\"\",\"title\":{\"standoff\":15},\"zerolinecolor\":\"white\",\"automargin\":true,\"zerolinewidth\":2},\"yaxis\":{\"gridcolor\":\"white\",\"linecolor\":\"white\",\"ticks\":\"\",\"title\":{\"standoff\":15},\"zerolinecolor\":\"white\",\"automargin\":true,\"zerolinewidth\":2},\"scene\":{\"xaxis\":{\"backgroundcolor\":\"#E5ECF6\",\"gridcolor\":\"white\",\"linecolor\":\"white\",\"showbackground\":true,\"ticks\":\"\",\"zerolinecolor\":\"white\",\"gridwidth\":2},\"yaxis\":{\"backgroundcolor\":\"#E5ECF6\",\"gridcolor\":\"white\",\"linecolor\":\"white\",\"showbackground\":true,\"ticks\":\"\",\"zerolinecolor\":\"white\",\"gridwidth\":2},\"zaxis\":{\"backgroundcolor\":\"#E5ECF6\",\"gridcolor\":\"white\",\"linecolor\":\"white\",\"showbackground\":true,\"ticks\":\"\",\"zerolinecolor\":\"white\",\"gridwidth\":2}},\"shapedefaults\":{\"line\":{\"color\":\"#2a3f5f\"}},\"annotationdefaults\":{\"arrowcolor\":\"#2a3f5f\",\"arrowhead\":0,\"arrowwidth\":1},\"geo\":{\"bgcolor\":\"white\",\"landcolor\":\"#E5ECF6\",\"subunitcolor\":\"white\",\"showland\":true,\"showlakes\":true,\"lakecolor\":\"white\"},\"title\":{\"x\":0.05},\"mapbox\":{\"style\":\"light\"}}},\"xaxis\":{\"anchor\":\"y\",\"domain\":[0.0,1.0],\"title\":{\"text\":\"Category\"},\"categoryorder\":\"total descending\"},\"yaxis\":{\"anchor\":\"x\",\"domain\":[0.0,1.0],\"title\":{\"text\":\"Number of Apps\"},\"type\":\"log\"},\"legend\":{\"title\":{\"text\":\"Type\"},\"tracegroupgap\":0},\"title\":{\"text\":\"Free vs Paid Apps by Category\"},\"barmode\":\"group\"},                        {\"responsive\": true}                    ).then(function(){\n",
              "                            \n",
              "var gd = document.getElementById('ee11f648-f446-45ef-a4d7-40959cd1e826');\n",
              "var x = new MutationObserver(function (mutations, observer) {{\n",
              "        var display = window.getComputedStyle(gd).display;\n",
              "        if (!display || display === 'none') {{\n",
              "            console.log([gd, 'removed!']);\n",
              "            Plotly.purge(gd);\n",
              "            observer.disconnect();\n",
              "        }}\n",
              "}});\n",
              "\n",
              "// Listen for the removal of the full notebook cells\n",
              "var notebookContainer = gd.closest('#notebook-container');\n",
              "if (notebookContainer) {{\n",
              "    x.observe(notebookContainer, {childList: true});\n",
              "}}\n",
              "\n",
              "// Listen for the clearing of the current output cell\n",
              "var outputEl = gd.closest('.output');\n",
              "if (outputEl) {{\n",
              "    x.observe(outputEl, {childList: true});\n",
              "}}\n",
              "\n",
              "                        })                };                            </script>        </div>\n",
              "</body>\n",
              "</html>"
            ]
          },
          "metadata": {}
        }
      ]
    },
    {
      "cell_type": "markdown",
      "source": [
        "There are few of paid applications on the Google Play Store, and certain categories exhibit a higher prevalence of paid apps compared to others. Categories such as Personalization, Medical, and Weather have a relatively greater number of paid apps. Therefore, the choice of releasing a paid app may be influenced by the specific category you are targeting."
      ],
      "metadata": {
        "id": "oz1oChwNzK5c"
      }
    },
    {
      "cell_type": "markdown",
      "metadata": {
        "id": "nbYh2tU-VZ-i"
      },
      "source": [
        "# Plotly Box Plots: Lost Downloads for Paid Apps\n",
        "\n"
      ]
    },
    {
      "cell_type": "code",
      "metadata": {
        "id": "CLgg4gEA6eUe",
        "colab": {
          "base_uri": "https://localhost:8080/",
          "height": 542
        },
        "outputId": "f41f4877-c3e3-4a11-face-20fa868a4867"
      },
      "source": [
        "box = px.box(df_apps_clean,\n",
        "             y='Installs',\n",
        "             x='Type',\n",
        "             color='Type',\n",
        "             notched=True,\n",
        "             points='all',\n",
        "             title='How Many Downloads are Paid Apps Giving Up?'\n",
        ")\n",
        "\n",
        "box.update_layout(yaxis=dict(type='log'))\n",
        "\n",
        "box.show()\n"
      ],
      "execution_count": 48,
      "outputs": [
        {
          "output_type": "display_data",
          "data": {
            "text/html": [
              "<html>\n",
              "<head><meta charset=\"utf-8\" /></head>\n",
              "<body>\n",
              "    <div>            <script src=\"https://cdnjs.cloudflare.com/ajax/libs/mathjax/2.7.5/MathJax.js?config=TeX-AMS-MML_SVG\"></script><script type=\"text/javascript\">if (window.MathJax && window.MathJax.Hub && window.MathJax.Hub.Config) {window.MathJax.Hub.Config({SVG: {font: \"STIX-Web\"}});}</script>                <script type=\"text/javascript\">window.PlotlyConfig = {MathJaxConfig: 'local'};</script>\n",
              "        <script charset=\"utf-8\" src=\"https://cdn.plot.ly/plotly-2.24.1.min.js\"></script>                <div id=\"fdee802a-d0ee-4a3f-8e8f-c594c0fd0a9a\" class=\"plotly-graph-div\" style=\"height:525px; width:100%;\"></div>            <script type=\"text/javascript\">                                    window.PLOTLYENV=window.PLOTLYENV || {};                                    if (document.getElementById(\"fdee802a-d0ee-4a3f-8e8f-c594c0fd0a9a\")) {                    Plotly.newPlot(                        \"fdee802a-d0ee-4a3f-8e8f-c594c0fd0a9a\",                        [{\"alignmentgroup\":\"True\",\"boxpoints\":\"all\",\"hovertemplate\":\"Type=%{x}\\u003cbr\\u003eInstalls=%{y}\\u003cextra\\u003e\\u003c\\u002fextra\\u003e\",\"legendgroup\":\"Free\",\"marker\":{\"color\":\"#636efa\"},\"name\":\"Free\",\"notched\":true,\"offsetgroup\":\"Free\",\"orientation\":\"v\",\"showlegend\":true,\"x\":[\"Free\",\"Free\",\"Free\",\"Free\",\"Free\",\"Free\",\"Free\",\"Free\",\"Free\",\"Free\",\"Free\",\"Free\",\"Free\",\"Free\",\"Free\",\"Free\",\"Free\",\"Free\",\"Free\",\"Free\",\"Free\",\"Free\",\"Free\",\"Free\",\"Free\",\"Free\",\"Free\",\"Free\",\"Free\",\"Free\",\"Free\",\"Free\",\"Free\",\"Free\",\"Free\",\"Free\",\"Free\",\"Free\",\"Free\",\"Free\",\"Free\",\"Free\",\"Free\",\"Free\",\"Free\",\"Free\",\"Free\",\"Free\",\"Free\",\"Free\",\"Free\",\"Free\",\"Free\",\"Free\",\"Free\",\"Free\",\"Free\",\"Free\",\"Free\",\"Free\",\"Free\",\"Free\",\"Free\",\"Free\",\"Free\",\"Free\",\"Free\",\"Free\",\"Free\",\"Free\",\"Free\",\"Free\",\"Free\",\"Free\",\"Free\",\"Free\",\"Free\",\"Free\",\"Free\",\"Free\",\"Free\",\"Free\",\"Free\",\"Free\",\"Free\",\"Free\",\"Free\",\"Free\",\"Free\",\"Free\",\"Free\",\"Free\",\"Free\",\"Free\",\"Free\",\"Free\",\"Free\",\"Free\",\"Free\",\"Free\",\"Free\",\"Free\",\"Free\",\"Free\",\"Free\",\"Free\",\"Free\",\"Free\",\"Free\",\"Free\",\"Free\",\"Free\",\"Free\",\"Free\",\"Free\",\"Free\",\"Free\",\"Free\",\"Free\",\"Free\",\"Free\",\"Free\",\"Free\",\"Free\",\"Free\",\"Free\",\"Free\",\"Free\",\"Free\",\"Free\",\"Free\",\"Free\",\"Free\",\"Free\",\"Free\",\"Free\",\"Free\",\"Free\",\"Free\",\"Free\",\"Free\",\"Free\",\"Free\",\"Free\",\"Free\",\"Free\",\"Free\",\"Free\",\"Free\",\"Free\",\"Free\",\"Free\",\"Free\",\"Free\",\"Free\",\"Free\",\"Free\",\"Free\",\"Free\",\"Free\",\"Free\",\"Free\",\"Free\",\"Free\",\"Free\",\"Free\",\"Free\",\"Free\",\"Free\",\"Free\",\"Free\",\"Free\",\"Free\",\"Free\",\"Free\",\"Free\",\"Free\",\"Free\",\"Free\",\"Free\",\"Free\",\"Free\",\"Free\",\"Free\",\"Free\",\"Free\",\"Free\",\"Free\",\"Free\",\"Free\",\"Free\",\"Free\",\"Free\",\"Free\",\"Free\",\"Free\",\"Free\",\"Free\",\"Free\",\"Free\",\"Free\",\"Free\",\"Free\",\"Free\",\"Free\",\"Free\",\"Free\",\"Free\",\"Free\",\"Free\",\"Free\",\"Free\",\"Free\",\"Free\",\"Free\",\"Free\",\"Free\",\"Free\",\"Free\",\"Free\",\"Free\",\"Free\",\"Free\",\"Free\",\"Free\",\"Free\",\"Free\",\"Free\",\"Free\",\"Free\",\"Free\",\"Free\",\"Free\",\"Free\",\"Free\",\"Free\",\"Free\",\"Free\",\"Free\",\"Free\",\"Free\",\"Free\",\"Free\",\"Free\",\"Free\",\"Free\",\"Free\",\"Free\",\"Free\",\"Free\",\"Free\",\"Free\",\"Free\",\"Free\",\"Free\",\"Free\",\"Free\",\"Free\",\"Free\",\"Free\",\"Free\",\"Free\",\"Free\",\"Free\",\"Free\",\"Free\",\"Free\",\"Free\",\"Free\",\"Free\",\"Free\",\"Free\",\"Free\",\"Free\",\"Free\",\"Free\",\"Free\",\"Free\",\"Free\",\"Free\",\"Free\",\"Free\",\"Free\",\"Free\",\"Free\",\"Free\",\"Free\",\"Free\",\"Free\",\"Free\",\"Free\",\"Free\",\"Free\",\"Free\",\"Free\",\"Free\",\"Free\",\"Free\",\"Free\",\"Free\",\"Free\",\"Free\",\"Free\",\"Free\",\"Free\",\"Free\",\"Free\",\"Free\",\"Free\",\"Free\",\"Free\",\"Free\",\"Free\",\"Free\",\"Free\",\"Free\",\"Free\",\"Free\",\"Free\",\"Free\",\"Free\",\"Free\",\"Free\",\"Free\",\"Free\",\"Free\",\"Free\",\"Free\",\"Free\",\"Free\",\"Free\",\"Free\",\"Free\",\"Free\",\"Free\",\"Free\",\"Free\",\"Free\",\"Free\",\"Free\",\"Free\",\"Free\",\"Free\",\"Free\",\"Free\",\"Free\",\"Free\",\"Free\",\"Free\",\"Free\",\"Free\",\"Free\",\"Free\",\"Free\",\"Free\",\"Free\",\"Free\",\"Free\",\"Free\",\"Free\",\"Free\",\"Free\",\"Free\",\"Free\",\"Free\",\"Free\",\"Free\",\"Free\",\"Free\",\"Free\",\"Free\",\"Free\",\"Free\",\"Free\",\"Free\",\"Free\",\"Free\",\"Free\",\"Free\",\"Free\",\"Free\",\"Free\",\"Free\",\"Free\",\"Free\",\"Free\",\"Free\",\"Free\",\"Free\",\"Free\",\"Free\",\"Free\",\"Free\",\"Free\",\"Free\",\"Free\",\"Free\",\"Free\",\"Free\",\"Free\",\"Free\",\"Free\",\"Free\",\"Free\",\"Free\",\"Free\",\"Free\",\"Free\",\"Free\",\"Free\",\"Free\",\"Free\",\"Free\",\"Free\",\"Free\",\"Free\",\"Free\",\"Free\",\"Free\",\"Free\",\"Free\",\"Free\",\"Free\",\"Free\",\"Free\",\"Free\",\"Free\",\"Free\",\"Free\",\"Free\",\"Free\",\"Free\",\"Free\",\"Free\",\"Free\",\"Free\",\"Free\",\"Free\",\"Free\",\"Free\",\"Free\",\"Free\",\"Free\",\"Free\",\"Free\",\"Free\",\"Free\",\"Free\",\"Free\",\"Free\",\"Free\",\"Free\",\"Free\",\"Free\",\"Free\",\"Free\",\"Free\",\"Free\",\"Free\",\"Free\",\"Free\",\"Free\",\"Free\",\"Free\",\"Free\",\"Free\",\"Free\",\"Free\",\"Free\",\"Free\",\"Free\",\"Free\",\"Free\",\"Free\",\"Free\",\"Free\",\"Free\",\"Free\",\"Free\",\"Free\",\"Free\",\"Free\",\"Free\",\"Free\",\"Free\",\"Free\",\"Free\",\"Free\",\"Free\",\"Free\",\"Free\",\"Free\",\"Free\",\"Free\",\"Free\",\"Free\",\"Free\",\"Free\",\"Free\",\"Free\",\"Free\",\"Free\",\"Free\",\"Free\",\"Free\",\"Free\",\"Free\",\"Free\",\"Free\",\"Free\",\"Free\",\"Free\",\"Free\",\"Free\",\"Free\",\"Free\",\"Free\",\"Free\",\"Free\",\"Free\",\"Free\",\"Free\",\"Free\",\"Free\",\"Free\",\"Free\",\"Free\",\"Free\",\"Free\",\"Free\",\"Free\",\"Free\",\"Free\",\"Free\",\"Free\",\"Free\",\"Free\",\"Free\",\"Free\",\"Free\",\"Free\",\"Free\",\"Free\",\"Free\",\"Free\",\"Free\",\"Free\",\"Free\",\"Free\",\"Free\",\"Free\",\"Free\",\"Free\",\"Free\",\"Free\",\"Free\",\"Free\",\"Free\",\"Free\",\"Free\",\"Free\",\"Free\",\"Free\",\"Free\",\"Free\",\"Free\",\"Free\",\"Free\",\"Free\",\"Free\",\"Free\",\"Free\",\"Free\",\"Free\",\"Free\",\"Free\",\"Free\",\"Free\",\"Free\",\"Free\",\"Free\",\"Free\",\"Free\",\"Free\",\"Free\",\"Free\",\"Free\",\"Free\",\"Free\",\"Free\",\"Free\",\"Free\",\"Free\",\"Free\",\"Free\",\"Free\",\"Free\",\"Free\",\"Free\",\"Free\",\"Free\",\"Free\",\"Free\",\"Free\",\"Free\",\"Free\",\"Free\",\"Free\",\"Free\",\"Free\",\"Free\",\"Free\",\"Free\",\"Free\",\"Free\",\"Free\",\"Free\",\"Free\",\"Free\",\"Free\",\"Free\",\"Free\",\"Free\",\"Free\",\"Free\",\"Free\",\"Free\",\"Free\",\"Free\",\"Free\",\"Free\",\"Free\",\"Free\",\"Free\",\"Free\",\"Free\",\"Free\",\"Free\",\"Free\",\"Free\",\"Free\",\"Free\",\"Free\",\"Free\",\"Free\",\"Free\",\"Free\",\"Free\",\"Free\",\"Free\",\"Free\",\"Free\",\"Free\",\"Free\",\"Free\",\"Free\",\"Free\",\"Free\",\"Free\",\"Free\",\"Free\",\"Free\",\"Free\",\"Free\",\"Free\",\"Free\",\"Free\",\"Free\",\"Free\",\"Free\",\"Free\",\"Free\",\"Free\",\"Free\",\"Free\",\"Free\",\"Free\",\"Free\",\"Free\",\"Free\",\"Free\",\"Free\",\"Free\",\"Free\",\"Free\",\"Free\",\"Free\",\"Free\",\"Free\",\"Free\",\"Free\",\"Free\",\"Free\",\"Free\",\"Free\",\"Free\",\"Free\",\"Free\",\"Free\",\"Free\",\"Free\",\"Free\",\"Free\",\"Free\",\"Free\",\"Free\",\"Free\",\"Free\",\"Free\",\"Free\",\"Free\",\"Free\",\"Free\",\"Free\",\"Free\",\"Free\",\"Free\",\"Free\",\"Free\",\"Free\",\"Free\",\"Free\",\"Free\",\"Free\",\"Free\",\"Free\",\"Free\",\"Free\",\"Free\",\"Free\",\"Free\",\"Free\",\"Free\",\"Free\",\"Free\",\"Free\",\"Free\",\"Free\",\"Free\",\"Free\",\"Free\",\"Free\",\"Free\",\"Free\",\"Free\",\"Free\",\"Free\",\"Free\",\"Free\",\"Free\",\"Free\",\"Free\",\"Free\",\"Free\",\"Free\",\"Free\",\"Free\",\"Free\",\"Free\",\"Free\",\"Free\",\"Free\",\"Free\",\"Free\",\"Free\",\"Free\",\"Free\",\"Free\",\"Free\",\"Free\",\"Free\",\"Free\",\"Free\",\"Free\",\"Free\",\"Free\",\"Free\",\"Free\",\"Free\",\"Free\",\"Free\",\"Free\",\"Free\",\"Free\",\"Free\",\"Free\",\"Free\",\"Free\",\"Free\",\"Free\",\"Free\",\"Free\",\"Free\",\"Free\",\"Free\",\"Free\",\"Free\",\"Free\",\"Free\",\"Free\",\"Free\",\"Free\",\"Free\",\"Free\",\"Free\",\"Free\",\"Free\",\"Free\",\"Free\",\"Free\",\"Free\",\"Free\",\"Free\",\"Free\",\"Free\",\"Free\",\"Free\",\"Free\",\"Free\",\"Free\",\"Free\",\"Free\",\"Free\",\"Free\",\"Free\",\"Free\",\"Free\",\"Free\",\"Free\",\"Free\",\"Free\",\"Free\",\"Free\",\"Free\",\"Free\",\"Free\",\"Free\",\"Free\",\"Free\",\"Free\",\"Free\",\"Free\",\"Free\",\"Free\",\"Free\",\"Free\",\"Free\",\"Free\",\"Free\",\"Free\",\"Free\",\"Free\",\"Free\",\"Free\",\"Free\",\"Free\",\"Free\",\"Free\",\"Free\",\"Free\",\"Free\",\"Free\",\"Free\",\"Free\",\"Free\",\"Free\",\"Free\",\"Free\",\"Free\",\"Free\",\"Free\",\"Free\",\"Free\",\"Free\",\"Free\",\"Free\",\"Free\",\"Free\",\"Free\",\"Free\",\"Free\",\"Free\",\"Free\",\"Free\",\"Free\",\"Free\",\"Free\",\"Free\",\"Free\",\"Free\",\"Free\",\"Free\",\"Free\",\"Free\",\"Free\",\"Free\",\"Free\",\"Free\",\"Free\",\"Free\",\"Free\",\"Free\",\"Free\",\"Free\",\"Free\",\"Free\",\"Free\",\"Free\",\"Free\",\"Free\",\"Free\",\"Free\",\"Free\",\"Free\",\"Free\",\"Free\",\"Free\",\"Free\",\"Free\",\"Free\",\"Free\",\"Free\",\"Free\",\"Free\",\"Free\",\"Free\",\"Free\",\"Free\",\"Free\",\"Free\",\"Free\",\"Free\",\"Free\",\"Free\",\"Free\",\"Free\",\"Free\",\"Free\",\"Free\",\"Free\",\"Free\",\"Free\",\"Free\",\"Free\",\"Free\",\"Free\",\"Free\",\"Free\",\"Free\",\"Free\",\"Free\",\"Free\",\"Free\",\"Free\",\"Free\",\"Free\",\"Free\",\"Free\",\"Free\",\"Free\",\"Free\",\"Free\",\"Free\",\"Free\",\"Free\",\"Free\",\"Free\",\"Free\",\"Free\",\"Free\",\"Free\",\"Free\",\"Free\",\"Free\",\"Free\",\"Free\",\"Free\",\"Free\",\"Free\",\"Free\",\"Free\",\"Free\",\"Free\",\"Free\",\"Free\",\"Free\",\"Free\",\"Free\",\"Free\",\"Free\",\"Free\",\"Free\",\"Free\",\"Free\",\"Free\",\"Free\",\"Free\",\"Free\",\"Free\",\"Free\",\"Free\",\"Free\",\"Free\",\"Free\",\"Free\",\"Free\",\"Free\",\"Free\",\"Free\",\"Free\",\"Free\",\"Free\",\"Free\",\"Free\",\"Free\",\"Free\",\"Free\",\"Free\",\"Free\",\"Free\",\"Free\",\"Free\",\"Free\",\"Free\",\"Free\",\"Free\",\"Free\",\"Free\",\"Free\",\"Free\",\"Free\",\"Free\",\"Free\",\"Free\",\"Free\",\"Free\",\"Free\",\"Free\",\"Free\",\"Free\",\"Free\",\"Free\",\"Free\",\"Free\",\"Free\",\"Free\",\"Free\",\"Free\",\"Free\",\"Free\",\"Free\",\"Free\",\"Free\",\"Free\",\"Free\",\"Free\",\"Free\",\"Free\",\"Free\",\"Free\",\"Free\",\"Free\",\"Free\",\"Free\",\"Free\",\"Free\",\"Free\",\"Free\",\"Free\",\"Free\",\"Free\",\"Free\",\"Free\",\"Free\",\"Free\",\"Free\",\"Free\",\"Free\",\"Free\",\"Free\",\"Free\",\"Free\",\"Free\",\"Free\",\"Free\",\"Free\",\"Free\",\"Free\",\"Free\",\"Free\",\"Free\",\"Free\",\"Free\",\"Free\",\"Free\",\"Free\",\"Free\",\"Free\",\"Free\",\"Free\",\"Free\",\"Free\",\"Free\",\"Free\",\"Free\",\"Free\",\"Free\",\"Free\",\"Free\",\"Free\",\"Free\",\"Free\",\"Free\",\"Free\",\"Free\",\"Free\",\"Free\",\"Free\",\"Free\",\"Free\",\"Free\",\"Free\",\"Free\",\"Free\",\"Free\",\"Free\",\"Free\",\"Free\",\"Free\",\"Free\",\"Free\",\"Free\",\"Free\",\"Free\",\"Free\",\"Free\",\"Free\",\"Free\",\"Free\",\"Free\",\"Free\",\"Free\",\"Free\",\"Free\",\"Free\",\"Free\",\"Free\",\"Free\",\"Free\",\"Free\",\"Free\",\"Free\",\"Free\",\"Free\",\"Free\",\"Free\",\"Free\",\"Free\",\"Free\",\"Free\",\"Free\",\"Free\",\"Free\",\"Free\",\"Free\",\"Free\",\"Free\",\"Free\",\"Free\",\"Free\",\"Free\",\"Free\",\"Free\",\"Free\",\"Free\",\"Free\",\"Free\",\"Free\",\"Free\",\"Free\",\"Free\",\"Free\",\"Free\",\"Free\",\"Free\",\"Free\",\"Free\",\"Free\",\"Free\",\"Free\",\"Free\",\"Free\",\"Free\",\"Free\",\"Free\",\"Free\",\"Free\",\"Free\",\"Free\",\"Free\",\"Free\",\"Free\",\"Free\",\"Free\",\"Free\",\"Free\",\"Free\",\"Free\",\"Free\",\"Free\",\"Free\",\"Free\",\"Free\",\"Free\",\"Free\",\"Free\",\"Free\",\"Free\",\"Free\",\"Free\",\"Free\",\"Free\",\"Free\",\"Free\",\"Free\",\"Free\",\"Free\",\"Free\",\"Free\",\"Free\",\"Free\",\"Free\",\"Free\",\"Free\",\"Free\",\"Free\",\"Free\",\"Free\",\"Free\",\"Free\",\"Free\",\"Free\",\"Free\",\"Free\",\"Free\",\"Free\",\"Free\",\"Free\",\"Free\",\"Free\",\"Free\",\"Free\",\"Free\",\"Free\",\"Free\",\"Free\",\"Free\",\"Free\",\"Free\",\"Free\",\"Free\",\"Free\",\"Free\",\"Free\",\"Free\",\"Free\",\"Free\",\"Free\",\"Free\",\"Free\",\"Free\",\"Free\",\"Free\",\"Free\",\"Free\",\"Free\",\"Free\",\"Free\",\"Free\",\"Free\",\"Free\",\"Free\",\"Free\",\"Free\",\"Free\",\"Free\",\"Free\",\"Free\",\"Free\",\"Free\",\"Free\",\"Free\",\"Free\",\"Free\",\"Free\",\"Free\",\"Free\",\"Free\",\"Free\",\"Free\",\"Free\",\"Free\",\"Free\",\"Free\",\"Free\",\"Free\",\"Free\",\"Free\",\"Free\",\"Free\",\"Free\",\"Free\",\"Free\",\"Free\",\"Free\",\"Free\",\"Free\",\"Free\",\"Free\",\"Free\",\"Free\",\"Free\",\"Free\",\"Free\",\"Free\",\"Free\",\"Free\",\"Free\",\"Free\",\"Free\",\"Free\",\"Free\",\"Free\",\"Free\",\"Free\",\"Free\",\"Free\",\"Free\",\"Free\",\"Free\",\"Free\",\"Free\",\"Free\",\"Free\",\"Free\",\"Free\",\"Free\",\"Free\",\"Free\",\"Free\",\"Free\",\"Free\",\"Free\",\"Free\",\"Free\",\"Free\",\"Free\",\"Free\",\"Free\",\"Free\",\"Free\",\"Free\",\"Free\",\"Free\",\"Free\",\"Free\",\"Free\",\"Free\",\"Free\",\"Free\",\"Free\",\"Free\",\"Free\",\"Free\",\"Free\",\"Free\",\"Free\",\"Free\",\"Free\",\"Free\",\"Free\",\"Free\",\"Free\",\"Free\",\"Free\",\"Free\",\"Free\",\"Free\",\"Free\",\"Free\",\"Free\",\"Free\",\"Free\",\"Free\",\"Free\",\"Free\",\"Free\",\"Free\",\"Free\",\"Free\",\"Free\",\"Free\",\"Free\",\"Free\",\"Free\",\"Free\",\"Free\",\"Free\",\"Free\",\"Free\",\"Free\",\"Free\",\"Free\",\"Free\",\"Free\",\"Free\",\"Free\",\"Free\",\"Free\",\"Free\",\"Free\",\"Free\",\"Free\",\"Free\",\"Free\",\"Free\",\"Free\",\"Free\",\"Free\",\"Free\",\"Free\",\"Free\",\"Free\",\"Free\",\"Free\",\"Free\",\"Free\",\"Free\",\"Free\",\"Free\",\"Free\",\"Free\",\"Free\",\"Free\",\"Free\",\"Free\",\"Free\",\"Free\",\"Free\",\"Free\",\"Free\",\"Free\",\"Free\",\"Free\",\"Free\",\"Free\",\"Free\",\"Free\",\"Free\",\"Free\",\"Free\",\"Free\",\"Free\",\"Free\",\"Free\",\"Free\",\"Free\",\"Free\",\"Free\",\"Free\",\"Free\",\"Free\",\"Free\",\"Free\",\"Free\",\"Free\",\"Free\",\"Free\",\"Free\",\"Free\",\"Free\",\"Free\",\"Free\",\"Free\",\"Free\",\"Free\",\"Free\",\"Free\",\"Free\",\"Free\",\"Free\",\"Free\",\"Free\",\"Free\",\"Free\",\"Free\",\"Free\",\"Free\",\"Free\",\"Free\",\"Free\",\"Free\",\"Free\",\"Free\",\"Free\",\"Free\",\"Free\",\"Free\",\"Free\",\"Free\",\"Free\",\"Free\",\"Free\",\"Free\",\"Free\",\"Free\",\"Free\",\"Free\",\"Free\",\"Free\",\"Free\",\"Free\",\"Free\",\"Free\",\"Free\",\"Free\",\"Free\",\"Free\",\"Free\",\"Free\",\"Free\",\"Free\",\"Free\",\"Free\",\"Free\",\"Free\",\"Free\",\"Free\",\"Free\",\"Free\",\"Free\",\"Free\",\"Free\",\"Free\",\"Free\",\"Free\",\"Free\",\"Free\",\"Free\",\"Free\",\"Free\",\"Free\",\"Free\",\"Free\",\"Free\",\"Free\",\"Free\",\"Free\",\"Free\",\"Free\",\"Free\",\"Free\",\"Free\",\"Free\",\"Free\",\"Free\",\"Free\",\"Free\",\"Free\",\"Free\",\"Free\",\"Free\",\"Free\",\"Free\",\"Free\",\"Free\",\"Free\",\"Free\",\"Free\",\"Free\",\"Free\",\"Free\",\"Free\",\"Free\",\"Free\",\"Free\",\"Free\",\"Free\",\"Free\",\"Free\",\"Free\",\"Free\",\"Free\",\"Free\",\"Free\",\"Free\",\"Free\",\"Free\",\"Free\",\"Free\",\"Free\",\"Free\",\"Free\",\"Free\",\"Free\",\"Free\",\"Free\",\"Free\",\"Free\",\"Free\",\"Free\",\"Free\",\"Free\",\"Free\",\"Free\",\"Free\",\"Free\",\"Free\",\"Free\",\"Free\",\"Free\",\"Free\",\"Free\",\"Free\",\"Free\",\"Free\",\"Free\",\"Free\",\"Free\",\"Free\",\"Free\",\"Free\",\"Free\",\"Free\",\"Free\",\"Free\",\"Free\",\"Free\",\"Free\",\"Free\",\"Free\",\"Free\",\"Free\",\"Free\",\"Free\",\"Free\",\"Free\",\"Free\",\"Free\",\"Free\",\"Free\",\"Free\",\"Free\",\"Free\",\"Free\",\"Free\",\"Free\",\"Free\",\"Free\",\"Free\",\"Free\",\"Free\",\"Free\",\"Free\",\"Free\",\"Free\",\"Free\",\"Free\",\"Free\",\"Free\",\"Free\",\"Free\",\"Free\",\"Free\",\"Free\",\"Free\",\"Free\",\"Free\",\"Free\",\"Free\",\"Free\",\"Free\",\"Free\",\"Free\",\"Free\",\"Free\",\"Free\",\"Free\",\"Free\",\"Free\",\"Free\",\"Free\",\"Free\",\"Free\",\"Free\",\"Free\",\"Free\",\"Free\",\"Free\",\"Free\",\"Free\",\"Free\",\"Free\",\"Free\",\"Free\",\"Free\",\"Free\",\"Free\",\"Free\",\"Free\",\"Free\",\"Free\",\"Free\",\"Free\",\"Free\",\"Free\",\"Free\",\"Free\",\"Free\",\"Free\",\"Free\",\"Free\",\"Free\",\"Free\",\"Free\",\"Free\",\"Free\",\"Free\",\"Free\",\"Free\",\"Free\",\"Free\",\"Free\",\"Free\",\"Free\",\"Free\",\"Free\",\"Free\",\"Free\",\"Free\",\"Free\",\"Free\",\"Free\",\"Free\",\"Free\",\"Free\",\"Free\",\"Free\",\"Free\",\"Free\",\"Free\",\"Free\",\"Free\",\"Free\",\"Free\",\"Free\",\"Free\",\"Free\",\"Free\",\"Free\",\"Free\",\"Free\",\"Free\",\"Free\",\"Free\",\"Free\",\"Free\",\"Free\",\"Free\",\"Free\",\"Free\",\"Free\",\"Free\",\"Free\",\"Free\",\"Free\",\"Free\",\"Free\",\"Free\",\"Free\",\"Free\",\"Free\",\"Free\",\"Free\",\"Free\",\"Free\",\"Free\",\"Free\",\"Free\",\"Free\",\"Free\",\"Free\",\"Free\",\"Free\",\"Free\",\"Free\",\"Free\",\"Free\",\"Free\",\"Free\",\"Free\",\"Free\",\"Free\",\"Free\",\"Free\",\"Free\",\"Free\",\"Free\",\"Free\",\"Free\",\"Free\",\"Free\",\"Free\",\"Free\",\"Free\",\"Free\",\"Free\",\"Free\",\"Free\",\"Free\",\"Free\",\"Free\",\"Free\",\"Free\",\"Free\",\"Free\",\"Free\",\"Free\",\"Free\",\"Free\",\"Free\",\"Free\",\"Free\",\"Free\",\"Free\",\"Free\",\"Free\",\"Free\",\"Free\",\"Free\",\"Free\",\"Free\",\"Free\",\"Free\",\"Free\",\"Free\",\"Free\",\"Free\",\"Free\",\"Free\",\"Free\",\"Free\",\"Free\",\"Free\",\"Free\",\"Free\",\"Free\",\"Free\",\"Free\",\"Free\",\"Free\",\"Free\",\"Free\",\"Free\",\"Free\",\"Free\",\"Free\",\"Free\",\"Free\",\"Free\",\"Free\",\"Free\",\"Free\",\"Free\",\"Free\",\"Free\",\"Free\",\"Free\",\"Free\",\"Free\",\"Free\",\"Free\",\"Free\",\"Free\",\"Free\",\"Free\",\"Free\",\"Free\",\"Free\",\"Free\",\"Free\",\"Free\",\"Free\",\"Free\",\"Free\",\"Free\",\"Free\",\"Free\",\"Free\",\"Free\",\"Free\",\"Free\",\"Free\",\"Free\",\"Free\",\"Free\",\"Free\",\"Free\",\"Free\",\"Free\",\"Free\",\"Free\",\"Free\",\"Free\",\"Free\",\"Free\",\"Free\",\"Free\",\"Free\",\"Free\",\"Free\",\"Free\",\"Free\",\"Free\",\"Free\",\"Free\",\"Free\",\"Free\",\"Free\",\"Free\",\"Free\",\"Free\",\"Free\",\"Free\",\"Free\",\"Free\",\"Free\",\"Free\",\"Free\",\"Free\",\"Free\",\"Free\",\"Free\",\"Free\",\"Free\",\"Free\",\"Free\",\"Free\",\"Free\",\"Free\",\"Free\",\"Free\",\"Free\",\"Free\",\"Free\",\"Free\",\"Free\",\"Free\",\"Free\",\"Free\",\"Free\",\"Free\",\"Free\",\"Free\",\"Free\",\"Free\",\"Free\",\"Free\",\"Free\",\"Free\",\"Free\",\"Free\",\"Free\",\"Free\",\"Free\",\"Free\",\"Free\",\"Free\",\"Free\",\"Free\",\"Free\",\"Free\",\"Free\",\"Free\",\"Free\",\"Free\",\"Free\",\"Free\",\"Free\",\"Free\",\"Free\",\"Free\",\"Free\",\"Free\",\"Free\",\"Free\",\"Free\",\"Free\",\"Free\",\"Free\",\"Free\",\"Free\",\"Free\",\"Free\",\"Free\",\"Free\",\"Free\",\"Free\",\"Free\",\"Free\",\"Free\",\"Free\",\"Free\",\"Free\",\"Free\",\"Free\",\"Free\",\"Free\",\"Free\",\"Free\",\"Free\",\"Free\",\"Free\",\"Free\",\"Free\",\"Free\",\"Free\",\"Free\",\"Free\",\"Free\",\"Free\",\"Free\",\"Free\",\"Free\",\"Free\",\"Free\",\"Free\",\"Free\",\"Free\",\"Free\",\"Free\",\"Free\",\"Free\",\"Free\",\"Free\",\"Free\",\"Free\",\"Free\",\"Free\",\"Free\",\"Free\",\"Free\",\"Free\",\"Free\",\"Free\",\"Free\",\"Free\",\"Free\",\"Free\",\"Free\",\"Free\",\"Free\",\"Free\",\"Free\",\"Free\",\"Free\",\"Free\",\"Free\",\"Free\",\"Free\",\"Free\",\"Free\",\"Free\",\"Free\",\"Free\",\"Free\",\"Free\",\"Free\",\"Free\",\"Free\",\"Free\",\"Free\",\"Free\",\"Free\",\"Free\",\"Free\",\"Free\",\"Free\",\"Free\",\"Free\",\"Free\",\"Free\",\"Free\",\"Free\",\"Free\",\"Free\",\"Free\",\"Free\",\"Free\",\"Free\",\"Free\",\"Free\",\"Free\",\"Free\",\"Free\",\"Free\",\"Free\",\"Free\",\"Free\",\"Free\",\"Free\",\"Free\",\"Free\",\"Free\",\"Free\",\"Free\",\"Free\",\"Free\",\"Free\",\"Free\",\"Free\",\"Free\",\"Free\",\"Free\",\"Free\",\"Free\",\"Free\",\"Free\",\"Free\",\"Free\",\"Free\",\"Free\",\"Free\",\"Free\",\"Free\",\"Free\",\"Free\",\"Free\",\"Free\",\"Free\",\"Free\",\"Free\",\"Free\",\"Free\",\"Free\",\"Free\",\"Free\",\"Free\",\"Free\",\"Free\",\"Free\",\"Free\",\"Free\",\"Free\",\"Free\",\"Free\",\"Free\",\"Free\",\"Free\",\"Free\",\"Free\",\"Free\",\"Free\",\"Free\",\"Free\",\"Free\",\"Free\",\"Free\",\"Free\",\"Free\",\"Free\",\"Free\",\"Free\",\"Free\",\"Free\",\"Free\",\"Free\",\"Free\",\"Free\",\"Free\",\"Free\",\"Free\",\"Free\",\"Free\",\"Free\",\"Free\",\"Free\",\"Free\",\"Free\",\"Free\",\"Free\",\"Free\",\"Free\",\"Free\",\"Free\",\"Free\",\"Free\",\"Free\",\"Free\",\"Free\",\"Free\",\"Free\",\"Free\",\"Free\",\"Free\",\"Free\",\"Free\",\"Free\",\"Free\",\"Free\",\"Free\",\"Free\",\"Free\",\"Free\",\"Free\",\"Free\",\"Free\",\"Free\",\"Free\",\"Free\",\"Free\",\"Free\",\"Free\",\"Free\",\"Free\",\"Free\",\"Free\",\"Free\",\"Free\",\"Free\",\"Free\",\"Free\",\"Free\",\"Free\",\"Free\",\"Free\",\"Free\",\"Free\",\"Free\",\"Free\",\"Free\",\"Free\",\"Free\",\"Free\",\"Free\",\"Free\",\"Free\",\"Free\",\"Free\",\"Free\",\"Free\",\"Free\",\"Free\",\"Free\",\"Free\",\"Free\",\"Free\",\"Free\",\"Free\",\"Free\",\"Free\",\"Free\",\"Free\",\"Free\",\"Free\",\"Free\",\"Free\",\"Free\",\"Free\",\"Free\",\"Free\",\"Free\",\"Free\",\"Free\",\"Free\",\"Free\",\"Free\",\"Free\",\"Free\",\"Free\",\"Free\",\"Free\",\"Free\",\"Free\",\"Free\",\"Free\",\"Free\",\"Free\",\"Free\",\"Free\",\"Free\",\"Free\",\"Free\",\"Free\",\"Free\",\"Free\",\"Free\",\"Free\",\"Free\",\"Free\",\"Free\",\"Free\",\"Free\",\"Free\",\"Free\",\"Free\",\"Free\",\"Free\",\"Free\",\"Free\",\"Free\",\"Free\",\"Free\",\"Free\",\"Free\",\"Free\",\"Free\",\"Free\",\"Free\",\"Free\",\"Free\",\"Free\",\"Free\",\"Free\",\"Free\",\"Free\",\"Free\",\"Free\",\"Free\",\"Free\",\"Free\",\"Free\",\"Free\",\"Free\",\"Free\",\"Free\",\"Free\",\"Free\",\"Free\",\"Free\",\"Free\",\"Free\",\"Free\",\"Free\",\"Free\",\"Free\",\"Free\",\"Free\",\"Free\",\"Free\",\"Free\",\"Free\",\"Free\",\"Free\",\"Free\",\"Free\",\"Free\",\"Free\",\"Free\",\"Free\",\"Free\",\"Free\",\"Free\",\"Free\",\"Free\",\"Free\",\"Free\",\"Free\",\"Free\",\"Free\",\"Free\",\"Free\",\"Free\",\"Free\",\"Free\",\"Free\",\"Free\",\"Free\",\"Free\",\"Free\",\"Free\",\"Free\",\"Free\",\"Free\",\"Free\",\"Free\",\"Free\",\"Free\",\"Free\",\"Free\",\"Free\",\"Free\",\"Free\",\"Free\",\"Free\",\"Free\",\"Free\",\"Free\",\"Free\",\"Free\",\"Free\",\"Free\",\"Free\",\"Free\",\"Free\",\"Free\",\"Free\",\"Free\",\"Free\",\"Free\",\"Free\",\"Free\",\"Free\",\"Free\",\"Free\",\"Free\",\"Free\",\"Free\",\"Free\",\"Free\",\"Free\",\"Free\",\"Free\",\"Free\",\"Free\",\"Free\",\"Free\",\"Free\",\"Free\",\"Free\",\"Free\",\"Free\",\"Free\",\"Free\",\"Free\",\"Free\",\"Free\",\"Free\",\"Free\",\"Free\",\"Free\",\"Free\",\"Free\",\"Free\",\"Free\",\"Free\",\"Free\",\"Free\",\"Free\",\"Free\",\"Free\",\"Free\",\"Free\",\"Free\",\"Free\",\"Free\",\"Free\",\"Free\",\"Free\",\"Free\",\"Free\",\"Free\",\"Free\",\"Free\",\"Free\",\"Free\",\"Free\",\"Free\",\"Free\",\"Free\",\"Free\",\"Free\",\"Free\",\"Free\",\"Free\",\"Free\",\"Free\",\"Free\",\"Free\",\"Free\",\"Free\",\"Free\",\"Free\",\"Free\",\"Free\",\"Free\",\"Free\",\"Free\",\"Free\",\"Free\",\"Free\",\"Free\",\"Free\",\"Free\",\"Free\",\"Free\",\"Free\",\"Free\",\"Free\",\"Free\",\"Free\",\"Free\",\"Free\",\"Free\",\"Free\",\"Free\",\"Free\",\"Free\",\"Free\",\"Free\",\"Free\",\"Free\",\"Free\",\"Free\",\"Free\",\"Free\",\"Free\",\"Free\",\"Free\",\"Free\",\"Free\",\"Free\",\"Free\",\"Free\",\"Free\",\"Free\",\"Free\",\"Free\",\"Free\",\"Free\",\"Free\",\"Free\",\"Free\",\"Free\",\"Free\",\"Free\",\"Free\",\"Free\",\"Free\",\"Free\",\"Free\",\"Free\",\"Free\",\"Free\",\"Free\",\"Free\",\"Free\",\"Free\",\"Free\",\"Free\",\"Free\",\"Free\",\"Free\",\"Free\",\"Free\",\"Free\",\"Free\",\"Free\",\"Free\",\"Free\",\"Free\",\"Free\",\"Free\",\"Free\",\"Free\",\"Free\",\"Free\",\"Free\",\"Free\",\"Free\",\"Free\",\"Free\",\"Free\",\"Free\",\"Free\",\"Free\",\"Free\",\"Free\",\"Free\",\"Free\",\"Free\",\"Free\",\"Free\",\"Free\",\"Free\",\"Free\",\"Free\",\"Free\",\"Free\",\"Free\",\"Free\",\"Free\",\"Free\",\"Free\",\"Free\",\"Free\",\"Free\",\"Free\",\"Free\",\"Free\",\"Free\",\"Free\",\"Free\",\"Free\",\"Free\",\"Free\",\"Free\",\"Free\",\"Free\",\"Free\",\"Free\",\"Free\",\"Free\",\"Free\",\"Free\",\"Free\",\"Free\",\"Free\",\"Free\",\"Free\",\"Free\",\"Free\",\"Free\",\"Free\",\"Free\",\"Free\",\"Free\",\"Free\",\"Free\",\"Free\",\"Free\",\"Free\",\"Free\",\"Free\",\"Free\",\"Free\",\"Free\",\"Free\",\"Free\",\"Free\",\"Free\",\"Free\",\"Free\",\"Free\",\"Free\",\"Free\",\"Free\",\"Free\",\"Free\",\"Free\",\"Free\",\"Free\",\"Free\",\"Free\",\"Free\",\"Free\",\"Free\",\"Free\",\"Free\",\"Free\",\"Free\",\"Free\",\"Free\",\"Free\",\"Free\",\"Free\",\"Free\",\"Free\",\"Free\",\"Free\",\"Free\",\"Free\",\"Free\",\"Free\",\"Free\",\"Free\",\"Free\",\"Free\",\"Free\",\"Free\",\"Free\",\"Free\",\"Free\",\"Free\",\"Free\",\"Free\",\"Free\",\"Free\",\"Free\",\"Free\",\"Free\",\"Free\",\"Free\",\"Free\",\"Free\",\"Free\",\"Free\",\"Free\",\"Free\",\"Free\",\"Free\",\"Free\",\"Free\",\"Free\",\"Free\",\"Free\",\"Free\",\"Free\",\"Free\",\"Free\",\"Free\",\"Free\",\"Free\",\"Free\",\"Free\",\"Free\",\"Free\",\"Free\",\"Free\",\"Free\",\"Free\",\"Free\",\"Free\",\"Free\",\"Free\",\"Free\",\"Free\",\"Free\",\"Free\",\"Free\",\"Free\",\"Free\",\"Free\",\"Free\",\"Free\",\"Free\",\"Free\",\"Free\",\"Free\",\"Free\",\"Free\",\"Free\",\"Free\",\"Free\",\"Free\",\"Free\",\"Free\",\"Free\",\"Free\",\"Free\",\"Free\",\"Free\",\"Free\",\"Free\",\"Free\",\"Free\",\"Free\",\"Free\",\"Free\",\"Free\",\"Free\",\"Free\",\"Free\",\"Free\",\"Free\",\"Free\",\"Free\",\"Free\",\"Free\",\"Free\",\"Free\",\"Free\",\"Free\",\"Free\",\"Free\",\"Free\",\"Free\",\"Free\",\"Free\",\"Free\",\"Free\",\"Free\",\"Free\",\"Free\",\"Free\",\"Free\",\"Free\",\"Free\",\"Free\",\"Free\",\"Free\",\"Free\",\"Free\",\"Free\",\"Free\",\"Free\",\"Free\",\"Free\",\"Free\",\"Free\",\"Free\",\"Free\",\"Free\",\"Free\",\"Free\",\"Free\",\"Free\",\"Free\",\"Free\",\"Free\",\"Free\",\"Free\",\"Free\",\"Free\",\"Free\",\"Free\",\"Free\",\"Free\",\"Free\",\"Free\",\"Free\",\"Free\",\"Free\",\"Free\",\"Free\",\"Free\",\"Free\",\"Free\",\"Free\",\"Free\",\"Free\",\"Free\",\"Free\",\"Free\",\"Free\",\"Free\",\"Free\",\"Free\",\"Free\",\"Free\",\"Free\",\"Free\",\"Free\",\"Free\",\"Free\",\"Free\",\"Free\",\"Free\",\"Free\",\"Free\",\"Free\",\"Free\",\"Free\",\"Free\",\"Free\",\"Free\",\"Free\",\"Free\",\"Free\",\"Free\",\"Free\",\"Free\",\"Free\",\"Free\",\"Free\",\"Free\",\"Free\",\"Free\",\"Free\",\"Free\",\"Free\",\"Free\",\"Free\",\"Free\",\"Free\",\"Free\",\"Free\",\"Free\",\"Free\",\"Free\",\"Free\",\"Free\",\"Free\",\"Free\",\"Free\",\"Free\",\"Free\",\"Free\",\"Free\",\"Free\",\"Free\",\"Free\",\"Free\",\"Free\",\"Free\",\"Free\",\"Free\",\"Free\",\"Free\",\"Free\",\"Free\",\"Free\",\"Free\",\"Free\",\"Free\",\"Free\",\"Free\",\"Free\",\"Free\",\"Free\",\"Free\",\"Free\",\"Free\",\"Free\",\"Free\",\"Free\",\"Free\",\"Free\",\"Free\",\"Free\",\"Free\",\"Free\",\"Free\",\"Free\",\"Free\",\"Free\",\"Free\",\"Free\",\"Free\",\"Free\",\"Free\",\"Free\",\"Free\",\"Free\",\"Free\",\"Free\",\"Free\",\"Free\",\"Free\",\"Free\",\"Free\",\"Free\",\"Free\",\"Free\",\"Free\",\"Free\",\"Free\",\"Free\",\"Free\",\"Free\",\"Free\",\"Free\",\"Free\",\"Free\",\"Free\",\"Free\",\"Free\",\"Free\",\"Free\",\"Free\",\"Free\",\"Free\",\"Free\",\"Free\",\"Free\",\"Free\",\"Free\",\"Free\",\"Free\",\"Free\",\"Free\",\"Free\",\"Free\",\"Free\",\"Free\",\"Free\",\"Free\",\"Free\",\"Free\",\"Free\",\"Free\",\"Free\",\"Free\",\"Free\",\"Free\",\"Free\",\"Free\",\"Free\",\"Free\",\"Free\",\"Free\",\"Free\",\"Free\",\"Free\",\"Free\",\"Free\",\"Free\",\"Free\",\"Free\",\"Free\",\"Free\",\"Free\",\"Free\",\"Free\",\"Free\",\"Free\",\"Free\",\"Free\",\"Free\",\"Free\",\"Free\",\"Free\",\"Free\",\"Free\",\"Free\",\"Free\",\"Free\",\"Free\",\"Free\",\"Free\",\"Free\",\"Free\",\"Free\",\"Free\",\"Free\",\"Free\",\"Free\",\"Free\",\"Free\",\"Free\",\"Free\",\"Free\",\"Free\",\"Free\",\"Free\",\"Free\",\"Free\",\"Free\",\"Free\",\"Free\",\"Free\",\"Free\",\"Free\",\"Free\",\"Free\",\"Free\",\"Free\",\"Free\",\"Free\",\"Free\",\"Free\",\"Free\",\"Free\",\"Free\",\"Free\",\"Free\",\"Free\",\"Free\",\"Free\",\"Free\",\"Free\",\"Free\",\"Free\",\"Free\",\"Free\",\"Free\",\"Free\",\"Free\",\"Free\",\"Free\",\"Free\",\"Free\",\"Free\",\"Free\",\"Free\",\"Free\",\"Free\",\"Free\",\"Free\",\"Free\",\"Free\",\"Free\",\"Free\",\"Free\",\"Free\",\"Free\",\"Free\",\"Free\",\"Free\",\"Free\",\"Free\",\"Free\",\"Free\",\"Free\",\"Free\",\"Free\",\"Free\",\"Free\",\"Free\",\"Free\",\"Free\",\"Free\",\"Free\",\"Free\",\"Free\",\"Free\",\"Free\",\"Free\",\"Free\",\"Free\",\"Free\",\"Free\",\"Free\",\"Free\",\"Free\",\"Free\",\"Free\",\"Free\",\"Free\",\"Free\",\"Free\",\"Free\",\"Free\",\"Free\",\"Free\",\"Free\",\"Free\",\"Free\",\"Free\",\"Free\",\"Free\",\"Free\",\"Free\",\"Free\",\"Free\",\"Free\",\"Free\",\"Free\",\"Free\",\"Free\",\"Free\",\"Free\",\"Free\",\"Free\",\"Free\",\"Free\",\"Free\",\"Free\",\"Free\",\"Free\",\"Free\",\"Free\",\"Free\",\"Free\",\"Free\",\"Free\",\"Free\",\"Free\",\"Free\",\"Free\",\"Free\",\"Free\",\"Free\",\"Free\",\"Free\",\"Free\",\"Free\",\"Free\",\"Free\",\"Free\",\"Free\",\"Free\",\"Free\",\"Free\",\"Free\",\"Free\",\"Free\",\"Free\",\"Free\",\"Free\",\"Free\",\"Free\",\"Free\",\"Free\",\"Free\",\"Free\",\"Free\",\"Free\",\"Free\",\"Free\",\"Free\",\"Free\",\"Free\",\"Free\",\"Free\",\"Free\",\"Free\",\"Free\",\"Free\",\"Free\",\"Free\",\"Free\",\"Free\",\"Free\",\"Free\",\"Free\",\"Free\",\"Free\",\"Free\",\"Free\",\"Free\",\"Free\",\"Free\",\"Free\",\"Free\",\"Free\",\"Free\",\"Free\",\"Free\",\"Free\",\"Free\",\"Free\",\"Free\",\"Free\",\"Free\",\"Free\",\"Free\",\"Free\",\"Free\",\"Free\",\"Free\",\"Free\",\"Free\",\"Free\",\"Free\",\"Free\",\"Free\",\"Free\",\"Free\",\"Free\",\"Free\",\"Free\",\"Free\",\"Free\",\"Free\",\"Free\",\"Free\",\"Free\",\"Free\",\"Free\",\"Free\",\"Free\",\"Free\",\"Free\",\"Free\",\"Free\",\"Free\",\"Free\",\"Free\",\"Free\",\"Free\",\"Free\",\"Free\",\"Free\",\"Free\",\"Free\",\"Free\",\"Free\",\"Free\",\"Free\",\"Free\",\"Free\",\"Free\",\"Free\",\"Free\",\"Free\",\"Free\",\"Free\",\"Free\",\"Free\",\"Free\",\"Free\",\"Free\",\"Free\",\"Free\",\"Free\",\"Free\",\"Free\",\"Free\",\"Free\",\"Free\",\"Free\",\"Free\",\"Free\",\"Free\",\"Free\",\"Free\",\"Free\",\"Free\",\"Free\",\"Free\",\"Free\",\"Free\",\"Free\",\"Free\",\"Free\",\"Free\",\"Free\",\"Free\",\"Free\",\"Free\",\"Free\",\"Free\",\"Free\",\"Free\",\"Free\",\"Free\",\"Free\",\"Free\",\"Free\",\"Free\",\"Free\",\"Free\",\"Free\",\"Free\",\"Free\",\"Free\",\"Free\",\"Free\",\"Free\",\"Free\",\"Free\",\"Free\",\"Free\",\"Free\",\"Free\",\"Free\",\"Free\",\"Free\",\"Free\",\"Free\",\"Free\",\"Free\",\"Free\",\"Free\",\"Free\",\"Free\",\"Free\",\"Free\",\"Free\",\"Free\",\"Free\",\"Free\",\"Free\",\"Free\",\"Free\",\"Free\",\"Free\",\"Free\",\"Free\",\"Free\",\"Free\",\"Free\",\"Free\",\"Free\",\"Free\",\"Free\",\"Free\",\"Free\",\"Free\",\"Free\",\"Free\",\"Free\",\"Free\",\"Free\",\"Free\",\"Free\",\"Free\",\"Free\",\"Free\",\"Free\",\"Free\",\"Free\",\"Free\",\"Free\",\"Free\",\"Free\",\"Free\",\"Free\",\"Free\",\"Free\",\"Free\",\"Free\",\"Free\",\"Free\",\"Free\",\"Free\",\"Free\",\"Free\",\"Free\",\"Free\",\"Free\",\"Free\",\"Free\",\"Free\",\"Free\",\"Free\",\"Free\",\"Free\",\"Free\",\"Free\",\"Free\",\"Free\",\"Free\",\"Free\",\"Free\",\"Free\",\"Free\",\"Free\",\"Free\",\"Free\",\"Free\",\"Free\",\"Free\",\"Free\",\"Free\",\"Free\",\"Free\",\"Free\",\"Free\",\"Free\",\"Free\",\"Free\",\"Free\",\"Free\",\"Free\",\"Free\",\"Free\",\"Free\",\"Free\",\"Free\",\"Free\",\"Free\",\"Free\",\"Free\",\"Free\",\"Free\",\"Free\",\"Free\",\"Free\",\"Free\",\"Free\",\"Free\",\"Free\",\"Free\",\"Free\",\"Free\",\"Free\",\"Free\",\"Free\",\"Free\",\"Free\",\"Free\",\"Free\",\"Free\",\"Free\",\"Free\",\"Free\",\"Free\",\"Free\",\"Free\",\"Free\",\"Free\",\"Free\",\"Free\",\"Free\",\"Free\",\"Free\",\"Free\",\"Free\",\"Free\",\"Free\",\"Free\",\"Free\",\"Free\",\"Free\",\"Free\",\"Free\",\"Free\",\"Free\",\"Free\",\"Free\",\"Free\",\"Free\",\"Free\",\"Free\",\"Free\",\"Free\",\"Free\",\"Free\",\"Free\",\"Free\",\"Free\",\"Free\",\"Free\",\"Free\",\"Free\",\"Free\",\"Free\",\"Free\",\"Free\",\"Free\",\"Free\",\"Free\",\"Free\",\"Free\",\"Free\",\"Free\",\"Free\",\"Free\",\"Free\",\"Free\",\"Free\",\"Free\",\"Free\",\"Free\",\"Free\",\"Free\",\"Free\",\"Free\",\"Free\",\"Free\",\"Free\",\"Free\",\"Free\",\"Free\",\"Free\",\"Free\",\"Free\",\"Free\",\"Free\",\"Free\",\"Free\",\"Free\",\"Free\",\"Free\",\"Free\",\"Free\",\"Free\",\"Free\",\"Free\",\"Free\",\"Free\",\"Free\",\"Free\",\"Free\",\"Free\",\"Free\",\"Free\",\"Free\",\"Free\",\"Free\",\"Free\",\"Free\",\"Free\",\"Free\",\"Free\",\"Free\",\"Free\",\"Free\",\"Free\",\"Free\",\"Free\",\"Free\",\"Free\",\"Free\",\"Free\",\"Free\",\"Free\",\"Free\",\"Free\",\"Free\",\"Free\",\"Free\",\"Free\",\"Free\",\"Free\",\"Free\",\"Free\",\"Free\",\"Free\",\"Free\",\"Free\",\"Free\",\"Free\",\"Free\",\"Free\",\"Free\",\"Free\",\"Free\",\"Free\",\"Free\",\"Free\",\"Free\",\"Free\",\"Free\",\"Free\",\"Free\",\"Free\",\"Free\",\"Free\",\"Free\",\"Free\",\"Free\",\"Free\",\"Free\",\"Free\",\"Free\",\"Free\",\"Free\",\"Free\",\"Free\",\"Free\",\"Free\",\"Free\",\"Free\",\"Free\",\"Free\",\"Free\",\"Free\",\"Free\",\"Free\",\"Free\",\"Free\",\"Free\",\"Free\",\"Free\",\"Free\",\"Free\",\"Free\",\"Free\",\"Free\",\"Free\",\"Free\",\"Free\",\"Free\",\"Free\",\"Free\",\"Free\",\"Free\",\"Free\",\"Free\",\"Free\",\"Free\",\"Free\",\"Free\",\"Free\",\"Free\",\"Free\",\"Free\",\"Free\",\"Free\",\"Free\",\"Free\",\"Free\",\"Free\",\"Free\",\"Free\",\"Free\",\"Free\",\"Free\",\"Free\",\"Free\",\"Free\",\"Free\",\"Free\",\"Free\",\"Free\",\"Free\",\"Free\",\"Free\",\"Free\",\"Free\",\"Free\",\"Free\",\"Free\",\"Free\",\"Free\",\"Free\",\"Free\",\"Free\",\"Free\",\"Free\",\"Free\",\"Free\",\"Free\",\"Free\",\"Free\",\"Free\",\"Free\",\"Free\",\"Free\",\"Free\",\"Free\",\"Free\",\"Free\",\"Free\",\"Free\",\"Free\",\"Free\",\"Free\",\"Free\",\"Free\",\"Free\",\"Free\",\"Free\",\"Free\",\"Free\",\"Free\",\"Free\",\"Free\",\"Free\",\"Free\",\"Free\",\"Free\",\"Free\",\"Free\",\"Free\",\"Free\",\"Free\",\"Free\",\"Free\",\"Free\",\"Free\",\"Free\",\"Free\",\"Free\",\"Free\",\"Free\",\"Free\",\"Free\",\"Free\",\"Free\",\"Free\",\"Free\",\"Free\",\"Free\",\"Free\",\"Free\",\"Free\",\"Free\",\"Free\",\"Free\",\"Free\",\"Free\",\"Free\",\"Free\",\"Free\",\"Free\",\"Free\",\"Free\",\"Free\",\"Free\",\"Free\",\"Free\",\"Free\",\"Free\",\"Free\",\"Free\",\"Free\",\"Free\",\"Free\",\"Free\",\"Free\",\"Free\",\"Free\",\"Free\",\"Free\",\"Free\",\"Free\",\"Free\",\"Free\",\"Free\",\"Free\",\"Free\",\"Free\",\"Free\",\"Free\",\"Free\",\"Free\",\"Free\",\"Free\",\"Free\",\"Free\",\"Free\",\"Free\",\"Free\",\"Free\",\"Free\",\"Free\",\"Free\",\"Free\",\"Free\",\"Free\",\"Free\",\"Free\",\"Free\",\"Free\",\"Free\",\"Free\",\"Free\",\"Free\",\"Free\",\"Free\",\"Free\",\"Free\",\"Free\",\"Free\",\"Free\",\"Free\",\"Free\",\"Free\",\"Free\",\"Free\",\"Free\",\"Free\",\"Free\",\"Free\",\"Free\",\"Free\",\"Free\",\"Free\",\"Free\",\"Free\",\"Free\",\"Free\",\"Free\",\"Free\",\"Free\",\"Free\",\"Free\",\"Free\",\"Free\",\"Free\",\"Free\",\"Free\",\"Free\",\"Free\",\"Free\",\"Free\",\"Free\",\"Free\",\"Free\",\"Free\",\"Free\",\"Free\",\"Free\",\"Free\",\"Free\",\"Free\",\"Free\",\"Free\",\"Free\",\"Free\",\"Free\",\"Free\",\"Free\",\"Free\",\"Free\",\"Free\",\"Free\",\"Free\",\"Free\",\"Free\",\"Free\",\"Free\",\"Free\",\"Free\",\"Free\",\"Free\",\"Free\",\"Free\",\"Free\",\"Free\",\"Free\",\"Free\",\"Free\",\"Free\",\"Free\",\"Free\",\"Free\",\"Free\",\"Free\",\"Free\",\"Free\",\"Free\",\"Free\",\"Free\",\"Free\",\"Free\",\"Free\",\"Free\",\"Free\",\"Free\",\"Free\",\"Free\",\"Free\",\"Free\",\"Free\",\"Free\",\"Free\",\"Free\",\"Free\",\"Free\",\"Free\",\"Free\",\"Free\",\"Free\",\"Free\",\"Free\",\"Free\",\"Free\",\"Free\",\"Free\",\"Free\",\"Free\",\"Free\",\"Free\",\"Free\",\"Free\",\"Free\",\"Free\",\"Free\",\"Free\",\"Free\",\"Free\",\"Free\",\"Free\",\"Free\",\"Free\",\"Free\",\"Free\",\"Free\",\"Free\",\"Free\",\"Free\",\"Free\",\"Free\",\"Free\",\"Free\",\"Free\",\"Free\",\"Free\",\"Free\",\"Free\",\"Free\",\"Free\",\"Free\",\"Free\",\"Free\",\"Free\",\"Free\",\"Free\",\"Free\",\"Free\",\"Free\",\"Free\",\"Free\",\"Free\",\"Free\",\"Free\",\"Free\",\"Free\",\"Free\",\"Free\",\"Free\",\"Free\",\"Free\",\"Free\",\"Free\",\"Free\",\"Free\",\"Free\",\"Free\",\"Free\",\"Free\",\"Free\",\"Free\",\"Free\",\"Free\",\"Free\",\"Free\",\"Free\",\"Free\",\"Free\",\"Free\",\"Free\",\"Free\",\"Free\",\"Free\",\"Free\",\"Free\",\"Free\",\"Free\",\"Free\",\"Free\",\"Free\",\"Free\",\"Free\",\"Free\",\"Free\",\"Free\",\"Free\",\"Free\",\"Free\",\"Free\",\"Free\",\"Free\",\"Free\",\"Free\",\"Free\",\"Free\",\"Free\",\"Free\",\"Free\",\"Free\",\"Free\",\"Free\",\"Free\",\"Free\",\"Free\",\"Free\",\"Free\",\"Free\",\"Free\",\"Free\",\"Free\",\"Free\",\"Free\",\"Free\",\"Free\",\"Free\",\"Free\",\"Free\",\"Free\",\"Free\",\"Free\",\"Free\",\"Free\",\"Free\",\"Free\",\"Free\",\"Free\",\"Free\",\"Free\",\"Free\",\"Free\",\"Free\",\"Free\",\"Free\",\"Free\",\"Free\",\"Free\",\"Free\",\"Free\",\"Free\",\"Free\",\"Free\",\"Free\",\"Free\",\"Free\",\"Free\",\"Free\",\"Free\",\"Free\",\"Free\",\"Free\",\"Free\",\"Free\",\"Free\",\"Free\",\"Free\",\"Free\",\"Free\",\"Free\",\"Free\",\"Free\",\"Free\",\"Free\",\"Free\",\"Free\",\"Free\",\"Free\",\"Free\",\"Free\",\"Free\",\"Free\",\"Free\",\"Free\",\"Free\",\"Free\",\"Free\",\"Free\",\"Free\",\"Free\",\"Free\",\"Free\",\"Free\",\"Free\",\"Free\",\"Free\",\"Free\",\"Free\",\"Free\",\"Free\",\"Free\",\"Free\",\"Free\",\"Free\",\"Free\",\"Free\",\"Free\",\"Free\",\"Free\",\"Free\",\"Free\",\"Free\",\"Free\",\"Free\",\"Free\",\"Free\",\"Free\",\"Free\",\"Free\",\"Free\",\"Free\",\"Free\",\"Free\",\"Free\",\"Free\",\"Free\",\"Free\",\"Free\",\"Free\",\"Free\",\"Free\",\"Free\",\"Free\",\"Free\",\"Free\",\"Free\",\"Free\",\"Free\",\"Free\",\"Free\",\"Free\",\"Free\",\"Free\",\"Free\",\"Free\",\"Free\",\"Free\",\"Free\",\"Free\",\"Free\",\"Free\",\"Free\",\"Free\",\"Free\",\"Free\",\"Free\",\"Free\",\"Free\",\"Free\",\"Free\",\"Free\",\"Free\",\"Free\",\"Free\",\"Free\",\"Free\",\"Free\",\"Free\",\"Free\",\"Free\",\"Free\",\"Free\",\"Free\",\"Free\",\"Free\",\"Free\",\"Free\",\"Free\",\"Free\",\"Free\",\"Free\",\"Free\",\"Free\",\"Free\",\"Free\",\"Free\",\"Free\",\"Free\",\"Free\",\"Free\",\"Free\",\"Free\",\"Free\",\"Free\",\"Free\",\"Free\",\"Free\",\"Free\",\"Free\",\"Free\",\"Free\",\"Free\",\"Free\",\"Free\",\"Free\",\"Free\",\"Free\",\"Free\",\"Free\",\"Free\",\"Free\",\"Free\",\"Free\",\"Free\",\"Free\",\"Free\",\"Free\",\"Free\",\"Free\",\"Free\",\"Free\",\"Free\",\"Free\",\"Free\",\"Free\",\"Free\",\"Free\",\"Free\",\"Free\",\"Free\",\"Free\",\"Free\",\"Free\",\"Free\",\"Free\",\"Free\",\"Free\",\"Free\",\"Free\",\"Free\",\"Free\",\"Free\",\"Free\",\"Free\",\"Free\",\"Free\",\"Free\",\"Free\",\"Free\",\"Free\",\"Free\",\"Free\",\"Free\",\"Free\",\"Free\",\"Free\",\"Free\",\"Free\",\"Free\",\"Free\",\"Free\",\"Free\",\"Free\",\"Free\",\"Free\",\"Free\",\"Free\",\"Free\",\"Free\",\"Free\",\"Free\",\"Free\",\"Free\",\"Free\",\"Free\",\"Free\",\"Free\",\"Free\",\"Free\",\"Free\",\"Free\",\"Free\",\"Free\",\"Free\",\"Free\",\"Free\",\"Free\",\"Free\",\"Free\",\"Free\",\"Free\",\"Free\",\"Free\",\"Free\",\"Free\",\"Free\",\"Free\",\"Free\",\"Free\",\"Free\",\"Free\",\"Free\",\"Free\",\"Free\",\"Free\",\"Free\",\"Free\",\"Free\",\"Free\",\"Free\",\"Free\",\"Free\",\"Free\",\"Free\",\"Free\",\"Free\",\"Free\",\"Free\",\"Free\",\"Free\",\"Free\",\"Free\",\"Free\",\"Free\",\"Free\",\"Free\",\"Free\",\"Free\",\"Free\",\"Free\",\"Free\",\"Free\",\"Free\",\"Free\",\"Free\",\"Free\",\"Free\",\"Free\",\"Free\",\"Free\",\"Free\",\"Free\",\"Free\",\"Free\",\"Free\",\"Free\",\"Free\",\"Free\",\"Free\",\"Free\",\"Free\",\"Free\",\"Free\",\"Free\",\"Free\",\"Free\",\"Free\",\"Free\",\"Free\",\"Free\",\"Free\",\"Free\",\"Free\",\"Free\",\"Free\",\"Free\",\"Free\",\"Free\",\"Free\",\"Free\",\"Free\",\"Free\",\"Free\",\"Free\",\"Free\",\"Free\",\"Free\",\"Free\",\"Free\",\"Free\",\"Free\",\"Free\",\"Free\",\"Free\",\"Free\",\"Free\",\"Free\",\"Free\",\"Free\",\"Free\",\"Free\",\"Free\",\"Free\",\"Free\",\"Free\",\"Free\",\"Free\",\"Free\",\"Free\",\"Free\",\"Free\",\"Free\",\"Free\",\"Free\",\"Free\",\"Free\",\"Free\",\"Free\",\"Free\",\"Free\",\"Free\",\"Free\",\"Free\",\"Free\",\"Free\",\"Free\",\"Free\",\"Free\",\"Free\",\"Free\",\"Free\",\"Free\",\"Free\",\"Free\",\"Free\",\"Free\",\"Free\",\"Free\",\"Free\",\"Free\",\"Free\",\"Free\",\"Free\",\"Free\",\"Free\",\"Free\",\"Free\",\"Free\",\"Free\",\"Free\",\"Free\",\"Free\",\"Free\",\"Free\",\"Free\",\"Free\",\"Free\",\"Free\",\"Free\",\"Free\",\"Free\",\"Free\",\"Free\",\"Free\",\"Free\",\"Free\",\"Free\",\"Free\",\"Free\",\"Free\",\"Free\",\"Free\",\"Free\",\"Free\",\"Free\",\"Free\",\"Free\",\"Free\",\"Free\",\"Free\",\"Free\",\"Free\",\"Free\",\"Free\",\"Free\",\"Free\",\"Free\",\"Free\",\"Free\",\"Free\",\"Free\",\"Free\",\"Free\",\"Free\",\"Free\",\"Free\",\"Free\",\"Free\",\"Free\",\"Free\",\"Free\",\"Free\",\"Free\",\"Free\",\"Free\",\"Free\",\"Free\",\"Free\",\"Free\",\"Free\",\"Free\",\"Free\",\"Free\",\"Free\",\"Free\",\"Free\",\"Free\",\"Free\",\"Free\",\"Free\",\"Free\",\"Free\",\"Free\",\"Free\",\"Free\",\"Free\",\"Free\",\"Free\",\"Free\",\"Free\",\"Free\",\"Free\",\"Free\",\"Free\",\"Free\",\"Free\",\"Free\",\"Free\",\"Free\",\"Free\",\"Free\",\"Free\",\"Free\",\"Free\",\"Free\",\"Free\",\"Free\",\"Free\",\"Free\",\"Free\",\"Free\",\"Free\",\"Free\",\"Free\",\"Free\",\"Free\",\"Free\",\"Free\",\"Free\",\"Free\",\"Free\",\"Free\",\"Free\",\"Free\",\"Free\",\"Free\",\"Free\",\"Free\",\"Free\",\"Free\",\"Free\",\"Free\",\"Free\",\"Free\",\"Free\",\"Free\",\"Free\",\"Free\",\"Free\",\"Free\",\"Free\",\"Free\",\"Free\",\"Free\",\"Free\",\"Free\",\"Free\",\"Free\",\"Free\",\"Free\",\"Free\",\"Free\",\"Free\",\"Free\",\"Free\",\"Free\",\"Free\",\"Free\",\"Free\",\"Free\",\"Free\",\"Free\",\"Free\",\"Free\",\"Free\",\"Free\",\"Free\",\"Free\",\"Free\",\"Free\",\"Free\",\"Free\",\"Free\",\"Free\",\"Free\",\"Free\",\"Free\",\"Free\",\"Free\",\"Free\",\"Free\",\"Free\",\"Free\",\"Free\",\"Free\",\"Free\",\"Free\",\"Free\",\"Free\",\"Free\",\"Free\",\"Free\",\"Free\",\"Free\",\"Free\",\"Free\",\"Free\",\"Free\",\"Free\",\"Free\",\"Free\",\"Free\",\"Free\",\"Free\",\"Free\",\"Free\",\"Free\",\"Free\",\"Free\",\"Free\",\"Free\",\"Free\",\"Free\",\"Free\",\"Free\",\"Free\",\"Free\",\"Free\",\"Free\",\"Free\",\"Free\",\"Free\",\"Free\",\"Free\",\"Free\",\"Free\",\"Free\",\"Free\",\"Free\",\"Free\",\"Free\",\"Free\",\"Free\",\"Free\",\"Free\",\"Free\",\"Free\",\"Free\",\"Free\",\"Free\",\"Free\",\"Free\",\"Free\",\"Free\",\"Free\",\"Free\",\"Free\",\"Free\",\"Free\",\"Free\",\"Free\",\"Free\",\"Free\",\"Free\",\"Free\",\"Free\",\"Free\",\"Free\",\"Free\",\"Free\",\"Free\",\"Free\",\"Free\",\"Free\",\"Free\",\"Free\",\"Free\",\"Free\",\"Free\",\"Free\",\"Free\",\"Free\",\"Free\",\"Free\",\"Free\",\"Free\",\"Free\",\"Free\",\"Free\",\"Free\",\"Free\",\"Free\",\"Free\",\"Free\",\"Free\",\"Free\",\"Free\",\"Free\",\"Free\",\"Free\",\"Free\",\"Free\",\"Free\",\"Free\",\"Free\",\"Free\",\"Free\",\"Free\",\"Free\",\"Free\",\"Free\",\"Free\",\"Free\",\"Free\",\"Free\",\"Free\",\"Free\",\"Free\",\"Free\",\"Free\",\"Free\",\"Free\",\"Free\",\"Free\",\"Free\",\"Free\",\"Free\",\"Free\",\"Free\",\"Free\",\"Free\",\"Free\",\"Free\",\"Free\",\"Free\",\"Free\",\"Free\",\"Free\",\"Free\",\"Free\",\"Free\",\"Free\",\"Free\",\"Free\",\"Free\",\"Free\",\"Free\",\"Free\",\"Free\",\"Free\",\"Free\",\"Free\",\"Free\",\"Free\",\"Free\",\"Free\",\"Free\",\"Free\",\"Free\",\"Free\",\"Free\",\"Free\",\"Free\",\"Free\",\"Free\",\"Free\",\"Free\",\"Free\",\"Free\",\"Free\",\"Free\",\"Free\",\"Free\",\"Free\",\"Free\",\"Free\",\"Free\",\"Free\",\"Free\",\"Free\",\"Free\",\"Free\",\"Free\",\"Free\",\"Free\",\"Free\",\"Free\",\"Free\",\"Free\",\"Free\",\"Free\",\"Free\",\"Free\",\"Free\",\"Free\",\"Free\",\"Free\",\"Free\",\"Free\",\"Free\",\"Free\",\"Free\",\"Free\",\"Free\",\"Free\",\"Free\",\"Free\",\"Free\",\"Free\",\"Free\",\"Free\",\"Free\",\"Free\",\"Free\",\"Free\",\"Free\",\"Free\",\"Free\",\"Free\",\"Free\",\"Free\",\"Free\",\"Free\",\"Free\",\"Free\",\"Free\",\"Free\",\"Free\",\"Free\",\"Free\",\"Free\",\"Free\",\"Free\",\"Free\",\"Free\",\"Free\",\"Free\",\"Free\",\"Free\",\"Free\",\"Free\",\"Free\",\"Free\",\"Free\",\"Free\",\"Free\",\"Free\",\"Free\",\"Free\",\"Free\",\"Free\",\"Free\",\"Free\",\"Free\",\"Free\",\"Free\",\"Free\",\"Free\",\"Free\",\"Free\",\"Free\",\"Free\",\"Free\",\"Free\",\"Free\",\"Free\",\"Free\",\"Free\",\"Free\",\"Free\",\"Free\",\"Free\",\"Free\",\"Free\",\"Free\",\"Free\",\"Free\",\"Free\",\"Free\",\"Free\",\"Free\",\"Free\",\"Free\",\"Free\",\"Free\",\"Free\",\"Free\",\"Free\",\"Free\",\"Free\",\"Free\",\"Free\",\"Free\",\"Free\",\"Free\",\"Free\",\"Free\",\"Free\",\"Free\",\"Free\",\"Free\",\"Free\",\"Free\",\"Free\",\"Free\",\"Free\",\"Free\",\"Free\",\"Free\",\"Free\",\"Free\",\"Free\",\"Free\",\"Free\",\"Free\",\"Free\",\"Free\",\"Free\",\"Free\",\"Free\",\"Free\",\"Free\",\"Free\",\"Free\",\"Free\",\"Free\",\"Free\",\"Free\",\"Free\",\"Free\",\"Free\",\"Free\",\"Free\",\"Free\",\"Free\",\"Free\",\"Free\",\"Free\",\"Free\",\"Free\",\"Free\",\"Free\",\"Free\",\"Free\",\"Free\",\"Free\",\"Free\",\"Free\",\"Free\",\"Free\",\"Free\",\"Free\",\"Free\",\"Free\",\"Free\",\"Free\",\"Free\",\"Free\",\"Free\",\"Free\",\"Free\",\"Free\",\"Free\",\"Free\",\"Free\",\"Free\",\"Free\",\"Free\",\"Free\",\"Free\",\"Free\",\"Free\",\"Free\",\"Free\",\"Free\",\"Free\",\"Free\",\"Free\",\"Free\",\"Free\",\"Free\",\"Free\",\"Free\",\"Free\",\"Free\",\"Free\",\"Free\",\"Free\",\"Free\",\"Free\",\"Free\",\"Free\",\"Free\",\"Free\",\"Free\",\"Free\",\"Free\",\"Free\",\"Free\",\"Free\",\"Free\",\"Free\",\"Free\",\"Free\",\"Free\",\"Free\",\"Free\",\"Free\",\"Free\",\"Free\",\"Free\",\"Free\",\"Free\",\"Free\",\"Free\",\"Free\",\"Free\",\"Free\",\"Free\",\"Free\",\"Free\",\"Free\",\"Free\",\"Free\",\"Free\",\"Free\",\"Free\",\"Free\",\"Free\",\"Free\",\"Free\",\"Free\",\"Free\",\"Free\",\"Free\",\"Free\",\"Free\",\"Free\",\"Free\",\"Free\",\"Free\",\"Free\",\"Free\",\"Free\",\"Free\",\"Free\",\"Free\",\"Free\",\"Free\",\"Free\",\"Free\",\"Free\",\"Free\",\"Free\",\"Free\",\"Free\",\"Free\",\"Free\",\"Free\",\"Free\",\"Free\",\"Free\",\"Free\",\"Free\",\"Free\",\"Free\",\"Free\",\"Free\",\"Free\",\"Free\",\"Free\",\"Free\",\"Free\",\"Free\",\"Free\",\"Free\",\"Free\",\"Free\",\"Free\",\"Free\",\"Free\",\"Free\",\"Free\",\"Free\",\"Free\",\"Free\",\"Free\",\"Free\",\"Free\",\"Free\",\"Free\",\"Free\",\"Free\",\"Free\",\"Free\",\"Free\",\"Free\",\"Free\",\"Free\",\"Free\",\"Free\",\"Free\",\"Free\",\"Free\",\"Free\",\"Free\",\"Free\",\"Free\",\"Free\",\"Free\",\"Free\",\"Free\",\"Free\",\"Free\",\"Free\",\"Free\",\"Free\",\"Free\",\"Free\",\"Free\",\"Free\",\"Free\",\"Free\",\"Free\",\"Free\",\"Free\",\"Free\",\"Free\",\"Free\",\"Free\",\"Free\",\"Free\",\"Free\",\"Free\",\"Free\",\"Free\",\"Free\",\"Free\",\"Free\",\"Free\",\"Free\",\"Free\",\"Free\",\"Free\",\"Free\",\"Free\",\"Free\",\"Free\",\"Free\",\"Free\",\"Free\",\"Free\",\"Free\",\"Free\",\"Free\",\"Free\",\"Free\",\"Free\",\"Free\",\"Free\",\"Free\",\"Free\",\"Free\",\"Free\",\"Free\",\"Free\",\"Free\",\"Free\",\"Free\",\"Free\",\"Free\",\"Free\",\"Free\",\"Free\",\"Free\",\"Free\",\"Free\",\"Free\",\"Free\",\"Free\",\"Free\",\"Free\",\"Free\",\"Free\",\"Free\",\"Free\",\"Free\",\"Free\",\"Free\",\"Free\",\"Free\",\"Free\",\"Free\",\"Free\",\"Free\",\"Free\",\"Free\",\"Free\",\"Free\",\"Free\",\"Free\",\"Free\",\"Free\",\"Free\",\"Free\",\"Free\",\"Free\",\"Free\",\"Free\",\"Free\",\"Free\",\"Free\",\"Free\",\"Free\",\"Free\",\"Free\",\"Free\",\"Free\",\"Free\",\"Free\",\"Free\",\"Free\",\"Free\",\"Free\",\"Free\",\"Free\",\"Free\",\"Free\",\"Free\",\"Free\",\"Free\",\"Free\",\"Free\",\"Free\",\"Free\",\"Free\",\"Free\",\"Free\",\"Free\",\"Free\",\"Free\",\"Free\",\"Free\",\"Free\",\"Free\",\"Free\",\"Free\",\"Free\",\"Free\",\"Free\",\"Free\",\"Free\",\"Free\",\"Free\",\"Free\",\"Free\",\"Free\",\"Free\",\"Free\",\"Free\",\"Free\",\"Free\",\"Free\",\"Free\",\"Free\",\"Free\",\"Free\",\"Free\",\"Free\",\"Free\",\"Free\",\"Free\",\"Free\",\"Free\",\"Free\",\"Free\",\"Free\",\"Free\",\"Free\",\"Free\",\"Free\",\"Free\",\"Free\",\"Free\",\"Free\",\"Free\",\"Free\",\"Free\",\"Free\",\"Free\",\"Free\",\"Free\",\"Free\",\"Free\",\"Free\",\"Free\",\"Free\",\"Free\",\"Free\",\"Free\",\"Free\",\"Free\",\"Free\",\"Free\",\"Free\",\"Free\",\"Free\",\"Free\",\"Free\",\"Free\",\"Free\",\"Free\",\"Free\",\"Free\",\"Free\",\"Free\",\"Free\",\"Free\",\"Free\",\"Free\",\"Free\",\"Free\",\"Free\",\"Free\",\"Free\",\"Free\",\"Free\",\"Free\",\"Free\",\"Free\",\"Free\",\"Free\",\"Free\",\"Free\",\"Free\",\"Free\",\"Free\",\"Free\",\"Free\",\"Free\",\"Free\",\"Free\",\"Free\",\"Free\",\"Free\",\"Free\",\"Free\",\"Free\",\"Free\",\"Free\",\"Free\",\"Free\",\"Free\",\"Free\",\"Free\",\"Free\",\"Free\",\"Free\",\"Free\",\"Free\",\"Free\",\"Free\",\"Free\",\"Free\",\"Free\",\"Free\",\"Free\",\"Free\",\"Free\",\"Free\",\"Free\",\"Free\",\"Free\",\"Free\",\"Free\",\"Free\",\"Free\",\"Free\",\"Free\",\"Free\",\"Free\",\"Free\",\"Free\",\"Free\",\"Free\",\"Free\",\"Free\",\"Free\",\"Free\",\"Free\",\"Free\",\"Free\",\"Free\",\"Free\",\"Free\",\"Free\",\"Free\",\"Free\",\"Free\",\"Free\",\"Free\",\"Free\",\"Free\",\"Free\",\"Free\",\"Free\",\"Free\",\"Free\",\"Free\",\"Free\",\"Free\",\"Free\",\"Free\",\"Free\",\"Free\",\"Free\",\"Free\",\"Free\",\"Free\",\"Free\",\"Free\",\"Free\",\"Free\",\"Free\",\"Free\",\"Free\",\"Free\",\"Free\",\"Free\",\"Free\",\"Free\",\"Free\",\"Free\",\"Free\",\"Free\",\"Free\",\"Free\",\"Free\",\"Free\",\"Free\",\"Free\",\"Free\",\"Free\",\"Free\",\"Free\",\"Free\",\"Free\",\"Free\",\"Free\",\"Free\",\"Free\",\"Free\",\"Free\",\"Free\",\"Free\",\"Free\",\"Free\",\"Free\",\"Free\",\"Free\",\"Free\",\"Free\",\"Free\",\"Free\",\"Free\",\"Free\",\"Free\",\"Free\",\"Free\",\"Free\",\"Free\",\"Free\",\"Free\",\"Free\",\"Free\",\"Free\",\"Free\",\"Free\",\"Free\",\"Free\",\"Free\",\"Free\",\"Free\",\"Free\",\"Free\",\"Free\",\"Free\",\"Free\",\"Free\",\"Free\",\"Free\",\"Free\",\"Free\",\"Free\",\"Free\",\"Free\",\"Free\",\"Free\",\"Free\",\"Free\",\"Free\",\"Free\",\"Free\",\"Free\",\"Free\",\"Free\",\"Free\",\"Free\",\"Free\",\"Free\",\"Free\",\"Free\",\"Free\",\"Free\",\"Free\",\"Free\",\"Free\",\"Free\",\"Free\",\"Free\",\"Free\",\"Free\",\"Free\",\"Free\",\"Free\",\"Free\",\"Free\",\"Free\",\"Free\",\"Free\",\"Free\",\"Free\",\"Free\",\"Free\",\"Free\",\"Free\",\"Free\",\"Free\",\"Free\",\"Free\",\"Free\",\"Free\",\"Free\",\"Free\",\"Free\",\"Free\",\"Free\",\"Free\",\"Free\",\"Free\",\"Free\",\"Free\",\"Free\",\"Free\",\"Free\",\"Free\",\"Free\",\"Free\",\"Free\",\"Free\",\"Free\",\"Free\",\"Free\",\"Free\",\"Free\",\"Free\",\"Free\",\"Free\",\"Free\",\"Free\",\"Free\",\"Free\",\"Free\",\"Free\",\"Free\",\"Free\",\"Free\",\"Free\",\"Free\",\"Free\",\"Free\",\"Free\",\"Free\",\"Free\",\"Free\",\"Free\",\"Free\",\"Free\",\"Free\",\"Free\",\"Free\",\"Free\",\"Free\",\"Free\",\"Free\",\"Free\",\"Free\",\"Free\",\"Free\",\"Free\",\"Free\",\"Free\",\"Free\",\"Free\",\"Free\",\"Free\",\"Free\",\"Free\",\"Free\",\"Free\",\"Free\",\"Free\",\"Free\",\"Free\",\"Free\",\"Free\",\"Free\",\"Free\",\"Free\",\"Free\",\"Free\",\"Free\",\"Free\",\"Free\",\"Free\",\"Free\",\"Free\",\"Free\",\"Free\",\"Free\",\"Free\",\"Free\",\"Free\",\"Free\",\"Free\",\"Free\",\"Free\",\"Free\",\"Free\",\"Free\",\"Free\",\"Free\",\"Free\",\"Free\",\"Free\",\"Free\",\"Free\",\"Free\",\"Free\",\"Free\",\"Free\",\"Free\",\"Free\",\"Free\",\"Free\",\"Free\",\"Free\",\"Free\",\"Free\",\"Free\",\"Free\",\"Free\",\"Free\",\"Free\",\"Free\",\"Free\",\"Free\",\"Free\",\"Free\",\"Free\",\"Free\",\"Free\",\"Free\",\"Free\",\"Free\",\"Free\",\"Free\",\"Free\",\"Free\",\"Free\",\"Free\",\"Free\",\"Free\",\"Free\",\"Free\",\"Free\",\"Free\",\"Free\",\"Free\",\"Free\",\"Free\",\"Free\",\"Free\",\"Free\",\"Free\",\"Free\",\"Free\",\"Free\",\"Free\",\"Free\",\"Free\",\"Free\",\"Free\",\"Free\",\"Free\",\"Free\",\"Free\",\"Free\",\"Free\",\"Free\",\"Free\",\"Free\",\"Free\",\"Free\",\"Free\",\"Free\",\"Free\",\"Free\",\"Free\",\"Free\",\"Free\",\"Free\",\"Free\",\"Free\",\"Free\",\"Free\",\"Free\",\"Free\",\"Free\",\"Free\",\"Free\",\"Free\",\"Free\",\"Free\",\"Free\",\"Free\",\"Free\",\"Free\",\"Free\",\"Free\",\"Free\",\"Free\",\"Free\",\"Free\",\"Free\",\"Free\",\"Free\",\"Free\",\"Free\",\"Free\",\"Free\",\"Free\",\"Free\",\"Free\",\"Free\",\"Free\",\"Free\",\"Free\",\"Free\",\"Free\",\"Free\",\"Free\",\"Free\",\"Free\",\"Free\",\"Free\",\"Free\",\"Free\",\"Free\",\"Free\",\"Free\",\"Free\",\"Free\",\"Free\",\"Free\",\"Free\",\"Free\",\"Free\",\"Free\",\"Free\",\"Free\",\"Free\",\"Free\",\"Free\",\"Free\",\"Free\",\"Free\",\"Free\",\"Free\",\"Free\",\"Free\",\"Free\",\"Free\",\"Free\",\"Free\",\"Free\",\"Free\",\"Free\",\"Free\",\"Free\",\"Free\",\"Free\",\"Free\",\"Free\",\"Free\",\"Free\",\"Free\",\"Free\",\"Free\",\"Free\",\"Free\",\"Free\",\"Free\",\"Free\",\"Free\",\"Free\",\"Free\",\"Free\",\"Free\",\"Free\",\"Free\",\"Free\",\"Free\",\"Free\",\"Free\",\"Free\",\"Free\",\"Free\",\"Free\",\"Free\",\"Free\",\"Free\",\"Free\",\"Free\",\"Free\",\"Free\",\"Free\",\"Free\",\"Free\",\"Free\",\"Free\",\"Free\",\"Free\",\"Free\",\"Free\",\"Free\",\"Free\",\"Free\",\"Free\",\"Free\",\"Free\",\"Free\",\"Free\",\"Free\",\"Free\",\"Free\",\"Free\",\"Free\",\"Free\",\"Free\",\"Free\",\"Free\",\"Free\",\"Free\",\"Free\",\"Free\",\"Free\",\"Free\",\"Free\",\"Free\",\"Free\",\"Free\",\"Free\",\"Free\",\"Free\",\"Free\",\"Free\",\"Free\",\"Free\",\"Free\",\"Free\",\"Free\",\"Free\",\"Free\",\"Free\",\"Free\",\"Free\",\"Free\",\"Free\",\"Free\",\"Free\",\"Free\",\"Free\",\"Free\",\"Free\",\"Free\",\"Free\",\"Free\",\"Free\",\"Free\",\"Free\",\"Free\",\"Free\",\"Free\",\"Free\",\"Free\",\"Free\",\"Free\",\"Free\",\"Free\",\"Free\",\"Free\",\"Free\",\"Free\",\"Free\",\"Free\",\"Free\",\"Free\",\"Free\",\"Free\",\"Free\",\"Free\",\"Free\",\"Free\",\"Free\",\"Free\",\"Free\",\"Free\",\"Free\",\"Free\",\"Free\",\"Free\",\"Free\",\"Free\",\"Free\",\"Free\",\"Free\",\"Free\",\"Free\",\"Free\",\"Free\",\"Free\",\"Free\",\"Free\",\"Free\",\"Free\",\"Free\",\"Free\",\"Free\",\"Free\",\"Free\",\"Free\",\"Free\",\"Free\",\"Free\",\"Free\",\"Free\",\"Free\",\"Free\",\"Free\",\"Free\",\"Free\",\"Free\",\"Free\",\"Free\",\"Free\",\"Free\",\"Free\",\"Free\",\"Free\",\"Free\",\"Free\",\"Free\",\"Free\",\"Free\",\"Free\",\"Free\",\"Free\",\"Free\",\"Free\",\"Free\",\"Free\",\"Free\",\"Free\",\"Free\",\"Free\",\"Free\",\"Free\",\"Free\",\"Free\",\"Free\",\"Free\",\"Free\",\"Free\",\"Free\",\"Free\",\"Free\",\"Free\",\"Free\",\"Free\",\"Free\",\"Free\",\"Free\",\"Free\",\"Free\",\"Free\",\"Free\",\"Free\",\"Free\",\"Free\",\"Free\",\"Free\",\"Free\",\"Free\",\"Free\",\"Free\",\"Free\",\"Free\",\"Free\",\"Free\",\"Free\",\"Free\",\"Free\",\"Free\",\"Free\",\"Free\",\"Free\",\"Free\",\"Free\",\"Free\",\"Free\",\"Free\",\"Free\",\"Free\",\"Free\",\"Free\",\"Free\",\"Free\",\"Free\",\"Free\",\"Free\",\"Free\",\"Free\",\"Free\",\"Free\",\"Free\",\"Free\",\"Free\",\"Free\",\"Free\",\"Free\",\"Free\",\"Free\",\"Free\",\"Free\",\"Free\",\"Free\",\"Free\",\"Free\",\"Free\",\"Free\",\"Free\",\"Free\",\"Free\",\"Free\",\"Free\",\"Free\",\"Free\",\"Free\",\"Free\",\"Free\",\"Free\",\"Free\",\"Free\",\"Free\",\"Free\",\"Free\",\"Free\",\"Free\",\"Free\",\"Free\",\"Free\",\"Free\",\"Free\",\"Free\",\"Free\",\"Free\",\"Free\",\"Free\",\"Free\",\"Free\",\"Free\",\"Free\",\"Free\",\"Free\",\"Free\",\"Free\",\"Free\",\"Free\",\"Free\",\"Free\",\"Free\",\"Free\",\"Free\",\"Free\",\"Free\",\"Free\",\"Free\",\"Free\",\"Free\",\"Free\",\"Free\",\"Free\",\"Free\",\"Free\",\"Free\",\"Free\",\"Free\",\"Free\",\"Free\",\"Free\",\"Free\",\"Free\",\"Free\",\"Free\",\"Free\",\"Free\",\"Free\",\"Free\",\"Free\",\"Free\",\"Free\",\"Free\",\"Free\",\"Free\",\"Free\",\"Free\",\"Free\",\"Free\",\"Free\",\"Free\",\"Free\",\"Free\",\"Free\",\"Free\",\"Free\",\"Free\",\"Free\",\"Free\",\"Free\",\"Free\",\"Free\",\"Free\",\"Free\",\"Free\",\"Free\",\"Free\",\"Free\",\"Free\",\"Free\",\"Free\",\"Free\",\"Free\",\"Free\",\"Free\",\"Free\",\"Free\",\"Free\",\"Free\",\"Free\",\"Free\",\"Free\",\"Free\",\"Free\",\"Free\",\"Free\",\"Free\",\"Free\",\"Free\",\"Free\",\"Free\",\"Free\",\"Free\",\"Free\",\"Free\",\"Free\",\"Free\",\"Free\",\"Free\",\"Free\",\"Free\",\"Free\",\"Free\",\"Free\",\"Free\",\"Free\",\"Free\",\"Free\",\"Free\",\"Free\",\"Free\",\"Free\",\"Free\",\"Free\",\"Free\",\"Free\",\"Free\",\"Free\",\"Free\",\"Free\",\"Free\",\"Free\",\"Free\",\"Free\",\"Free\",\"Free\",\"Free\",\"Free\",\"Free\",\"Free\",\"Free\",\"Free\",\"Free\",\"Free\",\"Free\",\"Free\",\"Free\",\"Free\",\"Free\",\"Free\",\"Free\",\"Free\",\"Free\",\"Free\",\"Free\",\"Free\",\"Free\",\"Free\",\"Free\",\"Free\",\"Free\",\"Free\",\"Free\",\"Free\",\"Free\",\"Free\",\"Free\",\"Free\",\"Free\",\"Free\",\"Free\",\"Free\",\"Free\",\"Free\",\"Free\",\"Free\",\"Free\",\"Free\",\"Free\",\"Free\",\"Free\",\"Free\",\"Free\",\"Free\",\"Free\",\"Free\",\"Free\",\"Free\",\"Free\",\"Free\",\"Free\",\"Free\",\"Free\",\"Free\",\"Free\",\"Free\",\"Free\",\"Free\",\"Free\",\"Free\",\"Free\",\"Free\",\"Free\",\"Free\",\"Free\",\"Free\",\"Free\",\"Free\",\"Free\",\"Free\",\"Free\",\"Free\",\"Free\",\"Free\",\"Free\",\"Free\",\"Free\",\"Free\",\"Free\",\"Free\",\"Free\",\"Free\",\"Free\",\"Free\",\"Free\",\"Free\",\"Free\",\"Free\",\"Free\",\"Free\",\"Free\",\"Free\",\"Free\",\"Free\",\"Free\",\"Free\",\"Free\",\"Free\",\"Free\",\"Free\",\"Free\",\"Free\",\"Free\",\"Free\",\"Free\",\"Free\",\"Free\",\"Free\",\"Free\",\"Free\",\"Free\",\"Free\",\"Free\",\"Free\",\"Free\",\"Free\",\"Free\",\"Free\",\"Free\",\"Free\",\"Free\",\"Free\",\"Free\",\"Free\",\"Free\",\"Free\",\"Free\",\"Free\",\"Free\",\"Free\",\"Free\",\"Free\",\"Free\",\"Free\",\"Free\",\"Free\",\"Free\",\"Free\",\"Free\",\"Free\",\"Free\",\"Free\",\"Free\",\"Free\",\"Free\",\"Free\",\"Free\",\"Free\",\"Free\",\"Free\",\"Free\",\"Free\",\"Free\",\"Free\",\"Free\",\"Free\",\"Free\",\"Free\",\"Free\",\"Free\",\"Free\",\"Free\",\"Free\",\"Free\",\"Free\",\"Free\",\"Free\",\"Free\",\"Free\",\"Free\",\"Free\",\"Free\",\"Free\",\"Free\",\"Free\",\"Free\",\"Free\",\"Free\",\"Free\",\"Free\",\"Free\",\"Free\",\"Free\",\"Free\",\"Free\",\"Free\",\"Free\",\"Free\",\"Free\",\"Free\",\"Free\",\"Free\",\"Free\",\"Free\",\"Free\",\"Free\",\"Free\",\"Free\",\"Free\",\"Free\",\"Free\",\"Free\",\"Free\",\"Free\",\"Free\",\"Free\",\"Free\",\"Free\",\"Free\",\"Free\",\"Free\",\"Free\",\"Free\",\"Free\",\"Free\",\"Free\",\"Free\",\"Free\",\"Free\",\"Free\",\"Free\",\"Free\",\"Free\",\"Free\",\"Free\",\"Free\",\"Free\",\"Free\",\"Free\",\"Free\",\"Free\",\"Free\",\"Free\",\"Free\",\"Free\",\"Free\",\"Free\",\"Free\",\"Free\",\"Free\",\"Free\",\"Free\",\"Free\",\"Free\",\"Free\",\"Free\",\"Free\",\"Free\",\"Free\",\"Free\",\"Free\",\"Free\",\"Free\",\"Free\",\"Free\",\"Free\",\"Free\",\"Free\",\"Free\",\"Free\",\"Free\",\"Free\",\"Free\",\"Free\",\"Free\",\"Free\",\"Free\",\"Free\",\"Free\",\"Free\",\"Free\",\"Free\",\"Free\",\"Free\",\"Free\",\"Free\",\"Free\",\"Free\",\"Free\",\"Free\",\"Free\",\"Free\",\"Free\",\"Free\",\"Free\",\"Free\",\"Free\",\"Free\",\"Free\",\"Free\",\"Free\",\"Free\",\"Free\",\"Free\",\"Free\",\"Free\",\"Free\",\"Free\",\"Free\",\"Free\",\"Free\",\"Free\",\"Free\",\"Free\",\"Free\",\"Free\",\"Free\",\"Free\",\"Free\",\"Free\",\"Free\",\"Free\",\"Free\",\"Free\",\"Free\",\"Free\",\"Free\",\"Free\",\"Free\",\"Free\",\"Free\",\"Free\",\"Free\",\"Free\",\"Free\",\"Free\",\"Free\",\"Free\",\"Free\",\"Free\",\"Free\",\"Free\",\"Free\",\"Free\",\"Free\",\"Free\",\"Free\",\"Free\",\"Free\",\"Free\",\"Free\",\"Free\",\"Free\",\"Free\",\"Free\",\"Free\",\"Free\",\"Free\",\"Free\",\"Free\",\"Free\",\"Free\",\"Free\",\"Free\",\"Free\",\"Free\",\"Free\",\"Free\",\"Free\",\"Free\",\"Free\",\"Free\",\"Free\",\"Free\",\"Free\",\"Free\",\"Free\",\"Free\",\"Free\",\"Free\",\"Free\",\"Free\",\"Free\",\"Free\",\"Free\",\"Free\",\"Free\",\"Free\",\"Free\",\"Free\",\"Free\",\"Free\",\"Free\",\"Free\",\"Free\",\"Free\",\"Free\",\"Free\",\"Free\",\"Free\",\"Free\",\"Free\",\"Free\",\"Free\",\"Free\",\"Free\",\"Free\",\"Free\",\"Free\",\"Free\",\"Free\",\"Free\",\"Free\",\"Free\",\"Free\",\"Free\",\"Free\",\"Free\",\"Free\",\"Free\",\"Free\",\"Free\",\"Free\",\"Free\",\"Free\",\"Free\",\"Free\",\"Free\",\"Free\",\"Free\",\"Free\",\"Free\",\"Free\",\"Free\",\"Free\",\"Free\",\"Free\",\"Free\",\"Free\",\"Free\",\"Free\",\"Free\",\"Free\",\"Free\",\"Free\",\"Free\",\"Free\",\"Free\",\"Free\",\"Free\",\"Free\",\"Free\",\"Free\",\"Free\",\"Free\",\"Free\",\"Free\",\"Free\",\"Free\",\"Free\",\"Free\",\"Free\",\"Free\",\"Free\",\"Free\",\"Free\",\"Free\",\"Free\",\"Free\",\"Free\",\"Free\",\"Free\",\"Free\",\"Free\",\"Free\",\"Free\",\"Free\",\"Free\",\"Free\",\"Free\",\"Free\",\"Free\",\"Free\",\"Free\",\"Free\",\"Free\",\"Free\",\"Free\",\"Free\",\"Free\",\"Free\",\"Free\",\"Free\",\"Free\",\"Free\",\"Free\",\"Free\",\"Free\",\"Free\",\"Free\",\"Free\",\"Free\",\"Free\",\"Free\",\"Free\",\"Free\",\"Free\",\"Free\",\"Free\",\"Free\",\"Free\",\"Free\",\"Free\",\"Free\",\"Free\",\"Free\",\"Free\",\"Free\",\"Free\",\"Free\",\"Free\",\"Free\",\"Free\",\"Free\",\"Free\",\"Free\",\"Free\",\"Free\",\"Free\",\"Free\",\"Free\",\"Free\",\"Free\",\"Free\",\"Free\",\"Free\",\"Free\",\"Free\",\"Free\",\"Free\",\"Free\",\"Free\",\"Free\",\"Free\",\"Free\",\"Free\",\"Free\",\"Free\",\"Free\",\"Free\",\"Free\",\"Free\",\"Free\",\"Free\",\"Free\",\"Free\",\"Free\",\"Free\",\"Free\",\"Free\",\"Free\",\"Free\",\"Free\",\"Free\",\"Free\",\"Free\",\"Free\",\"Free\",\"Free\",\"Free\",\"Free\",\"Free\",\"Free\",\"Free\",\"Free\",\"Free\",\"Free\",\"Free\",\"Free\",\"Free\",\"Free\",\"Free\",\"Free\",\"Free\",\"Free\",\"Free\",\"Free\",\"Free\",\"Free\",\"Free\",\"Free\",\"Free\",\"Free\",\"Free\",\"Free\",\"Free\",\"Free\",\"Free\",\"Free\",\"Free\",\"Free\",\"Free\",\"Free\",\"Free\",\"Free\",\"Free\",\"Free\",\"Free\",\"Free\",\"Free\",\"Free\",\"Free\",\"Free\",\"Free\",\"Free\",\"Free\",\"Free\",\"Free\",\"Free\",\"Free\",\"Free\",\"Free\",\"Free\",\"Free\",\"Free\",\"Free\",\"Free\",\"Free\",\"Free\",\"Free\",\"Free\",\"Free\",\"Free\",\"Free\",\"Free\",\"Free\",\"Free\",\"Free\",\"Free\",\"Free\",\"Free\",\"Free\",\"Free\",\"Free\",\"Free\",\"Free\",\"Free\",\"Free\",\"Free\",\"Free\",\"Free\",\"Free\",\"Free\",\"Free\",\"Free\",\"Free\",\"Free\",\"Free\",\"Free\",\"Free\",\"Free\",\"Free\",\"Free\",\"Free\",\"Free\",\"Free\",\"Free\",\"Free\",\"Free\",\"Free\",\"Free\",\"Free\",\"Free\",\"Free\",\"Free\",\"Free\",\"Free\",\"Free\",\"Free\",\"Free\",\"Free\",\"Free\",\"Free\",\"Free\",\"Free\",\"Free\",\"Free\",\"Free\",\"Free\",\"Free\",\"Free\",\"Free\",\"Free\",\"Free\",\"Free\",\"Free\",\"Free\",\"Free\",\"Free\",\"Free\",\"Free\",\"Free\",\"Free\",\"Free\",\"Free\",\"Free\",\"Free\",\"Free\",\"Free\",\"Free\",\"Free\",\"Free\",\"Free\",\"Free\",\"Free\",\"Free\",\"Free\",\"Free\",\"Free\",\"Free\",\"Free\",\"Free\",\"Free\",\"Free\",\"Free\",\"Free\",\"Free\",\"Free\",\"Free\",\"Free\",\"Free\",\"Free\",\"Free\",\"Free\",\"Free\",\"Free\",\"Free\",\"Free\",\"Free\",\"Free\",\"Free\",\"Free\",\"Free\",\"Free\",\"Free\",\"Free\",\"Free\",\"Free\",\"Free\",\"Free\",\"Free\",\"Free\",\"Free\",\"Free\",\"Free\",\"Free\",\"Free\",\"Free\",\"Free\",\"Free\",\"Free\",\"Free\",\"Free\",\"Free\",\"Free\",\"Free\",\"Free\",\"Free\",\"Free\",\"Free\",\"Free\",\"Free\",\"Free\",\"Free\",\"Free\",\"Free\",\"Free\",\"Free\",\"Free\",\"Free\",\"Free\",\"Free\",\"Free\",\"Free\",\"Free\",\"Free\",\"Free\",\"Free\",\"Free\",\"Free\",\"Free\",\"Free\",\"Free\",\"Free\",\"Free\",\"Free\",\"Free\",\"Free\",\"Free\",\"Free\",\"Free\",\"Free\",\"Free\",\"Free\",\"Free\",\"Free\",\"Free\",\"Free\",\"Free\",\"Free\",\"Free\",\"Free\",\"Free\",\"Free\",\"Free\",\"Free\",\"Free\",\"Free\",\"Free\",\"Free\",\"Free\",\"Free\",\"Free\",\"Free\",\"Free\",\"Free\",\"Free\",\"Free\",\"Free\",\"Free\",\"Free\",\"Free\",\"Free\",\"Free\",\"Free\",\"Free\",\"Free\",\"Free\",\"Free\",\"Free\",\"Free\",\"Free\",\"Free\",\"Free\",\"Free\",\"Free\",\"Free\",\"Free\",\"Free\",\"Free\",\"Free\",\"Free\",\"Free\",\"Free\",\"Free\",\"Free\",\"Free\",\"Free\",\"Free\",\"Free\",\"Free\",\"Free\",\"Free\",\"Free\",\"Free\",\"Free\",\"Free\",\"Free\",\"Free\",\"Free\",\"Free\",\"Free\",\"Free\",\"Free\",\"Free\",\"Free\",\"Free\",\"Free\",\"Free\",\"Free\",\"Free\",\"Free\",\"Free\",\"Free\",\"Free\",\"Free\",\"Free\",\"Free\",\"Free\",\"Free\",\"Free\",\"Free\",\"Free\",\"Free\",\"Free\",\"Free\",\"Free\",\"Free\",\"Free\",\"Free\",\"Free\",\"Free\",\"Free\",\"Free\",\"Free\",\"Free\",\"Free\",\"Free\",\"Free\",\"Free\",\"Free\",\"Free\",\"Free\",\"Free\",\"Free\",\"Free\",\"Free\",\"Free\",\"Free\",\"Free\",\"Free\",\"Free\",\"Free\",\"Free\",\"Free\",\"Free\",\"Free\",\"Free\",\"Free\",\"Free\",\"Free\",\"Free\",\"Free\",\"Free\",\"Free\",\"Free\",\"Free\",\"Free\",\"Free\",\"Free\",\"Free\",\"Free\",\"Free\",\"Free\",\"Free\",\"Free\",\"Free\",\"Free\",\"Free\",\"Free\",\"Free\",\"Free\",\"Free\",\"Free\",\"Free\",\"Free\",\"Free\",\"Free\",\"Free\",\"Free\",\"Free\",\"Free\",\"Free\",\"Free\",\"Free\",\"Free\",\"Free\",\"Free\",\"Free\",\"Free\",\"Free\",\"Free\",\"Free\",\"Free\",\"Free\",\"Free\",\"Free\",\"Free\",\"Free\",\"Free\",\"Free\",\"Free\",\"Free\",\"Free\",\"Free\",\"Free\",\"Free\",\"Free\",\"Free\",\"Free\",\"Free\",\"Free\",\"Free\",\"Free\",\"Free\",\"Free\",\"Free\",\"Free\",\"Free\",\"Free\",\"Free\",\"Free\",\"Free\",\"Free\",\"Free\",\"Free\",\"Free\",\"Free\",\"Free\",\"Free\",\"Free\",\"Free\",\"Free\",\"Free\",\"Free\",\"Free\",\"Free\",\"Free\",\"Free\",\"Free\",\"Free\",\"Free\",\"Free\",\"Free\",\"Free\",\"Free\",\"Free\",\"Free\",\"Free\",\"Free\",\"Free\",\"Free\",\"Free\",\"Free\",\"Free\",\"Free\",\"Free\",\"Free\",\"Free\",\"Free\",\"Free\",\"Free\",\"Free\",\"Free\",\"Free\",\"Free\",\"Free\",\"Free\",\"Free\",\"Free\",\"Free\",\"Free\",\"Free\",\"Free\",\"Free\",\"Free\",\"Free\",\"Free\",\"Free\",\"Free\",\"Free\",\"Free\",\"Free\",\"Free\",\"Free\",\"Free\",\"Free\",\"Free\",\"Free\",\"Free\",\"Free\",\"Free\",\"Free\",\"Free\",\"Free\",\"Free\",\"Free\",\"Free\",\"Free\",\"Free\",\"Free\",\"Free\",\"Free\",\"Free\",\"Free\",\"Free\",\"Free\",\"Free\",\"Free\",\"Free\",\"Free\",\"Free\",\"Free\",\"Free\",\"Free\",\"Free\",\"Free\",\"Free\",\"Free\",\"Free\",\"Free\",\"Free\",\"Free\",\"Free\",\"Free\",\"Free\",\"Free\",\"Free\",\"Free\",\"Free\",\"Free\",\"Free\",\"Free\",\"Free\",\"Free\",\"Free\",\"Free\",\"Free\",\"Free\",\"Free\",\"Free\",\"Free\",\"Free\",\"Free\",\"Free\",\"Free\",\"Free\",\"Free\",\"Free\",\"Free\",\"Free\",\"Free\",\"Free\",\"Free\",\"Free\",\"Free\",\"Free\",\"Free\",\"Free\",\"Free\",\"Free\",\"Free\",\"Free\",\"Free\",\"Free\",\"Free\",\"Free\",\"Free\",\"Free\",\"Free\",\"Free\",\"Free\",\"Free\",\"Free\",\"Free\",\"Free\",\"Free\",\"Free\",\"Free\",\"Free\",\"Free\",\"Free\",\"Free\",\"Free\",\"Free\",\"Free\",\"Free\",\"Free\",\"Free\",\"Free\",\"Free\",\"Free\",\"Free\",\"Free\",\"Free\",\"Free\",\"Free\",\"Free\",\"Free\",\"Free\",\"Free\",\"Free\",\"Free\",\"Free\",\"Free\",\"Free\",\"Free\",\"Free\",\"Free\",\"Free\",\"Free\",\"Free\",\"Free\",\"Free\",\"Free\",\"Free\",\"Free\",\"Free\",\"Free\",\"Free\",\"Free\",\"Free\",\"Free\",\"Free\",\"Free\",\"Free\",\"Free\",\"Free\",\"Free\",\"Free\",\"Free\",\"Free\",\"Free\",\"Free\",\"Free\",\"Free\",\"Free\",\"Free\",\"Free\",\"Free\",\"Free\",\"Free\",\"Free\",\"Free\",\"Free\",\"Free\",\"Free\",\"Free\",\"Free\",\"Free\",\"Free\",\"Free\",\"Free\",\"Free\",\"Free\",\"Free\",\"Free\",\"Free\",\"Free\",\"Free\",\"Free\",\"Free\",\"Free\",\"Free\",\"Free\",\"Free\",\"Free\",\"Free\",\"Free\",\"Free\",\"Free\",\"Free\",\"Free\",\"Free\",\"Free\",\"Free\",\"Free\",\"Free\",\"Free\",\"Free\",\"Free\",\"Free\",\"Free\",\"Free\",\"Free\",\"Free\",\"Free\",\"Free\",\"Free\",\"Free\",\"Free\",\"Free\",\"Free\",\"Free\",\"Free\",\"Free\",\"Free\",\"Free\",\"Free\",\"Free\",\"Free\",\"Free\",\"Free\",\"Free\",\"Free\",\"Free\",\"Free\",\"Free\",\"Free\",\"Free\",\"Free\",\"Free\",\"Free\",\"Free\",\"Free\",\"Free\",\"Free\",\"Free\",\"Free\",\"Free\",\"Free\",\"Free\",\"Free\",\"Free\",\"Free\",\"Free\",\"Free\",\"Free\",\"Free\",\"Free\",\"Free\",\"Free\",\"Free\",\"Free\",\"Free\",\"Free\",\"Free\",\"Free\",\"Free\",\"Free\",\"Free\",\"Free\",\"Free\",\"Free\",\"Free\",\"Free\",\"Free\",\"Free\",\"Free\",\"Free\",\"Free\",\"Free\",\"Free\",\"Free\",\"Free\",\"Free\",\"Free\",\"Free\",\"Free\",\"Free\",\"Free\",\"Free\",\"Free\",\"Free\",\"Free\",\"Free\",\"Free\",\"Free\",\"Free\",\"Free\"],\"x0\":\" \",\"xaxis\":\"x\",\"y\":[1,5,5,5,5,5,5,5,5,5,10,10,10,10,10,10,10,10,10,10,10,10,10,10,10,10,10,10,10,10,10,10,10,10,10,10,10,10,10,10,10,10,10,10,10,10,10,10,10,10,10,10,10,10,10,10,10,10,10,10,10,50,50,50,50,50,50,50,50,50,50,50,50,50,50,50,50,50,50,50,50,50,50,50,50,50,50,50,50,50,50,50,50,50,50,50,50,50,50,50,50,50,50,100,100,100,100,100,100,100,100,100,100,100,100,100,100,100,100,100,100,100,100,100,100,100,100,100,100,100,100,100,100,100,100,100,100,100,100,100,100,100,100,100,100,100,100,100,100,100,100,100,100,100,100,100,100,100,100,100,100,100,100,100,100,100,100,100,100,100,100,100,100,100,100,100,100,100,100,100,100,100,100,100,100,100,100,100,100,100,100,100,100,100,100,100,100,100,100,100,100,100,100,100,100,100,100,100,100,100,100,100,100,100,100,100,100,100,100,100,100,100,100,100,100,100,100,100,100,100,100,100,100,100,100,100,100,100,100,100,100,100,100,100,100,100,100,100,100,100,100,100,100,100,100,100,100,100,100,100,100,100,100,100,100,100,100,100,100,100,100,100,100,100,100,100,100,100,100,100,100,100,100,100,100,100,100,100,100,100,100,100,100,100,100,100,100,100,100,100,100,100,100,100,100,100,100,100,100,100,100,100,100,100,100,100,100,100,100,100,100,100,100,100,100,100,100,100,100,100,100,100,100,100,100,100,100,100,100,100,500,500,500,500,500,500,500,500,500,500,500,500,500,500,500,500,500,500,500,500,500,500,500,500,500,500,500,500,500,500,500,500,500,500,500,500,500,500,500,500,500,500,500,500,500,500,500,500,500,500,500,500,500,500,500,500,500,500,500,500,500,500,500,500,500,500,500,500,500,500,500,500,500,500,500,500,500,500,500,500,500,500,500,500,500,500,500,500,500,500,500,500,500,500,500,500,500,500,500,500,500,500,500,500,500,500,500,500,500,500,500,500,500,500,500,500,500,500,500,500,500,500,500,500,500,500,500,500,500,500,500,500,500,500,500,500,500,500,500,500,500,500,500,500,500,500,500,500,500,500,500,500,500,500,500,500,500,500,500,500,500,500,500,1000,1000,1000,1000,1000,1000,1000,1000,1000,1000,1000,1000,1000,1000,1000,1000,1000,1000,1000,1000,1000,1000,1000,1000,1000,1000,1000,1000,1000,1000,1000,1000,1000,1000,1000,1000,1000,1000,1000,1000,1000,1000,1000,1000,1000,1000,1000,1000,1000,1000,1000,1000,1000,1000,1000,1000,1000,1000,1000,1000,1000,1000,1000,1000,1000,1000,1000,1000,1000,1000,1000,1000,1000,1000,1000,1000,1000,1000,1000,1000,1000,1000,1000,1000,1000,1000,1000,1000,1000,1000,1000,1000,1000,1000,1000,1000,1000,1000,1000,1000,1000,1000,1000,1000,1000,1000,1000,1000,1000,1000,1000,1000,1000,1000,1000,1000,1000,1000,1000,1000,1000,1000,1000,1000,1000,1000,1000,1000,1000,1000,1000,1000,1000,1000,1000,1000,1000,1000,1000,1000,1000,1000,1000,1000,1000,1000,1000,1000,1000,1000,1000,1000,1000,1000,1000,1000,1000,1000,1000,1000,1000,1000,1000,1000,1000,1000,1000,1000,1000,1000,1000,1000,1000,1000,1000,1000,1000,1000,1000,1000,1000,1000,1000,1000,1000,1000,1000,1000,1000,1000,1000,1000,1000,1000,1000,1000,1000,1000,1000,1000,1000,1000,1000,1000,1000,1000,1000,1000,1000,1000,1000,1000,1000,1000,1000,1000,1000,1000,1000,1000,1000,1000,1000,1000,1000,1000,1000,1000,1000,1000,1000,1000,1000,1000,1000,1000,1000,1000,1000,1000,1000,1000,1000,1000,1000,1000,1000,1000,1000,1000,1000,1000,1000,1000,1000,1000,1000,1000,1000,1000,1000,1000,1000,1000,1000,1000,1000,1000,1000,1000,1000,1000,1000,1000,1000,1000,1000,1000,1000,1000,1000,1000,1000,1000,1000,1000,1000,1000,1000,1000,1000,1000,1000,1000,1000,1000,1000,1000,1000,1000,1000,1000,1000,1000,1000,1000,1000,1000,1000,1000,1000,1000,1000,1000,1000,1000,1000,1000,1000,1000,1000,1000,1000,1000,1000,1000,1000,1000,1000,1000,1000,1000,1000,1000,1000,1000,1000,1000,1000,1000,1000,1000,1000,1000,1000,1000,1000,1000,1000,1000,1000,1000,1000,1000,1000,1000,1000,1000,1000,1000,1000,1000,1000,1000,1000,1000,1000,1000,1000,1000,1000,1000,1000,1000,1000,1000,1000,1000,1000,1000,1000,1000,1000,1000,1000,1000,1000,1000,1000,1000,1000,1000,1000,1000,1000,1000,1000,1000,1000,1000,1000,1000,1000,1000,1000,1000,1000,1000,1000,1000,1000,1000,1000,1000,1000,1000,1000,1000,1000,1000,1000,1000,1000,1000,1000,1000,1000,1000,1000,1000,1000,1000,1000,1000,1000,1000,1000,1000,1000,1000,1000,1000,1000,1000,1000,1000,1000,1000,1000,1000,1000,1000,1000,1000,1000,1000,1000,1000,1000,1000,1000,1000,1000,1000,1000,1000,1000,1000,1000,1000,1000,1000,1000,1000,1000,1000,1000,1000,1000,1000,1000,1000,1000,1000,1000,1000,1000,1000,1000,1000,1000,1000,1000,1000,1000,1000,1000,1000,1000,1000,1000,1000,1000,1000,1000,1000,1000,1000,1000,1000,1000,1000,1000,1000,1000,1000,1000,1000,1000,1000,1000,1000,1000,1000,1000,1000,1000,1000,1000,1000,1000,1000,1000,1000,1000,1000,1000,1000,1000,1000,1000,1000,1000,1000,1000,1000,1000,1000,1000,1000,1000,1000,1000,1000,1000,1000,1000,1000,1000,1000,1000,1000,1000,1000,1000,1000,1000,5000,5000,5000,5000,5000,5000,5000,5000,5000,5000,5000,5000,5000,5000,5000,5000,5000,5000,5000,5000,5000,5000,5000,5000,5000,5000,5000,5000,5000,5000,5000,5000,5000,5000,5000,5000,5000,5000,5000,5000,5000,5000,5000,5000,5000,5000,5000,5000,5000,5000,5000,5000,5000,5000,5000,5000,5000,5000,5000,5000,5000,5000,5000,5000,5000,5000,5000,5000,5000,5000,5000,5000,5000,5000,5000,5000,5000,5000,5000,5000,5000,5000,5000,5000,5000,5000,5000,5000,5000,5000,5000,5000,5000,5000,5000,5000,5000,5000,5000,5000,5000,5000,5000,5000,5000,5000,5000,5000,5000,5000,5000,5000,5000,5000,5000,5000,5000,5000,5000,5000,5000,5000,5000,5000,5000,5000,5000,5000,5000,5000,5000,5000,5000,5000,5000,5000,5000,5000,5000,5000,5000,5000,5000,5000,5000,5000,5000,5000,5000,5000,5000,5000,5000,5000,5000,5000,5000,5000,5000,5000,5000,5000,5000,5000,5000,5000,5000,5000,5000,5000,5000,5000,5000,5000,5000,5000,5000,5000,5000,5000,5000,5000,5000,5000,5000,5000,5000,5000,5000,5000,5000,5000,5000,5000,5000,5000,5000,5000,5000,5000,5000,5000,5000,5000,5000,5000,5000,5000,5000,5000,5000,5000,5000,5000,5000,5000,5000,5000,5000,5000,5000,5000,5000,5000,5000,5000,5000,5000,5000,5000,5000,5000,5000,5000,5000,5000,5000,5000,5000,5000,5000,5000,5000,5000,5000,5000,5000,5000,5000,5000,5000,5000,5000,5000,5000,5000,5000,5000,5000,5000,5000,5000,5000,5000,5000,5000,5000,5000,5000,5000,5000,5000,5000,5000,5000,5000,5000,5000,5000,5000,5000,5000,5000,5000,5000,5000,5000,5000,5000,5000,5000,5000,5000,5000,5000,5000,5000,5000,5000,5000,5000,5000,5000,5000,5000,5000,5000,5000,5000,5000,5000,5000,5000,5000,5000,5000,5000,5000,5000,5000,5000,5000,5000,5000,5000,5000,5000,5000,5000,5000,5000,5000,5000,5000,5000,5000,5000,5000,5000,5000,5000,5000,5000,5000,5000,5000,5000,5000,5000,5000,5000,5000,5000,5000,5000,5000,5000,5000,5000,5000,10000,10000,10000,10000,10000,10000,10000,10000,10000,10000,10000,10000,10000,10000,10000,10000,10000,10000,10000,10000,10000,10000,10000,10000,10000,10000,10000,10000,10000,10000,10000,10000,10000,10000,10000,10000,10000,10000,10000,10000,10000,10000,10000,10000,10000,10000,10000,10000,10000,10000,10000,10000,10000,10000,10000,10000,10000,10000,10000,10000,10000,10000,10000,10000,10000,10000,10000,10000,10000,10000,10000,10000,10000,10000,10000,10000,10000,10000,10000,10000,10000,10000,10000,10000,10000,10000,10000,10000,10000,10000,10000,10000,10000,10000,10000,10000,10000,10000,10000,10000,10000,10000,10000,10000,10000,10000,10000,10000,10000,10000,10000,10000,10000,10000,10000,10000,10000,10000,10000,10000,10000,10000,10000,10000,10000,10000,10000,10000,10000,10000,10000,10000,10000,10000,10000,10000,10000,10000,10000,10000,10000,10000,10000,10000,10000,10000,10000,10000,10000,10000,10000,10000,10000,10000,10000,10000,10000,10000,10000,10000,10000,10000,10000,10000,10000,10000,10000,10000,10000,10000,10000,10000,10000,10000,10000,10000,10000,10000,10000,10000,10000,10000,10000,10000,10000,10000,10000,10000,10000,10000,10000,10000,10000,10000,10000,10000,10000,10000,10000,10000,10000,10000,10000,10000,10000,10000,10000,10000,10000,10000,10000,10000,10000,10000,10000,10000,10000,10000,10000,10000,10000,10000,10000,10000,10000,10000,10000,10000,10000,10000,10000,10000,10000,10000,10000,10000,10000,10000,10000,10000,10000,10000,10000,10000,10000,10000,10000,10000,10000,10000,10000,10000,10000,10000,10000,10000,10000,10000,10000,10000,10000,10000,10000,10000,10000,10000,10000,10000,10000,10000,10000,10000,10000,10000,10000,10000,10000,10000,10000,10000,10000,10000,10000,10000,10000,10000,10000,10000,10000,10000,10000,10000,10000,10000,10000,10000,10000,10000,10000,10000,10000,10000,10000,10000,10000,10000,10000,10000,10000,10000,10000,10000,10000,10000,10000,10000,10000,10000,10000,10000,10000,10000,10000,10000,10000,10000,10000,10000,10000,10000,10000,10000,10000,10000,10000,10000,10000,10000,10000,10000,10000,10000,10000,10000,10000,10000,10000,10000,10000,10000,10000,10000,10000,10000,10000,10000,10000,10000,10000,10000,10000,10000,10000,10000,10000,10000,10000,10000,10000,10000,10000,10000,10000,10000,10000,10000,10000,10000,10000,10000,10000,10000,10000,10000,10000,10000,10000,10000,10000,10000,10000,10000,10000,10000,10000,10000,10000,10000,10000,10000,10000,10000,10000,10000,10000,10000,10000,10000,10000,10000,10000,10000,10000,10000,10000,10000,10000,10000,10000,10000,10000,10000,10000,10000,10000,10000,10000,10000,10000,10000,10000,10000,10000,10000,10000,10000,10000,10000,10000,10000,10000,10000,10000,10000,10000,10000,10000,10000,10000,10000,10000,10000,10000,10000,10000,10000,10000,10000,10000,10000,10000,10000,10000,10000,10000,10000,10000,10000,10000,10000,10000,10000,10000,10000,10000,10000,10000,10000,10000,10000,10000,10000,10000,10000,10000,10000,10000,10000,10000,10000,10000,10000,10000,10000,10000,10000,10000,10000,10000,10000,10000,10000,10000,10000,10000,10000,10000,10000,10000,10000,10000,10000,10000,10000,10000,10000,10000,10000,10000,10000,10000,10000,10000,10000,10000,10000,10000,10000,10000,10000,10000,10000,10000,10000,10000,10000,10000,10000,10000,10000,10000,10000,10000,10000,10000,10000,10000,10000,10000,10000,10000,10000,10000,10000,10000,10000,10000,10000,10000,10000,10000,10000,10000,10000,10000,10000,10000,10000,10000,10000,10000,10000,10000,10000,10000,10000,10000,10000,10000,10000,10000,10000,10000,10000,10000,10000,10000,10000,10000,10000,10000,10000,10000,10000,10000,10000,10000,10000,10000,10000,10000,10000,10000,10000,10000,10000,10000,10000,10000,10000,10000,10000,10000,10000,10000,10000,10000,10000,10000,10000,10000,10000,10000,10000,10000,10000,10000,10000,10000,10000,10000,10000,10000,10000,10000,10000,10000,10000,10000,10000,10000,10000,10000,10000,10000,10000,10000,10000,10000,10000,10000,10000,10000,10000,10000,10000,10000,10000,10000,10000,10000,10000,10000,10000,10000,10000,10000,10000,10000,10000,10000,10000,10000,10000,10000,10000,10000,10000,10000,10000,10000,10000,10000,10000,10000,10000,10000,10000,10000,10000,10000,10000,10000,10000,10000,10000,10000,10000,10000,10000,10000,10000,10000,10000,10000,10000,10000,10000,10000,10000,10000,10000,10000,10000,10000,10000,10000,10000,10000,10000,10000,10000,10000,10000,10000,10000,10000,10000,10000,10000,10000,10000,10000,10000,10000,10000,10000,10000,10000,10000,10000,10000,10000,10000,10000,10000,10000,10000,10000,10000,10000,10000,10000,10000,10000,10000,10000,10000,10000,10000,10000,10000,10000,10000,10000,10000,10000,10000,10000,10000,10000,10000,10000,10000,10000,10000,10000,10000,10000,10000,10000,10000,10000,10000,10000,10000,10000,10000,10000,10000,10000,10000,10000,10000,10000,10000,10000,10000,10000,10000,10000,10000,10000,10000,10000,10000,10000,10000,10000,10000,10000,10000,10000,10000,10000,10000,10000,10000,10000,10000,10000,10000,10000,10000,10000,10000,10000,10000,10000,10000,10000,10000,10000,10000,10000,10000,10000,10000,10000,10000,10000,10000,10000,10000,10000,10000,10000,10000,10000,10000,10000,10000,10000,10000,10000,10000,10000,10000,10000,10000,10000,10000,10000,10000,10000,10000,10000,10000,10000,10000,10000,50000,50000,50000,50000,50000,50000,50000,50000,50000,50000,50000,50000,50000,50000,50000,50000,50000,50000,50000,50000,50000,50000,50000,50000,50000,50000,50000,50000,50000,50000,50000,50000,50000,50000,50000,50000,50000,50000,50000,50000,50000,50000,50000,50000,50000,50000,50000,50000,50000,50000,50000,50000,50000,50000,50000,50000,50000,50000,50000,50000,50000,50000,50000,50000,50000,50000,50000,50000,50000,50000,50000,50000,50000,50000,50000,50000,50000,50000,50000,50000,50000,50000,50000,50000,50000,50000,50000,50000,50000,50000,50000,50000,50000,50000,50000,50000,50000,50000,50000,50000,50000,50000,50000,50000,50000,50000,50000,50000,50000,50000,50000,50000,50000,50000,50000,50000,50000,50000,50000,50000,50000,50000,50000,50000,50000,50000,50000,50000,50000,50000,50000,50000,50000,50000,50000,50000,50000,50000,50000,50000,50000,50000,50000,50000,50000,50000,50000,50000,50000,50000,50000,50000,50000,50000,50000,50000,50000,50000,50000,50000,50000,50000,50000,50000,50000,50000,50000,50000,50000,50000,50000,50000,50000,50000,50000,50000,50000,50000,50000,50000,50000,50000,50000,50000,50000,50000,50000,50000,50000,50000,50000,50000,50000,50000,50000,50000,50000,50000,50000,50000,50000,50000,50000,50000,50000,50000,50000,50000,50000,50000,50000,50000,50000,50000,50000,50000,50000,50000,50000,50000,50000,50000,50000,50000,50000,50000,50000,50000,50000,50000,50000,50000,50000,50000,50000,50000,50000,50000,50000,50000,50000,50000,50000,50000,50000,50000,50000,50000,50000,50000,50000,50000,50000,50000,50000,50000,50000,50000,50000,50000,50000,50000,50000,50000,50000,50000,50000,50000,50000,50000,50000,50000,50000,50000,50000,50000,50000,50000,50000,50000,50000,50000,50000,50000,50000,50000,50000,50000,50000,50000,50000,50000,50000,50000,50000,50000,50000,50000,50000,50000,50000,50000,50000,50000,50000,50000,50000,50000,50000,50000,50000,50000,50000,50000,50000,50000,50000,50000,50000,50000,50000,50000,50000,50000,50000,50000,50000,50000,50000,50000,50000,50000,50000,50000,50000,50000,50000,50000,50000,50000,50000,50000,50000,50000,50000,50000,50000,50000,50000,50000,50000,50000,50000,50000,50000,50000,50000,50000,50000,50000,50000,50000,50000,50000,50000,50000,50000,50000,50000,50000,50000,50000,50000,50000,50000,50000,50000,50000,50000,50000,50000,50000,50000,50000,50000,50000,50000,50000,50000,50000,50000,50000,50000,50000,50000,50000,50000,50000,50000,50000,50000,50000,50000,50000,50000,50000,50000,50000,50000,50000,50000,50000,50000,50000,50000,50000,50000,100000,100000,100000,100000,100000,100000,100000,100000,100000,100000,100000,100000,100000,100000,100000,100000,100000,100000,100000,100000,100000,100000,100000,100000,100000,100000,100000,100000,100000,100000,100000,100000,100000,100000,100000,100000,100000,100000,100000,100000,100000,100000,100000,100000,100000,100000,100000,100000,100000,100000,100000,100000,100000,100000,100000,100000,100000,100000,100000,100000,100000,100000,100000,100000,100000,100000,100000,100000,100000,100000,100000,100000,100000,100000,100000,100000,100000,100000,100000,100000,100000,100000,100000,100000,100000,100000,100000,100000,100000,100000,100000,100000,100000,100000,100000,100000,100000,100000,100000,100000,100000,100000,100000,100000,100000,100000,100000,100000,100000,100000,100000,100000,100000,100000,100000,100000,100000,100000,100000,100000,100000,100000,100000,100000,100000,100000,100000,100000,100000,100000,100000,100000,100000,100000,100000,100000,100000,100000,100000,100000,100000,100000,100000,100000,100000,100000,100000,100000,100000,100000,100000,100000,100000,100000,100000,100000,100000,100000,100000,100000,100000,100000,100000,100000,100000,100000,100000,100000,100000,100000,100000,100000,100000,100000,100000,100000,100000,100000,100000,100000,100000,100000,100000,100000,100000,100000,100000,100000,100000,100000,100000,100000,100000,100000,100000,100000,100000,100000,100000,100000,100000,100000,100000,100000,100000,100000,100000,100000,100000,100000,100000,100000,100000,100000,100000,100000,100000,100000,100000,100000,100000,100000,100000,100000,100000,100000,100000,100000,100000,100000,100000,100000,100000,100000,100000,100000,100000,100000,100000,100000,100000,100000,100000,100000,100000,100000,100000,100000,100000,100000,100000,100000,100000,100000,100000,100000,100000,100000,100000,100000,100000,100000,100000,100000,100000,100000,100000,100000,100000,100000,100000,100000,100000,100000,100000,100000,100000,100000,100000,100000,100000,100000,100000,100000,100000,100000,100000,100000,100000,100000,100000,100000,100000,100000,100000,100000,100000,100000,100000,100000,100000,100000,100000,100000,100000,100000,100000,100000,100000,100000,100000,100000,100000,100000,100000,100000,100000,100000,100000,100000,100000,100000,100000,100000,100000,100000,100000,100000,100000,100000,100000,100000,100000,100000,100000,100000,100000,100000,100000,100000,100000,100000,100000,100000,100000,100000,100000,100000,100000,100000,100000,100000,100000,100000,100000,100000,100000,100000,100000,100000,100000,100000,100000,100000,100000,100000,100000,100000,100000,100000,100000,100000,100000,100000,100000,100000,100000,100000,100000,100000,100000,100000,100000,100000,100000,100000,100000,100000,100000,100000,100000,100000,100000,100000,100000,100000,100000,100000,100000,100000,100000,100000,100000,100000,100000,100000,100000,100000,100000,100000,100000,100000,100000,100000,100000,100000,100000,100000,100000,100000,100000,100000,100000,100000,100000,100000,100000,100000,100000,100000,100000,100000,100000,100000,100000,100000,100000,100000,100000,100000,100000,100000,100000,100000,100000,100000,100000,100000,100000,100000,100000,100000,100000,100000,100000,100000,100000,100000,100000,100000,100000,100000,100000,100000,100000,100000,100000,100000,100000,100000,100000,100000,100000,100000,100000,100000,100000,100000,100000,100000,100000,100000,100000,100000,100000,100000,100000,100000,100000,100000,100000,100000,100000,100000,100000,100000,100000,100000,100000,100000,100000,100000,100000,100000,100000,100000,100000,100000,100000,100000,100000,100000,100000,100000,100000,100000,100000,100000,100000,100000,100000,100000,100000,100000,100000,100000,100000,100000,100000,100000,100000,100000,100000,100000,100000,100000,100000,100000,100000,100000,100000,100000,100000,100000,100000,100000,100000,100000,100000,100000,100000,100000,100000,100000,100000,100000,100000,100000,100000,100000,100000,100000,100000,100000,100000,100000,100000,100000,100000,100000,100000,100000,100000,100000,100000,100000,100000,100000,100000,100000,100000,100000,100000,100000,100000,100000,100000,100000,100000,100000,100000,100000,100000,100000,100000,100000,100000,100000,100000,100000,100000,100000,100000,100000,100000,100000,100000,100000,100000,100000,100000,100000,100000,100000,100000,100000,100000,100000,100000,100000,100000,100000,100000,100000,100000,100000,100000,100000,100000,100000,100000,100000,100000,100000,100000,100000,100000,100000,100000,100000,100000,100000,100000,100000,100000,100000,100000,100000,100000,100000,100000,100000,100000,100000,100000,100000,100000,100000,100000,100000,100000,100000,100000,100000,100000,100000,100000,100000,100000,100000,100000,100000,100000,100000,100000,100000,100000,100000,100000,100000,100000,100000,100000,100000,100000,100000,100000,100000,100000,100000,100000,100000,100000,100000,100000,100000,100000,100000,100000,100000,100000,100000,100000,100000,100000,100000,100000,100000,100000,100000,100000,100000,100000,100000,100000,100000,100000,100000,100000,100000,100000,100000,100000,100000,100000,100000,100000,100000,100000,100000,100000,100000,100000,100000,100000,100000,100000,100000,100000,100000,100000,100000,100000,100000,100000,100000,100000,100000,100000,100000,100000,100000,100000,100000,100000,100000,100000,100000,100000,100000,100000,100000,100000,100000,100000,100000,100000,100000,100000,100000,100000,100000,100000,100000,100000,100000,100000,100000,100000,100000,100000,100000,100000,100000,100000,100000,100000,100000,100000,100000,100000,100000,100000,100000,100000,100000,100000,100000,100000,100000,100000,100000,100000,100000,100000,100000,100000,100000,100000,100000,100000,100000,100000,100000,100000,100000,100000,100000,100000,100000,100000,100000,100000,100000,100000,100000,100000,100000,100000,100000,100000,100000,100000,100000,100000,100000,100000,100000,100000,100000,100000,100000,100000,100000,100000,100000,100000,100000,100000,100000,100000,100000,100000,100000,100000,100000,100000,100000,100000,100000,100000,100000,100000,100000,100000,100000,100000,100000,100000,100000,100000,100000,100000,100000,100000,100000,100000,100000,100000,100000,100000,100000,100000,100000,100000,100000,100000,100000,100000,100000,100000,100000,100000,100000,100000,100000,100000,100000,100000,100000,100000,100000,100000,100000,100000,100000,100000,100000,100000,100000,100000,100000,100000,100000,100000,100000,100000,100000,100000,100000,100000,100000,100000,100000,100000,100000,100000,100000,100000,100000,100000,100000,100000,100000,100000,100000,100000,100000,100000,100000,100000,100000,100000,100000,100000,100000,100000,100000,100000,100000,100000,100000,100000,100000,100000,100000,100000,100000,100000,100000,100000,100000,100000,100000,100000,100000,100000,100000,100000,100000,100000,100000,100000,100000,100000,100000,100000,100000,100000,100000,100000,100000,100000,100000,100000,100000,100000,100000,100000,100000,100000,100000,100000,100000,100000,100000,100000,100000,100000,100000,100000,100000,100000,100000,100000,100000,100000,100000,100000,100000,100000,100000,100000,100000,500000,500000,500000,500000,500000,500000,500000,500000,500000,500000,500000,500000,500000,500000,500000,500000,500000,500000,500000,500000,500000,500000,500000,500000,500000,500000,500000,500000,500000,500000,500000,500000,500000,500000,500000,500000,500000,500000,500000,500000,500000,500000,500000,500000,500000,500000,500000,500000,500000,500000,500000,500000,500000,500000,500000,500000,500000,500000,500000,500000,500000,500000,500000,500000,500000,500000,500000,500000,500000,500000,500000,500000,500000,500000,500000,500000,500000,500000,500000,500000,500000,500000,500000,500000,500000,500000,500000,500000,500000,500000,500000,500000,500000,500000,500000,500000,500000,500000,500000,500000,500000,500000,500000,500000,500000,500000,500000,500000,500000,500000,500000,500000,500000,500000,500000,500000,500000,500000,500000,500000,500000,500000,500000,500000,500000,500000,500000,500000,500000,500000,500000,500000,500000,500000,500000,500000,500000,500000,500000,500000,500000,500000,500000,500000,500000,500000,500000,500000,500000,500000,500000,500000,500000,500000,500000,500000,500000,500000,500000,500000,500000,500000,500000,500000,500000,500000,500000,500000,500000,500000,500000,500000,500000,500000,500000,500000,500000,500000,500000,500000,500000,500000,500000,500000,500000,500000,500000,500000,500000,500000,500000,500000,500000,500000,500000,500000,500000,500000,500000,500000,500000,500000,500000,500000,500000,500000,500000,500000,500000,500000,500000,500000,500000,500000,500000,500000,500000,500000,500000,500000,500000,500000,500000,500000,500000,500000,500000,500000,500000,500000,500000,500000,500000,500000,500000,500000,500000,500000,500000,500000,500000,500000,500000,500000,500000,500000,500000,500000,500000,500000,500000,500000,500000,500000,500000,500000,500000,500000,500000,500000,500000,500000,500000,500000,500000,500000,500000,500000,500000,500000,500000,500000,500000,500000,500000,500000,500000,500000,500000,500000,500000,500000,500000,500000,500000,500000,500000,500000,500000,500000,500000,500000,500000,500000,500000,500000,500000,500000,500000,500000,500000,500000,500000,500000,500000,500000,500000,500000,500000,500000,500000,500000,500000,500000,500000,500000,500000,500000,500000,500000,500000,500000,500000,500000,500000,500000,500000,500000,500000,500000,500000,500000,500000,500000,500000,500000,500000,500000,500000,500000,500000,500000,500000,500000,500000,500000,500000,500000,500000,500000,500000,500000,500000,500000,500000,500000,500000,500000,500000,500000,500000,500000,500000,500000,500000,500000,500000,500000,500000,500000,500000,500000,500000,500000,500000,500000,500000,500000,500000,500000,500000,500000,500000,500000,500000,500000,500000,500000,500000,500000,500000,500000,500000,500000,500000,500000,500000,500000,500000,500000,500000,500000,500000,500000,500000,500000,500000,500000,500000,500000,500000,500000,500000,500000,500000,500000,500000,500000,500000,500000,500000,500000,500000,500000,500000,500000,500000,500000,500000,500000,500000,500000,500000,500000,500000,500000,500000,500000,500000,500000,500000,500000,500000,500000,500000,500000,500000,500000,500000,500000,500000,500000,500000,500000,500000,500000,500000,500000,500000,500000,500000,500000,500000,500000,500000,500000,500000,500000,500000,500000,500000,500000,500000,500000,500000,500000,500000,500000,500000,500000,500000,500000,500000,500000,500000,500000,500000,500000,500000,500000,500000,500000,500000,1000000,1000000,1000000,1000000,1000000,1000000,1000000,1000000,1000000,1000000,1000000,1000000,1000000,1000000,1000000,1000000,1000000,1000000,1000000,1000000,1000000,1000000,1000000,1000000,1000000,1000000,1000000,1000000,1000000,1000000,1000000,1000000,1000000,1000000,1000000,1000000,1000000,1000000,1000000,1000000,1000000,1000000,1000000,1000000,1000000,1000000,1000000,1000000,1000000,1000000,1000000,1000000,1000000,1000000,1000000,1000000,1000000,1000000,1000000,1000000,1000000,1000000,1000000,1000000,1000000,1000000,1000000,1000000,1000000,1000000,1000000,1000000,1000000,1000000,1000000,1000000,1000000,1000000,1000000,1000000,1000000,1000000,1000000,1000000,1000000,1000000,1000000,1000000,1000000,1000000,1000000,1000000,1000000,1000000,1000000,1000000,1000000,1000000,1000000,1000000,1000000,1000000,1000000,1000000,1000000,1000000,1000000,1000000,1000000,1000000,1000000,1000000,1000000,1000000,1000000,1000000,1000000,1000000,1000000,1000000,1000000,1000000,1000000,1000000,1000000,1000000,1000000,1000000,1000000,1000000,1000000,1000000,1000000,1000000,1000000,1000000,1000000,1000000,1000000,1000000,1000000,1000000,1000000,1000000,1000000,1000000,1000000,1000000,1000000,1000000,1000000,1000000,1000000,1000000,1000000,1000000,1000000,1000000,1000000,1000000,1000000,1000000,1000000,1000000,1000000,1000000,1000000,1000000,1000000,1000000,1000000,1000000,1000000,1000000,1000000,1000000,1000000,1000000,1000000,1000000,1000000,1000000,1000000,1000000,1000000,1000000,1000000,1000000,1000000,1000000,1000000,1000000,1000000,1000000,1000000,1000000,1000000,1000000,1000000,1000000,1000000,1000000,1000000,1000000,1000000,1000000,1000000,1000000,1000000,1000000,1000000,1000000,1000000,1000000,1000000,1000000,1000000,1000000,1000000,1000000,1000000,1000000,1000000,1000000,1000000,1000000,1000000,1000000,1000000,1000000,1000000,1000000,1000000,1000000,1000000,1000000,1000000,1000000,1000000,1000000,1000000,1000000,1000000,1000000,1000000,1000000,1000000,1000000,1000000,1000000,1000000,1000000,1000000,1000000,1000000,1000000,1000000,1000000,1000000,1000000,1000000,1000000,1000000,1000000,1000000,1000000,1000000,1000000,1000000,1000000,1000000,1000000,1000000,1000000,1000000,1000000,1000000,1000000,1000000,1000000,1000000,1000000,1000000,1000000,1000000,1000000,1000000,1000000,1000000,1000000,1000000,1000000,1000000,1000000,1000000,1000000,1000000,1000000,1000000,1000000,1000000,1000000,1000000,1000000,1000000,1000000,1000000,1000000,1000000,1000000,1000000,1000000,1000000,1000000,1000000,1000000,1000000,1000000,1000000,1000000,1000000,1000000,1000000,1000000,1000000,1000000,1000000,1000000,1000000,1000000,1000000,1000000,1000000,1000000,1000000,1000000,1000000,1000000,1000000,1000000,1000000,1000000,1000000,1000000,1000000,1000000,1000000,1000000,1000000,1000000,1000000,1000000,1000000,1000000,1000000,1000000,1000000,1000000,1000000,1000000,1000000,1000000,1000000,1000000,1000000,1000000,1000000,1000000,1000000,1000000,1000000,1000000,1000000,1000000,1000000,1000000,1000000,1000000,1000000,1000000,1000000,1000000,1000000,1000000,1000000,1000000,1000000,1000000,1000000,1000000,1000000,1000000,1000000,1000000,1000000,1000000,1000000,1000000,1000000,1000000,1000000,1000000,1000000,1000000,1000000,1000000,1000000,1000000,1000000,1000000,1000000,1000000,1000000,1000000,1000000,1000000,1000000,1000000,1000000,1000000,1000000,1000000,1000000,1000000,1000000,1000000,1000000,1000000,1000000,1000000,1000000,1000000,1000000,1000000,1000000,1000000,1000000,1000000,1000000,1000000,1000000,1000000,1000000,1000000,1000000,1000000,1000000,1000000,1000000,1000000,1000000,1000000,1000000,1000000,1000000,1000000,1000000,1000000,1000000,1000000,1000000,1000000,1000000,1000000,1000000,1000000,1000000,1000000,1000000,1000000,1000000,1000000,1000000,1000000,1000000,1000000,1000000,1000000,1000000,1000000,1000000,1000000,1000000,1000000,1000000,1000000,1000000,1000000,1000000,1000000,1000000,1000000,1000000,1000000,1000000,1000000,1000000,1000000,1000000,1000000,1000000,1000000,1000000,1000000,1000000,1000000,1000000,1000000,1000000,1000000,1000000,1000000,1000000,1000000,1000000,1000000,1000000,1000000,1000000,1000000,1000000,1000000,1000000,1000000,1000000,1000000,1000000,1000000,1000000,1000000,1000000,1000000,1000000,1000000,1000000,1000000,1000000,1000000,1000000,1000000,1000000,1000000,1000000,1000000,1000000,1000000,1000000,1000000,1000000,1000000,1000000,1000000,1000000,1000000,1000000,1000000,1000000,1000000,1000000,1000000,1000000,1000000,1000000,1000000,1000000,1000000,1000000,1000000,1000000,1000000,1000000,1000000,1000000,1000000,1000000,1000000,1000000,1000000,1000000,1000000,1000000,1000000,1000000,1000000,1000000,1000000,1000000,1000000,1000000,1000000,1000000,1000000,1000000,1000000,1000000,1000000,1000000,1000000,1000000,1000000,1000000,1000000,1000000,1000000,1000000,1000000,1000000,1000000,1000000,1000000,1000000,1000000,1000000,1000000,1000000,1000000,1000000,1000000,1000000,1000000,1000000,1000000,1000000,1000000,1000000,1000000,1000000,1000000,1000000,1000000,1000000,1000000,1000000,1000000,1000000,1000000,1000000,1000000,1000000,1000000,1000000,1000000,1000000,1000000,1000000,1000000,1000000,1000000,1000000,1000000,1000000,1000000,1000000,1000000,1000000,1000000,1000000,1000000,1000000,1000000,1000000,1000000,1000000,1000000,1000000,1000000,1000000,1000000,1000000,1000000,1000000,1000000,1000000,1000000,1000000,1000000,1000000,1000000,1000000,1000000,1000000,1000000,1000000,1000000,1000000,1000000,1000000,1000000,1000000,1000000,1000000,1000000,1000000,1000000,1000000,1000000,1000000,1000000,1000000,1000000,1000000,1000000,1000000,1000000,1000000,1000000,1000000,1000000,1000000,1000000,1000000,1000000,1000000,1000000,1000000,1000000,1000000,1000000,1000000,1000000,1000000,1000000,1000000,1000000,1000000,1000000,1000000,1000000,1000000,1000000,1000000,1000000,1000000,1000000,1000000,1000000,1000000,1000000,1000000,1000000,1000000,1000000,1000000,1000000,1000000,1000000,1000000,1000000,1000000,1000000,1000000,1000000,1000000,1000000,1000000,1000000,1000000,1000000,1000000,1000000,1000000,1000000,1000000,1000000,1000000,1000000,1000000,1000000,1000000,1000000,1000000,1000000,1000000,1000000,1000000,1000000,1000000,1000000,1000000,1000000,1000000,1000000,1000000,1000000,1000000,1000000,1000000,1000000,1000000,1000000,1000000,1000000,1000000,1000000,1000000,1000000,1000000,1000000,1000000,1000000,1000000,1000000,1000000,1000000,1000000,1000000,1000000,1000000,1000000,1000000,1000000,1000000,1000000,1000000,1000000,1000000,1000000,1000000,1000000,1000000,1000000,1000000,1000000,1000000,1000000,1000000,1000000,1000000,1000000,1000000,1000000,1000000,1000000,1000000,1000000,1000000,1000000,1000000,1000000,1000000,1000000,1000000,1000000,1000000,1000000,1000000,1000000,1000000,1000000,1000000,1000000,1000000,1000000,1000000,1000000,1000000,1000000,1000000,1000000,1000000,1000000,1000000,1000000,1000000,1000000,1000000,1000000,1000000,1000000,1000000,1000000,1000000,1000000,1000000,1000000,1000000,1000000,1000000,1000000,1000000,1000000,1000000,1000000,1000000,1000000,1000000,1000000,1000000,1000000,1000000,1000000,1000000,1000000,1000000,1000000,1000000,1000000,1000000,1000000,1000000,1000000,1000000,1000000,1000000,1000000,1000000,1000000,1000000,1000000,1000000,1000000,1000000,1000000,1000000,1000000,1000000,1000000,1000000,1000000,1000000,1000000,1000000,1000000,1000000,1000000,1000000,1000000,1000000,1000000,1000000,1000000,1000000,1000000,1000000,1000000,1000000,1000000,1000000,1000000,1000000,1000000,1000000,1000000,1000000,1000000,1000000,1000000,1000000,1000000,1000000,1000000,1000000,1000000,1000000,1000000,1000000,1000000,1000000,1000000,1000000,1000000,1000000,1000000,1000000,1000000,1000000,1000000,1000000,1000000,1000000,1000000,1000000,1000000,1000000,1000000,1000000,1000000,1000000,1000000,1000000,1000000,1000000,1000000,1000000,1000000,1000000,1000000,1000000,1000000,1000000,1000000,1000000,1000000,1000000,1000000,1000000,1000000,1000000,1000000,1000000,1000000,1000000,1000000,1000000,1000000,1000000,1000000,1000000,1000000,1000000,1000000,1000000,1000000,1000000,1000000,1000000,1000000,1000000,1000000,1000000,1000000,1000000,1000000,1000000,1000000,1000000,1000000,1000000,1000000,1000000,1000000,1000000,1000000,1000000,1000000,1000000,1000000,1000000,1000000,1000000,1000000,1000000,1000000,1000000,1000000,1000000,1000000,1000000,1000000,1000000,1000000,1000000,1000000,1000000,1000000,1000000,1000000,1000000,1000000,1000000,1000000,1000000,1000000,1000000,1000000,1000000,1000000,1000000,1000000,1000000,1000000,1000000,1000000,1000000,1000000,1000000,1000000,1000000,1000000,1000000,1000000,1000000,1000000,1000000,1000000,1000000,1000000,1000000,1000000,1000000,1000000,1000000,1000000,1000000,1000000,1000000,1000000,1000000,1000000,1000000,1000000,1000000,1000000,1000000,1000000,1000000,1000000,1000000,1000000,1000000,1000000,1000000,1000000,1000000,1000000,1000000,1000000,1000000,1000000,1000000,1000000,1000000,1000000,1000000,1000000,1000000,1000000,1000000,1000000,1000000,1000000,1000000,1000000,1000000,1000000,1000000,1000000,1000000,1000000,1000000,1000000,1000000,1000000,1000000,1000000,1000000,1000000,1000000,1000000,1000000,1000000,1000000,1000000,1000000,1000000,1000000,1000000,1000000,1000000,1000000,1000000,1000000,1000000,1000000,1000000,1000000,1000000,1000000,1000000,1000000,1000000,1000000,1000000,1000000,1000000,1000000,1000000,1000000,1000000,1000000,1000000,1000000,1000000,1000000,1000000,1000000,1000000,1000000,1000000,1000000,1000000,1000000,1000000,1000000,1000000,1000000,1000000,1000000,1000000,1000000,1000000,1000000,1000000,1000000,1000000,1000000,1000000,1000000,1000000,1000000,1000000,1000000,1000000,1000000,1000000,1000000,1000000,1000000,1000000,1000000,1000000,1000000,1000000,1000000,1000000,1000000,1000000,1000000,1000000,1000000,1000000,1000000,1000000,1000000,1000000,1000000,1000000,1000000,1000000,1000000,1000000,1000000,1000000,1000000,1000000,1000000,1000000,1000000,1000000,1000000,1000000,1000000,1000000,1000000,1000000,1000000,1000000,1000000,1000000,1000000,1000000,1000000,1000000,1000000,1000000,1000000,1000000,1000000,1000000,1000000,1000000,1000000,1000000,1000000,1000000,1000000,1000000,1000000,1000000,1000000,1000000,1000000,1000000,1000000,1000000,1000000,1000000,1000000,1000000,1000000,1000000,1000000,1000000,1000000,1000000,1000000,1000000,1000000,1000000,1000000,1000000,1000000,1000000,1000000,1000000,1000000,1000000,1000000,1000000,1000000,1000000,1000000,1000000,1000000,1000000,1000000,1000000,1000000,1000000,1000000,1000000,1000000,1000000,1000000,1000000,1000000,1000000,1000000,1000000,1000000,1000000,1000000,1000000,1000000,1000000,1000000,1000000,1000000,1000000,1000000,1000000,1000000,1000000,1000000,1000000,1000000,1000000,1000000,1000000,1000000,1000000,1000000,1000000,1000000,1000000,1000000,1000000,1000000,1000000,1000000,1000000,1000000,1000000,1000000,1000000,1000000,1000000,1000000,1000000,1000000,1000000,1000000,1000000,1000000,1000000,1000000,1000000,1000000,1000000,1000000,1000000,1000000,1000000,1000000,1000000,1000000,1000000,1000000,1000000,1000000,1000000,1000000,1000000,1000000,1000000,1000000,1000000,5000000,5000000,5000000,5000000,5000000,5000000,5000000,5000000,5000000,5000000,5000000,5000000,5000000,5000000,5000000,5000000,5000000,5000000,5000000,5000000,5000000,5000000,5000000,5000000,5000000,5000000,5000000,5000000,5000000,5000000,5000000,5000000,5000000,5000000,5000000,5000000,5000000,5000000,5000000,5000000,5000000,5000000,5000000,5000000,5000000,5000000,5000000,5000000,5000000,5000000,5000000,5000000,5000000,5000000,5000000,5000000,5000000,5000000,5000000,5000000,5000000,5000000,5000000,5000000,5000000,5000000,5000000,5000000,5000000,5000000,5000000,5000000,5000000,5000000,5000000,5000000,5000000,5000000,5000000,5000000,5000000,5000000,5000000,5000000,5000000,5000000,5000000,5000000,5000000,5000000,5000000,5000000,5000000,5000000,5000000,5000000,5000000,5000000,5000000,5000000,5000000,5000000,5000000,5000000,5000000,5000000,5000000,5000000,5000000,5000000,5000000,5000000,5000000,5000000,5000000,5000000,5000000,5000000,5000000,5000000,5000000,5000000,5000000,5000000,5000000,5000000,5000000,5000000,5000000,5000000,5000000,5000000,5000000,5000000,5000000,5000000,5000000,5000000,5000000,5000000,5000000,5000000,5000000,5000000,5000000,5000000,5000000,5000000,5000000,5000000,5000000,5000000,5000000,5000000,5000000,5000000,5000000,5000000,5000000,5000000,5000000,5000000,5000000,5000000,5000000,5000000,5000000,5000000,5000000,5000000,5000000,5000000,5000000,5000000,5000000,5000000,5000000,5000000,5000000,5000000,5000000,5000000,5000000,5000000,5000000,5000000,5000000,5000000,5000000,5000000,5000000,5000000,5000000,5000000,5000000,5000000,5000000,5000000,5000000,5000000,5000000,5000000,5000000,5000000,5000000,5000000,5000000,5000000,5000000,5000000,5000000,5000000,5000000,5000000,5000000,5000000,5000000,5000000,5000000,5000000,5000000,5000000,5000000,5000000,5000000,5000000,5000000,5000000,5000000,5000000,5000000,5000000,5000000,5000000,5000000,5000000,5000000,5000000,5000000,5000000,5000000,5000000,5000000,5000000,5000000,5000000,5000000,5000000,5000000,5000000,5000000,5000000,5000000,5000000,5000000,5000000,5000000,5000000,5000000,5000000,5000000,5000000,5000000,5000000,5000000,5000000,5000000,5000000,5000000,5000000,5000000,5000000,5000000,5000000,5000000,5000000,5000000,5000000,5000000,5000000,5000000,5000000,5000000,5000000,5000000,5000000,5000000,5000000,5000000,5000000,5000000,5000000,5000000,5000000,5000000,5000000,5000000,5000000,5000000,5000000,5000000,5000000,5000000,5000000,5000000,5000000,5000000,5000000,5000000,5000000,5000000,5000000,5000000,5000000,5000000,5000000,5000000,5000000,5000000,5000000,5000000,5000000,5000000,5000000,5000000,5000000,5000000,5000000,5000000,5000000,5000000,5000000,5000000,5000000,5000000,5000000,5000000,5000000,5000000,5000000,5000000,5000000,5000000,5000000,5000000,5000000,5000000,5000000,5000000,5000000,5000000,5000000,5000000,5000000,5000000,5000000,5000000,5000000,5000000,5000000,5000000,5000000,5000000,5000000,5000000,5000000,5000000,5000000,5000000,5000000,5000000,5000000,5000000,5000000,5000000,5000000,5000000,5000000,5000000,5000000,5000000,5000000,5000000,5000000,5000000,5000000,5000000,5000000,5000000,5000000,5000000,5000000,5000000,5000000,5000000,5000000,5000000,5000000,5000000,5000000,5000000,5000000,5000000,5000000,5000000,5000000,5000000,5000000,5000000,5000000,5000000,5000000,5000000,5000000,5000000,5000000,5000000,5000000,5000000,5000000,5000000,5000000,5000000,5000000,5000000,5000000,5000000,5000000,5000000,5000000,5000000,5000000,5000000,5000000,5000000,5000000,5000000,5000000,5000000,5000000,5000000,5000000,5000000,5000000,5000000,5000000,5000000,5000000,5000000,5000000,5000000,5000000,5000000,5000000,5000000,5000000,5000000,5000000,5000000,5000000,5000000,5000000,5000000,5000000,5000000,5000000,5000000,5000000,5000000,5000000,5000000,5000000,5000000,5000000,5000000,5000000,5000000,5000000,5000000,5000000,5000000,5000000,5000000,5000000,5000000,5000000,5000000,5000000,5000000,5000000,5000000,5000000,5000000,5000000,5000000,5000000,5000000,5000000,5000000,5000000,5000000,5000000,5000000,5000000,5000000,5000000,5000000,5000000,5000000,5000000,5000000,5000000,5000000,5000000,5000000,5000000,5000000,5000000,5000000,5000000,5000000,5000000,5000000,5000000,5000000,5000000,5000000,5000000,5000000,5000000,5000000,5000000,5000000,5000000,5000000,5000000,5000000,5000000,5000000,5000000,5000000,5000000,5000000,5000000,5000000,5000000,5000000,5000000,5000000,5000000,5000000,5000000,5000000,5000000,5000000,5000000,5000000,5000000,5000000,5000000,5000000,5000000,5000000,5000000,5000000,5000000,5000000,5000000,5000000,5000000,5000000,5000000,5000000,5000000,5000000,5000000,5000000,5000000,5000000,5000000,5000000,5000000,5000000,5000000,5000000,5000000,5000000,5000000,5000000,5000000,5000000,5000000,5000000,5000000,5000000,5000000,5000000,5000000,5000000,5000000,5000000,5000000,5000000,5000000,5000000,5000000,5000000,10000000,10000000,10000000,10000000,10000000,10000000,10000000,10000000,10000000,10000000,10000000,10000000,10000000,10000000,10000000,10000000,10000000,10000000,10000000,10000000,10000000,10000000,10000000,10000000,10000000,10000000,10000000,10000000,10000000,10000000,10000000,10000000,10000000,10000000,10000000,10000000,10000000,10000000,10000000,10000000,10000000,10000000,10000000,10000000,10000000,10000000,10000000,10000000,10000000,10000000,10000000,10000000,10000000,10000000,10000000,10000000,10000000,10000000,10000000,10000000,10000000,10000000,10000000,10000000,10000000,10000000,10000000,10000000,10000000,10000000,10000000,10000000,10000000,10000000,10000000,10000000,10000000,10000000,10000000,10000000,10000000,10000000,10000000,10000000,10000000,10000000,10000000,10000000,10000000,10000000,10000000,10000000,10000000,10000000,10000000,10000000,10000000,10000000,10000000,10000000,10000000,10000000,10000000,10000000,10000000,10000000,10000000,10000000,10000000,10000000,10000000,10000000,10000000,10000000,10000000,10000000,10000000,10000000,10000000,10000000,10000000,10000000,10000000,10000000,10000000,10000000,10000000,10000000,10000000,10000000,10000000,10000000,10000000,10000000,10000000,10000000,10000000,10000000,10000000,10000000,10000000,10000000,10000000,10000000,10000000,10000000,10000000,10000000,10000000,10000000,10000000,10000000,10000000,10000000,10000000,10000000,10000000,10000000,10000000,10000000,10000000,10000000,10000000,10000000,10000000,10000000,10000000,10000000,10000000,10000000,10000000,10000000,10000000,10000000,10000000,10000000,10000000,10000000,10000000,10000000,10000000,10000000,10000000,10000000,10000000,10000000,10000000,10000000,10000000,10000000,10000000,10000000,10000000,10000000,10000000,10000000,10000000,10000000,10000000,10000000,10000000,10000000,10000000,10000000,10000000,10000000,10000000,10000000,10000000,10000000,10000000,10000000,10000000,10000000,10000000,10000000,10000000,10000000,10000000,10000000,10000000,10000000,10000000,10000000,10000000,10000000,10000000,10000000,10000000,10000000,10000000,10000000,10000000,10000000,10000000,10000000,10000000,10000000,10000000,10000000,10000000,10000000,10000000,10000000,10000000,10000000,10000000,10000000,10000000,10000000,10000000,10000000,10000000,10000000,10000000,10000000,10000000,10000000,10000000,10000000,10000000,10000000,10000000,10000000,10000000,10000000,10000000,10000000,10000000,10000000,10000000,10000000,10000000,10000000,10000000,10000000,10000000,10000000,10000000,10000000,10000000,10000000,10000000,10000000,10000000,10000000,10000000,10000000,10000000,10000000,10000000,10000000,10000000,10000000,10000000,10000000,10000000,10000000,10000000,10000000,10000000,10000000,10000000,10000000,10000000,10000000,10000000,10000000,10000000,10000000,10000000,10000000,10000000,10000000,10000000,10000000,10000000,10000000,10000000,10000000,10000000,10000000,10000000,10000000,10000000,10000000,10000000,10000000,10000000,10000000,10000000,10000000,10000000,10000000,10000000,10000000,10000000,10000000,10000000,10000000,10000000,10000000,10000000,10000000,10000000,10000000,10000000,10000000,10000000,10000000,10000000,10000000,10000000,10000000,10000000,10000000,10000000,10000000,10000000,10000000,10000000,10000000,10000000,10000000,10000000,10000000,10000000,10000000,10000000,10000000,10000000,10000000,10000000,10000000,10000000,10000000,10000000,10000000,10000000,10000000,10000000,10000000,10000000,10000000,10000000,10000000,10000000,10000000,10000000,10000000,10000000,10000000,10000000,10000000,10000000,10000000,10000000,10000000,10000000,10000000,10000000,10000000,10000000,10000000,10000000,10000000,10000000,10000000,10000000,10000000,10000000,10000000,10000000,10000000,10000000,10000000,10000000,10000000,10000000,10000000,10000000,10000000,10000000,10000000,10000000,10000000,10000000,10000000,10000000,10000000,10000000,10000000,10000000,10000000,10000000,10000000,10000000,10000000,10000000,10000000,10000000,10000000,10000000,10000000,10000000,10000000,10000000,10000000,10000000,10000000,10000000,10000000,10000000,10000000,10000000,10000000,10000000,10000000,10000000,10000000,10000000,10000000,10000000,10000000,10000000,10000000,10000000,10000000,10000000,10000000,10000000,10000000,10000000,10000000,10000000,10000000,10000000,10000000,10000000,10000000,10000000,10000000,10000000,10000000,10000000,10000000,10000000,10000000,10000000,10000000,10000000,10000000,10000000,10000000,10000000,10000000,10000000,10000000,10000000,10000000,10000000,10000000,10000000,10000000,10000000,10000000,10000000,10000000,10000000,10000000,10000000,10000000,10000000,10000000,10000000,10000000,10000000,10000000,10000000,10000000,10000000,10000000,10000000,10000000,10000000,10000000,10000000,10000000,10000000,10000000,10000000,10000000,10000000,10000000,10000000,10000000,10000000,10000000,10000000,10000000,10000000,10000000,10000000,10000000,10000000,10000000,10000000,10000000,10000000,10000000,10000000,10000000,10000000,10000000,10000000,10000000,10000000,10000000,10000000,10000000,10000000,10000000,10000000,10000000,10000000,10000000,10000000,10000000,10000000,10000000,10000000,10000000,10000000,10000000,10000000,10000000,10000000,10000000,10000000,10000000,10000000,10000000,10000000,10000000,10000000,10000000,10000000,10000000,10000000,10000000,10000000,10000000,10000000,10000000,10000000,10000000,10000000,10000000,10000000,10000000,10000000,10000000,10000000,10000000,10000000,10000000,10000000,10000000,10000000,10000000,10000000,10000000,10000000,10000000,10000000,10000000,10000000,10000000,10000000,10000000,10000000,10000000,10000000,10000000,10000000,10000000,10000000,10000000,10000000,10000000,10000000,10000000,10000000,10000000,10000000,10000000,10000000,10000000,10000000,10000000,10000000,10000000,10000000,10000000,10000000,10000000,10000000,10000000,10000000,10000000,10000000,10000000,10000000,10000000,10000000,10000000,10000000,10000000,10000000,10000000,10000000,10000000,10000000,10000000,10000000,10000000,10000000,10000000,10000000,10000000,10000000,10000000,10000000,10000000,10000000,10000000,10000000,10000000,10000000,10000000,10000000,10000000,10000000,10000000,10000000,10000000,10000000,10000000,10000000,10000000,10000000,10000000,10000000,10000000,10000000,10000000,10000000,10000000,10000000,10000000,10000000,10000000,10000000,10000000,10000000,10000000,10000000,10000000,10000000,10000000,10000000,10000000,10000000,10000000,10000000,10000000,10000000,10000000,10000000,10000000,10000000,10000000,10000000,10000000,10000000,10000000,10000000,10000000,10000000,10000000,10000000,10000000,10000000,10000000,10000000,10000000,10000000,10000000,10000000,10000000,10000000,10000000,10000000,10000000,10000000,10000000,10000000,10000000,10000000,10000000,10000000,10000000,10000000,10000000,10000000,10000000,10000000,10000000,10000000,10000000,10000000,10000000,10000000,10000000,10000000,10000000,10000000,10000000,10000000,10000000,10000000,10000000,10000000,10000000,10000000,10000000,10000000,10000000,10000000,10000000,10000000,10000000,10000000,10000000,10000000,10000000,10000000,10000000,10000000,10000000,10000000,10000000,10000000,10000000,10000000,10000000,10000000,10000000,10000000,10000000,10000000,10000000,10000000,10000000,10000000,10000000,10000000,10000000,10000000,10000000,10000000,10000000,10000000,10000000,10000000,10000000,10000000,10000000,10000000,10000000,10000000,10000000,10000000,10000000,10000000,10000000,10000000,10000000,10000000,10000000,10000000,10000000,10000000,10000000,10000000,10000000,10000000,10000000,10000000,10000000,10000000,10000000,10000000,10000000,10000000,10000000,10000000,10000000,10000000,10000000,10000000,10000000,10000000,10000000,10000000,10000000,10000000,10000000,10000000,10000000,10000000,10000000,10000000,10000000,10000000,10000000,10000000,10000000,10000000,10000000,10000000,10000000,10000000,10000000,10000000,10000000,10000000,10000000,10000000,10000000,10000000,10000000,10000000,10000000,10000000,10000000,10000000,10000000,10000000,10000000,10000000,10000000,10000000,10000000,10000000,10000000,10000000,10000000,10000000,10000000,10000000,10000000,10000000,10000000,10000000,10000000,10000000,10000000,10000000,10000000,10000000,10000000,10000000,10000000,10000000,10000000,10000000,10000000,10000000,10000000,10000000,10000000,10000000,10000000,10000000,10000000,10000000,10000000,10000000,10000000,10000000,50000000,50000000,50000000,50000000,50000000,50000000,50000000,50000000,50000000,50000000,50000000,50000000,50000000,50000000,50000000,50000000,50000000,50000000,50000000,50000000,50000000,50000000,50000000,50000000,50000000,50000000,50000000,50000000,50000000,50000000,50000000,50000000,50000000,50000000,50000000,50000000,50000000,50000000,50000000,50000000,50000000,50000000,50000000,50000000,50000000,50000000,50000000,50000000,50000000,50000000,50000000,50000000,50000000,50000000,50000000,50000000,50000000,50000000,50000000,50000000,50000000,50000000,50000000,50000000,50000000,50000000,50000000,50000000,50000000,50000000,50000000,50000000,50000000,50000000,50000000,50000000,50000000,50000000,50000000,50000000,50000000,50000000,50000000,50000000,50000000,50000000,50000000,50000000,50000000,50000000,50000000,50000000,50000000,50000000,50000000,50000000,50000000,50000000,50000000,50000000,50000000,50000000,50000000,50000000,50000000,50000000,50000000,50000000,50000000,50000000,50000000,50000000,50000000,50000000,50000000,50000000,50000000,50000000,50000000,50000000,50000000,50000000,50000000,50000000,50000000,50000000,50000000,50000000,50000000,50000000,50000000,50000000,50000000,50000000,50000000,50000000,50000000,50000000,50000000,50000000,50000000,50000000,50000000,50000000,50000000,50000000,50000000,50000000,50000000,50000000,50000000,50000000,50000000,50000000,50000000,50000000,50000000,50000000,50000000,50000000,50000000,50000000,50000000,50000000,50000000,50000000,50000000,50000000,50000000,50000000,50000000,50000000,50000000,50000000,50000000,50000000,50000000,50000000,50000000,50000000,50000000,50000000,50000000,50000000,50000000,50000000,50000000,50000000,50000000,50000000,50000000,50000000,50000000,50000000,50000000,50000000,50000000,50000000,50000000,50000000,50000000,50000000,100000000,100000000,100000000,100000000,100000000,100000000,100000000,100000000,100000000,100000000,100000000,100000000,100000000,100000000,100000000,100000000,100000000,100000000,100000000,100000000,100000000,100000000,100000000,100000000,100000000,100000000,100000000,100000000,100000000,100000000,100000000,100000000,100000000,100000000,100000000,100000000,100000000,100000000,100000000,100000000,100000000,100000000,100000000,100000000,100000000,100000000,100000000,100000000,100000000,100000000,100000000,100000000,100000000,100000000,100000000,100000000,100000000,100000000,100000000,100000000,100000000,100000000,100000000,100000000,100000000,100000000,100000000,100000000,100000000,100000000,100000000,100000000,100000000,100000000,100000000,100000000,100000000,100000000,100000000,100000000,100000000,100000000,100000000,100000000,100000000,100000000,100000000,100000000,100000000,100000000,100000000,100000000,100000000,100000000,100000000,100000000,100000000,100000000,100000000,100000000,100000000,100000000,100000000,100000000,100000000,100000000,100000000,100000000,100000000,100000000,100000000,100000000,100000000,100000000,100000000,100000000,100000000,100000000,100000000,100000000,100000000,100000000,100000000,100000000,100000000,100000000,100000000,100000000,100000000,100000000,100000000,100000000,100000000,100000000,100000000,100000000,100000000,100000000,100000000,100000000,100000000,100000000,100000000,100000000,100000000,100000000,100000000,100000000,100000000,100000000,100000000,100000000,100000000,100000000,100000000,100000000,100000000,100000000,100000000,100000000,100000000,100000000,100000000,100000000,100000000,100000000,100000000,100000000,100000000,100000000,100000000,100000000,100000000,100000000,100000000,100000000,100000000,100000000,100000000,100000000,100000000,100000000,100000000,100000000,100000000,100000000,100000000,100000000,100000000,500000000,500000000,500000000,500000000,500000000,500000000,500000000,500000000,500000000,500000000,500000000,500000000,500000000,500000000,500000000,500000000,500000000,500000000,500000000,500000000,500000000,500000000,500000000,500000000,1000000000,1000000000,1000000000,1000000000,1000000000,1000000000,1000000000,1000000000,1000000000,1000000000,1000000000,1000000000,1000000000,1000000000,1000000000,1000000000,1000000000,1000000000,1000000000,1000000000],\"y0\":\" \",\"yaxis\":\"y\",\"type\":\"box\"},{\"alignmentgroup\":\"True\",\"boxpoints\":\"all\",\"hovertemplate\":\"Type=%{x}\\u003cbr\\u003eInstalls=%{y}\\u003cextra\\u003e\\u003c\\u002fextra\\u003e\",\"legendgroup\":\"Paid\",\"marker\":{\"color\":\"#EF553B\"},\"name\":\"Paid\",\"notched\":true,\"offsetgroup\":\"Paid\",\"orientation\":\"v\",\"showlegend\":true,\"x\":[\"Paid\",\"Paid\",\"Paid\",\"Paid\",\"Paid\",\"Paid\",\"Paid\",\"Paid\",\"Paid\",\"Paid\",\"Paid\",\"Paid\",\"Paid\",\"Paid\",\"Paid\",\"Paid\",\"Paid\",\"Paid\",\"Paid\",\"Paid\",\"Paid\",\"Paid\",\"Paid\",\"Paid\",\"Paid\",\"Paid\",\"Paid\",\"Paid\",\"Paid\",\"Paid\",\"Paid\",\"Paid\",\"Paid\",\"Paid\",\"Paid\",\"Paid\",\"Paid\",\"Paid\",\"Paid\",\"Paid\",\"Paid\",\"Paid\",\"Paid\",\"Paid\",\"Paid\",\"Paid\",\"Paid\",\"Paid\",\"Paid\",\"Paid\",\"Paid\",\"Paid\",\"Paid\",\"Paid\",\"Paid\",\"Paid\",\"Paid\",\"Paid\",\"Paid\",\"Paid\",\"Paid\",\"Paid\",\"Paid\",\"Paid\",\"Paid\",\"Paid\",\"Paid\",\"Paid\",\"Paid\",\"Paid\",\"Paid\",\"Paid\",\"Paid\",\"Paid\",\"Paid\",\"Paid\",\"Paid\",\"Paid\",\"Paid\",\"Paid\",\"Paid\",\"Paid\",\"Paid\",\"Paid\",\"Paid\",\"Paid\",\"Paid\",\"Paid\",\"Paid\",\"Paid\",\"Paid\",\"Paid\",\"Paid\",\"Paid\",\"Paid\",\"Paid\",\"Paid\",\"Paid\",\"Paid\",\"Paid\",\"Paid\",\"Paid\",\"Paid\",\"Paid\",\"Paid\",\"Paid\",\"Paid\",\"Paid\",\"Paid\",\"Paid\",\"Paid\",\"Paid\",\"Paid\",\"Paid\",\"Paid\",\"Paid\",\"Paid\",\"Paid\",\"Paid\",\"Paid\",\"Paid\",\"Paid\",\"Paid\",\"Paid\",\"Paid\",\"Paid\",\"Paid\",\"Paid\",\"Paid\",\"Paid\",\"Paid\",\"Paid\",\"Paid\",\"Paid\",\"Paid\",\"Paid\",\"Paid\",\"Paid\",\"Paid\",\"Paid\",\"Paid\",\"Paid\",\"Paid\",\"Paid\",\"Paid\",\"Paid\",\"Paid\",\"Paid\",\"Paid\",\"Paid\",\"Paid\",\"Paid\",\"Paid\",\"Paid\",\"Paid\",\"Paid\",\"Paid\",\"Paid\",\"Paid\",\"Paid\",\"Paid\",\"Paid\",\"Paid\",\"Paid\",\"Paid\",\"Paid\",\"Paid\",\"Paid\",\"Paid\",\"Paid\",\"Paid\",\"Paid\",\"Paid\",\"Paid\",\"Paid\",\"Paid\",\"Paid\",\"Paid\",\"Paid\",\"Paid\",\"Paid\",\"Paid\",\"Paid\",\"Paid\",\"Paid\",\"Paid\",\"Paid\",\"Paid\",\"Paid\",\"Paid\",\"Paid\",\"Paid\",\"Paid\",\"Paid\",\"Paid\",\"Paid\",\"Paid\",\"Paid\",\"Paid\",\"Paid\",\"Paid\",\"Paid\",\"Paid\",\"Paid\",\"Paid\",\"Paid\",\"Paid\",\"Paid\",\"Paid\",\"Paid\",\"Paid\",\"Paid\",\"Paid\",\"Paid\",\"Paid\",\"Paid\",\"Paid\",\"Paid\",\"Paid\",\"Paid\",\"Paid\",\"Paid\",\"Paid\",\"Paid\",\"Paid\",\"Paid\",\"Paid\",\"Paid\",\"Paid\",\"Paid\",\"Paid\",\"Paid\",\"Paid\",\"Paid\",\"Paid\",\"Paid\",\"Paid\",\"Paid\",\"Paid\",\"Paid\",\"Paid\",\"Paid\",\"Paid\",\"Paid\",\"Paid\",\"Paid\",\"Paid\",\"Paid\",\"Paid\",\"Paid\",\"Paid\",\"Paid\",\"Paid\",\"Paid\",\"Paid\",\"Paid\",\"Paid\",\"Paid\",\"Paid\",\"Paid\",\"Paid\",\"Paid\",\"Paid\",\"Paid\",\"Paid\",\"Paid\",\"Paid\",\"Paid\",\"Paid\",\"Paid\",\"Paid\",\"Paid\",\"Paid\",\"Paid\",\"Paid\",\"Paid\",\"Paid\",\"Paid\",\"Paid\",\"Paid\",\"Paid\",\"Paid\",\"Paid\",\"Paid\",\"Paid\",\"Paid\",\"Paid\",\"Paid\",\"Paid\",\"Paid\",\"Paid\",\"Paid\",\"Paid\",\"Paid\",\"Paid\",\"Paid\",\"Paid\",\"Paid\",\"Paid\",\"Paid\",\"Paid\",\"Paid\",\"Paid\",\"Paid\",\"Paid\",\"Paid\",\"Paid\",\"Paid\",\"Paid\",\"Paid\",\"Paid\",\"Paid\",\"Paid\",\"Paid\",\"Paid\",\"Paid\",\"Paid\",\"Paid\",\"Paid\",\"Paid\",\"Paid\",\"Paid\",\"Paid\",\"Paid\",\"Paid\",\"Paid\",\"Paid\",\"Paid\",\"Paid\",\"Paid\",\"Paid\",\"Paid\",\"Paid\",\"Paid\",\"Paid\",\"Paid\",\"Paid\",\"Paid\",\"Paid\",\"Paid\",\"Paid\",\"Paid\",\"Paid\",\"Paid\",\"Paid\",\"Paid\",\"Paid\",\"Paid\",\"Paid\",\"Paid\",\"Paid\",\"Paid\",\"Paid\",\"Paid\",\"Paid\",\"Paid\",\"Paid\",\"Paid\",\"Paid\",\"Paid\",\"Paid\",\"Paid\",\"Paid\",\"Paid\",\"Paid\",\"Paid\",\"Paid\",\"Paid\",\"Paid\",\"Paid\",\"Paid\",\"Paid\",\"Paid\",\"Paid\",\"Paid\",\"Paid\",\"Paid\",\"Paid\",\"Paid\",\"Paid\",\"Paid\",\"Paid\",\"Paid\",\"Paid\",\"Paid\",\"Paid\",\"Paid\",\"Paid\",\"Paid\",\"Paid\",\"Paid\",\"Paid\",\"Paid\",\"Paid\",\"Paid\",\"Paid\",\"Paid\",\"Paid\",\"Paid\",\"Paid\",\"Paid\",\"Paid\",\"Paid\",\"Paid\",\"Paid\",\"Paid\",\"Paid\",\"Paid\",\"Paid\",\"Paid\",\"Paid\",\"Paid\",\"Paid\",\"Paid\",\"Paid\",\"Paid\",\"Paid\",\"Paid\",\"Paid\",\"Paid\",\"Paid\",\"Paid\",\"Paid\",\"Paid\",\"Paid\",\"Paid\",\"Paid\",\"Paid\",\"Paid\",\"Paid\",\"Paid\",\"Paid\",\"Paid\",\"Paid\",\"Paid\",\"Paid\",\"Paid\",\"Paid\",\"Paid\",\"Paid\",\"Paid\",\"Paid\",\"Paid\",\"Paid\",\"Paid\",\"Paid\",\"Paid\",\"Paid\",\"Paid\",\"Paid\",\"Paid\",\"Paid\",\"Paid\",\"Paid\",\"Paid\",\"Paid\",\"Paid\",\"Paid\",\"Paid\",\"Paid\",\"Paid\",\"Paid\",\"Paid\",\"Paid\",\"Paid\",\"Paid\",\"Paid\",\"Paid\",\"Paid\",\"Paid\",\"Paid\",\"Paid\",\"Paid\",\"Paid\",\"Paid\",\"Paid\",\"Paid\",\"Paid\",\"Paid\",\"Paid\",\"Paid\",\"Paid\",\"Paid\",\"Paid\",\"Paid\",\"Paid\",\"Paid\",\"Paid\",\"Paid\",\"Paid\",\"Paid\",\"Paid\",\"Paid\",\"Paid\",\"Paid\",\"Paid\",\"Paid\",\"Paid\",\"Paid\",\"Paid\",\"Paid\",\"Paid\",\"Paid\",\"Paid\",\"Paid\",\"Paid\",\"Paid\",\"Paid\",\"Paid\",\"Paid\",\"Paid\",\"Paid\",\"Paid\",\"Paid\",\"Paid\",\"Paid\",\"Paid\",\"Paid\",\"Paid\",\"Paid\",\"Paid\",\"Paid\",\"Paid\",\"Paid\",\"Paid\",\"Paid\",\"Paid\",\"Paid\",\"Paid\",\"Paid\",\"Paid\",\"Paid\",\"Paid\",\"Paid\",\"Paid\",\"Paid\",\"Paid\",\"Paid\",\"Paid\",\"Paid\",\"Paid\",\"Paid\",\"Paid\",\"Paid\",\"Paid\",\"Paid\",\"Paid\",\"Paid\",\"Paid\",\"Paid\",\"Paid\",\"Paid\",\"Paid\",\"Paid\",\"Paid\",\"Paid\",\"Paid\",\"Paid\",\"Paid\",\"Paid\",\"Paid\",\"Paid\",\"Paid\",\"Paid\",\"Paid\",\"Paid\",\"Paid\",\"Paid\",\"Paid\",\"Paid\",\"Paid\",\"Paid\",\"Paid\",\"Paid\",\"Paid\",\"Paid\",\"Paid\",\"Paid\",\"Paid\",\"Paid\",\"Paid\",\"Paid\",\"Paid\",\"Paid\",\"Paid\",\"Paid\",\"Paid\",\"Paid\",\"Paid\"],\"x0\":\" \",\"xaxis\":\"x\",\"y\":[1,1,10,10,10,10,10,10,10,10,10,10,10,10,10,10,10,10,10,10,50,50,50,50,50,50,50,50,50,50,50,50,50,50,100,100,100,100,100,100,100,100,100,100,100,100,100,100,100,100,100,100,100,100,100,100,100,100,100,100,100,100,100,100,100,100,100,100,100,100,100,100,100,100,100,100,100,100,100,100,100,100,100,100,100,100,100,100,100,100,100,100,100,100,100,100,100,100,100,500,500,500,500,500,500,500,500,500,500,500,500,500,500,500,500,500,500,500,500,500,500,500,500,500,500,500,500,500,500,500,500,500,500,500,500,1000,1000,1000,1000,1000,1000,1000,1000,1000,1000,1000,1000,1000,1000,1000,1000,1000,1000,1000,1000,1000,1000,1000,1000,1000,1000,1000,1000,1000,1000,1000,1000,1000,1000,1000,1000,1000,1000,1000,1000,1000,1000,1000,1000,1000,1000,1000,1000,1000,1000,1000,1000,1000,1000,1000,1000,1000,1000,1000,1000,1000,1000,1000,1000,1000,1000,1000,1000,1000,1000,1000,1000,1000,1000,1000,1000,1000,1000,1000,1000,1000,1000,1000,1000,1000,1000,1000,1000,1000,1000,1000,1000,1000,1000,1000,1000,1000,1000,1000,1000,1000,1000,1000,1000,1000,1000,1000,1000,1000,1000,1000,1000,1000,1000,1000,1000,1000,1000,1000,1000,1000,1000,1000,1000,1000,1000,1000,5000,5000,5000,5000,5000,5000,5000,5000,5000,5000,5000,5000,5000,5000,5000,5000,5000,5000,5000,5000,5000,5000,5000,5000,5000,5000,5000,5000,5000,5000,5000,5000,5000,5000,5000,5000,5000,5000,5000,5000,5000,5000,5000,5000,5000,5000,5000,5000,5000,5000,5000,5000,5000,5000,5000,5000,5000,5000,5000,5000,5000,5000,10000,10000,10000,10000,10000,10000,10000,10000,10000,10000,10000,10000,10000,10000,10000,10000,10000,10000,10000,10000,10000,10000,10000,10000,10000,10000,10000,10000,10000,10000,10000,10000,10000,10000,10000,10000,10000,10000,10000,10000,10000,10000,10000,10000,10000,10000,10000,10000,10000,10000,10000,10000,10000,10000,10000,10000,10000,10000,10000,10000,10000,10000,10000,10000,10000,10000,10000,10000,10000,10000,10000,10000,10000,10000,10000,10000,10000,10000,10000,10000,10000,10000,10000,10000,10000,10000,10000,10000,10000,10000,10000,10000,10000,10000,10000,10000,10000,10000,10000,10000,10000,10000,10000,10000,10000,10000,10000,10000,10000,10000,10000,10000,50000,50000,50000,50000,50000,50000,50000,50000,50000,50000,50000,50000,50000,50000,50000,50000,50000,50000,50000,50000,50000,50000,50000,50000,50000,50000,50000,50000,50000,50000,50000,50000,50000,50000,50000,50000,50000,50000,50000,100000,100000,100000,100000,100000,100000,100000,100000,100000,100000,100000,100000,100000,100000,100000,100000,100000,100000,100000,100000,100000,100000,100000,100000,100000,100000,100000,100000,100000,100000,100000,100000,100000,100000,100000,100000,100000,100000,100000,100000,100000,100000,100000,100000,100000,100000,100000,100000,100000,100000,100000,100000,100000,100000,100000,100000,100000,100000,100000,100000,100000,100000,100000,100000,100000,100000,100000,100000,100000,100000,100000,100000,100000,100000,100000,100000,100000,100000,100000,100000,100000,500000,500000,500000,500000,500000,500000,500000,500000,500000,500000,500000,1000000,1000000,1000000,1000000,1000000,1000000,1000000,1000000,1000000,1000000,1000000,1000000,1000000,1000000,1000000,1000000,1000000,1000000,1000000,1000000,10000000,10000000],\"y0\":\" \",\"yaxis\":\"y\",\"type\":\"box\"}],                        {\"template\":{\"data\":{\"histogram2dcontour\":[{\"type\":\"histogram2dcontour\",\"colorbar\":{\"outlinewidth\":0,\"ticks\":\"\"},\"colorscale\":[[0.0,\"#0d0887\"],[0.1111111111111111,\"#46039f\"],[0.2222222222222222,\"#7201a8\"],[0.3333333333333333,\"#9c179e\"],[0.4444444444444444,\"#bd3786\"],[0.5555555555555556,\"#d8576b\"],[0.6666666666666666,\"#ed7953\"],[0.7777777777777778,\"#fb9f3a\"],[0.8888888888888888,\"#fdca26\"],[1.0,\"#f0f921\"]]}],\"choropleth\":[{\"type\":\"choropleth\",\"colorbar\":{\"outlinewidth\":0,\"ticks\":\"\"}}],\"histogram2d\":[{\"type\":\"histogram2d\",\"colorbar\":{\"outlinewidth\":0,\"ticks\":\"\"},\"colorscale\":[[0.0,\"#0d0887\"],[0.1111111111111111,\"#46039f\"],[0.2222222222222222,\"#7201a8\"],[0.3333333333333333,\"#9c179e\"],[0.4444444444444444,\"#bd3786\"],[0.5555555555555556,\"#d8576b\"],[0.6666666666666666,\"#ed7953\"],[0.7777777777777778,\"#fb9f3a\"],[0.8888888888888888,\"#fdca26\"],[1.0,\"#f0f921\"]]}],\"heatmap\":[{\"type\":\"heatmap\",\"colorbar\":{\"outlinewidth\":0,\"ticks\":\"\"},\"colorscale\":[[0.0,\"#0d0887\"],[0.1111111111111111,\"#46039f\"],[0.2222222222222222,\"#7201a8\"],[0.3333333333333333,\"#9c179e\"],[0.4444444444444444,\"#bd3786\"],[0.5555555555555556,\"#d8576b\"],[0.6666666666666666,\"#ed7953\"],[0.7777777777777778,\"#fb9f3a\"],[0.8888888888888888,\"#fdca26\"],[1.0,\"#f0f921\"]]}],\"heatmapgl\":[{\"type\":\"heatmapgl\",\"colorbar\":{\"outlinewidth\":0,\"ticks\":\"\"},\"colorscale\":[[0.0,\"#0d0887\"],[0.1111111111111111,\"#46039f\"],[0.2222222222222222,\"#7201a8\"],[0.3333333333333333,\"#9c179e\"],[0.4444444444444444,\"#bd3786\"],[0.5555555555555556,\"#d8576b\"],[0.6666666666666666,\"#ed7953\"],[0.7777777777777778,\"#fb9f3a\"],[0.8888888888888888,\"#fdca26\"],[1.0,\"#f0f921\"]]}],\"contourcarpet\":[{\"type\":\"contourcarpet\",\"colorbar\":{\"outlinewidth\":0,\"ticks\":\"\"}}],\"contour\":[{\"type\":\"contour\",\"colorbar\":{\"outlinewidth\":0,\"ticks\":\"\"},\"colorscale\":[[0.0,\"#0d0887\"],[0.1111111111111111,\"#46039f\"],[0.2222222222222222,\"#7201a8\"],[0.3333333333333333,\"#9c179e\"],[0.4444444444444444,\"#bd3786\"],[0.5555555555555556,\"#d8576b\"],[0.6666666666666666,\"#ed7953\"],[0.7777777777777778,\"#fb9f3a\"],[0.8888888888888888,\"#fdca26\"],[1.0,\"#f0f921\"]]}],\"surface\":[{\"type\":\"surface\",\"colorbar\":{\"outlinewidth\":0,\"ticks\":\"\"},\"colorscale\":[[0.0,\"#0d0887\"],[0.1111111111111111,\"#46039f\"],[0.2222222222222222,\"#7201a8\"],[0.3333333333333333,\"#9c179e\"],[0.4444444444444444,\"#bd3786\"],[0.5555555555555556,\"#d8576b\"],[0.6666666666666666,\"#ed7953\"],[0.7777777777777778,\"#fb9f3a\"],[0.8888888888888888,\"#fdca26\"],[1.0,\"#f0f921\"]]}],\"mesh3d\":[{\"type\":\"mesh3d\",\"colorbar\":{\"outlinewidth\":0,\"ticks\":\"\"}}],\"scatter\":[{\"fillpattern\":{\"fillmode\":\"overlay\",\"size\":10,\"solidity\":0.2},\"type\":\"scatter\"}],\"parcoords\":[{\"type\":\"parcoords\",\"line\":{\"colorbar\":{\"outlinewidth\":0,\"ticks\":\"\"}}}],\"scatterpolargl\":[{\"type\":\"scatterpolargl\",\"marker\":{\"colorbar\":{\"outlinewidth\":0,\"ticks\":\"\"}}}],\"bar\":[{\"error_x\":{\"color\":\"#2a3f5f\"},\"error_y\":{\"color\":\"#2a3f5f\"},\"marker\":{\"line\":{\"color\":\"#E5ECF6\",\"width\":0.5},\"pattern\":{\"fillmode\":\"overlay\",\"size\":10,\"solidity\":0.2}},\"type\":\"bar\"}],\"scattergeo\":[{\"type\":\"scattergeo\",\"marker\":{\"colorbar\":{\"outlinewidth\":0,\"ticks\":\"\"}}}],\"scatterpolar\":[{\"type\":\"scatterpolar\",\"marker\":{\"colorbar\":{\"outlinewidth\":0,\"ticks\":\"\"}}}],\"histogram\":[{\"marker\":{\"pattern\":{\"fillmode\":\"overlay\",\"size\":10,\"solidity\":0.2}},\"type\":\"histogram\"}],\"scattergl\":[{\"type\":\"scattergl\",\"marker\":{\"colorbar\":{\"outlinewidth\":0,\"ticks\":\"\"}}}],\"scatter3d\":[{\"type\":\"scatter3d\",\"line\":{\"colorbar\":{\"outlinewidth\":0,\"ticks\":\"\"}},\"marker\":{\"colorbar\":{\"outlinewidth\":0,\"ticks\":\"\"}}}],\"scattermapbox\":[{\"type\":\"scattermapbox\",\"marker\":{\"colorbar\":{\"outlinewidth\":0,\"ticks\":\"\"}}}],\"scatterternary\":[{\"type\":\"scatterternary\",\"marker\":{\"colorbar\":{\"outlinewidth\":0,\"ticks\":\"\"}}}],\"scattercarpet\":[{\"type\":\"scattercarpet\",\"marker\":{\"colorbar\":{\"outlinewidth\":0,\"ticks\":\"\"}}}],\"carpet\":[{\"aaxis\":{\"endlinecolor\":\"#2a3f5f\",\"gridcolor\":\"white\",\"linecolor\":\"white\",\"minorgridcolor\":\"white\",\"startlinecolor\":\"#2a3f5f\"},\"baxis\":{\"endlinecolor\":\"#2a3f5f\",\"gridcolor\":\"white\",\"linecolor\":\"white\",\"minorgridcolor\":\"white\",\"startlinecolor\":\"#2a3f5f\"},\"type\":\"carpet\"}],\"table\":[{\"cells\":{\"fill\":{\"color\":\"#EBF0F8\"},\"line\":{\"color\":\"white\"}},\"header\":{\"fill\":{\"color\":\"#C8D4E3\"},\"line\":{\"color\":\"white\"}},\"type\":\"table\"}],\"barpolar\":[{\"marker\":{\"line\":{\"color\":\"#E5ECF6\",\"width\":0.5},\"pattern\":{\"fillmode\":\"overlay\",\"size\":10,\"solidity\":0.2}},\"type\":\"barpolar\"}],\"pie\":[{\"automargin\":true,\"type\":\"pie\"}]},\"layout\":{\"autotypenumbers\":\"strict\",\"colorway\":[\"#636efa\",\"#EF553B\",\"#00cc96\",\"#ab63fa\",\"#FFA15A\",\"#19d3f3\",\"#FF6692\",\"#B6E880\",\"#FF97FF\",\"#FECB52\"],\"font\":{\"color\":\"#2a3f5f\"},\"hovermode\":\"closest\",\"hoverlabel\":{\"align\":\"left\"},\"paper_bgcolor\":\"white\",\"plot_bgcolor\":\"#E5ECF6\",\"polar\":{\"bgcolor\":\"#E5ECF6\",\"angularaxis\":{\"gridcolor\":\"white\",\"linecolor\":\"white\",\"ticks\":\"\"},\"radialaxis\":{\"gridcolor\":\"white\",\"linecolor\":\"white\",\"ticks\":\"\"}},\"ternary\":{\"bgcolor\":\"#E5ECF6\",\"aaxis\":{\"gridcolor\":\"white\",\"linecolor\":\"white\",\"ticks\":\"\"},\"baxis\":{\"gridcolor\":\"white\",\"linecolor\":\"white\",\"ticks\":\"\"},\"caxis\":{\"gridcolor\":\"white\",\"linecolor\":\"white\",\"ticks\":\"\"}},\"coloraxis\":{\"colorbar\":{\"outlinewidth\":0,\"ticks\":\"\"}},\"colorscale\":{\"sequential\":[[0.0,\"#0d0887\"],[0.1111111111111111,\"#46039f\"],[0.2222222222222222,\"#7201a8\"],[0.3333333333333333,\"#9c179e\"],[0.4444444444444444,\"#bd3786\"],[0.5555555555555556,\"#d8576b\"],[0.6666666666666666,\"#ed7953\"],[0.7777777777777778,\"#fb9f3a\"],[0.8888888888888888,\"#fdca26\"],[1.0,\"#f0f921\"]],\"sequentialminus\":[[0.0,\"#0d0887\"],[0.1111111111111111,\"#46039f\"],[0.2222222222222222,\"#7201a8\"],[0.3333333333333333,\"#9c179e\"],[0.4444444444444444,\"#bd3786\"],[0.5555555555555556,\"#d8576b\"],[0.6666666666666666,\"#ed7953\"],[0.7777777777777778,\"#fb9f3a\"],[0.8888888888888888,\"#fdca26\"],[1.0,\"#f0f921\"]],\"diverging\":[[0,\"#8e0152\"],[0.1,\"#c51b7d\"],[0.2,\"#de77ae\"],[0.3,\"#f1b6da\"],[0.4,\"#fde0ef\"],[0.5,\"#f7f7f7\"],[0.6,\"#e6f5d0\"],[0.7,\"#b8e186\"],[0.8,\"#7fbc41\"],[0.9,\"#4d9221\"],[1,\"#276419\"]]},\"xaxis\":{\"gridcolor\":\"white\",\"linecolor\":\"white\",\"ticks\":\"\",\"title\":{\"standoff\":15},\"zerolinecolor\":\"white\",\"automargin\":true,\"zerolinewidth\":2},\"yaxis\":{\"gridcolor\":\"white\",\"linecolor\":\"white\",\"ticks\":\"\",\"title\":{\"standoff\":15},\"zerolinecolor\":\"white\",\"automargin\":true,\"zerolinewidth\":2},\"scene\":{\"xaxis\":{\"backgroundcolor\":\"#E5ECF6\",\"gridcolor\":\"white\",\"linecolor\":\"white\",\"showbackground\":true,\"ticks\":\"\",\"zerolinecolor\":\"white\",\"gridwidth\":2},\"yaxis\":{\"backgroundcolor\":\"#E5ECF6\",\"gridcolor\":\"white\",\"linecolor\":\"white\",\"showbackground\":true,\"ticks\":\"\",\"zerolinecolor\":\"white\",\"gridwidth\":2},\"zaxis\":{\"backgroundcolor\":\"#E5ECF6\",\"gridcolor\":\"white\",\"linecolor\":\"white\",\"showbackground\":true,\"ticks\":\"\",\"zerolinecolor\":\"white\",\"gridwidth\":2}},\"shapedefaults\":{\"line\":{\"color\":\"#2a3f5f\"}},\"annotationdefaults\":{\"arrowcolor\":\"#2a3f5f\",\"arrowhead\":0,\"arrowwidth\":1},\"geo\":{\"bgcolor\":\"white\",\"landcolor\":\"#E5ECF6\",\"subunitcolor\":\"white\",\"showland\":true,\"showlakes\":true,\"lakecolor\":\"white\"},\"title\":{\"x\":0.05},\"mapbox\":{\"style\":\"light\"}}},\"xaxis\":{\"anchor\":\"y\",\"domain\":[0.0,1.0],\"title\":{\"text\":\"Type\"},\"categoryorder\":\"array\",\"categoryarray\":[\"Free\",\"Paid\"]},\"yaxis\":{\"anchor\":\"x\",\"domain\":[0.0,1.0],\"title\":{\"text\":\"Installs\"},\"type\":\"log\"},\"legend\":{\"title\":{\"text\":\"Type\"},\"tracegroupgap\":0},\"title\":{\"text\":\"How Many Downloads are Paid Apps Giving Up?\"},\"boxmode\":\"overlay\"},                        {\"responsive\": true}                    ).then(function(){\n",
              "                            \n",
              "var gd = document.getElementById('fdee802a-d0ee-4a3f-8e8f-c594c0fd0a9a');\n",
              "var x = new MutationObserver(function (mutations, observer) {{\n",
              "        var display = window.getComputedStyle(gd).display;\n",
              "        if (!display || display === 'none') {{\n",
              "            console.log([gd, 'removed!']);\n",
              "            Plotly.purge(gd);\n",
              "            observer.disconnect();\n",
              "        }}\n",
              "}});\n",
              "\n",
              "// Listen for the removal of the full notebook cells\n",
              "var notebookContainer = gd.closest('#notebook-container');\n",
              "if (notebookContainer) {{\n",
              "    x.observe(notebookContainer, {childList: true});\n",
              "}}\n",
              "\n",
              "// Listen for the clearing of the current output cell\n",
              "var outputEl = gd.closest('.output');\n",
              "if (outputEl) {{\n",
              "    x.observe(outputEl, {childList: true});\n",
              "}}\n",
              "\n",
              "                        })                };                            </script>        </div>\n",
              "</body>\n",
              "</html>"
            ]
          },
          "metadata": {}
        }
      ]
    },
    {
      "cell_type": "markdown",
      "source": [
        "\n",
        "The chart's hover text indicates: the median download count for free apps is 500,000, whereas for paid apps, it hovers around 5,000. This represents a significant and substantial difference."
      ],
      "metadata": {
        "id": "59ITvjQ3zZ0C"
      }
    },
    {
      "cell_type": "markdown",
      "metadata": {
        "id": "Xi2NaEBPVNrP"
      },
      "source": [
        "# Plotly Box Plots: Revenue by App Category\n",
        "\n"
      ]
    },
    {
      "cell_type": "code",
      "metadata": {
        "id": "w6SxpLsdNxTS"
      },
      "source": [
        "df_paid_apps = df_apps_clean[df_apps_clean['Type'] == 'Paid']"
      ],
      "execution_count": null,
      "outputs": []
    },
    {
      "cell_type": "code",
      "metadata": {
        "id": "XbCRiGJkV5zH",
        "colab": {
          "base_uri": "https://localhost:8080/",
          "height": 542
        },
        "outputId": "ac0e05d5-9cc4-4e2b-e2ac-f9d5983524bf"
      },
      "source": [
        "box = px.box(df_paid_apps,\n",
        "             x='Category',\n",
        "             y='Revenue_Estimate',\n",
        "             title='How Much Can Paid Apps Earn?')\n",
        "\n",
        "box.update_layout(xaxis_title='Category',\n",
        "                  yaxis_title='Paid App Ballpark Revenue',\n",
        "                  xaxis={'categoryorder':'min ascending'},\n",
        "                  yaxis=dict(type='log'))\n",
        "\n",
        "\n",
        "box.show()"
      ],
      "execution_count": null,
      "outputs": [
        {
          "output_type": "display_data",
          "data": {
            "text/html": [
              "<html>\n",
              "<head><meta charset=\"utf-8\" /></head>\n",
              "<body>\n",
              "    <div>\n",
              "            <script src=\"https://cdnjs.cloudflare.com/ajax/libs/mathjax/2.7.5/MathJax.js?config=TeX-AMS-MML_SVG\"></script><script type=\"text/javascript\">if (window.MathJax) {MathJax.Hub.Config({SVG: {font: \"STIX-Web\"}});}</script>\n",
              "                <script type=\"text/javascript\">window.PlotlyConfig = {MathJaxConfig: 'local'};</script>\n",
              "        <script src=\"https://cdn.plot.ly/plotly-latest.min.js\"></script>    \n",
              "            <div id=\"6af11583-f0c0-418d-b21c-b5d467fdf47d\" class=\"plotly-graph-div\" style=\"height:525px; width:100%;\"></div>\n",
              "            <script type=\"text/javascript\">\n",
              "                \n",
              "                    window.PLOTLYENV=window.PLOTLYENV || {};\n",
              "                    \n",
              "                if (document.getElementById(\"6af11583-f0c0-418d-b21c-b5d467fdf47d\")) {\n",
              "                    Plotly.newPlot(\n",
              "                        '6af11583-f0c0-418d-b21c-b5d467fdf47d',\n",
              "                        [{\"alignmentgroup\": \"True\", \"hoverlabel\": {\"namelength\": 0}, \"hovertemplate\": \"Category=%{x}<br>Revenue_Estimate=%{y}\", \"legendgroup\": \"\", \"marker\": {\"color\": \"#636efa\"}, \"name\": \"\", \"notched\": false, \"offsetgroup\": \"\", \"orientation\": \"v\", \"showlegend\": false, \"type\": \"box\", \"x\": [\"GAME\", \"GAME\", \"FAMILY\", \"BUSINESS\", \"LIFESTYLE\", \"FAMILY\", \"PERSONALIZATION\", \"PHOTOGRAPHY\", \"FAMILY\", \"GAME\", \"PRODUCTIVITY\", \"PHOTOGRAPHY\", \"FAMILY\", \"TOOLS\", \"TOOLS\", \"PERSONALIZATION\", \"FAMILY\", \"FAMILY\", \"FAMILY\", \"FAMILY\", \"GAME\", \"TOOLS\", \"PERSONALIZATION\", \"PERSONALIZATION\", \"PERSONALIZATION\", \"TOOLS\", \"FAMILY\", \"FAMILY\", \"BUSINESS\", \"BOOKS_AND_REFERENCE\", \"FAMILY\", \"FAMILY\", \"FAMILY\", \"PERSONALIZATION\", \"PERSONALIZATION\", \"PERSONALIZATION\", \"GAME\", \"PERSONALIZATION\", \"FAMILY\", \"FINANCE\", \"SHOPPING\", \"DATING\", \"PERSONALIZATION\", \"GAME\", \"FAMILY\", \"PRODUCTIVITY\", \"FAMILY\", \"MEDICAL\", \"SPORTS\", \"MEDICAL\", \"PRODUCTIVITY\", \"BUSINESS\", \"PARENTING\", \"LIFESTYLE\", \"FAMILY\", \"TOOLS\", \"MAPS_AND_NAVIGATION\", \"COMMUNICATION\", \"PERSONALIZATION\", \"COMMUNICATION\", \"FAMILY\", \"PERSONALIZATION\", \"FAMILY\", \"FAMILY\", \"FAMILY\", \"TOOLS\", \"FAMILY\", \"SPORTS\", \"FAMILY\", \"MEDICAL\", \"FAMILY\", \"FAMILY\", \"GAME\", \"TOOLS\", \"FAMILY\", \"FAMILY\", \"PERSONALIZATION\", \"BOOKS_AND_REFERENCE\", \"GAME\", \"PERSONALIZATION\", \"GAME\", \"GAME\", \"TOOLS\", \"MEDICAL\", \"TOOLS\", \"TOOLS\", \"PERSONALIZATION\", \"GAME\", \"COMMUNICATION\", \"MEDICAL\", \"SPORTS\", \"PERSONALIZATION\", \"COMMUNICATION\", \"COMMUNICATION\", \"PERSONALIZATION\", \"TOOLS\", \"PERSONALIZATION\", \"PERSONALIZATION\", \"PRODUCTIVITY\", \"MEDICAL\", \"FAMILY\", \"TOOLS\", \"TOOLS\", \"BUSINESS\", \"COMMUNICATION\", \"FAMILY\", \"PERSONALIZATION\", \"PHOTOGRAPHY\", \"MEDICAL\", \"PERSONALIZATION\", \"MEDICAL\", \"COMMUNICATION\", \"PRODUCTIVITY\", \"BOOKS_AND_REFERENCE\", \"TOOLS\", \"WEATHER\", \"FAMILY\", \"FAMILY\", \"MEDICAL\", \"FAMILY\", \"TOOLS\", \"TOOLS\", \"SPORTS\", \"GAME\", \"MEDICAL\", \"PERSONALIZATION\", \"PERSONALIZATION\", \"NEWS_AND_MAGAZINES\", \"COMMUNICATION\", \"TOOLS\", \"MEDICAL\", \"FINANCE\", \"FAMILY\", \"PERSONALIZATION\", \"PERSONALIZATION\", \"MEDICAL\", \"FAMILY\", \"MEDICAL\", \"MEDICAL\", \"FAMILY\", \"FAMILY\", \"FAMILY\", \"GAME\", \"PERSONALIZATION\", \"TOOLS\", \"PERSONALIZATION\", \"GAME\", \"GAME\", \"GAME\", \"FAMILY\", \"FAMILY\", \"PRODUCTIVITY\", \"COMMUNICATION\", \"SPORTS\", \"SPORTS\", \"FAMILY\", \"PERSONALIZATION\", \"MEDICAL\", \"SPORTS\", \"COMMUNICATION\", \"LIFESTYLE\", \"FAMILY\", \"MEDICAL\", \"MEDICAL\", \"TOOLS\", \"PRODUCTIVITY\", \"FINANCE\", \"HEALTH_AND_FITNESS\", \"MEDICAL\", \"PHOTOGRAPHY\", \"FAMILY\", \"FAMILY\", \"PHOTOGRAPHY\", \"SPORTS\", \"ART_AND_DESIGN\", \"FAMILY\", \"PERSONALIZATION\", \"PRODUCTIVITY\", \"HEALTH_AND_FITNESS\", \"MEDICAL\", \"TOOLS\", \"PRODUCTIVITY\", \"GAME\", \"TOOLS\", \"MEDICAL\", \"LIFESTYLE\", \"GAME\", \"MEDICAL\", \"TRAVEL_AND_LOCAL\", \"BUSINESS\", \"MEDICAL\", \"COMMUNICATION\", \"PERSONALIZATION\", \"GAME\", \"TRAVEL_AND_LOCAL\", \"GAME\", \"SPORTS\", \"MEDICAL\", \"FAMILY\", \"MEDICAL\", \"TOOLS\", \"BOOKS_AND_REFERENCE\", \"FAMILY\", \"MEDICAL\", \"MEDICAL\", \"GAME\", \"BUSINESS\", \"TOOLS\", \"FAMILY\", \"MEDICAL\", \"PERSONALIZATION\", \"PHOTOGRAPHY\", \"SPORTS\", \"MAPS_AND_NAVIGATION\", \"PERSONALIZATION\", \"GAME\", \"BOOKS_AND_REFERENCE\", \"EDUCATION\", \"FAMILY\", \"FAMILY\", \"SOCIAL\", \"MEDICAL\", \"TOOLS\", \"SPORTS\", \"FAMILY\", \"FAMILY\", \"TOOLS\", \"WEATHER\", \"VIDEO_PLAYERS\", \"MEDICAL\", \"TOOLS\", \"GAME\", \"PERSONALIZATION\", \"MEDICAL\", \"LIFESTYLE\", \"MEDICAL\", \"DATING\", \"HEALTH_AND_FITNESS\", \"MEDICAL\", \"FAMILY\", \"PRODUCTIVITY\", \"EDUCATION\", \"SPORTS\", \"FAMILY\", \"PERSONALIZATION\", \"PERSONALIZATION\", \"FAMILY\", \"GAME\", \"FINANCE\", \"GAME\", \"MEDICAL\", \"FAMILY\", \"MEDICAL\", \"MEDICAL\", \"TOOLS\", \"TOOLS\", \"TOOLS\", \"TOOLS\", \"PERSONALIZATION\", \"PERSONALIZATION\", \"PERSONALIZATION\", \"PERSONALIZATION\", \"FAMILY\", \"GAME\", \"FAMILY\", \"FAMILY\", \"MEDICAL\", \"SPORTS\", \"LIFESTYLE\", \"FAMILY\", \"FAMILY\", \"TRAVEL_AND_LOCAL\", \"PERSONALIZATION\", \"BOOKS_AND_REFERENCE\", \"FAMILY\", \"MEDICAL\", \"MEDICAL\", \"MEDICAL\", \"MEDICAL\", \"PRODUCTIVITY\", \"SOCIAL\", \"SPORTS\", \"TRAVEL_AND_LOCAL\", \"TOOLS\", \"FAMILY\", \"NEWS_AND_MAGAZINES\", \"ART_AND_DESIGN\", \"GAME\", \"PERSONALIZATION\", \"LIFESTYLE\", \"PERSONALIZATION\", \"LIFESTYLE\", \"MEDICAL\", \"FAMILY\", \"FAMILY\", \"BOOKS_AND_REFERENCE\", \"LIFESTYLE\", \"MEDICAL\", \"MEDICAL\", \"TOOLS\", \"SPORTS\", \"MEDICAL\", \"PHOTOGRAPHY\", \"GAME\", \"SPORTS\", \"FAMILY\", \"SPORTS\", \"TOOLS\", \"LIFESTYLE\", \"FAMILY\", \"COMMUNICATION\", \"COMMUNICATION\", \"COMMUNICATION\", \"FAMILY\", \"FAMILY\", \"TOOLS\", \"MEDICAL\", \"TOOLS\", \"TOOLS\", \"TOOLS\", \"TOOLS\", \"TOOLS\", \"TOOLS\", \"PERSONALIZATION\", \"FAMILY\", \"MEDICAL\", \"MEDICAL\", \"MEDICAL\", \"HEALTH_AND_FITNESS\", \"GAME\", \"FAMILY\", \"FAMILY\", \"PHOTOGRAPHY\", \"PERSONALIZATION\", \"LIFESTYLE\", \"GAME\", \"FAMILY\", \"MEDICAL\", \"FAMILY\", \"BUSINESS\", \"GAME\", \"FAMILY\", \"MEDICAL\", \"FAMILY\", \"MAPS_AND_NAVIGATION\", \"BOOKS_AND_REFERENCE\", \"GAME\", \"PERSONALIZATION\", \"PERSONALIZATION\", \"COMMUNICATION\", \"DATING\", \"FOOD_AND_DRINK\", \"LIFESTYLE\", \"FAMILY\", \"FAMILY\", \"MEDICAL\", \"TRAVEL_AND_LOCAL\", \"TOOLS\", \"TOOLS\", \"TOOLS\", \"PERSONALIZATION\", \"VIDEO_PLAYERS\", \"VIDEO_PLAYERS\", \"GAME\", \"FAMILY\", \"FAMILY\", \"FAMILY\", \"FAMILY\", \"PERSONALIZATION\", \"WEATHER\", \"TOOLS\", \"PERSONALIZATION\", \"TOOLS\", \"ART_AND_DESIGN\", \"PERSONALIZATION\", \"PERSONALIZATION\", \"MEDICAL\", \"TOOLS\", \"FAMILY\", \"FINANCE\", \"TOOLS\", \"GAME\", \"FAMILY\", \"FAMILY\", \"TOOLS\", \"TOOLS\", \"GAME\", \"TOOLS\", \"HEALTH_AND_FITNESS\", \"GAME\", \"MEDICAL\", \"COMMUNICATION\", \"FAMILY\", \"GAME\", \"FAMILY\", \"MEDICAL\", \"PERSONALIZATION\", \"FAMILY\", \"SPORTS\", \"FAMILY\", \"TRAVEL_AND_LOCAL\", \"TOOLS\", \"SHOPPING\", \"TOOLS\", \"FAMILY\", \"FAMILY\", \"FAMILY\", \"FAMILY\", \"FAMILY\", \"FAMILY\", \"GAME\", \"MAPS_AND_NAVIGATION\", \"PERSONALIZATION\", \"GAME\", \"FAMILY\", \"FAMILY\", \"FINANCE\", \"TOOLS\", \"TOOLS\", \"FAMILY\", \"FAMILY\", \"MEDICAL\", \"GAME\", \"FAMILY\", \"COMMUNICATION\", \"COMMUNICATION\", \"FAMILY\", \"FAMILY\", \"MEDICAL\", \"MEDICAL\", \"MEDICAL\", \"PHOTOGRAPHY\", \"TOOLS\", \"TOOLS\", \"PERSONALIZATION\", \"PERSONALIZATION\", \"FAMILY\", \"GAME\", \"SPORTS\", \"MEDICAL\", \"GAME\", \"FAMILY\", \"AUTO_AND_VEHICLES\", \"HEALTH_AND_FITNESS\", \"FAMILY\", \"FAMILY\", \"MEDICAL\", \"PHOTOGRAPHY\", \"SPORTS\", \"TOOLS\", \"VIDEO_PLAYERS\", \"FAMILY\", \"FAMILY\", \"PRODUCTIVITY\", \"PERSONALIZATION\", \"PRODUCTIVITY\", \"PERSONALIZATION\", \"FAMILY\", \"FAMILY\", \"GAME\", \"MEDICAL\", \"FAMILY\", \"FAMILY\", \"FOOD_AND_DRINK\", \"FAMILY\", \"FAMILY\", \"FAMILY\", \"TOOLS\", \"HEALTH_AND_FITNESS\", \"PARENTING\", \"FAMILY\", \"GAME\", \"HEALTH_AND_FITNESS\", \"TRAVEL_AND_LOCAL\", \"GAME\", \"WEATHER\", \"FAMILY\", \"MEDICAL\", \"GAME\", \"GAME\", \"MEDICAL\", \"PERSONALIZATION\", \"FAMILY\", \"FAMILY\", \"FAMILY\", \"FAMILY\", \"GAME\", \"PHOTOGRAPHY\", \"FAMILY\", \"BUSINESS\", \"FAMILY\", \"GAME\", \"FAMILY\", \"FAMILY\", \"WEATHER\", \"EDUCATION\", \"COMMUNICATION\", \"ENTERTAINMENT\", \"HEALTH_AND_FITNESS\", \"HEALTH_AND_FITNESS\", \"GAME\", \"GAME\", \"FAMILY\", \"FAMILY\", \"FAMILY\", \"PHOTOGRAPHY\", \"SPORTS\", \"TRAVEL_AND_LOCAL\", \"TOOLS\", \"TOOLS\", \"PERSONALIZATION\", \"PERSONALIZATION\", \"PRODUCTIVITY\", \"PRODUCTIVITY\", \"MAPS_AND_NAVIGATION\", \"GAME\", \"GAME\", \"PRODUCTIVITY\", \"TOOLS\", \"WEATHER\", \"FAMILY\", \"GAME\", \"FAMILY\", \"GAME\", \"TOOLS\", \"GAME\", \"FAMILY\", \"FAMILY\", \"HEALTH_AND_FITNESS\", \"FAMILY\", \"GAME\", \"FAMILY\", \"PERSONALIZATION\", \"BUSINESS\", \"FINANCE\", \"FAMILY\", \"PHOTOGRAPHY\", \"GAME\", \"FAMILY\", \"FAMILY\", \"FAMILY\", \"FAMILY\", \"GAME\", \"FAMILY\", \"GAME\", \"COMMUNICATION\", \"FAMILY\", \"ENTERTAINMENT\", \"COMMUNICATION\", \"GAME\", \"GAME\", \"GAME\", \"GAME\", \"GAME\", \"GAME\", \"PERSONALIZATION\", \"FAMILY\", \"PERSONALIZATION\", \"FAMILY\", \"EDUCATION\", \"WEATHER\", \"PHOTOGRAPHY\", \"PRODUCTIVITY\", \"GAME\", \"FAMILY\", \"FAMILY\", \"PRODUCTIVITY\", \"PERSONALIZATION\", \"GAME\", \"GAME\", \"FAMILY\", \"COMMUNICATION\", \"TOOLS\", \"GAME\", \"PERSONALIZATION\", \"PHOTOGRAPHY\", \"SPORTS\", \"GAME\", \"FAMILY\", \"GAME\", \"GAME\", \"FAMILY\", \"GAME\", \"FAMILY\", \"GAME\", \"LIFESTYLE\", \"FAMILY\", \"GAME\", \"FAMILY\"], \"x0\": \" \", \"xaxis\": \"x\", \"y\": [1.49, 0.99, 149.9, 24.900000000000002, 30.4, 14.9, 9.9, 34.900000000000006, 29.900000000000002, 9.9, 9.9, 49.900000000000006, 9.9, 29.900000000000002, 9.9, 9.9, 299.9, 199.89999999999998, 49.900000000000006, 49.900000000000006, 99.5, 149.5, 49.5, 49.5, 49.5, 88.0, 149.5, 149.5, 449.5, 87.5, 74.5, 74.5, 49.5, 49.5, 99.0, 99.0, 99.0, 99.0, 1299.0, 499.0, 249.00000000000003, 799.0, 199.0, 499.0, 99.0, 499.0, 399.0, 299.0, 388.0, 299.0, 299.0, 1299.0, 459.0, 99.0, 999.0, 399.0, 999.0, 149.0, 149.0, 149.0, 149.0, 99.0, 299.0, 199.0, 499.0, 149.0, 99.0, 349.0, 199.0, 1299.0, 99.0, 99.0, 99.0, 199.0, 499.0, 399.0, 99.0, 399.0, 1400.0, 149.0, 449.0, 199.0, 99.0, 699.0, 599.0, 399.0, 249.00000000000003, 99.0, 149.0, 3999.0, 302.0, 149.0, 149.0, 99.0, 99.0, 499.0, 149.0, 99.0, 649.0, 2995.0, 1495.0, 1995.0, 495.0, 8995.0, 495.0, 995.0, 745.0, 745.0, 1995.0, 745.0, 1495.0, 2495.0, 4495.0, 495.0, 495.0, 995.0, 1245.0, 2495.0, 495.0, 995.0, 995.0, 495.0, 1495.0, 2245.0, 1745.0, 1000.0, 745.0, 1495.0, 1995.0, 1995.0, 7995.0, 1995.0, 1495.0, 745.0, 495.0, 9990.0, 2990.0, 4990.0, 9990.0, 2490.0, 10990.0, 2990.0, 990.0, 1990.0, 1990.0, 990.0, 3990.0, 1610.0, 990.0, 1990.0, 2490.0, 4290.0, 990.0, 3990.0, 990.0, 2990.0, 1490.0, 15460.0, 1990.0, 2990.0, 4990.0, 7490.0, 3990.0, 5490.0, 2490.0, 2990.0, 1990.0, 4990.0, 4990.0, 19990.0, 2990.0, 1990.0, 9990.0, 990.0, 1990.0, 2990.0, 1700.0, 990.0, 7990.0, 29990.0, 2990.0, 7990.0, 990.0, 1490.0, 2990.0, 4990.0, 2490.0, 79990.0, 2560.0, 3990.0, 19990.0, 2490.0, 990.0, 990.0, 8490.0, 6990.0, 2990.0, 990.0, 2990.0, 1500.0, 4990.0, 1990.0, 4840.0, 14990.0, 29990.0, 4990.0, 4990.0, 3990.0, 19400.0, 33990.0, 1490.0, 2990.0, 2990.0, 990.0, 990.0, 1990.0, 3080.0, 5990.0, 3990.0, 2990.0, 990.0, 1990.0, 5990.0, 2490.0, 990.0, 990.0, 990.0, 6990.0, 990.0, 16990.0, 990.0, 3490.0, 1700.0, 3990.0, 37990.0, 9990.0, 6990.0, 1990.0, 3990.0, 10000.0, 1290.0, 3990.0, 4490.0, 2990.0, 2490.0, 990.0, 4990.0, 990.0, 3990.0, 1990.0, 7490.0, 990.0, 10990.0, 5990.0, 990.0, 1490.0, 14990.0, 4990.0, 4990.0, 990.0, 4990.0, 3990.0, 24950.0, 4950.0, 22450.0, 29950.0, 19950.0, 9950.0, 19950.0, 24950.0, 9950.0, 19950.0, 4950.0, 14950.000000000002, 7450.0, 12450.000000000002, 19950.0, 19950.0, 19950.0, 19950.0, 4950.0, 9950.0, 14950.000000000002, 4950.0, 14950.000000000002, 4950.0, 9950.0, 34950.0, 9950.0, 4950.0, 7450.0, 14950.000000000002, 29950.0, 14950.000000000002, 14950.000000000002, 23000.0, 9950.0, 74950.0, 4950.0, 4950.0, 4950.0, 14950.000000000002, 14950.000000000002, 9950.0, 14950.000000000002, 24950.0, 5000.0, 74950.0, 12450.000000000002, 4950.0, 24950.0, 4950.0, 7450.0, 19950.0, 14950.000000000002, 24950.0, 19950.0, 24950.0, 24950.0, 24950.0, 24950.0, 24950.0, 5000.0, 34950.0, 29900.000000000004, 99900.0, 249899.99999999997, 29900.000000000004, 39900.0, 9900.0, 39900.0, 39900.0, 19900.0, 9900.0, 79900.0, 49900.0, 29900.000000000004, 100000.0, 29900.000000000004, 29900.000000000004, 29900.000000000004, 149900.0, 79900.0, 129900.0, 9900.0, 44900.0, 169899.99999999997, 9900.0, 9900.0, 49900.0, 39900.0, 34900.0, 24900.000000000004, 29900.000000000004, 14900.0, 69900.0, 19900.0, 25000.0, 39000.0, 29500.0, 9900.0, 14900.0, 19900.0, 79900.0, 29900.000000000004, 29900.000000000004, 49900.0, 19900.0, 9900.0, 29900.000000000004, 29900.000000000004, 19900.0, 19700.0, 19900.0, 99900.0, 29900.000000000004, 54900.0, 32800.0, 9900.0, 29900.000000000004, 49900.0, 29900.000000000004, 149900.0, 29900.000000000004, 29900.000000000004, 29900.000000000004, 179899.99999999997, 9900.0, 69900.0, 49900.0, 39900.0, 29900.000000000004, 29900.000000000004, 49900.0, 12000.0, 29900.000000000004, 19900.0, 49900.0, 49900.0, 9900.0, 59900.0, 25900.0, 29900.000000000004, 19900.0, 39900.0, 49900.0, 39900.0, 29900.000000000004, 49900.0, 29900.000000000004, 49900.0, 29900.000000000004, 9900.0, 39900.0, 24900.000000000004, 9900.0, 189899.99999999997, 19900.0, 19900.0, 15900.0, 39900.0, 119900.0, 19900.0, 19900.0, 29900.000000000004, 9900.0, 99900.0, 39900.0, 9900.0, 29900.000000000004, 19900.0, 49900.0, 19900.0, 29900.000000000004, 9900.0, 19900.0, 49500.0, 49500.0, 1499500.0, 149500.0, 99500.0, 149500.0, 99500.0, 99500.0, 149500.0, 249500.0, 199500.0, 99500.0, 199500.0, 149500.0, 299500.0, 999499.9999999999, 499500.0, 149500.0, 124500.00000000001, 74500.0, 49500.0, 149500.0, 149500.0, 99500.0, 599500.0, 249500.0, 199500.0, 249500.0, 149500.0, 149500.0, 238499.99999999997, 149500.0, 149500.0, 249500.0, 249500.0, 249500.0, 99500.0, 124500.00000000001, 249500.0, 399000.0, 399000.0, 2499000.0, 499000.0, 99000.0, 900000.0, 99000.0, 299000.0, 299000.0, 299000.0, 999000.0, 299000.0, 149000.0, 1499000.0, 499000.0, 799000.0, 199000.0, 99000.0, 99000.0, 449000.0, 399000.0, 399000.0, 499000.0, 299000.0, 299000.0, 299000.0, 299000.0, 399000.0, 499000.0, 499000.0, 395000.0, 899000.0, 899000.0, 249000.00000000003, 399000.0, 449000.0, 199000.0, 599000.0, 499000.0, 1199000.0, 499000.0, 999000.0, 449000.0, 349000.0, 299000.0, 499000.0, 499000.0, 499000.0, 199000.0, 449000.0, 399000.0, 299000.0, 1399000.0, 349000.0, 999000.0, 499000.0, 299000.0, 299000.0, 499000.0, 299000.0, 299000.0, 299000.0, 299000.0, 299000.0, 999000.0, 99000.0, 199000.0, 299000.0, 149000.0, 699000.0, 290000.0, 299000.0, 299000.0, 399000.0, 299000.0, 499000.0, 299000.0, 299000.0, 199000.0, 599000.0, 499000.0, 1495000.0, 1245000.0, 495000.0, 1995000.0, 2995000.0, 1495000.0, 1495000.0, 995000.0, 1495000.0, 2495000.0, 995000.0, 2490000.0, 990000.0, 4990000.0, 2990000.0, 2990000.0, 2990000.0, 6990000.0, 990000.0, 5990000.0, 1990000.0, 2990000.0, 990000.0, 990000.0, 990000.0, 990000.0, 990000.0, 2990000.0, 990000.0, 5990000.0, 1990000.0, 9900000.0, 69900000.0], \"y0\": \" \", \"yaxis\": \"y\"}],\n",
              "                        {\"boxmode\": \"group\", \"legend\": {\"tracegroupgap\": 0}, \"template\": {\"data\": {\"bar\": [{\"error_x\": {\"color\": \"#2a3f5f\"}, \"error_y\": {\"color\": \"#2a3f5f\"}, \"marker\": {\"line\": {\"color\": \"#E5ECF6\", \"width\": 0.5}}, \"type\": \"bar\"}], \"barpolar\": [{\"marker\": {\"line\": {\"color\": \"#E5ECF6\", \"width\": 0.5}}, \"type\": \"barpolar\"}], \"carpet\": [{\"aaxis\": {\"endlinecolor\": \"#2a3f5f\", \"gridcolor\": \"white\", \"linecolor\": \"white\", \"minorgridcolor\": \"white\", \"startlinecolor\": \"#2a3f5f\"}, \"baxis\": {\"endlinecolor\": \"#2a3f5f\", \"gridcolor\": \"white\", \"linecolor\": \"white\", \"minorgridcolor\": \"white\", \"startlinecolor\": \"#2a3f5f\"}, \"type\": \"carpet\"}], \"choropleth\": [{\"colorbar\": {\"outlinewidth\": 0, \"ticks\": \"\"}, \"type\": \"choropleth\"}], \"contour\": [{\"colorbar\": {\"outlinewidth\": 0, \"ticks\": \"\"}, \"colorscale\": [[0.0, \"#0d0887\"], [0.1111111111111111, \"#46039f\"], [0.2222222222222222, \"#7201a8\"], [0.3333333333333333, \"#9c179e\"], [0.4444444444444444, \"#bd3786\"], [0.5555555555555556, \"#d8576b\"], [0.6666666666666666, \"#ed7953\"], [0.7777777777777778, \"#fb9f3a\"], [0.8888888888888888, \"#fdca26\"], [1.0, \"#f0f921\"]], \"type\": \"contour\"}], \"contourcarpet\": [{\"colorbar\": {\"outlinewidth\": 0, \"ticks\": \"\"}, \"type\": \"contourcarpet\"}], \"heatmap\": [{\"colorbar\": {\"outlinewidth\": 0, \"ticks\": \"\"}, \"colorscale\": [[0.0, \"#0d0887\"], [0.1111111111111111, \"#46039f\"], [0.2222222222222222, \"#7201a8\"], [0.3333333333333333, \"#9c179e\"], [0.4444444444444444, \"#bd3786\"], [0.5555555555555556, \"#d8576b\"], [0.6666666666666666, \"#ed7953\"], [0.7777777777777778, \"#fb9f3a\"], [0.8888888888888888, \"#fdca26\"], [1.0, \"#f0f921\"]], \"type\": \"heatmap\"}], \"heatmapgl\": [{\"colorbar\": {\"outlinewidth\": 0, \"ticks\": \"\"}, \"colorscale\": [[0.0, \"#0d0887\"], [0.1111111111111111, \"#46039f\"], [0.2222222222222222, \"#7201a8\"], [0.3333333333333333, \"#9c179e\"], [0.4444444444444444, \"#bd3786\"], [0.5555555555555556, \"#d8576b\"], [0.6666666666666666, \"#ed7953\"], [0.7777777777777778, \"#fb9f3a\"], [0.8888888888888888, \"#fdca26\"], [1.0, \"#f0f921\"]], \"type\": \"heatmapgl\"}], \"histogram\": [{\"marker\": {\"colorbar\": {\"outlinewidth\": 0, \"ticks\": \"\"}}, \"type\": \"histogram\"}], \"histogram2d\": [{\"colorbar\": {\"outlinewidth\": 0, \"ticks\": \"\"}, \"colorscale\": [[0.0, \"#0d0887\"], [0.1111111111111111, \"#46039f\"], [0.2222222222222222, \"#7201a8\"], [0.3333333333333333, \"#9c179e\"], [0.4444444444444444, \"#bd3786\"], [0.5555555555555556, \"#d8576b\"], [0.6666666666666666, \"#ed7953\"], [0.7777777777777778, \"#fb9f3a\"], [0.8888888888888888, \"#fdca26\"], [1.0, \"#f0f921\"]], \"type\": \"histogram2d\"}], \"histogram2dcontour\": [{\"colorbar\": {\"outlinewidth\": 0, \"ticks\": \"\"}, \"colorscale\": [[0.0, \"#0d0887\"], [0.1111111111111111, \"#46039f\"], [0.2222222222222222, \"#7201a8\"], [0.3333333333333333, \"#9c179e\"], [0.4444444444444444, \"#bd3786\"], [0.5555555555555556, \"#d8576b\"], [0.6666666666666666, \"#ed7953\"], [0.7777777777777778, \"#fb9f3a\"], [0.8888888888888888, \"#fdca26\"], [1.0, \"#f0f921\"]], \"type\": \"histogram2dcontour\"}], \"mesh3d\": [{\"colorbar\": {\"outlinewidth\": 0, \"ticks\": \"\"}, \"type\": \"mesh3d\"}], \"parcoords\": [{\"line\": {\"colorbar\": {\"outlinewidth\": 0, \"ticks\": \"\"}}, \"type\": \"parcoords\"}], \"pie\": [{\"automargin\": true, \"type\": \"pie\"}], \"scatter\": [{\"marker\": {\"colorbar\": {\"outlinewidth\": 0, \"ticks\": \"\"}}, \"type\": \"scatter\"}], \"scatter3d\": [{\"line\": {\"colorbar\": {\"outlinewidth\": 0, \"ticks\": \"\"}}, \"marker\": {\"colorbar\": {\"outlinewidth\": 0, \"ticks\": \"\"}}, \"type\": \"scatter3d\"}], \"scattercarpet\": [{\"marker\": {\"colorbar\": {\"outlinewidth\": 0, \"ticks\": \"\"}}, \"type\": \"scattercarpet\"}], \"scattergeo\": [{\"marker\": {\"colorbar\": {\"outlinewidth\": 0, \"ticks\": \"\"}}, \"type\": \"scattergeo\"}], \"scattergl\": [{\"marker\": {\"colorbar\": {\"outlinewidth\": 0, \"ticks\": \"\"}}, \"type\": \"scattergl\"}], \"scattermapbox\": [{\"marker\": {\"colorbar\": {\"outlinewidth\": 0, \"ticks\": \"\"}}, \"type\": \"scattermapbox\"}], \"scatterpolar\": [{\"marker\": {\"colorbar\": {\"outlinewidth\": 0, \"ticks\": \"\"}}, \"type\": \"scatterpolar\"}], \"scatterpolargl\": [{\"marker\": {\"colorbar\": {\"outlinewidth\": 0, \"ticks\": \"\"}}, \"type\": \"scatterpolargl\"}], \"scatterternary\": [{\"marker\": {\"colorbar\": {\"outlinewidth\": 0, \"ticks\": \"\"}}, \"type\": \"scatterternary\"}], \"surface\": [{\"colorbar\": {\"outlinewidth\": 0, \"ticks\": \"\"}, \"colorscale\": [[0.0, \"#0d0887\"], [0.1111111111111111, \"#46039f\"], [0.2222222222222222, \"#7201a8\"], [0.3333333333333333, \"#9c179e\"], [0.4444444444444444, \"#bd3786\"], [0.5555555555555556, \"#d8576b\"], [0.6666666666666666, \"#ed7953\"], [0.7777777777777778, \"#fb9f3a\"], [0.8888888888888888, \"#fdca26\"], [1.0, \"#f0f921\"]], \"type\": \"surface\"}], \"table\": [{\"cells\": {\"fill\": {\"color\": \"#EBF0F8\"}, \"line\": {\"color\": \"white\"}}, \"header\": {\"fill\": {\"color\": \"#C8D4E3\"}, \"line\": {\"color\": \"white\"}}, \"type\": \"table\"}]}, \"layout\": {\"annotationdefaults\": {\"arrowcolor\": \"#2a3f5f\", \"arrowhead\": 0, \"arrowwidth\": 1}, \"coloraxis\": {\"colorbar\": {\"outlinewidth\": 0, \"ticks\": \"\"}}, \"colorscale\": {\"diverging\": [[0, \"#8e0152\"], [0.1, \"#c51b7d\"], [0.2, \"#de77ae\"], [0.3, \"#f1b6da\"], [0.4, \"#fde0ef\"], [0.5, \"#f7f7f7\"], [0.6, \"#e6f5d0\"], [0.7, \"#b8e186\"], [0.8, \"#7fbc41\"], [0.9, \"#4d9221\"], [1, \"#276419\"]], \"sequential\": [[0.0, \"#0d0887\"], [0.1111111111111111, \"#46039f\"], [0.2222222222222222, \"#7201a8\"], [0.3333333333333333, \"#9c179e\"], [0.4444444444444444, \"#bd3786\"], [0.5555555555555556, \"#d8576b\"], [0.6666666666666666, \"#ed7953\"], [0.7777777777777778, \"#fb9f3a\"], [0.8888888888888888, \"#fdca26\"], [1.0, \"#f0f921\"]], \"sequentialminus\": [[0.0, \"#0d0887\"], [0.1111111111111111, \"#46039f\"], [0.2222222222222222, \"#7201a8\"], [0.3333333333333333, \"#9c179e\"], [0.4444444444444444, \"#bd3786\"], [0.5555555555555556, \"#d8576b\"], [0.6666666666666666, \"#ed7953\"], [0.7777777777777778, \"#fb9f3a\"], [0.8888888888888888, \"#fdca26\"], [1.0, \"#f0f921\"]]}, \"colorway\": [\"#636efa\", \"#EF553B\", \"#00cc96\", \"#ab63fa\", \"#FFA15A\", \"#19d3f3\", \"#FF6692\", \"#B6E880\", \"#FF97FF\", \"#FECB52\"], \"font\": {\"color\": \"#2a3f5f\"}, \"geo\": {\"bgcolor\": \"white\", \"lakecolor\": \"white\", \"landcolor\": \"#E5ECF6\", \"showlakes\": true, \"showland\": true, \"subunitcolor\": \"white\"}, \"hoverlabel\": {\"align\": \"left\"}, \"hovermode\": \"closest\", \"mapbox\": {\"style\": \"light\"}, \"paper_bgcolor\": \"white\", \"plot_bgcolor\": \"#E5ECF6\", \"polar\": {\"angularaxis\": {\"gridcolor\": \"white\", \"linecolor\": \"white\", \"ticks\": \"\"}, \"bgcolor\": \"#E5ECF6\", \"radialaxis\": {\"gridcolor\": \"white\", \"linecolor\": \"white\", \"ticks\": \"\"}}, \"scene\": {\"xaxis\": {\"backgroundcolor\": \"#E5ECF6\", \"gridcolor\": \"white\", \"gridwidth\": 2, \"linecolor\": \"white\", \"showbackground\": true, \"ticks\": \"\", \"zerolinecolor\": \"white\"}, \"yaxis\": {\"backgroundcolor\": \"#E5ECF6\", \"gridcolor\": \"white\", \"gridwidth\": 2, \"linecolor\": \"white\", \"showbackground\": true, \"ticks\": \"\", \"zerolinecolor\": \"white\"}, \"zaxis\": {\"backgroundcolor\": \"#E5ECF6\", \"gridcolor\": \"white\", \"gridwidth\": 2, \"linecolor\": \"white\", \"showbackground\": true, \"ticks\": \"\", \"zerolinecolor\": \"white\"}}, \"shapedefaults\": {\"line\": {\"color\": \"#2a3f5f\"}}, \"ternary\": {\"aaxis\": {\"gridcolor\": \"white\", \"linecolor\": \"white\", \"ticks\": \"\"}, \"baxis\": {\"gridcolor\": \"white\", \"linecolor\": \"white\", \"ticks\": \"\"}, \"bgcolor\": \"#E5ECF6\", \"caxis\": {\"gridcolor\": \"white\", \"linecolor\": \"white\", \"ticks\": \"\"}}, \"title\": {\"x\": 0.05}, \"xaxis\": {\"automargin\": true, \"gridcolor\": \"white\", \"linecolor\": \"white\", \"ticks\": \"\", \"title\": {\"standoff\": 15}, \"zerolinecolor\": \"white\", \"zerolinewidth\": 2}, \"yaxis\": {\"automargin\": true, \"gridcolor\": \"white\", \"linecolor\": \"white\", \"ticks\": \"\", \"title\": {\"standoff\": 15}, \"zerolinecolor\": \"white\", \"zerolinewidth\": 2}}}, \"title\": {\"text\": \"How Much Can Paid Apps Earn?\"}, \"xaxis\": {\"anchor\": \"y\", \"categoryorder\": \"min ascending\", \"domain\": [0.0, 1.0], \"title\": {\"text\": \"Category\"}}, \"yaxis\": {\"anchor\": \"x\", \"domain\": [0.0, 1.0], \"title\": {\"text\": \"Paid App Ballpark Revenue\"}, \"type\": \"log\"}},\n",
              "                        {\"responsive\": true}\n",
              "                    ).then(function(){\n",
              "                            \n",
              "var gd = document.getElementById('6af11583-f0c0-418d-b21c-b5d467fdf47d');\n",
              "var x = new MutationObserver(function (mutations, observer) {{\n",
              "        var display = window.getComputedStyle(gd).display;\n",
              "        if (!display || display === 'none') {{\n",
              "            console.log([gd, 'removed!']);\n",
              "            Plotly.purge(gd);\n",
              "            observer.disconnect();\n",
              "        }}\n",
              "}});\n",
              "\n",
              "// Listen for the removal of the full notebook cells\n",
              "var notebookContainer = gd.closest('#notebook-container');\n",
              "if (notebookContainer) {{\n",
              "    x.observe(notebookContainer, {childList: true});\n",
              "}}\n",
              "\n",
              "// Listen for the clearing of the current output cell\n",
              "var outputEl = gd.closest('.output');\n",
              "if (outputEl) {{\n",
              "    x.observe(outputEl, {childList: true});\n",
              "}}\n",
              "\n",
              "                        })\n",
              "                };\n",
              "                \n",
              "            </script>\n",
              "        </div>\n",
              "</body>\n",
              "</html>"
            ]
          },
          "metadata": {
            "tags": []
          }
        }
      ]
    },
    {
      "cell_type": "markdown",
      "source": [
        "\n",
        "If the development cost of an Android app is $30,000,\n",
        "the average app in only a few categories would generate enough revenue to cover that expense. The median earnings for paid photography apps, for instance, amounted to approximately 20k. For numerous apps, their revenues were even less, necessitating alternative income streams such as advertising or in-app purchases to offset development costs. However, specific app categories appear to feature a substantial number of outliers with considerably higher (estimated) revenue, notably in Medical, Personalization, Tools, Games, and Family."
      ],
      "metadata": {
        "id": "pwaYq3fyzoNc"
      }
    },
    {
      "cell_type": "markdown",
      "metadata": {
        "id": "uT32ylj4WS9B"
      },
      "source": [
        "# Examine Paid App Pricing Strategies by Category\n"
      ]
    },
    {
      "cell_type": "code",
      "metadata": {
        "id": "NElVU4k1P1S7",
        "colab": {
          "base_uri": "https://localhost:8080/"
        },
        "outputId": "cc5525fd-7f7b-4fcd-c52f-fc7310bf4715"
      },
      "source": [
        "df_paid_apps.Price.median()"
      ],
      "execution_count": null,
      "outputs": [
        {
          "output_type": "execute_result",
          "data": {
            "text/plain": [
              "2.99"
            ]
          },
          "metadata": {
            "tags": []
          },
          "execution_count": 48
        }
      ]
    },
    {
      "cell_type": "markdown",
      "source": [
        "The median price for an Android app is $2.99."
      ],
      "metadata": {
        "id": "AguEN8THz7C0"
      }
    },
    {
      "cell_type": "code",
      "metadata": {
        "id": "N3HpiY7xDRTd",
        "colab": {
          "base_uri": "https://localhost:8080/",
          "height": 542
        },
        "outputId": "07bcde76-c86d-43b8-ab2c-dc4b94a4cd3d"
      },
      "source": [
        "box = px.box(df_paid_apps,\n",
        "             x='Category',\n",
        "             y=\"Price\",\n",
        "             title='Price per Category')\n",
        "\n",
        "box.update_layout(xaxis_title='Category',\n",
        "                  yaxis_title='Paid App Price',\n",
        "                  xaxis={'categoryorder':'max descending'},\n",
        "                  yaxis=dict(type='log'))\n",
        "\n",
        "\n",
        "box.show()"
      ],
      "execution_count": null,
      "outputs": [
        {
          "output_type": "display_data",
          "data": {
            "text/html": [
              "<html>\n",
              "<head><meta charset=\"utf-8\" /></head>\n",
              "<body>\n",
              "    <div>\n",
              "            <script src=\"https://cdnjs.cloudflare.com/ajax/libs/mathjax/2.7.5/MathJax.js?config=TeX-AMS-MML_SVG\"></script><script type=\"text/javascript\">if (window.MathJax) {MathJax.Hub.Config({SVG: {font: \"STIX-Web\"}});}</script>\n",
              "                <script type=\"text/javascript\">window.PlotlyConfig = {MathJaxConfig: 'local'};</script>\n",
              "        <script src=\"https://cdn.plot.ly/plotly-latest.min.js\"></script>    \n",
              "            <div id=\"f816ec3a-a55d-4ab0-a53e-f0f0d84d2fca\" class=\"plotly-graph-div\" style=\"height:525px; width:100%;\"></div>\n",
              "            <script type=\"text/javascript\">\n",
              "                \n",
              "                    window.PLOTLYENV=window.PLOTLYENV || {};\n",
              "                    \n",
              "                if (document.getElementById(\"f816ec3a-a55d-4ab0-a53e-f0f0d84d2fca\")) {\n",
              "                    Plotly.newPlot(\n",
              "                        'f816ec3a-a55d-4ab0-a53e-f0f0d84d2fca',\n",
              "                        [{\"alignmentgroup\": \"True\", \"hoverlabel\": {\"namelength\": 0}, \"hovertemplate\": \"Category=%{x}<br>Price=%{y}\", \"legendgroup\": \"\", \"marker\": {\"color\": \"#636efa\"}, \"name\": \"\", \"notched\": false, \"offsetgroup\": \"\", \"orientation\": \"v\", \"showlegend\": false, \"type\": \"box\", \"x\": [\"GAME\", \"GAME\", \"FAMILY\", \"BUSINESS\", \"LIFESTYLE\", \"FAMILY\", \"PERSONALIZATION\", \"PHOTOGRAPHY\", \"FAMILY\", \"GAME\", \"PRODUCTIVITY\", \"PHOTOGRAPHY\", \"FAMILY\", \"TOOLS\", \"TOOLS\", \"PERSONALIZATION\", \"FAMILY\", \"FAMILY\", \"FAMILY\", \"FAMILY\", \"GAME\", \"TOOLS\", \"PERSONALIZATION\", \"PERSONALIZATION\", \"PERSONALIZATION\", \"TOOLS\", \"FAMILY\", \"FAMILY\", \"BUSINESS\", \"BOOKS_AND_REFERENCE\", \"FAMILY\", \"FAMILY\", \"FAMILY\", \"PERSONALIZATION\", \"PERSONALIZATION\", \"PERSONALIZATION\", \"GAME\", \"PERSONALIZATION\", \"FAMILY\", \"FINANCE\", \"SHOPPING\", \"DATING\", \"PERSONALIZATION\", \"GAME\", \"FAMILY\", \"PRODUCTIVITY\", \"FAMILY\", \"MEDICAL\", \"SPORTS\", \"MEDICAL\", \"PRODUCTIVITY\", \"BUSINESS\", \"PARENTING\", \"LIFESTYLE\", \"FAMILY\", \"TOOLS\", \"MAPS_AND_NAVIGATION\", \"COMMUNICATION\", \"PERSONALIZATION\", \"COMMUNICATION\", \"FAMILY\", \"PERSONALIZATION\", \"FAMILY\", \"FAMILY\", \"FAMILY\", \"TOOLS\", \"FAMILY\", \"SPORTS\", \"FAMILY\", \"MEDICAL\", \"FAMILY\", \"FAMILY\", \"GAME\", \"TOOLS\", \"FAMILY\", \"FAMILY\", \"PERSONALIZATION\", \"BOOKS_AND_REFERENCE\", \"GAME\", \"PERSONALIZATION\", \"GAME\", \"GAME\", \"TOOLS\", \"MEDICAL\", \"TOOLS\", \"TOOLS\", \"PERSONALIZATION\", \"GAME\", \"COMMUNICATION\", \"MEDICAL\", \"SPORTS\", \"PERSONALIZATION\", \"COMMUNICATION\", \"COMMUNICATION\", \"PERSONALIZATION\", \"TOOLS\", \"PERSONALIZATION\", \"PERSONALIZATION\", \"PRODUCTIVITY\", \"MEDICAL\", \"FAMILY\", \"TOOLS\", \"TOOLS\", \"BUSINESS\", \"COMMUNICATION\", \"FAMILY\", \"PERSONALIZATION\", \"PHOTOGRAPHY\", \"MEDICAL\", \"PERSONALIZATION\", \"MEDICAL\", \"COMMUNICATION\", \"PRODUCTIVITY\", \"BOOKS_AND_REFERENCE\", \"TOOLS\", \"WEATHER\", \"FAMILY\", \"FAMILY\", \"MEDICAL\", \"FAMILY\", \"TOOLS\", \"TOOLS\", \"SPORTS\", \"GAME\", \"MEDICAL\", \"PERSONALIZATION\", \"PERSONALIZATION\", \"NEWS_AND_MAGAZINES\", \"COMMUNICATION\", \"TOOLS\", \"MEDICAL\", \"FINANCE\", \"FAMILY\", \"PERSONALIZATION\", \"PERSONALIZATION\", \"MEDICAL\", \"FAMILY\", \"MEDICAL\", \"MEDICAL\", \"FAMILY\", \"FAMILY\", \"FAMILY\", \"GAME\", \"PERSONALIZATION\", \"TOOLS\", \"PERSONALIZATION\", \"GAME\", \"GAME\", \"GAME\", \"FAMILY\", \"FAMILY\", \"PRODUCTIVITY\", \"COMMUNICATION\", \"SPORTS\", \"SPORTS\", \"FAMILY\", \"PERSONALIZATION\", \"MEDICAL\", \"SPORTS\", \"COMMUNICATION\", \"LIFESTYLE\", \"FAMILY\", \"MEDICAL\", \"MEDICAL\", \"TOOLS\", \"PRODUCTIVITY\", \"FINANCE\", \"HEALTH_AND_FITNESS\", \"MEDICAL\", \"PHOTOGRAPHY\", \"FAMILY\", \"FAMILY\", \"PHOTOGRAPHY\", \"SPORTS\", \"ART_AND_DESIGN\", \"FAMILY\", \"PERSONALIZATION\", \"PRODUCTIVITY\", \"HEALTH_AND_FITNESS\", \"MEDICAL\", \"TOOLS\", \"PRODUCTIVITY\", \"GAME\", \"TOOLS\", \"MEDICAL\", \"LIFESTYLE\", \"GAME\", \"MEDICAL\", \"TRAVEL_AND_LOCAL\", \"BUSINESS\", \"MEDICAL\", \"COMMUNICATION\", \"PERSONALIZATION\", \"GAME\", \"TRAVEL_AND_LOCAL\", \"GAME\", \"SPORTS\", \"MEDICAL\", \"FAMILY\", \"MEDICAL\", \"TOOLS\", \"BOOKS_AND_REFERENCE\", \"FAMILY\", \"MEDICAL\", \"MEDICAL\", \"GAME\", \"BUSINESS\", \"TOOLS\", \"FAMILY\", \"MEDICAL\", \"PERSONALIZATION\", \"PHOTOGRAPHY\", \"SPORTS\", \"MAPS_AND_NAVIGATION\", \"PERSONALIZATION\", \"GAME\", \"BOOKS_AND_REFERENCE\", \"EDUCATION\", \"FAMILY\", \"FAMILY\", \"SOCIAL\", \"MEDICAL\", \"TOOLS\", \"SPORTS\", \"FAMILY\", \"FAMILY\", \"TOOLS\", \"WEATHER\", \"VIDEO_PLAYERS\", \"MEDICAL\", \"TOOLS\", \"GAME\", \"PERSONALIZATION\", \"MEDICAL\", \"LIFESTYLE\", \"MEDICAL\", \"DATING\", \"HEALTH_AND_FITNESS\", \"MEDICAL\", \"FAMILY\", \"PRODUCTIVITY\", \"EDUCATION\", \"SPORTS\", \"FAMILY\", \"PERSONALIZATION\", \"PERSONALIZATION\", \"FAMILY\", \"GAME\", \"FINANCE\", \"GAME\", \"MEDICAL\", \"FAMILY\", \"MEDICAL\", \"MEDICAL\", \"TOOLS\", \"TOOLS\", \"TOOLS\", \"TOOLS\", \"PERSONALIZATION\", \"PERSONALIZATION\", \"PERSONALIZATION\", \"PERSONALIZATION\", \"FAMILY\", \"GAME\", \"FAMILY\", \"FAMILY\", \"MEDICAL\", \"SPORTS\", \"LIFESTYLE\", \"FAMILY\", \"FAMILY\", \"TRAVEL_AND_LOCAL\", \"PERSONALIZATION\", \"BOOKS_AND_REFERENCE\", \"FAMILY\", \"MEDICAL\", \"MEDICAL\", \"MEDICAL\", \"MEDICAL\", \"PRODUCTIVITY\", \"SOCIAL\", \"SPORTS\", \"TRAVEL_AND_LOCAL\", \"TOOLS\", \"FAMILY\", \"NEWS_AND_MAGAZINES\", \"ART_AND_DESIGN\", \"GAME\", \"PERSONALIZATION\", \"LIFESTYLE\", \"PERSONALIZATION\", \"LIFESTYLE\", \"MEDICAL\", \"FAMILY\", \"FAMILY\", \"BOOKS_AND_REFERENCE\", \"LIFESTYLE\", \"MEDICAL\", \"MEDICAL\", \"TOOLS\", \"SPORTS\", \"MEDICAL\", \"PHOTOGRAPHY\", \"GAME\", \"SPORTS\", \"FAMILY\", \"SPORTS\", \"TOOLS\", \"LIFESTYLE\", \"FAMILY\", \"COMMUNICATION\", \"COMMUNICATION\", \"COMMUNICATION\", \"FAMILY\", \"FAMILY\", \"TOOLS\", \"MEDICAL\", \"TOOLS\", \"TOOLS\", \"TOOLS\", \"TOOLS\", \"TOOLS\", \"TOOLS\", \"PERSONALIZATION\", \"FAMILY\", \"MEDICAL\", \"MEDICAL\", \"MEDICAL\", \"HEALTH_AND_FITNESS\", \"GAME\", \"FAMILY\", \"FAMILY\", \"PHOTOGRAPHY\", \"PERSONALIZATION\", \"LIFESTYLE\", \"GAME\", \"FAMILY\", \"MEDICAL\", \"FAMILY\", \"BUSINESS\", \"GAME\", \"FAMILY\", \"MEDICAL\", \"FAMILY\", \"MAPS_AND_NAVIGATION\", \"BOOKS_AND_REFERENCE\", \"GAME\", \"PERSONALIZATION\", \"PERSONALIZATION\", \"COMMUNICATION\", \"DATING\", \"FOOD_AND_DRINK\", \"LIFESTYLE\", \"FAMILY\", \"FAMILY\", \"MEDICAL\", \"TRAVEL_AND_LOCAL\", \"TOOLS\", \"TOOLS\", \"TOOLS\", \"PERSONALIZATION\", \"VIDEO_PLAYERS\", \"VIDEO_PLAYERS\", \"GAME\", \"FAMILY\", \"FAMILY\", \"FAMILY\", \"FAMILY\", \"PERSONALIZATION\", \"WEATHER\", \"TOOLS\", \"PERSONALIZATION\", \"TOOLS\", \"ART_AND_DESIGN\", \"PERSONALIZATION\", \"PERSONALIZATION\", \"MEDICAL\", \"TOOLS\", \"FAMILY\", \"FINANCE\", \"TOOLS\", \"GAME\", \"FAMILY\", \"FAMILY\", \"TOOLS\", \"TOOLS\", \"GAME\", \"TOOLS\", \"HEALTH_AND_FITNESS\", \"GAME\", \"MEDICAL\", \"COMMUNICATION\", \"FAMILY\", \"GAME\", \"FAMILY\", \"MEDICAL\", \"PERSONALIZATION\", \"FAMILY\", \"SPORTS\", \"FAMILY\", \"TRAVEL_AND_LOCAL\", \"TOOLS\", \"SHOPPING\", \"TOOLS\", \"FAMILY\", \"FAMILY\", \"FAMILY\", \"FAMILY\", \"FAMILY\", \"FAMILY\", \"GAME\", \"MAPS_AND_NAVIGATION\", \"PERSONALIZATION\", \"GAME\", \"FAMILY\", \"FAMILY\", \"FINANCE\", \"TOOLS\", \"TOOLS\", \"FAMILY\", \"FAMILY\", \"MEDICAL\", \"GAME\", \"FAMILY\", \"COMMUNICATION\", \"COMMUNICATION\", \"FAMILY\", \"FAMILY\", \"MEDICAL\", \"MEDICAL\", \"MEDICAL\", \"PHOTOGRAPHY\", \"TOOLS\", \"TOOLS\", \"PERSONALIZATION\", \"PERSONALIZATION\", \"FAMILY\", \"GAME\", \"SPORTS\", \"MEDICAL\", \"GAME\", \"FAMILY\", \"AUTO_AND_VEHICLES\", \"HEALTH_AND_FITNESS\", \"FAMILY\", \"FAMILY\", \"MEDICAL\", \"PHOTOGRAPHY\", \"SPORTS\", \"TOOLS\", \"VIDEO_PLAYERS\", \"FAMILY\", \"FAMILY\", \"PRODUCTIVITY\", \"PERSONALIZATION\", \"PRODUCTIVITY\", \"PERSONALIZATION\", \"FAMILY\", \"FAMILY\", \"GAME\", \"MEDICAL\", \"FAMILY\", \"FAMILY\", \"FOOD_AND_DRINK\", \"FAMILY\", \"FAMILY\", \"FAMILY\", \"TOOLS\", \"HEALTH_AND_FITNESS\", \"PARENTING\", \"FAMILY\", \"GAME\", \"HEALTH_AND_FITNESS\", \"TRAVEL_AND_LOCAL\", \"GAME\", \"WEATHER\", \"FAMILY\", \"MEDICAL\", \"GAME\", \"GAME\", \"MEDICAL\", \"PERSONALIZATION\", \"FAMILY\", \"FAMILY\", \"FAMILY\", \"FAMILY\", \"GAME\", \"PHOTOGRAPHY\", \"FAMILY\", \"BUSINESS\", \"FAMILY\", \"GAME\", \"FAMILY\", \"FAMILY\", \"WEATHER\", \"EDUCATION\", \"COMMUNICATION\", \"ENTERTAINMENT\", \"HEALTH_AND_FITNESS\", \"HEALTH_AND_FITNESS\", \"GAME\", \"GAME\", \"FAMILY\", \"FAMILY\", \"FAMILY\", \"PHOTOGRAPHY\", \"SPORTS\", \"TRAVEL_AND_LOCAL\", \"TOOLS\", \"TOOLS\", \"PERSONALIZATION\", \"PERSONALIZATION\", \"PRODUCTIVITY\", \"PRODUCTIVITY\", \"MAPS_AND_NAVIGATION\", \"GAME\", \"GAME\", \"PRODUCTIVITY\", \"TOOLS\", \"WEATHER\", \"FAMILY\", \"GAME\", \"FAMILY\", \"GAME\", \"TOOLS\", \"GAME\", \"FAMILY\", \"FAMILY\", \"HEALTH_AND_FITNESS\", \"FAMILY\", \"GAME\", \"FAMILY\", \"PERSONALIZATION\", \"BUSINESS\", \"FINANCE\", \"FAMILY\", \"PHOTOGRAPHY\", \"GAME\", \"FAMILY\", \"FAMILY\", \"FAMILY\", \"FAMILY\", \"GAME\", \"FAMILY\", \"GAME\", \"COMMUNICATION\", \"FAMILY\", \"ENTERTAINMENT\", \"COMMUNICATION\", \"GAME\", \"GAME\", \"GAME\", \"GAME\", \"GAME\", \"GAME\", \"PERSONALIZATION\", \"FAMILY\", \"PERSONALIZATION\", \"FAMILY\", \"EDUCATION\", \"WEATHER\", \"PHOTOGRAPHY\", \"PRODUCTIVITY\", \"GAME\", \"FAMILY\", \"FAMILY\", \"PRODUCTIVITY\", \"PERSONALIZATION\", \"GAME\", \"GAME\", \"FAMILY\", \"COMMUNICATION\", \"TOOLS\", \"GAME\", \"PERSONALIZATION\", \"PHOTOGRAPHY\", \"SPORTS\", \"GAME\", \"FAMILY\", \"GAME\", \"GAME\", \"FAMILY\", \"GAME\", \"FAMILY\", \"GAME\", \"LIFESTYLE\", \"FAMILY\", \"GAME\", \"FAMILY\"], \"x0\": \" \", \"xaxis\": \"x\", \"y\": [1.49, 0.99, 14.99, 2.49, 3.04, 1.49, 0.99, 3.49, 2.99, 0.99, 0.99, 4.99, 0.99, 2.99, 0.99, 0.99, 29.99, 19.99, 4.99, 4.99, 1.99, 2.99, 0.99, 0.99, 0.99, 1.76, 2.99, 2.99, 8.99, 1.75, 1.49, 1.49, 0.99, 0.99, 0.99, 0.99, 0.99, 0.99, 12.99, 4.99, 2.49, 7.99, 1.99, 4.99, 0.99, 4.99, 3.99, 2.99, 3.88, 2.99, 2.99, 12.99, 4.59, 0.99, 9.99, 3.99, 9.99, 1.49, 1.49, 1.49, 1.49, 0.99, 2.99, 1.99, 4.99, 1.49, 0.99, 3.49, 1.99, 12.99, 0.99, 0.99, 0.99, 1.99, 4.99, 3.99, 0.99, 3.99, 14.0, 1.49, 4.49, 1.99, 0.99, 6.99, 5.99, 3.99, 2.49, 0.99, 1.49, 39.99, 3.02, 1.49, 1.49, 0.99, 0.99, 4.99, 1.49, 0.99, 6.49, 5.99, 2.99, 3.99, 0.99, 17.99, 0.99, 1.99, 1.49, 1.49, 3.99, 1.49, 2.99, 4.99, 8.99, 0.99, 0.99, 1.99, 2.49, 4.99, 0.99, 1.99, 1.99, 0.99, 2.99, 4.49, 3.49, 2.0, 1.49, 2.99, 3.99, 3.99, 15.99, 3.99, 2.99, 1.49, 0.99, 9.99, 2.99, 4.99, 9.99, 2.49, 10.99, 2.99, 0.99, 1.99, 1.99, 0.99, 3.99, 1.61, 0.99, 1.99, 2.49, 4.29, 0.99, 3.99, 0.99, 2.99, 1.49, 15.46, 1.99, 2.99, 4.99, 7.49, 3.99, 5.49, 2.49, 2.99, 1.99, 4.99, 4.99, 19.99, 2.99, 1.99, 9.99, 0.99, 1.99, 2.99, 1.7, 0.99, 7.99, 29.99, 2.99, 7.99, 0.99, 1.49, 2.99, 4.99, 2.49, 79.99, 2.56, 3.99, 19.99, 2.49, 0.99, 0.99, 8.49, 6.99, 2.99, 0.99, 2.99, 1.5, 4.99, 1.99, 4.84, 14.99, 29.99, 4.99, 4.99, 3.99, 19.4, 33.99, 1.49, 2.99, 2.99, 0.99, 0.99, 1.99, 3.08, 5.99, 3.99, 2.99, 0.99, 1.99, 5.99, 2.49, 0.99, 0.99, 0.99, 6.99, 0.99, 16.99, 0.99, 3.49, 1.7, 3.99, 37.99, 9.99, 6.99, 1.99, 3.99, 10.0, 1.29, 3.99, 4.49, 2.99, 2.49, 0.99, 4.99, 0.99, 3.99, 1.99, 7.49, 0.99, 10.99, 5.99, 0.99, 1.49, 14.99, 4.99, 4.99, 0.99, 4.99, 3.99, 4.99, 0.99, 4.49, 5.99, 3.99, 1.99, 3.99, 4.99, 1.99, 3.99, 0.99, 2.99, 1.49, 2.49, 3.99, 3.99, 3.99, 3.99, 0.99, 1.99, 2.99, 0.99, 2.99, 0.99, 1.99, 6.99, 1.99, 0.99, 1.49, 2.99, 5.99, 2.99, 2.99, 4.6, 1.99, 14.99, 0.99, 0.99, 0.99, 2.99, 2.99, 1.99, 2.99, 4.99, 1.0, 14.99, 2.49, 0.99, 4.99, 0.99, 1.49, 3.99, 2.99, 4.99, 3.99, 4.99, 4.99, 4.99, 4.99, 4.99, 1.0, 6.99, 2.99, 9.99, 24.99, 2.99, 3.99, 0.99, 3.99, 3.99, 1.99, 0.99, 7.99, 4.99, 2.99, 10.0, 2.99, 2.99, 2.99, 14.99, 7.99, 12.99, 0.99, 4.49, 16.99, 0.99, 0.99, 4.99, 3.99, 3.49, 2.49, 2.99, 1.49, 6.99, 1.99, 2.5, 3.9, 2.95, 0.99, 1.49, 1.99, 7.99, 2.99, 2.99, 4.99, 1.99, 0.99, 2.99, 2.99, 1.99, 1.97, 1.99, 9.99, 2.99, 5.49, 3.28, 0.99, 2.99, 4.99, 2.99, 14.99, 2.99, 2.99, 2.99, 17.99, 0.99, 6.99, 4.99, 3.99, 2.99, 2.99, 4.99, 1.2, 2.99, 1.99, 4.99, 4.99, 0.99, 5.99, 2.59, 2.99, 1.99, 3.99, 4.99, 3.99, 2.99, 4.99, 2.99, 4.99, 2.99, 0.99, 3.99, 2.49, 0.99, 18.99, 1.99, 1.99, 1.59, 3.99, 11.99, 1.99, 1.99, 2.99, 0.99, 9.99, 3.99, 0.99, 2.99, 1.99, 4.99, 1.99, 2.99, 0.99, 1.99, 0.99, 0.99, 29.99, 2.99, 1.99, 2.99, 1.99, 1.99, 2.99, 4.99, 3.99, 1.99, 3.99, 2.99, 5.99, 19.99, 9.99, 2.99, 2.49, 1.49, 0.99, 2.99, 2.99, 1.99, 11.99, 4.99, 3.99, 4.99, 2.99, 2.99, 4.77, 2.99, 2.99, 4.99, 4.99, 4.99, 1.99, 2.49, 4.99, 3.99, 3.99, 24.99, 4.99, 0.99, 9.0, 0.99, 2.99, 2.99, 2.99, 9.99, 2.99, 1.49, 14.99, 4.99, 7.99, 1.99, 0.99, 0.99, 4.49, 3.99, 3.99, 4.99, 2.99, 2.99, 2.99, 2.99, 3.99, 4.99, 4.99, 3.95, 8.99, 8.99, 2.49, 3.99, 4.49, 1.99, 5.99, 4.99, 11.99, 4.99, 9.99, 4.49, 3.49, 2.99, 4.99, 4.99, 4.99, 1.99, 4.49, 3.99, 2.99, 13.99, 3.49, 9.99, 4.99, 2.99, 2.99, 4.99, 2.99, 2.99, 2.99, 2.99, 2.99, 9.99, 0.99, 1.99, 2.99, 1.49, 6.99, 2.9, 2.99, 2.99, 3.99, 2.99, 4.99, 2.99, 2.99, 1.99, 5.99, 4.99, 2.99, 2.49, 0.99, 3.99, 5.99, 2.99, 2.99, 1.99, 2.99, 4.99, 1.99, 2.49, 0.99, 4.99, 2.99, 2.99, 2.99, 6.99, 0.99, 5.99, 1.99, 2.99, 0.99, 0.99, 0.99, 0.99, 0.99, 2.99, 0.99, 5.99, 1.99, 0.99, 6.99], \"y0\": \" \", \"yaxis\": \"y\"}],\n",
              "                        {\"boxmode\": \"group\", \"legend\": {\"tracegroupgap\": 0}, \"template\": {\"data\": {\"bar\": [{\"error_x\": {\"color\": \"#2a3f5f\"}, \"error_y\": {\"color\": \"#2a3f5f\"}, \"marker\": {\"line\": {\"color\": \"#E5ECF6\", \"width\": 0.5}}, \"type\": \"bar\"}], \"barpolar\": [{\"marker\": {\"line\": {\"color\": \"#E5ECF6\", \"width\": 0.5}}, \"type\": \"barpolar\"}], \"carpet\": [{\"aaxis\": {\"endlinecolor\": \"#2a3f5f\", \"gridcolor\": \"white\", \"linecolor\": \"white\", \"minorgridcolor\": \"white\", \"startlinecolor\": \"#2a3f5f\"}, \"baxis\": {\"endlinecolor\": \"#2a3f5f\", \"gridcolor\": \"white\", \"linecolor\": \"white\", \"minorgridcolor\": \"white\", \"startlinecolor\": \"#2a3f5f\"}, \"type\": \"carpet\"}], \"choropleth\": [{\"colorbar\": {\"outlinewidth\": 0, \"ticks\": \"\"}, \"type\": \"choropleth\"}], \"contour\": [{\"colorbar\": {\"outlinewidth\": 0, \"ticks\": \"\"}, \"colorscale\": [[0.0, \"#0d0887\"], [0.1111111111111111, \"#46039f\"], [0.2222222222222222, \"#7201a8\"], [0.3333333333333333, \"#9c179e\"], [0.4444444444444444, \"#bd3786\"], [0.5555555555555556, \"#d8576b\"], [0.6666666666666666, \"#ed7953\"], [0.7777777777777778, \"#fb9f3a\"], [0.8888888888888888, \"#fdca26\"], [1.0, \"#f0f921\"]], \"type\": \"contour\"}], \"contourcarpet\": [{\"colorbar\": {\"outlinewidth\": 0, \"ticks\": \"\"}, \"type\": \"contourcarpet\"}], \"heatmap\": [{\"colorbar\": {\"outlinewidth\": 0, \"ticks\": \"\"}, \"colorscale\": [[0.0, \"#0d0887\"], [0.1111111111111111, \"#46039f\"], [0.2222222222222222, \"#7201a8\"], [0.3333333333333333, \"#9c179e\"], [0.4444444444444444, \"#bd3786\"], [0.5555555555555556, \"#d8576b\"], [0.6666666666666666, \"#ed7953\"], [0.7777777777777778, \"#fb9f3a\"], [0.8888888888888888, \"#fdca26\"], [1.0, \"#f0f921\"]], \"type\": \"heatmap\"}], \"heatmapgl\": [{\"colorbar\": {\"outlinewidth\": 0, \"ticks\": \"\"}, \"colorscale\": [[0.0, \"#0d0887\"], [0.1111111111111111, \"#46039f\"], [0.2222222222222222, \"#7201a8\"], [0.3333333333333333, \"#9c179e\"], [0.4444444444444444, \"#bd3786\"], [0.5555555555555556, \"#d8576b\"], [0.6666666666666666, \"#ed7953\"], [0.7777777777777778, \"#fb9f3a\"], [0.8888888888888888, \"#fdca26\"], [1.0, \"#f0f921\"]], \"type\": \"heatmapgl\"}], \"histogram\": [{\"marker\": {\"colorbar\": {\"outlinewidth\": 0, \"ticks\": \"\"}}, \"type\": \"histogram\"}], \"histogram2d\": [{\"colorbar\": {\"outlinewidth\": 0, \"ticks\": \"\"}, \"colorscale\": [[0.0, \"#0d0887\"], [0.1111111111111111, \"#46039f\"], [0.2222222222222222, \"#7201a8\"], [0.3333333333333333, \"#9c179e\"], [0.4444444444444444, \"#bd3786\"], [0.5555555555555556, \"#d8576b\"], [0.6666666666666666, \"#ed7953\"], [0.7777777777777778, \"#fb9f3a\"], [0.8888888888888888, \"#fdca26\"], [1.0, \"#f0f921\"]], \"type\": \"histogram2d\"}], \"histogram2dcontour\": [{\"colorbar\": {\"outlinewidth\": 0, \"ticks\": \"\"}, \"colorscale\": [[0.0, \"#0d0887\"], [0.1111111111111111, \"#46039f\"], [0.2222222222222222, \"#7201a8\"], [0.3333333333333333, \"#9c179e\"], [0.4444444444444444, \"#bd3786\"], [0.5555555555555556, \"#d8576b\"], [0.6666666666666666, \"#ed7953\"], [0.7777777777777778, \"#fb9f3a\"], [0.8888888888888888, \"#fdca26\"], [1.0, \"#f0f921\"]], \"type\": \"histogram2dcontour\"}], \"mesh3d\": [{\"colorbar\": {\"outlinewidth\": 0, \"ticks\": \"\"}, \"type\": \"mesh3d\"}], \"parcoords\": [{\"line\": {\"colorbar\": {\"outlinewidth\": 0, \"ticks\": \"\"}}, \"type\": \"parcoords\"}], \"pie\": [{\"automargin\": true, \"type\": \"pie\"}], \"scatter\": [{\"marker\": {\"colorbar\": {\"outlinewidth\": 0, \"ticks\": \"\"}}, \"type\": \"scatter\"}], \"scatter3d\": [{\"line\": {\"colorbar\": {\"outlinewidth\": 0, \"ticks\": \"\"}}, \"marker\": {\"colorbar\": {\"outlinewidth\": 0, \"ticks\": \"\"}}, \"type\": \"scatter3d\"}], \"scattercarpet\": [{\"marker\": {\"colorbar\": {\"outlinewidth\": 0, \"ticks\": \"\"}}, \"type\": \"scattercarpet\"}], \"scattergeo\": [{\"marker\": {\"colorbar\": {\"outlinewidth\": 0, \"ticks\": \"\"}}, \"type\": \"scattergeo\"}], \"scattergl\": [{\"marker\": {\"colorbar\": {\"outlinewidth\": 0, \"ticks\": \"\"}}, \"type\": \"scattergl\"}], \"scattermapbox\": [{\"marker\": {\"colorbar\": {\"outlinewidth\": 0, \"ticks\": \"\"}}, \"type\": \"scattermapbox\"}], \"scatterpolar\": [{\"marker\": {\"colorbar\": {\"outlinewidth\": 0, \"ticks\": \"\"}}, \"type\": \"scatterpolar\"}], \"scatterpolargl\": [{\"marker\": {\"colorbar\": {\"outlinewidth\": 0, \"ticks\": \"\"}}, \"type\": \"scatterpolargl\"}], \"scatterternary\": [{\"marker\": {\"colorbar\": {\"outlinewidth\": 0, \"ticks\": \"\"}}, \"type\": \"scatterternary\"}], \"surface\": [{\"colorbar\": {\"outlinewidth\": 0, \"ticks\": \"\"}, \"colorscale\": [[0.0, \"#0d0887\"], [0.1111111111111111, \"#46039f\"], [0.2222222222222222, \"#7201a8\"], [0.3333333333333333, \"#9c179e\"], [0.4444444444444444, \"#bd3786\"], [0.5555555555555556, \"#d8576b\"], [0.6666666666666666, \"#ed7953\"], [0.7777777777777778, \"#fb9f3a\"], [0.8888888888888888, \"#fdca26\"], [1.0, \"#f0f921\"]], \"type\": \"surface\"}], \"table\": [{\"cells\": {\"fill\": {\"color\": \"#EBF0F8\"}, \"line\": {\"color\": \"white\"}}, \"header\": {\"fill\": {\"color\": \"#C8D4E3\"}, \"line\": {\"color\": \"white\"}}, \"type\": \"table\"}]}, \"layout\": {\"annotationdefaults\": {\"arrowcolor\": \"#2a3f5f\", \"arrowhead\": 0, \"arrowwidth\": 1}, \"coloraxis\": {\"colorbar\": {\"outlinewidth\": 0, \"ticks\": \"\"}}, \"colorscale\": {\"diverging\": [[0, \"#8e0152\"], [0.1, \"#c51b7d\"], [0.2, \"#de77ae\"], [0.3, \"#f1b6da\"], [0.4, \"#fde0ef\"], [0.5, \"#f7f7f7\"], [0.6, \"#e6f5d0\"], [0.7, \"#b8e186\"], [0.8, \"#7fbc41\"], [0.9, \"#4d9221\"], [1, \"#276419\"]], \"sequential\": [[0.0, \"#0d0887\"], [0.1111111111111111, \"#46039f\"], [0.2222222222222222, \"#7201a8\"], [0.3333333333333333, \"#9c179e\"], [0.4444444444444444, \"#bd3786\"], [0.5555555555555556, \"#d8576b\"], [0.6666666666666666, \"#ed7953\"], [0.7777777777777778, \"#fb9f3a\"], [0.8888888888888888, \"#fdca26\"], [1.0, \"#f0f921\"]], \"sequentialminus\": [[0.0, \"#0d0887\"], [0.1111111111111111, \"#46039f\"], [0.2222222222222222, \"#7201a8\"], [0.3333333333333333, \"#9c179e\"], [0.4444444444444444, \"#bd3786\"], [0.5555555555555556, \"#d8576b\"], [0.6666666666666666, \"#ed7953\"], [0.7777777777777778, \"#fb9f3a\"], [0.8888888888888888, \"#fdca26\"], [1.0, \"#f0f921\"]]}, \"colorway\": [\"#636efa\", \"#EF553B\", \"#00cc96\", \"#ab63fa\", \"#FFA15A\", \"#19d3f3\", \"#FF6692\", \"#B6E880\", \"#FF97FF\", \"#FECB52\"], \"font\": {\"color\": \"#2a3f5f\"}, \"geo\": {\"bgcolor\": \"white\", \"lakecolor\": \"white\", \"landcolor\": \"#E5ECF6\", \"showlakes\": true, \"showland\": true, \"subunitcolor\": \"white\"}, \"hoverlabel\": {\"align\": \"left\"}, \"hovermode\": \"closest\", \"mapbox\": {\"style\": \"light\"}, \"paper_bgcolor\": \"white\", \"plot_bgcolor\": \"#E5ECF6\", \"polar\": {\"angularaxis\": {\"gridcolor\": \"white\", \"linecolor\": \"white\", \"ticks\": \"\"}, \"bgcolor\": \"#E5ECF6\", \"radialaxis\": {\"gridcolor\": \"white\", \"linecolor\": \"white\", \"ticks\": \"\"}}, \"scene\": {\"xaxis\": {\"backgroundcolor\": \"#E5ECF6\", \"gridcolor\": \"white\", \"gridwidth\": 2, \"linecolor\": \"white\", \"showbackground\": true, \"ticks\": \"\", \"zerolinecolor\": \"white\"}, \"yaxis\": {\"backgroundcolor\": \"#E5ECF6\", \"gridcolor\": \"white\", \"gridwidth\": 2, \"linecolor\": \"white\", \"showbackground\": true, \"ticks\": \"\", \"zerolinecolor\": \"white\"}, \"zaxis\": {\"backgroundcolor\": \"#E5ECF6\", \"gridcolor\": \"white\", \"gridwidth\": 2, \"linecolor\": \"white\", \"showbackground\": true, \"ticks\": \"\", \"zerolinecolor\": \"white\"}}, \"shapedefaults\": {\"line\": {\"color\": \"#2a3f5f\"}}, \"ternary\": {\"aaxis\": {\"gridcolor\": \"white\", \"linecolor\": \"white\", \"ticks\": \"\"}, \"baxis\": {\"gridcolor\": \"white\", \"linecolor\": \"white\", \"ticks\": \"\"}, \"bgcolor\": \"#E5ECF6\", \"caxis\": {\"gridcolor\": \"white\", \"linecolor\": \"white\", \"ticks\": \"\"}}, \"title\": {\"x\": 0.05}, \"xaxis\": {\"automargin\": true, \"gridcolor\": \"white\", \"linecolor\": \"white\", \"ticks\": \"\", \"title\": {\"standoff\": 15}, \"zerolinecolor\": \"white\", \"zerolinewidth\": 2}, \"yaxis\": {\"automargin\": true, \"gridcolor\": \"white\", \"linecolor\": \"white\", \"ticks\": \"\", \"title\": {\"standoff\": 15}, \"zerolinecolor\": \"white\", \"zerolinewidth\": 2}}}, \"title\": {\"text\": \"Price per Category\"}, \"xaxis\": {\"anchor\": \"y\", \"categoryorder\": \"max descending\", \"domain\": [0.0, 1.0], \"title\": {\"text\": \"Category\"}}, \"yaxis\": {\"anchor\": \"x\", \"domain\": [0.0, 1.0], \"title\": {\"text\": \"Paid App Price\"}, \"type\": \"log\"}},\n",
              "                        {\"responsive\": true}\n",
              "                    ).then(function(){\n",
              "                            \n",
              "var gd = document.getElementById('f816ec3a-a55d-4ab0-a53e-f0f0d84d2fca');\n",
              "var x = new MutationObserver(function (mutations, observer) {{\n",
              "        var display = window.getComputedStyle(gd).display;\n",
              "        if (!display || display === 'none') {{\n",
              "            console.log([gd, 'removed!']);\n",
              "            Plotly.purge(gd);\n",
              "            observer.disconnect();\n",
              "        }}\n",
              "}});\n",
              "\n",
              "// Listen for the removal of the full notebook cells\n",
              "var notebookContainer = gd.closest('#notebook-container');\n",
              "if (notebookContainer) {{\n",
              "    x.observe(notebookContainer, {childList: true});\n",
              "}}\n",
              "\n",
              "// Listen for the clearing of the current output cell\n",
              "var outputEl = gd.closest('.output');\n",
              "if (outputEl) {{\n",
              "    x.observe(outputEl, {childList: true});\n",
              "}}\n",
              "\n",
              "                        })\n",
              "                };\n",
              "                \n",
              "            </script>\n",
              "        </div>\n",
              "</body>\n",
              "</html>"
            ]
          },
          "metadata": {
            "tags": []
          }
        }
      ]
    },
    {
      "cell_type": "markdown",
      "source": [
        "Nonetheless, certain categories exhibit higher median prices compared to others. Specifically, Medical apps stand out with the most expensive apps and a median price of $5.49. In contrast, Personalization apps are relatively inexpensive on average, priced at $1.49. Other categories with higher median prices include Business ($4.99) and Dating ($6.99). It appears that customers in these categories may not be overly concerned about paying a slightly higher price for their apps."
      ],
      "metadata": {
        "id": "Ucsg1y-zz-Fz"
      }
    }
  ]
}